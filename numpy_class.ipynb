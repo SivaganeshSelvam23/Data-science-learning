{
 "cells": [
  {
   "cell_type": "code",
   "execution_count": 69,
   "id": "dba43789",
   "metadata": {},
   "outputs": [
    {
     "data": {
      "text/plain": [
       "'This is the comment'"
      ]
     },
     "execution_count": 69,
     "metadata": {},
     "output_type": "execute_result"
    }
   ],
   "source": [
    "'''This is the comment'''"
   ]
  },
  {
   "cell_type": "code",
   "execution_count": 70,
   "id": "9f59bd37",
   "metadata": {},
   "outputs": [],
   "source": [
    "a = [1,2,3,4,5]\n",
    "b = [6,7,8,9,10]\n",
    "result = [sum(x) for x in zip(a,b)]"
   ]
  },
  {
   "cell_type": "code",
   "execution_count": 71,
   "id": "99870d6f",
   "metadata": {},
   "outputs": [
    {
     "data": {
      "text/plain": [
       "[7, 9, 11, 13, 15]"
      ]
     },
     "execution_count": 71,
     "metadata": {},
     "output_type": "execute_result"
    }
   ],
   "source": [
    "result"
   ]
  },
  {
   "cell_type": "code",
   "execution_count": 72,
   "id": "b3d90c1b",
   "metadata": {},
   "outputs": [
    {
     "data": {
      "text/plain": [
       "array([ 7,  9, 11, 13, 15])"
      ]
     },
     "execution_count": 72,
     "metadata": {},
     "output_type": "execute_result"
    }
   ],
   "source": [
    "import numpy as np \n",
    "a = np.array([1,2,3,4,5])\n",
    "b = np.array([6,7,8,9,10])\n",
    "a+b\n"
   ]
  },
  {
   "cell_type": "code",
   "execution_count": 73,
   "id": "3e3ca0aa",
   "metadata": {},
   "outputs": [
    {
     "data": {
      "text/plain": [
       "array([ 7,  9, 11, 13, 15])"
      ]
     },
     "execution_count": 73,
     "metadata": {},
     "output_type": "execute_result"
    }
   ],
   "source": [
    "a = np.array([1,2,3,4,5])\n",
    "b = np.array([6,7,8,9,10])\n",
    "c = np.add(a,b)\n",
    "c"
   ]
  },
  {
   "cell_type": "code",
   "execution_count": 74,
   "id": "e58483d8",
   "metadata": {},
   "outputs": [
    {
     "data": {
      "text/plain": [
       "numpy.ndarray"
      ]
     },
     "execution_count": 74,
     "metadata": {},
     "output_type": "execute_result"
    }
   ],
   "source": [
    "a = np.array([1,2,3,4,5])\n",
    "type(a)\n"
   ]
  },
  {
   "cell_type": "code",
   "execution_count": 75,
   "id": "7ff32a69",
   "metadata": {},
   "outputs": [
    {
     "data": {
      "text/plain": [
       "dtype('int64')"
      ]
     },
     "execution_count": 75,
     "metadata": {},
     "output_type": "execute_result"
    }
   ],
   "source": [
    "a.dtype"
   ]
  },
  {
   "cell_type": "code",
   "execution_count": 76,
   "id": "b451a8e7",
   "metadata": {},
   "outputs": [],
   "source": [
    "a = np.array([1,2,3,4,5])"
   ]
  },
  {
   "cell_type": "code",
   "execution_count": 77,
   "id": "1b834de0",
   "metadata": {},
   "outputs": [
    {
     "data": {
      "text/plain": [
       "array([ 1, 90,  3,  4,  5])"
      ]
     },
     "execution_count": 77,
     "metadata": {},
     "output_type": "execute_result"
    }
   ],
   "source": [
    "a[1] = 90\n",
    "a"
   ]
  },
  {
   "cell_type": "code",
   "execution_count": 78,
   "id": "c6fa7a3e",
   "metadata": {},
   "outputs": [
    {
     "data": {
      "text/plain": [
       "array([ 1, 90,  3,  4,  5])"
      ]
     },
     "execution_count": 78,
     "metadata": {},
     "output_type": "execute_result"
    }
   ],
   "source": [
    "a"
   ]
  },
  {
   "cell_type": "code",
   "execution_count": 79,
   "id": "741f81a0",
   "metadata": {},
   "outputs": [
    {
     "data": {
      "text/plain": [
       "array([ 1, 33,  3,  4,  5])"
      ]
     },
     "execution_count": 79,
     "metadata": {},
     "output_type": "execute_result"
    }
   ],
   "source": [
    "a[1] = 33.5 ## numnpy is very strict in datatype \n",
    "a"
   ]
  },
  {
   "cell_type": "code",
   "execution_count": 80,
   "id": "8fccb0c3",
   "metadata": {},
   "outputs": [
    {
     "data": {
      "text/plain": [
       "1"
      ]
     },
     "execution_count": 80,
     "metadata": {},
     "output_type": "execute_result"
    }
   ],
   "source": [
    "a.ndim"
   ]
  },
  {
   "cell_type": "code",
   "execution_count": 81,
   "id": "d1714221",
   "metadata": {},
   "outputs": [
    {
     "data": {
      "text/plain": [
       "(5,)"
      ]
     },
     "execution_count": 81,
     "metadata": {},
     "output_type": "execute_result"
    }
   ],
   "source": [
    "a.shape"
   ]
  },
  {
   "cell_type": "code",
   "execution_count": 82,
   "id": "5539291b",
   "metadata": {},
   "outputs": [
    {
     "data": {
      "text/plain": [
       "5"
      ]
     },
     "execution_count": 82,
     "metadata": {},
     "output_type": "execute_result"
    }
   ],
   "source": [
    "a.size"
   ]
  },
  {
   "cell_type": "markdown",
   "id": "074012db",
   "metadata": {},
   "source": [
    "np.ones()\n",
    "np.zeros()\n",
    "np.empty()\n",
    "np.arrange()\n",
    "\n",
    "np.ones(shape,dtype=none, order='C')"
   ]
  },
  {
   "cell_type": "code",
   "execution_count": 83,
   "id": "567c0b60",
   "metadata": {},
   "outputs": [],
   "source": [
    "arr = np.ones(3, dtype=np.int64)"
   ]
  },
  {
   "cell_type": "code",
   "execution_count": 84,
   "id": "fee9228e",
   "metadata": {},
   "outputs": [
    {
     "data": {
      "text/plain": [
       "array([1, 1, 1])"
      ]
     },
     "execution_count": 84,
     "metadata": {},
     "output_type": "execute_result"
    }
   ],
   "source": [
    "arr"
   ]
  },
  {
   "cell_type": "code",
   "execution_count": 85,
   "id": "08ab4815",
   "metadata": {},
   "outputs": [
    {
     "data": {
      "text/plain": [
       "(3,)"
      ]
     },
     "execution_count": 85,
     "metadata": {},
     "output_type": "execute_result"
    }
   ],
   "source": [
    "arr.shape"
   ]
  },
  {
   "cell_type": "code",
   "execution_count": 86,
   "id": "39cd5721",
   "metadata": {},
   "outputs": [
    {
     "data": {
      "text/plain": [
       "array([[1, 1, 1, 1],\n",
       "       [1, 1, 1, 1],\n",
       "       [1, 1, 1, 1]])"
      ]
     },
     "execution_count": 86,
     "metadata": {},
     "output_type": "execute_result"
    }
   ],
   "source": [
    "arr1 = np.ones((3,4), dtype=np.int64)\n",
    "arr1"
   ]
  },
  {
   "cell_type": "code",
   "execution_count": 87,
   "id": "a4a717a4",
   "metadata": {},
   "outputs": [],
   "source": [
    "arr = np.ones(3)"
   ]
  },
  {
   "cell_type": "code",
   "execution_count": 88,
   "id": "8ae02fec",
   "metadata": {},
   "outputs": [
    {
     "data": {
      "text/plain": [
       "array([1., 1., 1.])"
      ]
     },
     "execution_count": 88,
     "metadata": {},
     "output_type": "execute_result"
    }
   ],
   "source": [
    "arr"
   ]
  },
  {
   "cell_type": "code",
   "execution_count": 89,
   "id": "48b7db6c",
   "metadata": {},
   "outputs": [
    {
     "data": {
      "text/plain": [
       "array([[0, 0, 0, 0],\n",
       "       [0, 0, 0, 0],\n",
       "       [0, 0, 0, 0]])"
      ]
     },
     "execution_count": 89,
     "metadata": {},
     "output_type": "execute_result"
    }
   ],
   "source": [
    "arr = np.zeros((3, 4),dtype=np.int64)\n",
    "arr"
   ]
  },
  {
   "cell_type": "code",
   "execution_count": 90,
   "id": "8c08f687",
   "metadata": {},
   "outputs": [
    {
     "data": {
      "text/plain": [
       "array([[[1, 1, 1],\n",
       "        [1, 1, 1],\n",
       "        [1, 1, 1],\n",
       "        [1, 1, 1]],\n",
       "\n",
       "       [[1, 1, 1],\n",
       "        [1, 1, 1],\n",
       "        [1, 1, 1],\n",
       "        [1, 1, 1]],\n",
       "\n",
       "       [[1, 1, 1],\n",
       "        [1, 1, 1],\n",
       "        [1, 1, 1],\n",
       "        [1, 1, 1]]])"
      ]
     },
     "execution_count": 90,
     "metadata": {},
     "output_type": "execute_result"
    }
   ],
   "source": [
    "np.ones((3,4,3),dtype=np.int64)"
   ]
  },
  {
   "cell_type": "markdown",
   "id": "7ed9ceac",
   "metadata": {},
   "source": [
    "## Creating an array with range of elements\n",
    "numpy.arange([start, ]stop, [step, ]dtype=None, *, device=None, like=None)"
   ]
  },
  {
   "cell_type": "code",
   "execution_count": 91,
   "id": "375f4183",
   "metadata": {},
   "outputs": [
    {
     "data": {
      "text/plain": [
       "array([0, 1, 2, 3, 4])"
      ]
     },
     "execution_count": 91,
     "metadata": {},
     "output_type": "execute_result"
    }
   ],
   "source": [
    "np.arange(5)"
   ]
  },
  {
   "cell_type": "code",
   "execution_count": 92,
   "id": "fb24f6b6",
   "metadata": {},
   "outputs": [
    {
     "data": {
      "text/plain": [
       "array([1., 3., 5., 7., 9.])"
      ]
     },
     "execution_count": 92,
     "metadata": {},
     "output_type": "execute_result"
    }
   ],
   "source": [
    "a = np.arange(1,10,2,dtype=float)\n",
    "a"
   ]
  },
  {
   "cell_type": "markdown",
   "id": "3af1ea73",
   "metadata": {},
   "source": [
    "add = a+b\n",
    "sub = a-b\n",
    "mul = a*b\n",
    "div = a/b\n",
    "power = a**b"
   ]
  },
  {
   "cell_type": "code",
   "execution_count": 93,
   "id": "c2949221",
   "metadata": {},
   "outputs": [
    {
     "name": "stdout",
     "output_type": "stream",
     "text": [
      "add: [38  8 75 60] sub: [ 28  -4 -69 -52] mul: [165  12 216 224] div: [6.6        0.33333333 0.04166667 0.07142857] power: [           39135393                  64 2190886001003067041\n",
      "                   0]\n"
     ]
    }
   ],
   "source": [
    "a = np.array([33,2,3,4])\n",
    "b = np.array([5,6,72,56])\n",
    "add = np.add(a,b)\n",
    "sub = np.subtract(a,b)\n",
    "mul = np.multiply(a,b)\n",
    "div = np.divide(a,b)\n",
    "power = np.pow(a,b)\n",
    "print('add:',add,'sub:',sub,\"mul:\",mul,\"div:\",div,'power:',power)\n"
   ]
  },
  {
   "cell_type": "code",
   "execution_count": 94,
   "id": "3f838463",
   "metadata": {},
   "outputs": [
    {
     "data": {
      "text/plain": [
       "array([[1, 2, 3],\n",
       "       [4, 5, 6]])"
      ]
     },
     "execution_count": 94,
     "metadata": {},
     "output_type": "execute_result"
    }
   ],
   "source": [
    "a = np.array([[1, 2, 3], [4, 5, 6]])\n",
    "a"
   ]
  },
  {
   "cell_type": "code",
   "execution_count": 95,
   "id": "52bf5fa8",
   "metadata": {},
   "outputs": [
    {
     "data": {
      "text/plain": [
       "np.int64(2)"
      ]
     },
     "execution_count": 95,
     "metadata": {},
     "output_type": "execute_result"
    }
   ],
   "source": [
    "a[0,1]"
   ]
  },
  {
   "cell_type": "code",
   "execution_count": 96,
   "id": "03b1703c",
   "metadata": {},
   "outputs": [
    {
     "data": {
      "text/plain": [
       "np.int64(5)"
      ]
     },
     "execution_count": 96,
     "metadata": {},
     "output_type": "execute_result"
    }
   ],
   "source": [
    "a[1,1]"
   ]
  },
  {
   "cell_type": "code",
   "execution_count": 97,
   "id": "397252e2",
   "metadata": {},
   "outputs": [
    {
     "data": {
      "text/plain": [
       "array([[ 1,  2,  3],\n",
       "       [ 4, 10,  6]])"
      ]
     },
     "execution_count": 97,
     "metadata": {},
     "output_type": "execute_result"
    }
   ],
   "source": [
    "a[1,1] = 10\n",
    "a"
   ]
  },
  {
   "cell_type": "markdown",
   "id": "b6f04a8f",
   "metadata": {},
   "source": [
    "## slicing "
   ]
  },
  {
   "cell_type": "code",
   "execution_count": 98,
   "id": "471ef15c",
   "metadata": {},
   "outputs": [
    {
     "name": "stdout",
     "output_type": "stream",
     "text": [
      "[2 3 4 5]\n"
     ]
    }
   ],
   "source": [
    "arr = np.array([1, 2, 3, 4, 5, 6, 7])\n",
    "\n",
    "print(arr[1:5])"
   ]
  },
  {
   "cell_type": "code",
   "execution_count": 99,
   "id": "bbb9cc31",
   "metadata": {},
   "outputs": [
    {
     "data": {
      "text/plain": [
       "array([2, 3, 4, 5, 6, 7])"
      ]
     },
     "execution_count": 99,
     "metadata": {},
     "output_type": "execute_result"
    }
   ],
   "source": [
    "arr[1:]"
   ]
  },
  {
   "cell_type": "code",
   "execution_count": 100,
   "id": "f40e1127",
   "metadata": {},
   "outputs": [
    {
     "data": {
      "text/plain": [
       "array([1, 2, 3])"
      ]
     },
     "execution_count": 100,
     "metadata": {},
     "output_type": "execute_result"
    }
   ],
   "source": [
    "arr[:3]"
   ]
  },
  {
   "cell_type": "code",
   "execution_count": 101,
   "id": "435a4794",
   "metadata": {},
   "outputs": [
    {
     "data": {
      "text/plain": [
       "array([7, 6, 5, 4, 3, 2, 1])"
      ]
     },
     "execution_count": 101,
     "metadata": {},
     "output_type": "execute_result"
    }
   ],
   "source": [
    "arr[::-1]"
   ]
  },
  {
   "cell_type": "code",
   "execution_count": 102,
   "id": "5584fc66",
   "metadata": {},
   "outputs": [
    {
     "data": {
      "text/plain": [
       "array([1, 3, 5, 7])"
      ]
     },
     "execution_count": 102,
     "metadata": {},
     "output_type": "execute_result"
    }
   ],
   "source": [
    "arr[0::2]"
   ]
  },
  {
   "cell_type": "code",
   "execution_count": 103,
   "id": "ec5a8991",
   "metadata": {},
   "outputs": [
    {
     "data": {
      "text/plain": [
       "np.int64(5)"
      ]
     },
     "execution_count": 103,
     "metadata": {},
     "output_type": "execute_result"
    }
   ],
   "source": [
    "a = np.array([[2,8,4],[1,2,5],[0,4,3]])\n",
    "a[1,2]"
   ]
  },
  {
   "cell_type": "code",
   "execution_count": 104,
   "id": "548e913e",
   "metadata": {},
   "outputs": [
    {
     "data": {
      "text/plain": [
       "array([7, 6, 5, 4])"
      ]
     },
     "execution_count": 104,
     "metadata": {},
     "output_type": "execute_result"
    }
   ],
   "source": [
    "arr = np.array([1,2,3,4,5,6,7])\n",
    "arr[:2:-1]"
   ]
  },
  {
   "cell_type": "code",
   "execution_count": 105,
   "id": "37a596f6",
   "metadata": {},
   "outputs": [],
   "source": [
    "a = np.array([10,11,12,13,14,15])\n"
   ]
  },
  {
   "cell_type": "markdown",
   "id": "6ce4423c",
   "metadata": {},
   "source": [
    "## Qn 1. Create a 1D array of numbers from 0 to 11\n",
    "Desired output: array([0, 1, 2, 3, 4, 5, 6, 7, 8, 9])"
   ]
  },
  {
   "cell_type": "code",
   "execution_count": 106,
   "id": "b7f33381",
   "metadata": {},
   "outputs": [
    {
     "data": {
      "text/plain": [
       "array([0, 1, 2, 3, 4, 5, 6, 7, 8, 9])"
      ]
     },
     "execution_count": 106,
     "metadata": {},
     "output_type": "execute_result"
    }
   ],
   "source": [
    "a = np.arange(10)\n",
    "a"
   ]
  },
  {
   "cell_type": "markdown",
   "id": "c1a67cf7",
   "metadata": {},
   "source": [
    "## Qn 1.2 Print the data type of the array"
   ]
  },
  {
   "cell_type": "code",
   "execution_count": 107,
   "id": "e01cf69a",
   "metadata": {},
   "outputs": [
    {
     "data": {
      "text/plain": [
       "numpy.ndarray"
      ]
     },
     "execution_count": 107,
     "metadata": {},
     "output_type": "execute_result"
    }
   ],
   "source": [
    "type(a)"
   ]
  },
  {
   "cell_type": "markdown",
   "id": "0928fe27",
   "metadata": {},
   "source": [
    "## Qn1.3 Change the dtype to float64"
   ]
  },
  {
   "cell_type": "code",
   "execution_count": 108,
   "id": "3eb002fe",
   "metadata": {},
   "outputs": [
    {
     "name": "stdout",
     "output_type": "stream",
     "text": [
      "[0. 1. 2. 3. 4. 5. 6. 7. 8. 9.]\n"
     ]
    }
   ],
   "source": [
    "a = a.astype('float64')\n",
    "print(a)"
   ]
  },
  {
   "cell_type": "markdown",
   "id": "8e9e021c",
   "metadata": {},
   "source": [
    "## Qn 2. Extract all odd numbers from arr\n",
    "\n",
    "Input: arr = [0, 1, 2, 3, 4, 5, 6, 7, 8, 9]\n",
    "Desired output: array([1, 3, 5, 7, 9])"
   ]
  },
  {
   "cell_type": "code",
   "execution_count": 109,
   "id": "d2155cd4",
   "metadata": {},
   "outputs": [
    {
     "data": {
      "text/plain": [
       "[1, 3, 5, 7, 9]"
      ]
     },
     "execution_count": 109,
     "metadata": {},
     "output_type": "execute_result"
    }
   ],
   "source": [
    "arr = [0, 1, 2, 3, 4, 5, 6, 7, 8, 9]\n",
    "odd = [x for x in arr if x%2 != 0]\n",
    "odd"
   ]
  },
  {
   "cell_type": "markdown",
   "id": "23192983",
   "metadata": {},
   "source": [
    "## Q3. Convert a 1D array to a 2D array with 2 rows\n",
    "Input: np.arange(10)\n",
    "Desired Output:array([[0, 1, 2, 3, 4],[5, 6, 7, 8, 9]])"
   ]
  },
  {
   "cell_type": "code",
   "execution_count": 110,
   "id": "f246763e",
   "metadata": {},
   "outputs": [
    {
     "data": {
      "text/plain": [
       "array([[0, 1, 2, 3, 4],\n",
       "       [5, 6, 7, 8, 9]])"
      ]
     },
     "execution_count": 110,
     "metadata": {},
     "output_type": "execute_result"
    }
   ],
   "source": [
    "arr = np.arange(10)\n",
    "arr_2d = arr.reshape(2, 5)\n",
    "arr_2d"
   ]
  },
  {
   "cell_type": "markdown",
   "id": "47902367",
   "metadata": {},
   "source": [
    "## Q4. Stack arrays a and b vertically\n",
    "Input a = np.arange(10).reshape(2,-1)b = np.repeat(1, 10).reshape(2,-1) \n",
    "Desired Output:> array([[0, 1, 2, 3, 4],> [5, 6, 7, 8, 9],> [1, 1, 1, 1, 1],"
   ]
  },
  {
   "cell_type": "code",
   "execution_count": 111,
   "id": "4e146ccc",
   "metadata": {},
   "outputs": [
    {
     "data": {
      "text/plain": [
       "(array([[0, 1, 2, 3, 4],\n",
       "        [5, 6, 7, 8, 9],\n",
       "        [1, 1, 1, 1, 1],\n",
       "        [1, 1, 1, 1, 1]]),\n",
       " array([[0, 1, 2, 3, 4, 1, 1, 1, 1, 1],\n",
       "        [5, 6, 7, 8, 9, 1, 1, 1, 1, 1]]))"
      ]
     },
     "execution_count": 111,
     "metadata": {},
     "output_type": "execute_result"
    }
   ],
   "source": [
    "a = np.arange(10).reshape(2,-1)\n",
    "b = np.repeat(1, 10).reshape(2,-1)\n",
    "c = np.vstack((a,b))\n",
    "d = np.hstack((a,b))\n",
    "c,d"
   ]
  },
  {
   "cell_type": "markdown",
   "id": "b54bee16",
   "metadata": {},
   "source": [
    "## Q5. Get the positions where elements of a and b match\n",
    "\n",
    "Input:a = [1,2,3,2,3,4,3,4,5,6]b = [7,2,10,2,7,4,9,4,9,8]\n",
    "\n",
    "Desired Output:> (array([1, 3, 5, 7]),)"
   ]
  },
  {
   "cell_type": "code",
   "execution_count": 112,
   "id": "7aba8d1b",
   "metadata": {},
   "outputs": [
    {
     "name": "stdout",
     "output_type": "stream",
     "text": [
      "(array([1, 3, 5, 7]),)\n"
     ]
    }
   ],
   "source": [
    "a = np.array([1,2,3,2,3,4,3,4,5,6])\n",
    "b = np.array([7,2,10,2,7,4,9,4,9,8])\n",
    "matching_index = np.where(a == b)\n",
    "print(matching_index)\n"
   ]
  },
  {
   "cell_type": "markdown",
   "id": "734d8021",
   "metadata": {},
   "source": [
    "## Q6: Swap columns 1 and 2 in the array arr.\n",
    "Input: arr = np.arange(9).reshape(3,3)"
   ]
  },
  {
   "cell_type": "code",
   "execution_count": 113,
   "id": "d90cbff0",
   "metadata": {},
   "outputs": [
    {
     "name": "stdout",
     "output_type": "stream",
     "text": [
      "before swaping:,[[0 1 2]\n",
      " [3 4 5]\n",
      " [6 7 8]]\n",
      "after swaping:,[[1 0 2]\n",
      " [4 3 5]\n",
      " [7 6 8]]\n"
     ]
    }
   ],
   "source": [
    "arr = np.arange(9).reshape(3,3)\n",
    "print(f'before swaping:,{arr}')\n",
    "arr[:, [0, 1]] = arr[:, [1, 0]]\n",
    "print(f'after swaping:,{arr}')"
   ]
  },
  {
   "cell_type": "markdown",
   "id": "12d834fa",
   "metadata": {},
   "source": [
    "## Q7: Swap rows 1 and 2 in the array \n",
    "arr:Input:arr = np.arange(9).reshape(3,3)\n"
   ]
  },
  {
   "cell_type": "code",
   "execution_count": 114,
   "id": "533e4964",
   "metadata": {},
   "outputs": [
    {
     "data": {
      "text/plain": [
       "array([[0, 1, 2],\n",
       "       [3, 4, 5],\n",
       "       [6, 7, 8]])"
      ]
     },
     "execution_count": 114,
     "metadata": {},
     "output_type": "execute_result"
    }
   ],
   "source": [
    "arr = np.arange(9).reshape(3,3)\n",
    "arr"
   ]
  },
  {
   "cell_type": "code",
   "execution_count": 115,
   "id": "42b338a2",
   "metadata": {},
   "outputs": [
    {
     "data": {
      "text/plain": [
       "array([[3, 4, 5],\n",
       "       [0, 1, 2],\n",
       "       [6, 7, 8]])"
      ]
     },
     "execution_count": 115,
     "metadata": {},
     "output_type": "execute_result"
    }
   ],
   "source": [
    "arr[[0, 1], :] = arr[[1, 0], :]\n",
    "arr"
   ]
  },
  {
   "cell_type": "markdown",
   "id": "f6237552",
   "metadata": {},
   "source": [
    "## Q8. Reverse the rows of a 2D array arr.\n",
    "Input:\n",
    "arr = np.arange(9).reshape(3,3)"
   ]
  },
  {
   "cell_type": "code",
   "execution_count": 116,
   "id": "dbdb0906",
   "metadata": {},
   "outputs": [
    {
     "data": {
      "text/plain": [
       "array([[0, 1, 2],\n",
       "       [3, 4, 5],\n",
       "       [6, 7, 8]])"
      ]
     },
     "execution_count": 116,
     "metadata": {},
     "output_type": "execute_result"
    }
   ],
   "source": [
    "arr = np.arange(9).reshape(3,3)\n",
    "arr"
   ]
  },
  {
   "cell_type": "code",
   "execution_count": 117,
   "id": "4b31a409",
   "metadata": {},
   "outputs": [
    {
     "name": "stdout",
     "output_type": "stream",
     "text": [
      "[[6 7 8]\n",
      " [3 4 5]\n",
      " [0 1 2]]\n"
     ]
    }
   ],
   "source": [
    "reversed_arr = arr[::-1]\n",
    "print(reversed_arr)"
   ]
  },
  {
   "cell_type": "markdown",
   "id": "eb96c64c",
   "metadata": {},
   "source": [
    "## Q9. Create a 2D array of shape 5x3 to contain random decimalnumbers between 5 and 10."
   ]
  },
  {
   "cell_type": "code",
   "execution_count": 118,
   "id": "4f4cc5e9",
   "metadata": {},
   "outputs": [
    {
     "name": "stdout",
     "output_type": "stream",
     "text": [
      "[[6.95735292 6.40056465 7.31325245]\n",
      " [8.2267903  6.8313629  5.67098181]\n",
      " [8.41206747 8.69796816 9.62685207]\n",
      " [5.59788707 8.79208095 5.56078825]\n",
      " [5.00672567 9.73117564 7.49024254]]\n"
     ]
    }
   ],
   "source": [
    "arr = np.random.uniform(5, 10, size=(5, 3))\n",
    "print(arr)"
   ]
  },
  {
   "cell_type": "markdown",
   "id": "01fc391f",
   "metadata": {},
   "source": [
    "## Q10: Consider the below arrayarray([0, 1, 2, 3, 4, 5, 6, 7, 8, 9])\n",
    "## Q10.1 Create a slice of the array containing the following values: array([5, 6,7])"
   ]
  },
  {
   "cell_type": "code",
   "execution_count": 119,
   "id": "9991388e",
   "metadata": {},
   "outputs": [
    {
     "data": {
      "text/plain": [
       "array([0, 1, 2, 3, 4, 5, 6, 7, 8, 9])"
      ]
     },
     "execution_count": 119,
     "metadata": {},
     "output_type": "execute_result"
    }
   ],
   "source": [
    "arr = np.array([0,1,2,3,4,5,6,7,8,9])\n",
    "arr"
   ]
  },
  {
   "cell_type": "code",
   "execution_count": 120,
   "id": "da20eb93",
   "metadata": {},
   "outputs": [
    {
     "name": "stdout",
     "output_type": "stream",
     "text": [
      "[5 6 7]\n"
     ]
    }
   ],
   "source": [
    "sliced_arr = arr[5:8]\n",
    "print(sliced_arr)"
   ]
  },
  {
   "cell_type": "markdown",
   "id": "cd079b6f",
   "metadata": {},
   "source": [
    "## Q10.2 Modify the given array to the below format array([ 0, 1, 2, 3, 4, 12, 12, 12, 8, 9])"
   ]
  },
  {
   "cell_type": "code",
   "execution_count": 121,
   "id": "e34fea1a",
   "metadata": {},
   "outputs": [
    {
     "data": {
      "text/plain": [
       "array([ 0,  1,  2,  3,  4, 12, 12, 12,  8,  9])"
      ]
     },
     "execution_count": 121,
     "metadata": {},
     "output_type": "execute_result"
    }
   ],
   "source": [
    "arr[5:8] = 12\n",
    "arr\n"
   ]
  },
  {
   "cell_type": "markdown",
   "id": "bd7d4699",
   "metadata": {},
   "source": [
    "## Q11: Drop all nan values from a 1D numpy array\n",
    "\n",
    "Input:a = [1,2,3,np.nan,5,6,7,np.nan]\n",
    "\n",
    "Desired Output:array([ 1., 2., 3., 5., 6., 7.])"
   ]
  },
  {
   "cell_type": "code",
   "execution_count": 130,
   "metadata": {},
   "outputs": [
    {
     "data": {
      "text/plain": [
       "array([ 1.,  2.,  3., nan,  5.,  6.,  7., nan])"
      ]
     },
     "execution_count": 130,
     "metadata": {},
     "output_type": "execute_result"
    }
   ],
   "source": [
    "a = np.array([1,2,3,np.nan,5,6,7,np.nan])\n",
    "a"
   ]
  },
  {
   "cell_type": "code",
   "execution_count": 135,
   "metadata": {},
   "outputs": [
    {
     "data": {
      "text/plain": [
       "array([1., 2., 3., 5., 6., 7.])"
      ]
     },
     "execution_count": 135,
     "metadata": {},
     "output_type": "execute_result"
    }
   ],
   "source": [
    "b = a[~np.isnan(a)]\n",
    "b"
   ]
  },
  {
   "cell_type": "markdown",
   "id": "b55940ed",
   "metadata": {},
   "source": [
    "## Q12: Create an empty, ones and zero array with 6, 3, and 4elements respectively"
   ]
  },
  {
   "cell_type": "code",
   "execution_count": 124,
   "id": "7bd25847",
   "metadata": {},
   "outputs": [
    {
     "name": "stdout",
     "output_type": "stream",
     "text": [
      "Empty array:\n",
      " [1. 2. 3. 5. 6. 7.]\n",
      "Ones array:\n",
      " [1. 1. 1.]\n",
      "Zeros array:\n",
      " [0. 0. 0. 0.]\n"
     ]
    }
   ],
   "source": [
    "# Empty array with 6 elements\n",
    "empty_arr = np.empty(6)\n",
    "\n",
    "# Ones array with 3 elements\n",
    "ones_arr = np.ones(3)\n",
    "\n",
    "# Zeros array with 4 elements\n",
    "zeros_arr = np.zeros(4)\n",
    "\n",
    "print(\"Empty array:\\n\", empty_arr)\n",
    "print(\"Ones array:\\n\", ones_arr)\n",
    "print(\"Zeros array:\\n\", zeros_arr)\n"
   ]
  },
  {
   "cell_type": "markdown",
   "id": "335e259f",
   "metadata": {},
   "source": [
    "## Q13: Create a 4x4 array with all elements value set to 23.67"
   ]
  },
  {
   "cell_type": "code",
   "execution_count": 128,
   "metadata": {},
   "outputs": [
    {
     "data": {
      "text/plain": [
       "array([[23.67, 23.67, 23.67, 23.67],\n",
       "       [23.67, 23.67, 23.67, 23.67],\n",
       "       [23.67, 23.67, 23.67, 23.67],\n",
       "       [23.67, 23.67, 23.67, 23.67]])"
      ]
     },
     "execution_count": 128,
     "metadata": {},
     "output_type": "execute_result"
    }
   ],
   "source": [
    "arr = np.full((4, 4), 23.67)\n",
    "arr"
   ]
  },
  {
   "cell_type": "markdown",
   "id": "8869ac4e",
   "metadata": {},
   "source": [
    "## Qn14: Create an array with eight values that are spaced linearly inthe [13, 27] interval"
   ]
  },
  {
   "cell_type": "code",
   "execution_count": 129,
   "id": "5efb061a",
   "metadata": {},
   "outputs": [
    {
     "data": {
      "text/plain": [
       "array([13., 15., 17., 19., 21., 23., 25., 27.])"
      ]
     },
     "execution_count": 129,
     "metadata": {},
     "output_type": "execute_result"
    }
   ],
   "source": [
    "array = np.linspace(13,27, 8)\n",
    "array"
   ]
  },
  {
   "cell_type": "code",
   "execution_count": null,
   "id": "4281e546",
   "metadata": {},
   "outputs": [],
   "source": []
  },
  {
   "cell_type": "code",
   "execution_count": null,
   "id": "3751df9d",
   "metadata": {},
   "outputs": [],
   "source": []
  },
  {
   "cell_type": "code",
   "execution_count": null,
   "id": "6091fe24",
   "metadata": {},
   "outputs": [],
   "source": []
  },
  {
   "cell_type": "code",
   "execution_count": null,
   "id": "4230844e",
   "metadata": {},
   "outputs": [],
   "source": []
  }
 ],
 "metadata": {
  "kernelspec": {
   "display_name": "Python 3",
   "language": "python",
   "name": "python3"
  },
  "language_info": {
   "codemirror_mode": {
    "name": "ipython",
    "version": 3
   },
   "file_extension": ".py",
   "mimetype": "text/x-python",
   "name": "python",
   "nbconvert_exporter": "python",
   "pygments_lexer": "ipython3",
   "version": "3.13.7"
  }
 },
 "nbformat": 4,
 "nbformat_minor": 5
}
