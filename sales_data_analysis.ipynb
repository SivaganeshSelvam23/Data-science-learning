{
 "cells": [
  {
   "cell_type": "code",
   "execution_count": 1,
   "id": "e9b2ad0c",
   "metadata": {},
   "outputs": [],
   "source": [
    "import pandas as pd \n",
    "import numpy as np"
   ]
  },
  {
   "cell_type": "code",
   "execution_count": 5,
   "id": "303c0f93",
   "metadata": {},
   "outputs": [
    {
     "data": {
      "application/vnd.microsoft.datawrangler.viewer.v0+json": {
       "columns": [
        {
         "name": "index",
         "rawType": "int64",
         "type": "integer"
        },
        {
         "name": "Order ID",
         "rawType": "int64",
         "type": "integer"
        },
        {
         "name": "Date",
         "rawType": "object",
         "type": "string"
        },
        {
         "name": "Product",
         "rawType": "object",
         "type": "string"
        },
        {
         "name": "Price",
         "rawType": "float64",
         "type": "float"
        },
        {
         "name": "Quantity",
         "rawType": "float64",
         "type": "float"
        },
        {
         "name": "Purchase Type",
         "rawType": "object",
         "type": "string"
        },
        {
         "name": "Payment Method",
         "rawType": "object",
         "type": "string"
        },
        {
         "name": "Manager",
         "rawType": "object",
         "type": "string"
        },
        {
         "name": "City",
         "rawType": "object",
         "type": "string"
        }
       ],
       "ref": "5fbe35d0-c2cc-47b0-8295-0a00793d056a",
       "rows": [
        [
         "0",
         "10452",
         "07-11-2022",
         "Fries",
         "3.49",
         "573.07",
         "Online ",
         " Gift Card",
         "Tom      Jackson",
         "London"
        ],
        [
         "1",
         "10453",
         "07-11-2022",
         "Beverages",
         "2.95",
         "745.76",
         "Online ",
         " Gift Card",
         "       Pablo Perez",
         "Madrid"
        ],
        [
         "2",
         "10454",
         "07-11-2022",
         "Sides & Other",
         "4.99",
         "200.4",
         "In-store ",
         " Gift Card",
         "Joao    Silva",
         "Lisbon"
        ],
        [
         "3",
         "10455",
         "08-11-2022",
         "Burgers",
         "12.99",
         "569.67",
         "In-store ",
         " Credit Card",
         "Walter Muller",
         "Berlin"
        ],
        [
         "4",
         "10456",
         "08-11-2022",
         "Chicken Sandwiches",
         "9.95",
         "201.01",
         "In-store ",
         " Credit Card",
         "Walter Muller",
         "Berlin"
        ]
       ],
       "shape": {
        "columns": 9,
        "rows": 5
       }
      },
      "text/html": [
       "<div>\n",
       "<style scoped>\n",
       "    .dataframe tbody tr th:only-of-type {\n",
       "        vertical-align: middle;\n",
       "    }\n",
       "\n",
       "    .dataframe tbody tr th {\n",
       "        vertical-align: top;\n",
       "    }\n",
       "\n",
       "    .dataframe thead th {\n",
       "        text-align: right;\n",
       "    }\n",
       "</style>\n",
       "<table border=\"1\" class=\"dataframe\">\n",
       "  <thead>\n",
       "    <tr style=\"text-align: right;\">\n",
       "      <th></th>\n",
       "      <th>Order ID</th>\n",
       "      <th>Date</th>\n",
       "      <th>Product</th>\n",
       "      <th>Price</th>\n",
       "      <th>Quantity</th>\n",
       "      <th>Purchase Type</th>\n",
       "      <th>Payment Method</th>\n",
       "      <th>Manager</th>\n",
       "      <th>City</th>\n",
       "    </tr>\n",
       "  </thead>\n",
       "  <tbody>\n",
       "    <tr>\n",
       "      <th>0</th>\n",
       "      <td>10452</td>\n",
       "      <td>07-11-2022</td>\n",
       "      <td>Fries</td>\n",
       "      <td>3.49</td>\n",
       "      <td>573.07</td>\n",
       "      <td>Online</td>\n",
       "      <td>Gift Card</td>\n",
       "      <td>Tom      Jackson</td>\n",
       "      <td>London</td>\n",
       "    </tr>\n",
       "    <tr>\n",
       "      <th>1</th>\n",
       "      <td>10453</td>\n",
       "      <td>07-11-2022</td>\n",
       "      <td>Beverages</td>\n",
       "      <td>2.95</td>\n",
       "      <td>745.76</td>\n",
       "      <td>Online</td>\n",
       "      <td>Gift Card</td>\n",
       "      <td>Pablo Perez</td>\n",
       "      <td>Madrid</td>\n",
       "    </tr>\n",
       "    <tr>\n",
       "      <th>2</th>\n",
       "      <td>10454</td>\n",
       "      <td>07-11-2022</td>\n",
       "      <td>Sides &amp; Other</td>\n",
       "      <td>4.99</td>\n",
       "      <td>200.40</td>\n",
       "      <td>In-store</td>\n",
       "      <td>Gift Card</td>\n",
       "      <td>Joao    Silva</td>\n",
       "      <td>Lisbon</td>\n",
       "    </tr>\n",
       "    <tr>\n",
       "      <th>3</th>\n",
       "      <td>10455</td>\n",
       "      <td>08-11-2022</td>\n",
       "      <td>Burgers</td>\n",
       "      <td>12.99</td>\n",
       "      <td>569.67</td>\n",
       "      <td>In-store</td>\n",
       "      <td>Credit Card</td>\n",
       "      <td>Walter Muller</td>\n",
       "      <td>Berlin</td>\n",
       "    </tr>\n",
       "    <tr>\n",
       "      <th>4</th>\n",
       "      <td>10456</td>\n",
       "      <td>08-11-2022</td>\n",
       "      <td>Chicken Sandwiches</td>\n",
       "      <td>9.95</td>\n",
       "      <td>201.01</td>\n",
       "      <td>In-store</td>\n",
       "      <td>Credit Card</td>\n",
       "      <td>Walter Muller</td>\n",
       "      <td>Berlin</td>\n",
       "    </tr>\n",
       "  </tbody>\n",
       "</table>\n",
       "</div>"
      ],
      "text/plain": [
       "   Order ID        Date             Product  Price  Quantity Purchase Type  \\\n",
       "0     10452  07-11-2022               Fries   3.49    573.07       Online    \n",
       "1     10453  07-11-2022           Beverages   2.95    745.76       Online    \n",
       "2     10454  07-11-2022       Sides & Other   4.99    200.40     In-store    \n",
       "3     10455  08-11-2022             Burgers  12.99    569.67     In-store    \n",
       "4     10456  08-11-2022  Chicken Sandwiches   9.95    201.01     In-store    \n",
       "\n",
       "  Payment Method             Manager    City  \n",
       "0      Gift Card    Tom      Jackson  London  \n",
       "1      Gift Card         Pablo Perez  Madrid  \n",
       "2      Gift Card       Joao    Silva  Lisbon  \n",
       "3    Credit Card       Walter Muller  Berlin  \n",
       "4    Credit Card       Walter Muller  Berlin  "
      ]
     },
     "execution_count": 5,
     "metadata": {},
     "output_type": "execute_result"
    }
   ],
   "source": [
    "# Load sales data from a CSV file\n",
    "data = pd.read_csv('Sales-Data-Analysis.csv')\n",
    "data.head()"
   ]
  },
  {
   "cell_type": "code",
   "execution_count": null,
   "id": "847d40d9",
   "metadata": {},
   "outputs": [],
   "source": []
  },
  {
   "cell_type": "code",
   "execution_count": null,
   "id": "a7fc6b36",
   "metadata": {},
   "outputs": [],
   "source": []
  },
  {
   "cell_type": "code",
   "execution_count": null,
   "id": "17852c75",
   "metadata": {},
   "outputs": [],
   "source": []
  },
  {
   "cell_type": "code",
   "execution_count": null,
   "id": "c5de7de3",
   "metadata": {},
   "outputs": [],
   "source": []
  },
  {
   "cell_type": "code",
   "execution_count": null,
   "id": "e2364664",
   "metadata": {},
   "outputs": [],
   "source": []
  },
  {
   "cell_type": "code",
   "execution_count": null,
   "id": "177cbb42",
   "metadata": {},
   "outputs": [],
   "source": []
  },
  {
   "cell_type": "code",
   "execution_count": null,
   "id": "584ee060",
   "metadata": {},
   "outputs": [],
   "source": []
  },
  {
   "cell_type": "code",
   "execution_count": null,
   "id": "d2eb5c7f",
   "metadata": {},
   "outputs": [],
   "source": []
  },
  {
   "cell_type": "code",
   "execution_count": null,
   "id": "3346dcb8",
   "metadata": {},
   "outputs": [],
   "source": []
  },
  {
   "cell_type": "code",
   "execution_count": null,
   "id": "12f62d56",
   "metadata": {},
   "outputs": [],
   "source": []
  },
  {
   "cell_type": "code",
   "execution_count": null,
   "id": "65df0b50",
   "metadata": {},
   "outputs": [],
   "source": []
  },
  {
   "cell_type": "code",
   "execution_count": null,
   "id": "9f13e343",
   "metadata": {},
   "outputs": [],
   "source": []
  },
  {
   "cell_type": "code",
   "execution_count": null,
   "id": "c6f3104e",
   "metadata": {},
   "outputs": [],
   "source": []
  },
  {
   "cell_type": "code",
   "execution_count": null,
   "id": "23317d79",
   "metadata": {},
   "outputs": [],
   "source": []
  },
  {
   "cell_type": "code",
   "execution_count": null,
   "id": "f0497dde",
   "metadata": {},
   "outputs": [],
   "source": []
  },
  {
   "cell_type": "code",
   "execution_count": null,
   "id": "d7db206f",
   "metadata": {},
   "outputs": [],
   "source": []
  },
  {
   "cell_type": "code",
   "execution_count": null,
   "id": "facc58f2",
   "metadata": {},
   "outputs": [],
   "source": []
  },
  {
   "cell_type": "code",
   "execution_count": null,
   "id": "23353d30",
   "metadata": {},
   "outputs": [],
   "source": []
  },
  {
   "cell_type": "code",
   "execution_count": null,
   "id": "15b3c3ab",
   "metadata": {},
   "outputs": [],
   "source": []
  },
  {
   "cell_type": "code",
   "execution_count": null,
   "id": "09b1d03c",
   "metadata": {},
   "outputs": [],
   "source": []
  },
  {
   "cell_type": "code",
   "execution_count": null,
   "id": "33717be3",
   "metadata": {},
   "outputs": [],
   "source": []
  },
  {
   "cell_type": "code",
   "execution_count": null,
   "id": "1cb515f7",
   "metadata": {},
   "outputs": [],
   "source": []
  },
  {
   "cell_type": "code",
   "execution_count": null,
   "id": "9d9d0abb",
   "metadata": {},
   "outputs": [],
   "source": []
  },
  {
   "cell_type": "code",
   "execution_count": null,
   "id": "68e9d61f",
   "metadata": {},
   "outputs": [],
   "source": []
  },
  {
   "cell_type": "code",
   "execution_count": null,
   "id": "64073aa4",
   "metadata": {},
   "outputs": [],
   "source": []
  },
  {
   "cell_type": "code",
   "execution_count": null,
   "id": "e45e63c7",
   "metadata": {},
   "outputs": [],
   "source": []
  },
  {
   "cell_type": "code",
   "execution_count": null,
   "id": "a5dd995d",
   "metadata": {},
   "outputs": [],
   "source": []
  },
  {
   "cell_type": "code",
   "execution_count": null,
   "id": "4384ecea",
   "metadata": {},
   "outputs": [],
   "source": []
  },
  {
   "cell_type": "code",
   "execution_count": null,
   "id": "3c106a42",
   "metadata": {},
   "outputs": [],
   "source": []
  },
  {
   "cell_type": "code",
   "execution_count": null,
   "id": "d7e58148",
   "metadata": {},
   "outputs": [],
   "source": []
  },
  {
   "cell_type": "code",
   "execution_count": null,
   "id": "08ca1b35",
   "metadata": {},
   "outputs": [],
   "source": []
  },
  {
   "cell_type": "code",
   "execution_count": null,
   "id": "e7ef728c",
   "metadata": {},
   "outputs": [],
   "source": []
  },
  {
   "cell_type": "code",
   "execution_count": null,
   "id": "1af8d855",
   "metadata": {},
   "outputs": [],
   "source": []
  }
 ],
 "metadata": {
  "kernelspec": {
   "display_name": "venv",
   "language": "python",
   "name": "python3"
  },
  "language_info": {
   "codemirror_mode": {
    "name": "ipython",
    "version": 3
   },
   "file_extension": ".py",
   "mimetype": "text/x-python",
   "name": "python",
   "nbconvert_exporter": "python",
   "pygments_lexer": "ipython3",
   "version": "3.13.7"
  }
 },
 "nbformat": 4,
 "nbformat_minor": 5
}
