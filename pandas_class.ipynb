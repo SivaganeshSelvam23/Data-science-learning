{
 "cells": [
  {
   "cell_type": "code",
   "execution_count": 68,
   "id": "d3bd9294",
   "metadata": {},
   "outputs": [],
   "source": [
    "import pandas as pd \n",
    "import numpy as np\n",
    "index_1 = ['day1', 'day2', 'day3']\n",
    "data_1 = ['EDA', 'AD EDA', 'Scipy']"
   ]
  },
  {
   "cell_type": "code",
   "execution_count": 69,
   "id": "d529111b",
   "metadata": {},
   "outputs": [],
   "source": [
    "ser_1 = pd.Series(data=data_1)"
   ]
  },
  {
   "cell_type": "code",
   "execution_count": 70,
   "id": "c4f15e98",
   "metadata": {},
   "outputs": [
    {
     "data": {
      "application/vnd.microsoft.datawrangler.viewer.v0+json": {
       "columns": [
        {
         "name": "index",
         "rawType": "int64",
         "type": "integer"
        },
        {
         "name": "0",
         "rawType": "object",
         "type": "string"
        }
       ],
       "ref": "1032d670-c31a-4349-923f-af4fcef4998e",
       "rows": [
        [
         "0",
         "EDA"
        ],
        [
         "1",
         "AD EDA"
        ],
        [
         "2",
         "Scipy"
        ]
       ],
       "shape": {
        "columns": 1,
        "rows": 3
       }
      },
      "text/plain": [
       "0       EDA\n",
       "1    AD EDA\n",
       "2     Scipy\n",
       "dtype: object"
      ]
     },
     "execution_count": 70,
     "metadata": {},
     "output_type": "execute_result"
    }
   ],
   "source": [
    "ser_1"
   ]
  },
  {
   "cell_type": "code",
   "execution_count": 71,
   "id": "a90b4907",
   "metadata": {},
   "outputs": [
    {
     "data": {
      "text/plain": [
       "pandas.core.series.Series"
      ]
     },
     "execution_count": 71,
     "metadata": {},
     "output_type": "execute_result"
    }
   ],
   "source": [
    "type(ser_1)"
   ]
  },
  {
   "cell_type": "code",
   "execution_count": 72,
   "id": "32e9ce62",
   "metadata": {},
   "outputs": [
    {
     "data": {
      "application/vnd.microsoft.datawrangler.viewer.v0+json": {
       "columns": [
        {
         "name": "index",
         "rawType": "object",
         "type": "string"
        },
        {
         "name": "0",
         "rawType": "object",
         "type": "string"
        }
       ],
       "ref": "716825e9-7b0d-4bb4-9cfa-251cb537b108",
       "rows": [
        [
         "day1",
         "EDA"
        ],
        [
         "day2",
         "AD EDA"
        ],
        [
         "day3",
         "Scipy"
        ]
       ],
       "shape": {
        "columns": 1,
        "rows": 3
       }
      },
      "text/plain": [
       "day1       EDA\n",
       "day2    AD EDA\n",
       "day3     Scipy\n",
       "dtype: object"
      ]
     },
     "execution_count": 72,
     "metadata": {},
     "output_type": "execute_result"
    }
   ],
   "source": [
    "ser_1 = pd.Series(data=data_1,index=index_1)\n",
    "ser_1"
   ]
  },
  {
   "cell_type": "code",
   "execution_count": 73,
   "id": "f4c599cc",
   "metadata": {},
   "outputs": [
    {
     "name": "stderr",
     "output_type": "stream",
     "text": [
      "C:\\Users\\DELL\\AppData\\Local\\Temp\\ipykernel_10748\\2280153091.py:1: FutureWarning: Series.__getitem__ treating keys as positions is deprecated. In a future version, integer keys will always be treated as labels (consistent with DataFrame behavior). To access a value by position, use `ser.iloc[pos]`\n",
      "  ser_1[0]\n"
     ]
    },
    {
     "data": {
      "text/plain": [
       "'EDA'"
      ]
     },
     "execution_count": 73,
     "metadata": {},
     "output_type": "execute_result"
    }
   ],
   "source": [
    "ser_1[0]"
   ]
  },
  {
   "cell_type": "code",
   "execution_count": 74,
   "id": "53c84fdf",
   "metadata": {},
   "outputs": [
    {
     "data": {
      "text/plain": [
       "'AD EDA'"
      ]
     },
     "execution_count": 74,
     "metadata": {},
     "output_type": "execute_result"
    }
   ],
   "source": [
    "ser_1.iloc[1]"
   ]
  },
  {
   "cell_type": "code",
   "execution_count": 75,
   "id": "66dad691",
   "metadata": {},
   "outputs": [
    {
     "data": {
      "text/plain": [
       "'EDA'"
      ]
     },
     "execution_count": 75,
     "metadata": {},
     "output_type": "execute_result"
    }
   ],
   "source": [
    "ser_1.loc['day1']"
   ]
  },
  {
   "cell_type": "markdown",
   "id": "f60a4fb3",
   "metadata": {},
   "source": [
    "## Ditionary"
   ]
  },
  {
   "cell_type": "code",
   "execution_count": 76,
   "id": "d7fe7c0c",
   "metadata": {},
   "outputs": [],
   "source": [
    "dict_1 = {'coke':2, 'juice':5, 'water':3}"
   ]
  },
  {
   "cell_type": "code",
   "execution_count": 77,
   "id": "66e33bb5",
   "metadata": {},
   "outputs": [
    {
     "data": {
      "application/vnd.microsoft.datawrangler.viewer.v0+json": {
       "columns": [
        {
         "name": "index",
         "rawType": "object",
         "type": "string"
        },
        {
         "name": "0",
         "rawType": "int64",
         "type": "integer"
        }
       ],
       "ref": "a033b4d9-b52c-4c59-b8c2-2e1728645712",
       "rows": [
        [
         "coke",
         "2"
        ],
        [
         "juice",
         "5"
        ],
        [
         "water",
         "3"
        ]
       ],
       "shape": {
        "columns": 1,
        "rows": 3
       }
      },
      "text/plain": [
       "coke     2\n",
       "juice    5\n",
       "water    3\n",
       "dtype: int64"
      ]
     },
     "execution_count": 77,
     "metadata": {},
     "output_type": "execute_result"
    }
   ],
   "source": [
    "ser_2 = pd.Series(data = dict_1)\n",
    "ser_2"
   ]
  },
  {
   "cell_type": "code",
   "execution_count": 78,
   "id": "e1745b21",
   "metadata": {},
   "outputs": [
    {
     "data": {
      "text/plain": [
       "{'coke': 2, 'juice': 5, 'water': 3}"
      ]
     },
     "execution_count": 78,
     "metadata": {},
     "output_type": "execute_result"
    }
   ],
   "source": [
    "## series to dictionary back \n",
    "backtodict = ser_2.to_dict()\n",
    "backtodict"
   ]
  },
  {
   "cell_type": "code",
   "execution_count": 79,
   "id": "55448043",
   "metadata": {},
   "outputs": [
    {
     "data": {
      "text/plain": [
       "Index(['coke', 'juice', 'water'], dtype='object')"
      ]
     },
     "execution_count": 79,
     "metadata": {},
     "output_type": "execute_result"
    }
   ],
   "source": [
    "## To get the keys only \n",
    "ser_2.keys()"
   ]
  },
  {
   "cell_type": "code",
   "execution_count": 80,
   "id": "aab3093a",
   "metadata": {},
   "outputs": [
    {
     "data": {
      "text/plain": [
       "dict_keys(['coke', 'juice', 'water'])"
      ]
     },
     "execution_count": 80,
     "metadata": {},
     "output_type": "execute_result"
    }
   ],
   "source": [
    "backtodict.keys()"
   ]
  },
  {
   "cell_type": "code",
   "execution_count": 81,
   "id": "bac45a4d",
   "metadata": {},
   "outputs": [
    {
     "data": {
      "text/plain": [
       "array([2, 5, 3])"
      ]
     },
     "execution_count": 81,
     "metadata": {},
     "output_type": "execute_result"
    }
   ],
   "source": [
    "ser_2.values"
   ]
  },
  {
   "cell_type": "code",
   "execution_count": 82,
   "id": "c8889b47",
   "metadata": {},
   "outputs": [
    {
     "data": {
      "application/vnd.microsoft.datawrangler.viewer.v0+json": {
       "columns": [
        {
         "name": "index",
         "rawType": "object",
         "type": "string"
        },
        {
         "name": "0",
         "rawType": "int64",
         "type": "integer"
        }
       ],
       "ref": "a661548d-1727-4dab-a03e-f8e45f79753f",
       "rows": [
        [
         "coke",
         "4"
        ],
        [
         "juice",
         "10"
        ],
        [
         "water",
         "6"
        ]
       ],
       "shape": {
        "columns": 1,
        "rows": 3
       }
      },
      "text/plain": [
       "coke      4\n",
       "juice    10\n",
       "water     6\n",
       "dtype: int64"
      ]
     },
     "execution_count": 82,
     "metadata": {},
     "output_type": "execute_result"
    }
   ],
   "source": [
    "ser_2*2"
   ]
  },
  {
   "cell_type": "markdown",
   "id": "49744bf2",
   "metadata": {},
   "source": [
    "## Dataframe"
   ]
  },
  {
   "cell_type": "code",
   "execution_count": 83,
   "id": "12defbae",
   "metadata": {},
   "outputs": [],
   "source": [
    "np.random.seed(101)\n",
    "data_2 = np.random.randint(0,101,size=(4,3))"
   ]
  },
  {
   "cell_type": "code",
   "execution_count": 84,
   "id": "721fed71",
   "metadata": {},
   "outputs": [
    {
     "data": {
      "text/plain": [
       "array([[95, 11, 81],\n",
       "       [70, 63, 87],\n",
       "       [75,  9, 77],\n",
       "       [40,  4, 63]], dtype=int32)"
      ]
     },
     "execution_count": 84,
     "metadata": {},
     "output_type": "execute_result"
    }
   ],
   "source": [
    "data_2"
   ]
  },
  {
   "cell_type": "code",
   "execution_count": 85,
   "id": "da27b90c",
   "metadata": {},
   "outputs": [
    {
     "data": {
      "application/vnd.microsoft.datawrangler.viewer.v0+json": {
       "columns": [
        {
         "name": "index",
         "rawType": "int64",
         "type": "integer"
        },
        {
         "name": "0",
         "rawType": "int32",
         "type": "integer"
        },
        {
         "name": "1",
         "rawType": "int32",
         "type": "integer"
        },
        {
         "name": "2",
         "rawType": "int32",
         "type": "integer"
        }
       ],
       "ref": "207f18bd-27ac-4c4c-a450-e357e9776059",
       "rows": [
        [
         "0",
         "95",
         "11",
         "81"
        ],
        [
         "1",
         "70",
         "63",
         "87"
        ],
        [
         "2",
         "75",
         "9",
         "77"
        ],
        [
         "3",
         "40",
         "4",
         "63"
        ]
       ],
       "shape": {
        "columns": 3,
        "rows": 4
       }
      },
      "text/html": [
       "<div>\n",
       "<style scoped>\n",
       "    .dataframe tbody tr th:only-of-type {\n",
       "        vertical-align: middle;\n",
       "    }\n",
       "\n",
       "    .dataframe tbody tr th {\n",
       "        vertical-align: top;\n",
       "    }\n",
       "\n",
       "    .dataframe thead th {\n",
       "        text-align: right;\n",
       "    }\n",
       "</style>\n",
       "<table border=\"1\" class=\"dataframe\">\n",
       "  <thead>\n",
       "    <tr style=\"text-align: right;\">\n",
       "      <th></th>\n",
       "      <th>0</th>\n",
       "      <th>1</th>\n",
       "      <th>2</th>\n",
       "    </tr>\n",
       "  </thead>\n",
       "  <tbody>\n",
       "    <tr>\n",
       "      <th>0</th>\n",
       "      <td>95</td>\n",
       "      <td>11</td>\n",
       "      <td>81</td>\n",
       "    </tr>\n",
       "    <tr>\n",
       "      <th>1</th>\n",
       "      <td>70</td>\n",
       "      <td>63</td>\n",
       "      <td>87</td>\n",
       "    </tr>\n",
       "    <tr>\n",
       "      <th>2</th>\n",
       "      <td>75</td>\n",
       "      <td>9</td>\n",
       "      <td>77</td>\n",
       "    </tr>\n",
       "    <tr>\n",
       "      <th>3</th>\n",
       "      <td>40</td>\n",
       "      <td>4</td>\n",
       "      <td>63</td>\n",
       "    </tr>\n",
       "  </tbody>\n",
       "</table>\n",
       "</div>"
      ],
      "text/plain": [
       "    0   1   2\n",
       "0  95  11  81\n",
       "1  70  63  87\n",
       "2  75   9  77\n",
       "3  40   4  63"
      ]
     },
     "execution_count": 85,
     "metadata": {},
     "output_type": "execute_result"
    }
   ],
   "source": [
    "df = pd.DataFrame(data_2)\n",
    "df"
   ]
  },
  {
   "cell_type": "code",
   "execution_count": 86,
   "id": "e98cb69a",
   "metadata": {},
   "outputs": [
    {
     "data": {
      "application/vnd.microsoft.datawrangler.viewer.v0+json": {
       "columns": [
        {
         "name": "index",
         "rawType": "object",
         "type": "string"
        },
        {
         "name": "2022",
         "rawType": "int32",
         "type": "integer"
        },
        {
         "name": "2023",
         "rawType": "int32",
         "type": "integer"
        },
        {
         "name": "2024",
         "rawType": "int32",
         "type": "integer"
        }
       ],
       "ref": "838c45c2-972b-44ac-8691-6c1989da5e10",
       "rows": [
        [
         "q1",
         "95",
         "11",
         "81"
        ],
        [
         "q2",
         "70",
         "63",
         "87"
        ],
        [
         "q3",
         "75",
         "9",
         "77"
        ],
        [
         "q4",
         "40",
         "4",
         "63"
        ]
       ],
       "shape": {
        "columns": 3,
        "rows": 4
       }
      },
      "text/html": [
       "<div>\n",
       "<style scoped>\n",
       "    .dataframe tbody tr th:only-of-type {\n",
       "        vertical-align: middle;\n",
       "    }\n",
       "\n",
       "    .dataframe tbody tr th {\n",
       "        vertical-align: top;\n",
       "    }\n",
       "\n",
       "    .dataframe thead th {\n",
       "        text-align: right;\n",
       "    }\n",
       "</style>\n",
       "<table border=\"1\" class=\"dataframe\">\n",
       "  <thead>\n",
       "    <tr style=\"text-align: right;\">\n",
       "      <th></th>\n",
       "      <th>2022</th>\n",
       "      <th>2023</th>\n",
       "      <th>2024</th>\n",
       "    </tr>\n",
       "  </thead>\n",
       "  <tbody>\n",
       "    <tr>\n",
       "      <th>q1</th>\n",
       "      <td>95</td>\n",
       "      <td>11</td>\n",
       "      <td>81</td>\n",
       "    </tr>\n",
       "    <tr>\n",
       "      <th>q2</th>\n",
       "      <td>70</td>\n",
       "      <td>63</td>\n",
       "      <td>87</td>\n",
       "    </tr>\n",
       "    <tr>\n",
       "      <th>q3</th>\n",
       "      <td>75</td>\n",
       "      <td>9</td>\n",
       "      <td>77</td>\n",
       "    </tr>\n",
       "    <tr>\n",
       "      <th>q4</th>\n",
       "      <td>40</td>\n",
       "      <td>4</td>\n",
       "      <td>63</td>\n",
       "    </tr>\n",
       "  </tbody>\n",
       "</table>\n",
       "</div>"
      ],
      "text/plain": [
       "    2022  2023  2024\n",
       "q1    95    11    81\n",
       "q2    70    63    87\n",
       "q3    75     9    77\n",
       "q4    40     4    63"
      ]
     },
     "execution_count": 86,
     "metadata": {},
     "output_type": "execute_result"
    }
   ],
   "source": [
    "index_1 = ['q1','q2','q3','q4']\n",
    "index_2 = ['2022','2023','2024']\n",
    "df = pd.DataFrame(data_2,index=index_1,columns=index_2)\n",
    "df"
   ]
  },
  {
   "cell_type": "code",
   "execution_count": 87,
   "id": "b656c13d",
   "metadata": {},
   "outputs": [
    {
     "data": {
      "application/vnd.microsoft.datawrangler.viewer.v0+json": {
       "columns": [
        {
         "name": "index",
         "rawType": "object",
         "type": "string"
        },
        {
         "name": "q2",
         "rawType": "int32",
         "type": "integer"
        }
       ],
       "ref": "92fa2cad-9c0e-43d3-9c36-50c96d2d51ba",
       "rows": [
        [
         "2022",
         "70"
        ],
        [
         "2023",
         "63"
        ],
        [
         "2024",
         "87"
        ]
       ],
       "shape": {
        "columns": 1,
        "rows": 3
       }
      },
      "text/plain": [
       "2022    70\n",
       "2023    63\n",
       "2024    87\n",
       "Name: q2, dtype: int32"
      ]
     },
     "execution_count": 87,
     "metadata": {},
     "output_type": "execute_result"
    }
   ],
   "source": [
    "df.iloc[1]"
   ]
  },
  {
   "cell_type": "code",
   "execution_count": 88,
   "id": "c4233d46",
   "metadata": {},
   "outputs": [
    {
     "data": {
      "application/vnd.microsoft.datawrangler.viewer.v0+json": {
       "columns": [
        {
         "name": "index",
         "rawType": "object",
         "type": "string"
        },
        {
         "name": "q2",
         "rawType": "int32",
         "type": "integer"
        }
       ],
       "ref": "1d2e9783-1150-41fd-8e99-fb7fc95d3765",
       "rows": [
        [
         "2022",
         "70"
        ],
        [
         "2023",
         "63"
        ],
        [
         "2024",
         "87"
        ]
       ],
       "shape": {
        "columns": 1,
        "rows": 3
       }
      },
      "text/plain": [
       "2022    70\n",
       "2023    63\n",
       "2024    87\n",
       "Name: q2, dtype: int32"
      ]
     },
     "execution_count": 88,
     "metadata": {},
     "output_type": "execute_result"
    }
   ],
   "source": [
    "df.loc['q2']"
   ]
  },
  {
   "cell_type": "code",
   "execution_count": 89,
   "id": "ea94fe6c",
   "metadata": {},
   "outputs": [
    {
     "data": {
      "text/plain": [
       "np.int32(9)"
      ]
     },
     "execution_count": 89,
     "metadata": {},
     "output_type": "execute_result"
    }
   ],
   "source": [
    "df.iloc[2,1]"
   ]
  },
  {
   "cell_type": "code",
   "execution_count": 90,
   "id": "24f01d7e",
   "metadata": {},
   "outputs": [
    {
     "data": {
      "text/plain": [
       "[1, 2.3, -89, 'hi', '5556', 34]"
      ]
     },
     "execution_count": 90,
     "metadata": {},
     "output_type": "execute_result"
    }
   ],
   "source": [
    "l = [1,2.3,-89,'hi','5556',34]\n",
    "l"
   ]
  },
  {
   "cell_type": "code",
   "execution_count": 91,
   "id": "7a89da75",
   "metadata": {},
   "outputs": [
    {
     "data": {
      "text/plain": [
       "[1, 2.3]"
      ]
     },
     "execution_count": 91,
     "metadata": {},
     "output_type": "execute_result"
    }
   ],
   "source": [
    "## slicing \n",
    "l[:2]"
   ]
  },
  {
   "cell_type": "code",
   "execution_count": 92,
   "id": "2b8a5df7",
   "metadata": {},
   "outputs": [
    {
     "data": {
      "text/plain": [
       "34"
      ]
     },
     "execution_count": 92,
     "metadata": {},
     "output_type": "execute_result"
    }
   ],
   "source": [
    "l[-1]"
   ]
  },
  {
   "cell_type": "code",
   "execution_count": 93,
   "id": "c53c8a4e",
   "metadata": {},
   "outputs": [],
   "source": [
    "Revenues_20_p1 = {'q1': [23, 12, 54, 36], 'q2': [42,58,13,65]}\n",
    "Revenues_20_p2 = {'q3': [16, 44, 18, 38], 'q4': [8, 16, 47, 84]}"
   ]
  },
  {
   "cell_type": "code",
   "execution_count": 94,
   "id": "124a6b7b",
   "metadata": {},
   "outputs": [],
   "source": [
    "df1 = pd.DataFrame(Revenues_20_p1)\n",
    "df2 = pd.DataFrame(Revenues_20_p2)\n"
   ]
  },
  {
   "cell_type": "code",
   "execution_count": 95,
   "id": "09637f5c",
   "metadata": {},
   "outputs": [
    {
     "data": {
      "application/vnd.microsoft.datawrangler.viewer.v0+json": {
       "columns": [
        {
         "name": "index",
         "rawType": "int64",
         "type": "integer"
        },
        {
         "name": "q1",
         "rawType": "int64",
         "type": "integer"
        },
        {
         "name": "q2",
         "rawType": "int64",
         "type": "integer"
        },
        {
         "name": "q3",
         "rawType": "int64",
         "type": "integer"
        },
        {
         "name": "q4",
         "rawType": "int64",
         "type": "integer"
        }
       ],
       "ref": "324ebb8d-b871-4cb6-992c-38f92f8e988b",
       "rows": [
        [
         "0",
         "23",
         "42",
         "16",
         "8"
        ],
        [
         "1",
         "12",
         "58",
         "44",
         "16"
        ],
        [
         "2",
         "54",
         "13",
         "18",
         "47"
        ],
        [
         "3",
         "36",
         "65",
         "38",
         "84"
        ]
       ],
       "shape": {
        "columns": 4,
        "rows": 4
       }
      },
      "text/html": [
       "<div>\n",
       "<style scoped>\n",
       "    .dataframe tbody tr th:only-of-type {\n",
       "        vertical-align: middle;\n",
       "    }\n",
       "\n",
       "    .dataframe tbody tr th {\n",
       "        vertical-align: top;\n",
       "    }\n",
       "\n",
       "    .dataframe thead th {\n",
       "        text-align: right;\n",
       "    }\n",
       "</style>\n",
       "<table border=\"1\" class=\"dataframe\">\n",
       "  <thead>\n",
       "    <tr style=\"text-align: right;\">\n",
       "      <th></th>\n",
       "      <th>q1</th>\n",
       "      <th>q2</th>\n",
       "      <th>q3</th>\n",
       "      <th>q4</th>\n",
       "    </tr>\n",
       "  </thead>\n",
       "  <tbody>\n",
       "    <tr>\n",
       "      <th>0</th>\n",
       "      <td>23</td>\n",
       "      <td>42</td>\n",
       "      <td>16</td>\n",
       "      <td>8</td>\n",
       "    </tr>\n",
       "    <tr>\n",
       "      <th>1</th>\n",
       "      <td>12</td>\n",
       "      <td>58</td>\n",
       "      <td>44</td>\n",
       "      <td>16</td>\n",
       "    </tr>\n",
       "    <tr>\n",
       "      <th>2</th>\n",
       "      <td>54</td>\n",
       "      <td>13</td>\n",
       "      <td>18</td>\n",
       "      <td>47</td>\n",
       "    </tr>\n",
       "    <tr>\n",
       "      <th>3</th>\n",
       "      <td>36</td>\n",
       "      <td>65</td>\n",
       "      <td>38</td>\n",
       "      <td>84</td>\n",
       "    </tr>\n",
       "  </tbody>\n",
       "</table>\n",
       "</div>"
      ],
      "text/plain": [
       "   q1  q2  q3  q4\n",
       "0  23  42  16   8\n",
       "1  12  58  44  16\n",
       "2  54  13  18  47\n",
       "3  36  65  38  84"
      ]
     },
     "execution_count": 95,
     "metadata": {},
     "output_type": "execute_result"
    }
   ],
   "source": [
    "df_merged = pd.concat([df1, df2],axis=1) ## axis = 1 column wise concatination\n",
    "df_merged"
   ]
  },
  {
   "cell_type": "markdown",
   "id": "6942f252",
   "metadata": {},
   "source": [
    "## Inner Merge "
   ]
  },
  {
   "cell_type": "code",
   "execution_count": 96,
   "id": "7e14eafd",
   "metadata": {},
   "outputs": [],
   "source": [
    "Groups_1 = {'Gr_SN': [1, 2, 3, 4], 'Group_Name': ['X','Lions','Y','ABC']}\n",
    "Groups_2 = {'Gr_ID': [12, 1, 3, 15], 'Group_Name': ['Lions', 'Dev', 'Y', 'ZZZ']}"
   ]
  },
  {
   "cell_type": "code",
   "execution_count": 97,
   "id": "0027a1b9",
   "metadata": {},
   "outputs": [],
   "source": [
    "df1 = pd.DataFrame(Groups_1)\n",
    "df2 = pd.DataFrame(Groups_2)\n"
   ]
  },
  {
   "cell_type": "code",
   "execution_count": 98,
   "id": "223facbe",
   "metadata": {},
   "outputs": [
    {
     "data": {
      "application/vnd.microsoft.datawrangler.viewer.v0+json": {
       "columns": [
        {
         "name": "index",
         "rawType": "int64",
         "type": "integer"
        },
        {
         "name": "Gr_SN",
         "rawType": "int64",
         "type": "integer"
        },
        {
         "name": "Group_Name",
         "rawType": "object",
         "type": "string"
        }
       ],
       "ref": "362a3fa8-2b15-4978-937c-64bc0d12645d",
       "rows": [
        [
         "0",
         "1",
         "X"
        ],
        [
         "1",
         "2",
         "Lions"
        ],
        [
         "2",
         "3",
         "Y"
        ],
        [
         "3",
         "4",
         "ABC"
        ]
       ],
       "shape": {
        "columns": 2,
        "rows": 4
       }
      },
      "text/html": [
       "<div>\n",
       "<style scoped>\n",
       "    .dataframe tbody tr th:only-of-type {\n",
       "        vertical-align: middle;\n",
       "    }\n",
       "\n",
       "    .dataframe tbody tr th {\n",
       "        vertical-align: top;\n",
       "    }\n",
       "\n",
       "    .dataframe thead th {\n",
       "        text-align: right;\n",
       "    }\n",
       "</style>\n",
       "<table border=\"1\" class=\"dataframe\">\n",
       "  <thead>\n",
       "    <tr style=\"text-align: right;\">\n",
       "      <th></th>\n",
       "      <th>Gr_SN</th>\n",
       "      <th>Group_Name</th>\n",
       "    </tr>\n",
       "  </thead>\n",
       "  <tbody>\n",
       "    <tr>\n",
       "      <th>0</th>\n",
       "      <td>1</td>\n",
       "      <td>X</td>\n",
       "    </tr>\n",
       "    <tr>\n",
       "      <th>1</th>\n",
       "      <td>2</td>\n",
       "      <td>Lions</td>\n",
       "    </tr>\n",
       "    <tr>\n",
       "      <th>2</th>\n",
       "      <td>3</td>\n",
       "      <td>Y</td>\n",
       "    </tr>\n",
       "    <tr>\n",
       "      <th>3</th>\n",
       "      <td>4</td>\n",
       "      <td>ABC</td>\n",
       "    </tr>\n",
       "  </tbody>\n",
       "</table>\n",
       "</div>"
      ],
      "text/plain": [
       "   Gr_SN Group_Name\n",
       "0      1          X\n",
       "1      2      Lions\n",
       "2      3          Y\n",
       "3      4        ABC"
      ]
     },
     "execution_count": 98,
     "metadata": {},
     "output_type": "execute_result"
    }
   ],
   "source": [
    "df1"
   ]
  },
  {
   "cell_type": "code",
   "execution_count": 99,
   "id": "c4384440",
   "metadata": {},
   "outputs": [
    {
     "data": {
      "application/vnd.microsoft.datawrangler.viewer.v0+json": {
       "columns": [
        {
         "name": "index",
         "rawType": "int64",
         "type": "integer"
        },
        {
         "name": "Gr_ID",
         "rawType": "int64",
         "type": "integer"
        },
        {
         "name": "Group_Name",
         "rawType": "object",
         "type": "string"
        }
       ],
       "ref": "30c5cc75-30d7-4e0a-9ef0-47e9c3ab1268",
       "rows": [
        [
         "0",
         "12",
         "Lions"
        ],
        [
         "1",
         "1",
         "Dev"
        ],
        [
         "2",
         "3",
         "Y"
        ],
        [
         "3",
         "15",
         "ZZZ"
        ]
       ],
       "shape": {
        "columns": 2,
        "rows": 4
       }
      },
      "text/html": [
       "<div>\n",
       "<style scoped>\n",
       "    .dataframe tbody tr th:only-of-type {\n",
       "        vertical-align: middle;\n",
       "    }\n",
       "\n",
       "    .dataframe tbody tr th {\n",
       "        vertical-align: top;\n",
       "    }\n",
       "\n",
       "    .dataframe thead th {\n",
       "        text-align: right;\n",
       "    }\n",
       "</style>\n",
       "<table border=\"1\" class=\"dataframe\">\n",
       "  <thead>\n",
       "    <tr style=\"text-align: right;\">\n",
       "      <th></th>\n",
       "      <th>Gr_ID</th>\n",
       "      <th>Group_Name</th>\n",
       "    </tr>\n",
       "  </thead>\n",
       "  <tbody>\n",
       "    <tr>\n",
       "      <th>0</th>\n",
       "      <td>12</td>\n",
       "      <td>Lions</td>\n",
       "    </tr>\n",
       "    <tr>\n",
       "      <th>1</th>\n",
       "      <td>1</td>\n",
       "      <td>Dev</td>\n",
       "    </tr>\n",
       "    <tr>\n",
       "      <th>2</th>\n",
       "      <td>3</td>\n",
       "      <td>Y</td>\n",
       "    </tr>\n",
       "    <tr>\n",
       "      <th>3</th>\n",
       "      <td>15</td>\n",
       "      <td>ZZZ</td>\n",
       "    </tr>\n",
       "  </tbody>\n",
       "</table>\n",
       "</div>"
      ],
      "text/plain": [
       "   Gr_ID Group_Name\n",
       "0     12      Lions\n",
       "1      1        Dev\n",
       "2      3          Y\n",
       "3     15        ZZZ"
      ]
     },
     "execution_count": 99,
     "metadata": {},
     "output_type": "execute_result"
    }
   ],
   "source": [
    "df2"
   ]
  },
  {
   "cell_type": "code",
   "execution_count": 100,
   "id": "3cddd8f4",
   "metadata": {},
   "outputs": [
    {
     "data": {
      "application/vnd.microsoft.datawrangler.viewer.v0+json": {
       "columns": [
        {
         "name": "index",
         "rawType": "int64",
         "type": "integer"
        },
        {
         "name": "Gr_SN",
         "rawType": "int64",
         "type": "integer"
        },
        {
         "name": "Group_Name",
         "rawType": "object",
         "type": "string"
        },
        {
         "name": "Gr_ID",
         "rawType": "int64",
         "type": "integer"
        }
       ],
       "ref": "fb23ad16-bb7b-45d4-96dd-4eafae1bac69",
       "rows": [
        [
         "0",
         "2",
         "Lions",
         "12"
        ],
        [
         "1",
         "3",
         "Y",
         "3"
        ]
       ],
       "shape": {
        "columns": 3,
        "rows": 2
       }
      },
      "text/html": [
       "<div>\n",
       "<style scoped>\n",
       "    .dataframe tbody tr th:only-of-type {\n",
       "        vertical-align: middle;\n",
       "    }\n",
       "\n",
       "    .dataframe tbody tr th {\n",
       "        vertical-align: top;\n",
       "    }\n",
       "\n",
       "    .dataframe thead th {\n",
       "        text-align: right;\n",
       "    }\n",
       "</style>\n",
       "<table border=\"1\" class=\"dataframe\">\n",
       "  <thead>\n",
       "    <tr style=\"text-align: right;\">\n",
       "      <th></th>\n",
       "      <th>Gr_SN</th>\n",
       "      <th>Group_Name</th>\n",
       "      <th>Gr_ID</th>\n",
       "    </tr>\n",
       "  </thead>\n",
       "  <tbody>\n",
       "    <tr>\n",
       "      <th>0</th>\n",
       "      <td>2</td>\n",
       "      <td>Lions</td>\n",
       "      <td>12</td>\n",
       "    </tr>\n",
       "    <tr>\n",
       "      <th>1</th>\n",
       "      <td>3</td>\n",
       "      <td>Y</td>\n",
       "      <td>3</td>\n",
       "    </tr>\n",
       "  </tbody>\n",
       "</table>\n",
       "</div>"
      ],
      "text/plain": [
       "   Gr_SN Group_Name  Gr_ID\n",
       "0      2      Lions     12\n",
       "1      3          Y      3"
      ]
     },
     "execution_count": 100,
     "metadata": {},
     "output_type": "execute_result"
    }
   ],
   "source": [
    "## join in SQL = Merge in pandas \n",
    "merged_inner  = pd.merge(df1,df2, how='inner',on='Group_Name')\n",
    "merged_inner"
   ]
  },
  {
   "cell_type": "code",
   "execution_count": 101,
   "id": "171531bf",
   "metadata": {},
   "outputs": [
    {
     "data": {
      "application/vnd.microsoft.datawrangler.viewer.v0+json": {
       "columns": [
        {
         "name": "index",
         "rawType": "int64",
         "type": "integer"
        },
        {
         "name": "Gr_SN",
         "rawType": "int64",
         "type": "integer"
        },
        {
         "name": "Group_Name",
         "rawType": "object",
         "type": "string"
        },
        {
         "name": "Gr_ID",
         "rawType": "float64",
         "type": "float"
        }
       ],
       "ref": "b9f53f45-bfe8-414a-90f1-7866d8d86177",
       "rows": [
        [
         "0",
         "1",
         "X",
         null
        ],
        [
         "1",
         "2",
         "Lions",
         "12.0"
        ],
        [
         "2",
         "3",
         "Y",
         "3.0"
        ],
        [
         "3",
         "4",
         "ABC",
         null
        ]
       ],
       "shape": {
        "columns": 3,
        "rows": 4
       }
      },
      "text/html": [
       "<div>\n",
       "<style scoped>\n",
       "    .dataframe tbody tr th:only-of-type {\n",
       "        vertical-align: middle;\n",
       "    }\n",
       "\n",
       "    .dataframe tbody tr th {\n",
       "        vertical-align: top;\n",
       "    }\n",
       "\n",
       "    .dataframe thead th {\n",
       "        text-align: right;\n",
       "    }\n",
       "</style>\n",
       "<table border=\"1\" class=\"dataframe\">\n",
       "  <thead>\n",
       "    <tr style=\"text-align: right;\">\n",
       "      <th></th>\n",
       "      <th>Gr_SN</th>\n",
       "      <th>Group_Name</th>\n",
       "      <th>Gr_ID</th>\n",
       "    </tr>\n",
       "  </thead>\n",
       "  <tbody>\n",
       "    <tr>\n",
       "      <th>0</th>\n",
       "      <td>1</td>\n",
       "      <td>X</td>\n",
       "      <td>NaN</td>\n",
       "    </tr>\n",
       "    <tr>\n",
       "      <th>1</th>\n",
       "      <td>2</td>\n",
       "      <td>Lions</td>\n",
       "      <td>12.0</td>\n",
       "    </tr>\n",
       "    <tr>\n",
       "      <th>2</th>\n",
       "      <td>3</td>\n",
       "      <td>Y</td>\n",
       "      <td>3.0</td>\n",
       "    </tr>\n",
       "    <tr>\n",
       "      <th>3</th>\n",
       "      <td>4</td>\n",
       "      <td>ABC</td>\n",
       "      <td>NaN</td>\n",
       "    </tr>\n",
       "  </tbody>\n",
       "</table>\n",
       "</div>"
      ],
      "text/plain": [
       "   Gr_SN Group_Name  Gr_ID\n",
       "0      1          X    NaN\n",
       "1      2      Lions   12.0\n",
       "2      3          Y    3.0\n",
       "3      4        ABC    NaN"
      ]
     },
     "execution_count": 101,
     "metadata": {},
     "output_type": "execute_result"
    }
   ],
   "source": [
    "merged_left  = pd.merge(df1,df2, how='left',on='Group_Name')\n",
    "merged_left"
   ]
  },
  {
   "cell_type": "code",
   "execution_count": 102,
   "id": "dff4889b",
   "metadata": {},
   "outputs": [
    {
     "data": {
      "text/plain": [
       "['sample', 'gmail.com']"
      ]
     },
     "execution_count": 102,
     "metadata": {},
     "output_type": "execute_result"
    }
   ],
   "source": [
    "## pandas built-in string methods\n",
    "my_email = 'sample@gmail.com'\n",
    "x = my_email.split(\"@\")\n",
    "x"
   ]
  },
  {
   "cell_type": "code",
   "execution_count": 103,
   "id": "b95875dd",
   "metadata": {},
   "outputs": [
    {
     "data": {
      "application/vnd.microsoft.datawrangler.viewer.v0+json": {
       "columns": [
        {
         "name": "index",
         "rawType": "int64",
         "type": "integer"
        },
        {
         "name": "0",
         "rawType": "object",
         "type": "string"
        }
       ],
       "ref": "f6d5066d-51e9-4a53-9fd7-02a1334cb1f6",
       "rows": [
        [
         "0",
         "numpy"
        ],
        [
         "1",
         "pandas"
        ],
        [
         "2",
         "scipy"
        ],
        [
         "3",
         "seaborn"
        ],
        [
         "4",
         "234"
        ]
       ],
       "shape": {
        "columns": 1,
        "rows": 5
       }
      },
      "text/plain": [
       "0      numpy\n",
       "1     pandas\n",
       "2      scipy\n",
       "3    seaborn\n",
       "4        234\n",
       "dtype: object"
      ]
     },
     "execution_count": 103,
     "metadata": {},
     "output_type": "execute_result"
    }
   ],
   "source": [
    "libraries  = pd.Series(['numpy','pandas','scipy','seaborn','234'])\n",
    "libraries"
   ]
  },
  {
   "cell_type": "code",
   "execution_count": 104,
   "id": "59182cf4",
   "metadata": {},
   "outputs": [
    {
     "data": {
      "application/vnd.microsoft.datawrangler.viewer.v0+json": {
       "columns": [
        {
         "name": "index",
         "rawType": "int64",
         "type": "integer"
        },
        {
         "name": "0",
         "rawType": "object",
         "type": "string"
        }
       ],
       "ref": "ea228b66-670e-48b2-b803-cc7406c63883",
       "rows": [
        [
         "0",
         "Numpy"
        ],
        [
         "1",
         "Pandas"
        ],
        [
         "2",
         "Scipy"
        ],
        [
         "3",
         "Seaborn"
        ],
        [
         "4",
         "234"
        ]
       ],
       "shape": {
        "columns": 1,
        "rows": 5
       }
      },
      "text/plain": [
       "0      Numpy\n",
       "1     Pandas\n",
       "2      Scipy\n",
       "3    Seaborn\n",
       "4        234\n",
       "dtype: object"
      ]
     },
     "execution_count": 104,
     "metadata": {},
     "output_type": "execute_result"
    }
   ],
   "source": [
    "libraries.str.capitalize()"
   ]
  },
  {
   "cell_type": "code",
   "execution_count": 105,
   "id": "95756898",
   "metadata": {},
   "outputs": [
    {
     "data": {
      "application/vnd.microsoft.datawrangler.viewer.v0+json": {
       "columns": [
        {
         "name": "index",
         "rawType": "int64",
         "type": "integer"
        },
        {
         "name": "0",
         "rawType": "object",
         "type": "string"
        }
       ],
       "ref": "03684be0-ba81-4e4d-a72f-f555db4e01a9",
       "rows": [
        [
         "0",
         "NUMPY"
        ],
        [
         "1",
         "PANDAS"
        ],
        [
         "2",
         "SCIPY"
        ],
        [
         "3",
         "SEABORN"
        ],
        [
         "4",
         "234"
        ]
       ],
       "shape": {
        "columns": 1,
        "rows": 5
       }
      },
      "text/plain": [
       "0      NUMPY\n",
       "1     PANDAS\n",
       "2      SCIPY\n",
       "3    SEABORN\n",
       "4        234\n",
       "dtype: object"
      ]
     },
     "execution_count": 105,
     "metadata": {},
     "output_type": "execute_result"
    }
   ],
   "source": [
    "libraries.str.upper()"
   ]
  },
  {
   "cell_type": "code",
   "execution_count": 106,
   "id": "03aaf502",
   "metadata": {},
   "outputs": [
    {
     "data": {
      "application/vnd.microsoft.datawrangler.viewer.v0+json": {
       "columns": [
        {
         "name": "index",
         "rawType": "int64",
         "type": "integer"
        },
        {
         "name": "0",
         "rawType": "bool",
         "type": "boolean"
        }
       ],
       "ref": "d7ba466d-b66e-4579-b468-7707857b31c3",
       "rows": [
        [
         "0",
         "False"
        ],
        [
         "1",
         "False"
        ],
        [
         "2",
         "False"
        ],
        [
         "3",
         "False"
        ],
        [
         "4",
         "True"
        ]
       ],
       "shape": {
        "columns": 1,
        "rows": 5
       }
      },
      "text/plain": [
       "0    False\n",
       "1    False\n",
       "2    False\n",
       "3    False\n",
       "4     True\n",
       "dtype: bool"
      ]
     },
     "execution_count": 106,
     "metadata": {},
     "output_type": "execute_result"
    }
   ],
   "source": [
    "libraries.str.isdigit()"
   ]
  },
  {
   "cell_type": "code",
   "execution_count": 107,
   "id": "615a3276",
   "metadata": {},
   "outputs": [
    {
     "data": {
      "application/vnd.microsoft.datawrangler.viewer.v0+json": {
       "columns": [
        {
         "name": "index",
         "rawType": "int64",
         "type": "integer"
        },
        {
         "name": "0",
         "rawType": "object",
         "type": "string"
        }
       ],
       "ref": "d5b1c693-6d20-4505-9c96-0dfbd54eb348",
       "rows": [
        [
         "0",
         "nump,pandas,scipy"
        ],
        [
         "1",
         "seaborn,seaborn,matplotlib"
        ]
       ],
       "shape": {
        "columns": 1,
        "rows": 2
       }
      },
      "text/plain": [
       "0             nump,pandas,scipy\n",
       "1    seaborn,seaborn,matplotlib\n",
       "dtype: object"
      ]
     },
     "execution_count": 107,
     "metadata": {},
     "output_type": "execute_result"
    }
   ],
   "source": [
    "libraries_2  = pd.Series(['nump,pandas,scipy','seaborn,seaborn,matplotlib'])\n",
    "libraries_2"
   ]
  },
  {
   "cell_type": "code",
   "execution_count": 108,
   "id": "892cd536",
   "metadata": {},
   "outputs": [
    {
     "data": {
      "application/vnd.microsoft.datawrangler.viewer.v0+json": {
       "columns": [
        {
         "name": "index",
         "rawType": "int64",
         "type": "integer"
        },
        {
         "name": "0",
         "rawType": "object",
         "type": "unknown"
        }
       ],
       "ref": "e7e77f73-6fc8-4b2f-a472-b2fd80061c48",
       "rows": [
        [
         "0",
         "['nump', 'pandas', 'scipy']"
        ],
        [
         "1",
         "['seaborn', 'seaborn', 'matplotlib']"
        ]
       ],
       "shape": {
        "columns": 1,
        "rows": 2
       }
      },
      "text/plain": [
       "0             [nump, pandas, scipy]\n",
       "1    [seaborn, seaborn, matplotlib]\n",
       "dtype: object"
      ]
     },
     "execution_count": 108,
     "metadata": {},
     "output_type": "execute_result"
    }
   ],
   "source": [
    "libraries_2.str.split(',')"
   ]
  },
  {
   "cell_type": "code",
   "execution_count": 109,
   "id": "62ab438c",
   "metadata": {},
   "outputs": [
    {
     "data": {
      "application/vnd.microsoft.datawrangler.viewer.v0+json": {
       "columns": [
        {
         "name": "index",
         "rawType": "int64",
         "type": "integer"
        },
        {
         "name": "0",
         "rawType": "object",
         "type": "string"
        }
       ],
       "ref": "56dc8f91-e18f-4ff2-8188-df69ab5097ce",
       "rows": [
        [
         "0",
         "nump"
        ],
        [
         "1",
         "seaborn"
        ]
       ],
       "shape": {
        "columns": 1,
        "rows": 2
       }
      },
      "text/plain": [
       "0       nump\n",
       "1    seaborn\n",
       "dtype: object"
      ]
     },
     "execution_count": 109,
     "metadata": {},
     "output_type": "execute_result"
    }
   ],
   "source": [
    "libraries_2.str.split(',').str[0]"
   ]
  },
  {
   "cell_type": "code",
   "execution_count": 110,
   "id": "c37d6864",
   "metadata": {},
   "outputs": [
    {
     "data": {
      "application/vnd.microsoft.datawrangler.viewer.v0+json": {
       "columns": [
        {
         "name": "index",
         "rawType": "int64",
         "type": "integer"
        },
        {
         "name": "0",
         "rawType": "object",
         "type": "string"
        }
       ],
       "ref": "90277ef4-7ccb-429f-b07f-158deadb4c80",
       "rows": [
        [
         "0",
         "nump,pandas,scipy"
        ],
        [
         "1",
         "seaborn,seaborn,matplotlib"
        ]
       ],
       "shape": {
        "columns": 1,
        "rows": 2
       }
      },
      "text/plain": [
       "0             nump,pandas,scipy\n",
       "1    seaborn,seaborn,matplotlib\n",
       "dtype: object"
      ]
     },
     "execution_count": 110,
     "metadata": {},
     "output_type": "execute_result"
    }
   ],
   "source": [
    "libraries_2"
   ]
  },
  {
   "cell_type": "code",
   "execution_count": 111,
   "id": "6ee798bb",
   "metadata": {},
   "outputs": [
    {
     "data": {
      "application/vnd.microsoft.datawrangler.viewer.v0+json": {
       "columns": [
        {
         "name": "index",
         "rawType": "int64",
         "type": "integer"
        },
        {
         "name": "0",
         "rawType": "object",
         "type": "string"
        },
        {
         "name": "1",
         "rawType": "object",
         "type": "string"
        },
        {
         "name": "2",
         "rawType": "object",
         "type": "string"
        }
       ],
       "ref": "076f64a4-a551-4a55-a986-cf29f9d044cb",
       "rows": [
        [
         "0",
         "nump",
         "pandas",
         "scipy"
        ],
        [
         "1",
         "seaborn",
         "seaborn",
         "matplotlib"
        ]
       ],
       "shape": {
        "columns": 3,
        "rows": 2
       }
      },
      "text/html": [
       "<div>\n",
       "<style scoped>\n",
       "    .dataframe tbody tr th:only-of-type {\n",
       "        vertical-align: middle;\n",
       "    }\n",
       "\n",
       "    .dataframe tbody tr th {\n",
       "        vertical-align: top;\n",
       "    }\n",
       "\n",
       "    .dataframe thead th {\n",
       "        text-align: right;\n",
       "    }\n",
       "</style>\n",
       "<table border=\"1\" class=\"dataframe\">\n",
       "  <thead>\n",
       "    <tr style=\"text-align: right;\">\n",
       "      <th></th>\n",
       "      <th>0</th>\n",
       "      <th>1</th>\n",
       "      <th>2</th>\n",
       "    </tr>\n",
       "  </thead>\n",
       "  <tbody>\n",
       "    <tr>\n",
       "      <th>0</th>\n",
       "      <td>nump</td>\n",
       "      <td>pandas</td>\n",
       "      <td>scipy</td>\n",
       "    </tr>\n",
       "    <tr>\n",
       "      <th>1</th>\n",
       "      <td>seaborn</td>\n",
       "      <td>seaborn</td>\n",
       "      <td>matplotlib</td>\n",
       "    </tr>\n",
       "  </tbody>\n",
       "</table>\n",
       "</div>"
      ],
      "text/plain": [
       "         0        1           2\n",
       "0     nump   pandas       scipy\n",
       "1  seaborn  seaborn  matplotlib"
      ]
     },
     "execution_count": 111,
     "metadata": {},
     "output_type": "execute_result"
    }
   ],
   "source": [
    "libraries_2.str.split(',',expand=True)"
   ]
  },
  {
   "cell_type": "code",
   "execution_count": 112,
   "id": "a84b01e3",
   "metadata": {},
   "outputs": [],
   "source": [
    "lb_3 = pd.Series(['numpy      ','     pandas     ','sea;born'])"
   ]
  },
  {
   "cell_type": "code",
   "execution_count": 113,
   "id": "eb4fdd55",
   "metadata": {},
   "outputs": [
    {
     "data": {
      "application/vnd.microsoft.datawrangler.viewer.v0+json": {
       "columns": [
        {
         "name": "index",
         "rawType": "int64",
         "type": "integer"
        },
        {
         "name": "0",
         "rawType": "object",
         "type": "string"
        }
       ],
       "ref": "ea9435b7-286b-4386-b80f-cee9c28be4e1",
       "rows": [
        [
         "0",
         "NUMPY"
        ],
        [
         "1",
         "PANDAS"
        ],
        [
         "2",
         "SEABORN"
        ]
       ],
       "shape": {
        "columns": 1,
        "rows": 3
       }
      },
      "text/plain": [
       "0      NUMPY\n",
       "1     PANDAS\n",
       "2    SEABORN\n",
       "dtype: object"
      ]
     },
     "execution_count": 113,
     "metadata": {},
     "output_type": "execute_result"
    }
   ],
   "source": [
    "lb_3.str.strip().str.replace(';',\"\").str.upper()"
   ]
  },
  {
   "cell_type": "code",
   "execution_count": 114,
   "id": "e8042436",
   "metadata": {},
   "outputs": [
    {
     "name": "stdout",
     "output_type": "stream",
     "text": [
      "numpy      \n",
      "     pandas     \n",
      "sea;born\n"
     ]
    },
    {
     "data": {
      "application/vnd.microsoft.datawrangler.viewer.v0+json": {
       "columns": [
        {
         "name": "index",
         "rawType": "int64",
         "type": "integer"
        },
        {
         "name": "0",
         "rawType": "object",
         "type": "string"
        }
       ],
       "ref": "d80ce1ec-fe36-49af-8a3f-3deaef251144",
       "rows": [
        [
         "0",
         "NUMPY"
        ],
        [
         "1",
         "PANDAS"
        ],
        [
         "2",
         "SEABORN"
        ]
       ],
       "shape": {
        "columns": 1,
        "rows": 3
       }
      },
      "text/plain": [
       "0      NUMPY\n",
       "1     PANDAS\n",
       "2    SEABORN\n",
       "dtype: object"
      ]
     },
     "execution_count": 114,
     "metadata": {},
     "output_type": "execute_result"
    }
   ],
   "source": [
    "def fix_ser(ser):\n",
    "    print(ser)\n",
    "    ser = ser.strip()\n",
    "    ser = ser.replace(\";\",\"\")\n",
    "    ser = ser.upper()\n",
    "    return ser\n",
    "lb_3.apply(fix_ser)"
   ]
  },
  {
   "cell_type": "code",
   "execution_count": 115,
   "id": "dfaabd3b",
   "metadata": {},
   "outputs": [
    {
     "data": {
      "application/vnd.microsoft.datawrangler.viewer.v0+json": {
       "columns": [
        {
         "name": "index",
         "rawType": "int64",
         "type": "integer"
        },
        {
         "name": "Series_Title",
         "rawType": "object",
         "type": "string"
        },
        {
         "name": "Released_Year",
         "rawType": "object",
         "type": "string"
        },
        {
         "name": "Certificate",
         "rawType": "object",
         "type": "string"
        },
        {
         "name": "Runtime",
         "rawType": "object",
         "type": "string"
        },
        {
         "name": "Runtime2",
         "rawType": "int64",
         "type": "integer"
        },
        {
         "name": "Genre",
         "rawType": "object",
         "type": "string"
        },
        {
         "name": "IMDB_Rating",
         "rawType": "float64",
         "type": "float"
        },
        {
         "name": "No_of_Votes",
         "rawType": "int64",
         "type": "integer"
        },
        {
         "name": "Gross",
         "rawType": "int64",
         "type": "integer"
        }
       ],
       "ref": "808eb2de-5ea5-4f23-a404-196b0d68f7e6",
       "rows": [
        [
         "0",
         "Oldeuboi",
         "2003",
         "A",
         "101 min",
         "101",
         "Action",
         "8.4",
         "515451",
         "707481"
        ],
        [
         "1",
         "Serbuan maut",
         "2011",
         "A",
         "101 min",
         "101",
         "Action",
         "7.6",
         "190531",
         "4105123"
        ],
        [
         "2",
         "Enter the Dragon",
         "1973",
         "A",
         "102 min",
         "102",
         "Action",
         "7.7",
         "96561",
         "25000000"
        ],
        [
         "3",
         "Dirty Harry",
         "1971",
         "A",
         "102 min",
         "102",
         "Action",
         "7.7",
         "143292",
         "35900000"
        ],
        [
         "4",
         "The French Connection",
         "1971",
         "A",
         "104 min",
         "104",
         "Action",
         "7.7",
         "110075",
         "15630710"
        ],
        [
         "5",
         "Lock, Stock and Two Smoking Barrels",
         "1998",
         "A",
         "107 min",
         "107",
         "Action",
         "8.2",
         "535216",
         "3897569"
        ],
        [
         "6",
         "Predator",
         "1987",
         "A",
         "107 min",
         "107",
         "Action",
         "7.8",
         "371387",
         "59735548"
        ],
        [
         "7",
         "The Bourne Supremacy",
         "2004",
         "A",
         "108 min",
         "108",
         "Action",
         "7.7",
         "434841",
         "176241941"
        ],
        [
         "8",
         "End of Watch",
         "2012",
         "A",
         "109 min",
         "109",
         "Action",
         "7.6",
         "228132",
         "41003371"
        ],
        [
         "9",
         "Lethal Weapon",
         "1987",
         "A",
         "109 min",
         "109",
         "Action",
         "7.6",
         "236894",
         "65207127"
        ],
        [
         "10",
         "Léon",
         "1994",
         "A",
         "110 min",
         "110",
         "Action",
         "8.5",
         "1035236",
         "19501238"
        ],
        [
         "11",
         "Yôjinbô",
         "1961",
         "A",
         "110 min",
         "110",
         "Action",
         "8.2",
         "111244",
         "12100200"
        ],
        [
         "12",
         "Gongdong gyeongbi guyeok JSA",
         "2000",
         "A",
         "110 min",
         "110",
         "Action",
         "7.8",
         "26518",
         "181855"
        ],
        [
         "13",
         "Goldfinger",
         "1964",
         "A",
         "110 min",
         "110",
         "Action",
         "7.7",
         "174119",
         "51081062"
        ],
        [
         "14",
         "Bonnie and Clyde",
         "1967",
         "A",
         "111 min",
         "111",
         "Action",
         "7.8",
         "102415",
         "17550941"
        ],
        [
         "15",
         "District 9",
         "2009",
         "A",
         "112 min",
         "112",
         "Action",
         "7.9",
         "638202",
         "115646235"
        ],
        [
         "16",
         "Escape from Alcatraz",
         "1979",
         "A",
         "112 min",
         "112",
         "Action",
         "7.6",
         "121731",
         "43000000"
        ],
        [
         "17",
         "The Gentlemen",
         "2019",
         "A",
         "113 min",
         "113",
         "Action",
         "7.8",
         "237392",
         "2537920"
        ],
        [
         "18",
         "White Heat",
         "1949",
         "A",
         "114 min",
         "114",
         "Action",
         "8.1",
         "29807",
         "44908400"
        ],
        [
         "19",
         "Raiders of the Lost Ark",
         "1981",
         "A",
         "115 min",
         "115",
         "Action",
         "8.4",
         "884112",
         "248159971"
        ],
        [
         "20",
         "300",
         "2006",
         "A",
         "117 min",
         "117",
         "Action",
         "7.6",
         "732876",
         "210614939"
        ],
        [
         "21",
         "Sicario",
         "2015",
         "A",
         "121 min",
         "121",
         "Action",
         "7.6",
         "371291",
         "46889293"
        ],
        [
         "22",
         "3:10 to Yuma",
         "2007",
         "A",
         "122 min",
         "122",
         "Action",
         "7.7",
         "288797",
         "53606916"
        ],
        [
         "23",
         "Dawn of the Dead",
         "1978",
         "A",
         "127 min",
         "127",
         "Action",
         "7.9",
         "111512",
         "5100000"
        ],
        [
         "24",
         "Nefes: Vatan Sagolsun",
         "2009",
         "A",
         "128 min",
         "128",
         "Action",
         "8.0",
         "31838",
         "107062"
        ],
        [
         "25",
         "Die Hard: With a Vengeance",
         "1995",
         "A",
         "128 min",
         "128",
         "Action",
         "7.6",
         "364420",
         "100012499"
        ],
        [
         "26",
         "Kingsman: The Secret Service",
         "2014",
         "A",
         "129 min",
         "129",
         "Action",
         "7.7",
         "590440",
         "128261724"
        ],
        [
         "27",
         "V for Vendetta",
         "2005",
         "A",
         "132 min",
         "132",
         "Action",
         "8.2",
         "1032749",
         "70511035"
        ],
        [
         "28",
         "Die Hard",
         "1988",
         "A",
         "132 min",
         "132",
         "Action",
         "8.2",
         "793164",
         "83008852"
        ],
        [
         "29",
         "Seppuku",
         "1962",
         "A",
         "133 min",
         "133",
         "Action",
         "8.6",
         "42004",
         "130743122"
        ],
        [
         "30",
         "The Matrix",
         "1999",
         "A",
         "136 min",
         "136",
         "Action",
         "8.7",
         "1676426",
         "171479930"
        ],
        [
         "31",
         "Logan",
         "2017",
         "A",
         "137 min",
         "137",
         "Action",
         "8.1",
         "647884",
         "226277068"
        ],
        [
         "32",
         "Kill Bill: Vol. 2",
         "2004",
         "A",
         "137 min",
         "137",
         "Action",
         "8.0",
         "683900",
         "66208183"
        ],
        [
         "33",
         "Apocalypto",
         "2006",
         "A",
         "139 min",
         "139",
         "Action",
         "7.8",
         "291018",
         "50866635"
        ],
        [
         "34",
         "Ang-ma-reul bo-at-da",
         "2010",
         "A",
         "144 min",
         "144",
         "Action",
         "7.8",
         "111252",
         "128392"
        ],
        [
         "35",
         "The Wild Bunch",
         "1969",
         "A",
         "145 min",
         "145",
         "Action",
         "7.9",
         "77401",
         "12064472"
        ],
        [
         "36",
         "Minority Report",
         "2002",
         "A",
         "145 min",
         "145",
         "Action",
         "7.6",
         "508417",
         "132072926"
        ],
        [
         "37",
         "Udta Punjab",
         "2016",
         "A",
         "148 min",
         "148",
         "Action",
         "7.8",
         "27175",
         "169607487"
        ],
        [
         "38",
         "Serbuan maut 2: Berandal",
         "2014",
         "A",
         "150 min",
         "150",
         "Action",
         "8.0",
         "114316",
         "2625803"
        ],
        [
         "39",
         "The Revenant",
         "2015",
         "A",
         "156 min",
         "156",
         "Action",
         "8.0",
         "705589",
         "183637894"
        ],
        [
         "40",
         "Watchmen",
         "2009",
         "A",
         "162 min",
         "162",
         "Action",
         "7.6",
         "500799",
         "107509799"
        ],
        [
         "41",
         "Gangs of Wasseypur",
         "2012",
         "A",
         "321 min",
         "321",
         "Action",
         "8.2",
         "82365",
         "144701"
        ],
        [
         "42",
         "Evil Dead II",
         "1987",
         "A",
         "84 min",
         "84",
         "Action",
         "7.8",
         "148359",
         "5923044"
        ],
        [
         "43",
         "Knockin' on Heaven's Door",
         "1997",
         "A",
         "87 min",
         "87",
         "Action",
         "8.0",
         "27721",
         "3296"
        ],
        [
         "44",
         "Taken",
         "2008",
         "A",
         "90 min",
         "90",
         "Action",
         "7.8",
         "564791",
         "145000989"
        ],
        [
         "45",
         "First Blood",
         "1982",
         "A",
         "93 min",
         "93",
         "Action",
         "7.7",
         "226541",
         "47212904"
        ],
        [
         "46",
         "Aguirre, der Zorn Gottes",
         "1972",
         "A",
         "95 min",
         "95",
         "Action",
         "7.9",
         "52397",
         "70600400"
        ],
        [
         "47",
         "Mad Max 2",
         "1981",
         "A",
         "96 min",
         "96",
         "Action",
         "7.6",
         "166588",
         "12465371"
        ],
        [
         "48",
         "Per un pugno di dollari",
         "1964",
         "A",
         "99 min",
         "99",
         "Action",
         "8.0",
         "198219",
         "14500000"
        ],
        [
         "49",
         "Red River",
         "1948",
         "Passed",
         "133 min",
         "133",
         "Action",
         "7.8",
         "28167",
         "2616200"
        ]
       ],
       "shape": {
        "columns": 9,
        "rows": 901
       }
      },
      "text/html": [
       "<div>\n",
       "<style scoped>\n",
       "    .dataframe tbody tr th:only-of-type {\n",
       "        vertical-align: middle;\n",
       "    }\n",
       "\n",
       "    .dataframe tbody tr th {\n",
       "        vertical-align: top;\n",
       "    }\n",
       "\n",
       "    .dataframe thead th {\n",
       "        text-align: right;\n",
       "    }\n",
       "</style>\n",
       "<table border=\"1\" class=\"dataframe\">\n",
       "  <thead>\n",
       "    <tr style=\"text-align: right;\">\n",
       "      <th></th>\n",
       "      <th>Series_Title</th>\n",
       "      <th>Released_Year</th>\n",
       "      <th>Certificate</th>\n",
       "      <th>Runtime</th>\n",
       "      <th>Runtime2</th>\n",
       "      <th>Genre</th>\n",
       "      <th>IMDB_Rating</th>\n",
       "      <th>No_of_Votes</th>\n",
       "      <th>Gross</th>\n",
       "    </tr>\n",
       "  </thead>\n",
       "  <tbody>\n",
       "    <tr>\n",
       "      <th>0</th>\n",
       "      <td>Oldeuboi</td>\n",
       "      <td>2003</td>\n",
       "      <td>A</td>\n",
       "      <td>101 min</td>\n",
       "      <td>101</td>\n",
       "      <td>Action</td>\n",
       "      <td>8.4</td>\n",
       "      <td>515451</td>\n",
       "      <td>707481</td>\n",
       "    </tr>\n",
       "    <tr>\n",
       "      <th>1</th>\n",
       "      <td>Serbuan maut</td>\n",
       "      <td>2011</td>\n",
       "      <td>A</td>\n",
       "      <td>101 min</td>\n",
       "      <td>101</td>\n",
       "      <td>Action</td>\n",
       "      <td>7.6</td>\n",
       "      <td>190531</td>\n",
       "      <td>4105123</td>\n",
       "    </tr>\n",
       "    <tr>\n",
       "      <th>2</th>\n",
       "      <td>Enter the Dragon</td>\n",
       "      <td>1973</td>\n",
       "      <td>A</td>\n",
       "      <td>102 min</td>\n",
       "      <td>102</td>\n",
       "      <td>Action</td>\n",
       "      <td>7.7</td>\n",
       "      <td>96561</td>\n",
       "      <td>25000000</td>\n",
       "    </tr>\n",
       "    <tr>\n",
       "      <th>3</th>\n",
       "      <td>Dirty Harry</td>\n",
       "      <td>1971</td>\n",
       "      <td>A</td>\n",
       "      <td>102 min</td>\n",
       "      <td>102</td>\n",
       "      <td>Action</td>\n",
       "      <td>7.7</td>\n",
       "      <td>143292</td>\n",
       "      <td>35900000</td>\n",
       "    </tr>\n",
       "    <tr>\n",
       "      <th>4</th>\n",
       "      <td>The French Connection</td>\n",
       "      <td>1971</td>\n",
       "      <td>A</td>\n",
       "      <td>104 min</td>\n",
       "      <td>104</td>\n",
       "      <td>Action</td>\n",
       "      <td>7.7</td>\n",
       "      <td>110075</td>\n",
       "      <td>15630710</td>\n",
       "    </tr>\n",
       "    <tr>\n",
       "      <th>...</th>\n",
       "      <td>...</td>\n",
       "      <td>...</td>\n",
       "      <td>...</td>\n",
       "      <td>...</td>\n",
       "      <td>...</td>\n",
       "      <td>...</td>\n",
       "      <td>...</td>\n",
       "      <td>...</td>\n",
       "      <td>...</td>\n",
       "    </tr>\n",
       "    <tr>\n",
       "      <th>896</th>\n",
       "      <td>Hiroshima mon amour</td>\n",
       "      <td>1959</td>\n",
       "      <td>UA</td>\n",
       "      <td>90 min</td>\n",
       "      <td>90</td>\n",
       "      <td>Drama</td>\n",
       "      <td>7.9</td>\n",
       "      <td>28421</td>\n",
       "      <td>88300</td>\n",
       "    </tr>\n",
       "    <tr>\n",
       "      <th>897</th>\n",
       "      <td>Gravity</td>\n",
       "      <td>2013</td>\n",
       "      <td>UA</td>\n",
       "      <td>91 min</td>\n",
       "      <td>91</td>\n",
       "      <td>Drama</td>\n",
       "      <td>7.7</td>\n",
       "      <td>769145</td>\n",
       "      <td>274092705</td>\n",
       "    </tr>\n",
       "    <tr>\n",
       "      <th>898</th>\n",
       "      <td>Pink Floyd: The Wall</td>\n",
       "      <td>1982</td>\n",
       "      <td>UA</td>\n",
       "      <td>95 min</td>\n",
       "      <td>95</td>\n",
       "      <td>Drama</td>\n",
       "      <td>8.1</td>\n",
       "      <td>76081</td>\n",
       "      <td>22244207</td>\n",
       "    </tr>\n",
       "    <tr>\n",
       "      <th>899</th>\n",
       "      <td>Ivanovo detstvo</td>\n",
       "      <td>1962</td>\n",
       "      <td>UA</td>\n",
       "      <td>95 min</td>\n",
       "      <td>95</td>\n",
       "      <td>Drama</td>\n",
       "      <td>8.1</td>\n",
       "      <td>31728</td>\n",
       "      <td>102621</td>\n",
       "    </tr>\n",
       "    <tr>\n",
       "      <th>900</th>\n",
       "      <td>Lifeboat</td>\n",
       "      <td>1944</td>\n",
       "      <td>UA</td>\n",
       "      <td>97 min</td>\n",
       "      <td>97</td>\n",
       "      <td>Drama</td>\n",
       "      <td>7.6</td>\n",
       "      <td>26471</td>\n",
       "      <td>13780424</td>\n",
       "    </tr>\n",
       "  </tbody>\n",
       "</table>\n",
       "<p>901 rows × 9 columns</p>\n",
       "</div>"
      ],
      "text/plain": [
       "              Series_Title Released_Year Certificate  Runtime  Runtime2  \\\n",
       "0                 Oldeuboi          2003           A  101 min       101   \n",
       "1             Serbuan maut          2011           A  101 min       101   \n",
       "2         Enter the Dragon          1973           A  102 min       102   \n",
       "3              Dirty Harry          1971           A  102 min       102   \n",
       "4    The French Connection          1971           A  104 min       104   \n",
       "..                     ...           ...         ...      ...       ...   \n",
       "896    Hiroshima mon amour          1959          UA   90 min        90   \n",
       "897                Gravity          2013          UA   91 min        91   \n",
       "898   Pink Floyd: The Wall          1982          UA   95 min        95   \n",
       "899        Ivanovo detstvo          1962          UA   95 min        95   \n",
       "900               Lifeboat          1944          UA   97 min        97   \n",
       "\n",
       "      Genre  IMDB_Rating  No_of_Votes      Gross  \n",
       "0    Action          8.4       515451     707481  \n",
       "1    Action          7.6       190531    4105123  \n",
       "2    Action          7.7        96561   25000000  \n",
       "3    Action          7.7       143292   35900000  \n",
       "4    Action          7.7       110075   15630710  \n",
       "..      ...          ...          ...        ...  \n",
       "896   Drama          7.9        28421      88300  \n",
       "897   Drama          7.7       769145  274092705  \n",
       "898   Drama          8.1        76081   22244207  \n",
       "899   Drama          8.1        31728     102621  \n",
       "900   Drama          7.6        26471   13780424  \n",
       "\n",
       "[901 rows x 9 columns]"
      ]
     },
     "execution_count": 115,
     "metadata": {},
     "output_type": "execute_result"
    }
   ],
   "source": [
    "df = pd.read_csv('imdb_top_1000_New-4.csv')\n",
    "df"
   ]
  },
  {
   "cell_type": "code",
   "execution_count": 116,
   "id": "4ed253ac",
   "metadata": {},
   "outputs": [
    {
     "data": {
      "application/vnd.microsoft.datawrangler.viewer.v0+json": {
       "columns": [
        {
         "name": "index",
         "rawType": "int64",
         "type": "integer"
        },
        {
         "name": "Series_Title",
         "rawType": "object",
         "type": "string"
        },
        {
         "name": "Released_Year",
         "rawType": "object",
         "type": "string"
        },
        {
         "name": "Certificate",
         "rawType": "object",
         "type": "string"
        },
        {
         "name": "Runtime",
         "rawType": "object",
         "type": "string"
        },
        {
         "name": "Runtime2",
         "rawType": "int64",
         "type": "integer"
        },
        {
         "name": "Genre",
         "rawType": "object",
         "type": "string"
        },
        {
         "name": "IMDB_Rating",
         "rawType": "float64",
         "type": "float"
        },
        {
         "name": "No_of_Votes",
         "rawType": "int64",
         "type": "integer"
        },
        {
         "name": "Gross",
         "rawType": "int64",
         "type": "integer"
        }
       ],
       "ref": "fde7acaf-55aa-4d0e-a58e-08e179de6624",
       "rows": [
        [
         "0",
         "Oldeuboi",
         "2003",
         "A",
         "101 min",
         "101",
         "Action",
         "8.4",
         "515451",
         "707481"
        ],
        [
         "1",
         "Serbuan maut",
         "2011",
         "A",
         "101 min",
         "101",
         "Action",
         "7.6",
         "190531",
         "4105123"
        ],
        [
         "2",
         "Enter the Dragon",
         "1973",
         "A",
         "102 min",
         "102",
         "Action",
         "7.7",
         "96561",
         "25000000"
        ],
        [
         "3",
         "Dirty Harry",
         "1971",
         "A",
         "102 min",
         "102",
         "Action",
         "7.7",
         "143292",
         "35900000"
        ],
        [
         "4",
         "The French Connection",
         "1971",
         "A",
         "104 min",
         "104",
         "Action",
         "7.7",
         "110075",
         "15630710"
        ]
       ],
       "shape": {
        "columns": 9,
        "rows": 5
       }
      },
      "text/html": [
       "<div>\n",
       "<style scoped>\n",
       "    .dataframe tbody tr th:only-of-type {\n",
       "        vertical-align: middle;\n",
       "    }\n",
       "\n",
       "    .dataframe tbody tr th {\n",
       "        vertical-align: top;\n",
       "    }\n",
       "\n",
       "    .dataframe thead th {\n",
       "        text-align: right;\n",
       "    }\n",
       "</style>\n",
       "<table border=\"1\" class=\"dataframe\">\n",
       "  <thead>\n",
       "    <tr style=\"text-align: right;\">\n",
       "      <th></th>\n",
       "      <th>Series_Title</th>\n",
       "      <th>Released_Year</th>\n",
       "      <th>Certificate</th>\n",
       "      <th>Runtime</th>\n",
       "      <th>Runtime2</th>\n",
       "      <th>Genre</th>\n",
       "      <th>IMDB_Rating</th>\n",
       "      <th>No_of_Votes</th>\n",
       "      <th>Gross</th>\n",
       "    </tr>\n",
       "  </thead>\n",
       "  <tbody>\n",
       "    <tr>\n",
       "      <th>0</th>\n",
       "      <td>Oldeuboi</td>\n",
       "      <td>2003</td>\n",
       "      <td>A</td>\n",
       "      <td>101 min</td>\n",
       "      <td>101</td>\n",
       "      <td>Action</td>\n",
       "      <td>8.4</td>\n",
       "      <td>515451</td>\n",
       "      <td>707481</td>\n",
       "    </tr>\n",
       "    <tr>\n",
       "      <th>1</th>\n",
       "      <td>Serbuan maut</td>\n",
       "      <td>2011</td>\n",
       "      <td>A</td>\n",
       "      <td>101 min</td>\n",
       "      <td>101</td>\n",
       "      <td>Action</td>\n",
       "      <td>7.6</td>\n",
       "      <td>190531</td>\n",
       "      <td>4105123</td>\n",
       "    </tr>\n",
       "    <tr>\n",
       "      <th>2</th>\n",
       "      <td>Enter the Dragon</td>\n",
       "      <td>1973</td>\n",
       "      <td>A</td>\n",
       "      <td>102 min</td>\n",
       "      <td>102</td>\n",
       "      <td>Action</td>\n",
       "      <td>7.7</td>\n",
       "      <td>96561</td>\n",
       "      <td>25000000</td>\n",
       "    </tr>\n",
       "    <tr>\n",
       "      <th>3</th>\n",
       "      <td>Dirty Harry</td>\n",
       "      <td>1971</td>\n",
       "      <td>A</td>\n",
       "      <td>102 min</td>\n",
       "      <td>102</td>\n",
       "      <td>Action</td>\n",
       "      <td>7.7</td>\n",
       "      <td>143292</td>\n",
       "      <td>35900000</td>\n",
       "    </tr>\n",
       "    <tr>\n",
       "      <th>4</th>\n",
       "      <td>The French Connection</td>\n",
       "      <td>1971</td>\n",
       "      <td>A</td>\n",
       "      <td>104 min</td>\n",
       "      <td>104</td>\n",
       "      <td>Action</td>\n",
       "      <td>7.7</td>\n",
       "      <td>110075</td>\n",
       "      <td>15630710</td>\n",
       "    </tr>\n",
       "  </tbody>\n",
       "</table>\n",
       "</div>"
      ],
      "text/plain": [
       "            Series_Title Released_Year Certificate  Runtime  Runtime2   Genre  \\\n",
       "0               Oldeuboi          2003           A  101 min       101  Action   \n",
       "1           Serbuan maut          2011           A  101 min       101  Action   \n",
       "2       Enter the Dragon          1973           A  102 min       102  Action   \n",
       "3            Dirty Harry          1971           A  102 min       102  Action   \n",
       "4  The French Connection          1971           A  104 min       104  Action   \n",
       "\n",
       "   IMDB_Rating  No_of_Votes     Gross  \n",
       "0          8.4       515451    707481  \n",
       "1          7.6       190531   4105123  \n",
       "2          7.7        96561  25000000  \n",
       "3          7.7       143292  35900000  \n",
       "4          7.7       110075  15630710  "
      ]
     },
     "execution_count": 116,
     "metadata": {},
     "output_type": "execute_result"
    }
   ],
   "source": [
    "df.head(5)"
   ]
  },
  {
   "cell_type": "code",
   "execution_count": 117,
   "id": "c7f9719b",
   "metadata": {},
   "outputs": [
    {
     "name": "stdout",
     "output_type": "stream",
     "text": [
      "<class 'pandas.core.frame.DataFrame'>\n",
      "RangeIndex: 901 entries, 0 to 900\n",
      "Data columns (total 9 columns):\n",
      " #   Column         Non-Null Count  Dtype  \n",
      "---  ------         --------------  -----  \n",
      " 0   Series_Title   901 non-null    object \n",
      " 1   Released_Year  901 non-null    object \n",
      " 2   Certificate    901 non-null    object \n",
      " 3   Runtime        901 non-null    object \n",
      " 4   Runtime2       901 non-null    int64  \n",
      " 5   Genre          901 non-null    object \n",
      " 6   IMDB_Rating    901 non-null    float64\n",
      " 7   No_of_Votes    901 non-null    int64  \n",
      " 8   Gross          901 non-null    int64  \n",
      "dtypes: float64(1), int64(3), object(5)\n",
      "memory usage: 63.5+ KB\n"
     ]
    }
   ],
   "source": [
    "df.info()"
   ]
  },
  {
   "cell_type": "code",
   "execution_count": 118,
   "id": "33a3dcbd",
   "metadata": {},
   "outputs": [
    {
     "data": {
      "application/vnd.microsoft.datawrangler.viewer.v0+json": {
       "columns": [
        {
         "name": "index",
         "rawType": "object",
         "type": "string"
        },
        {
         "name": "Runtime2",
         "rawType": "float64",
         "type": "float"
        },
        {
         "name": "IMDB_Rating",
         "rawType": "float64",
         "type": "float"
        },
        {
         "name": "No_of_Votes",
         "rawType": "float64",
         "type": "float"
        },
        {
         "name": "Gross",
         "rawType": "float64",
         "type": "float"
        }
       ],
       "ref": "f67e3538-bd44-4ae7-b122-b79783e7f65e",
       "rows": [
        [
         "count",
         "901.0",
         "901.0",
         "901.0",
         "901.0"
        ],
        [
         "mean",
         "123.77247502774695",
         "7.948390677025527",
         "285269.78024417313",
         "64635833.7136515"
        ],
        [
         "std",
         "27.88990971222962",
         "0.2772286791354888",
         "335760.78542722197",
         "106496984.94920838"
        ],
        [
         "min",
         "45.0",
         "7.6",
         "25088.0",
         "1305.0"
        ],
        [
         "25%",
         "104.0",
         "7.7",
         "58314.0",
         "2537520.0"
        ],
        [
         "50%",
         "120.0",
         "7.9",
         "143434.0",
         "20186659.0"
        ],
        [
         "75%",
         "137.0",
         "8.1",
         "400049.0",
         "75605492.0"
        ],
        [
         "max",
         "321.0",
         "9.3",
         "2343110.0",
         "936662225.0"
        ]
       ],
       "shape": {
        "columns": 4,
        "rows": 8
       }
      },
      "text/html": [
       "<div>\n",
       "<style scoped>\n",
       "    .dataframe tbody tr th:only-of-type {\n",
       "        vertical-align: middle;\n",
       "    }\n",
       "\n",
       "    .dataframe tbody tr th {\n",
       "        vertical-align: top;\n",
       "    }\n",
       "\n",
       "    .dataframe thead th {\n",
       "        text-align: right;\n",
       "    }\n",
       "</style>\n",
       "<table border=\"1\" class=\"dataframe\">\n",
       "  <thead>\n",
       "    <tr style=\"text-align: right;\">\n",
       "      <th></th>\n",
       "      <th>Runtime2</th>\n",
       "      <th>IMDB_Rating</th>\n",
       "      <th>No_of_Votes</th>\n",
       "      <th>Gross</th>\n",
       "    </tr>\n",
       "  </thead>\n",
       "  <tbody>\n",
       "    <tr>\n",
       "      <th>count</th>\n",
       "      <td>901.000000</td>\n",
       "      <td>901.000000</td>\n",
       "      <td>9.010000e+02</td>\n",
       "      <td>9.010000e+02</td>\n",
       "    </tr>\n",
       "    <tr>\n",
       "      <th>mean</th>\n",
       "      <td>123.772475</td>\n",
       "      <td>7.948391</td>\n",
       "      <td>2.852698e+05</td>\n",
       "      <td>6.463583e+07</td>\n",
       "    </tr>\n",
       "    <tr>\n",
       "      <th>std</th>\n",
       "      <td>27.889910</td>\n",
       "      <td>0.277229</td>\n",
       "      <td>3.357608e+05</td>\n",
       "      <td>1.064970e+08</td>\n",
       "    </tr>\n",
       "    <tr>\n",
       "      <th>min</th>\n",
       "      <td>45.000000</td>\n",
       "      <td>7.600000</td>\n",
       "      <td>2.508800e+04</td>\n",
       "      <td>1.305000e+03</td>\n",
       "    </tr>\n",
       "    <tr>\n",
       "      <th>25%</th>\n",
       "      <td>104.000000</td>\n",
       "      <td>7.700000</td>\n",
       "      <td>5.831400e+04</td>\n",
       "      <td>2.537520e+06</td>\n",
       "    </tr>\n",
       "    <tr>\n",
       "      <th>50%</th>\n",
       "      <td>120.000000</td>\n",
       "      <td>7.900000</td>\n",
       "      <td>1.434340e+05</td>\n",
       "      <td>2.018666e+07</td>\n",
       "    </tr>\n",
       "    <tr>\n",
       "      <th>75%</th>\n",
       "      <td>137.000000</td>\n",
       "      <td>8.100000</td>\n",
       "      <td>4.000490e+05</td>\n",
       "      <td>7.560549e+07</td>\n",
       "    </tr>\n",
       "    <tr>\n",
       "      <th>max</th>\n",
       "      <td>321.000000</td>\n",
       "      <td>9.300000</td>\n",
       "      <td>2.343110e+06</td>\n",
       "      <td>9.366622e+08</td>\n",
       "    </tr>\n",
       "  </tbody>\n",
       "</table>\n",
       "</div>"
      ],
      "text/plain": [
       "         Runtime2  IMDB_Rating   No_of_Votes         Gross\n",
       "count  901.000000   901.000000  9.010000e+02  9.010000e+02\n",
       "mean   123.772475     7.948391  2.852698e+05  6.463583e+07\n",
       "std     27.889910     0.277229  3.357608e+05  1.064970e+08\n",
       "min     45.000000     7.600000  2.508800e+04  1.305000e+03\n",
       "25%    104.000000     7.700000  5.831400e+04  2.537520e+06\n",
       "50%    120.000000     7.900000  1.434340e+05  2.018666e+07\n",
       "75%    137.000000     8.100000  4.000490e+05  7.560549e+07\n",
       "max    321.000000     9.300000  2.343110e+06  9.366622e+08"
      ]
     },
     "execution_count": 118,
     "metadata": {},
     "output_type": "execute_result"
    }
   ],
   "source": [
    "df.describe()"
   ]
  },
  {
   "cell_type": "code",
   "execution_count": 119,
   "id": "ffe8b589",
   "metadata": {},
   "outputs": [
    {
     "data": {
      "application/vnd.microsoft.datawrangler.viewer.v0+json": {
       "columns": [
        {
         "name": "index",
         "rawType": "object",
         "type": "string"
        },
        {
         "name": "count",
         "rawType": "float64",
         "type": "float"
        },
        {
         "name": "mean",
         "rawType": "float64",
         "type": "float"
        },
        {
         "name": "std",
         "rawType": "float64",
         "type": "float"
        },
        {
         "name": "min",
         "rawType": "float64",
         "type": "float"
        },
        {
         "name": "25%",
         "rawType": "float64",
         "type": "float"
        },
        {
         "name": "50%",
         "rawType": "float64",
         "type": "float"
        },
        {
         "name": "75%",
         "rawType": "float64",
         "type": "float"
        },
        {
         "name": "max",
         "rawType": "float64",
         "type": "float"
        }
       ],
       "ref": "fba62a44-d79a-490c-90c3-4999906f7278",
       "rows": [
        [
         "Runtime2",
         "901.0",
         "123.77247502774695",
         "27.88990971222962",
         "45.0",
         "104.0",
         "120.0",
         "137.0",
         "321.0"
        ],
        [
         "IMDB_Rating",
         "901.0",
         "7.948390677025527",
         "0.2772286791354888",
         "7.6",
         "7.7",
         "7.9",
         "8.1",
         "9.3"
        ],
        [
         "No_of_Votes",
         "901.0",
         "285269.78024417313",
         "335760.78542722197",
         "25088.0",
         "58314.0",
         "143434.0",
         "400049.0",
         "2343110.0"
        ],
        [
         "Gross",
         "901.0",
         "64635833.7136515",
         "106496984.94920838",
         "1305.0",
         "2537520.0",
         "20186659.0",
         "75605492.0",
         "936662225.0"
        ]
       ],
       "shape": {
        "columns": 8,
        "rows": 4
       }
      },
      "text/html": [
       "<div>\n",
       "<style scoped>\n",
       "    .dataframe tbody tr th:only-of-type {\n",
       "        vertical-align: middle;\n",
       "    }\n",
       "\n",
       "    .dataframe tbody tr th {\n",
       "        vertical-align: top;\n",
       "    }\n",
       "\n",
       "    .dataframe thead th {\n",
       "        text-align: right;\n",
       "    }\n",
       "</style>\n",
       "<table border=\"1\" class=\"dataframe\">\n",
       "  <thead>\n",
       "    <tr style=\"text-align: right;\">\n",
       "      <th></th>\n",
       "      <th>count</th>\n",
       "      <th>mean</th>\n",
       "      <th>std</th>\n",
       "      <th>min</th>\n",
       "      <th>25%</th>\n",
       "      <th>50%</th>\n",
       "      <th>75%</th>\n",
       "      <th>max</th>\n",
       "    </tr>\n",
       "  </thead>\n",
       "  <tbody>\n",
       "    <tr>\n",
       "      <th>Runtime2</th>\n",
       "      <td>901.0</td>\n",
       "      <td>1.237725e+02</td>\n",
       "      <td>2.788991e+01</td>\n",
       "      <td>45.0</td>\n",
       "      <td>104.0</td>\n",
       "      <td>120.0</td>\n",
       "      <td>137.0</td>\n",
       "      <td>321.0</td>\n",
       "    </tr>\n",
       "    <tr>\n",
       "      <th>IMDB_Rating</th>\n",
       "      <td>901.0</td>\n",
       "      <td>7.948391e+00</td>\n",
       "      <td>2.772287e-01</td>\n",
       "      <td>7.6</td>\n",
       "      <td>7.7</td>\n",
       "      <td>7.9</td>\n",
       "      <td>8.1</td>\n",
       "      <td>9.3</td>\n",
       "    </tr>\n",
       "    <tr>\n",
       "      <th>No_of_Votes</th>\n",
       "      <td>901.0</td>\n",
       "      <td>2.852698e+05</td>\n",
       "      <td>3.357608e+05</td>\n",
       "      <td>25088.0</td>\n",
       "      <td>58314.0</td>\n",
       "      <td>143434.0</td>\n",
       "      <td>400049.0</td>\n",
       "      <td>2343110.0</td>\n",
       "    </tr>\n",
       "    <tr>\n",
       "      <th>Gross</th>\n",
       "      <td>901.0</td>\n",
       "      <td>6.463583e+07</td>\n",
       "      <td>1.064970e+08</td>\n",
       "      <td>1305.0</td>\n",
       "      <td>2537520.0</td>\n",
       "      <td>20186659.0</td>\n",
       "      <td>75605492.0</td>\n",
       "      <td>936662225.0</td>\n",
       "    </tr>\n",
       "  </tbody>\n",
       "</table>\n",
       "</div>"
      ],
      "text/plain": [
       "             count          mean           std      min        25%  \\\n",
       "Runtime2     901.0  1.237725e+02  2.788991e+01     45.0      104.0   \n",
       "IMDB_Rating  901.0  7.948391e+00  2.772287e-01      7.6        7.7   \n",
       "No_of_Votes  901.0  2.852698e+05  3.357608e+05  25088.0    58314.0   \n",
       "Gross        901.0  6.463583e+07  1.064970e+08   1305.0  2537520.0   \n",
       "\n",
       "                    50%         75%          max  \n",
       "Runtime2          120.0       137.0        321.0  \n",
       "IMDB_Rating         7.9         8.1          9.3  \n",
       "No_of_Votes    143434.0    400049.0    2343110.0  \n",
       "Gross        20186659.0  75605492.0  936662225.0  "
      ]
     },
     "execution_count": 119,
     "metadata": {},
     "output_type": "execute_result"
    }
   ],
   "source": [
    "df.describe().transpose()"
   ]
  },
  {
   "cell_type": "code",
   "execution_count": 120,
   "id": "2825c66e",
   "metadata": {},
   "outputs": [
    {
     "data": {
      "application/vnd.microsoft.datawrangler.viewer.v0+json": {
       "columns": [
        {
         "name": "index",
         "rawType": "int64",
         "type": "integer"
        },
        {
         "name": "Released_Year",
         "rawType": "object",
         "type": "string"
        }
       ],
       "ref": "1dc2a404-183e-4a3c-b1ba-2384bc444ba2",
       "rows": [
        [
         "0",
         "2003"
        ],
        [
         "1",
         "2011"
        ],
        [
         "2",
         "1973"
        ],
        [
         "3",
         "1971"
        ],
        [
         "4",
         "1971"
        ],
        [
         "5",
         "1998"
        ],
        [
         "6",
         "1987"
        ],
        [
         "7",
         "2004"
        ],
        [
         "8",
         "2012"
        ],
        [
         "9",
         "1987"
        ],
        [
         "10",
         "1994"
        ],
        [
         "11",
         "1961"
        ],
        [
         "12",
         "2000"
        ],
        [
         "13",
         "1964"
        ],
        [
         "14",
         "1967"
        ],
        [
         "15",
         "2009"
        ],
        [
         "16",
         "1979"
        ],
        [
         "17",
         "2019"
        ],
        [
         "18",
         "1949"
        ],
        [
         "19",
         "1981"
        ],
        [
         "20",
         "2006"
        ],
        [
         "21",
         "2015"
        ],
        [
         "22",
         "2007"
        ],
        [
         "23",
         "1978"
        ],
        [
         "24",
         "2009"
        ],
        [
         "25",
         "1995"
        ],
        [
         "26",
         "2014"
        ],
        [
         "27",
         "2005"
        ],
        [
         "28",
         "1988"
        ],
        [
         "29",
         "1962"
        ],
        [
         "30",
         "1999"
        ],
        [
         "31",
         "2017"
        ],
        [
         "32",
         "2004"
        ],
        [
         "33",
         "2006"
        ],
        [
         "34",
         "2010"
        ],
        [
         "35",
         "1969"
        ],
        [
         "36",
         "2002"
        ],
        [
         "37",
         "2016"
        ],
        [
         "38",
         "2014"
        ],
        [
         "39",
         "2015"
        ],
        [
         "40",
         "2009"
        ],
        [
         "41",
         "2012"
        ],
        [
         "42",
         "1987"
        ],
        [
         "43",
         "1997"
        ],
        [
         "44",
         "2008"
        ],
        [
         "45",
         "1982"
        ],
        [
         "46",
         "1972"
        ],
        [
         "47",
         "1981"
        ],
        [
         "48",
         "1964"
        ],
        [
         "49",
         "1948"
        ]
       ],
       "shape": {
        "columns": 1,
        "rows": 901
       }
      },
      "text/plain": [
       "0      2003\n",
       "1      2011\n",
       "2      1973\n",
       "3      1971\n",
       "4      1971\n",
       "       ... \n",
       "896    1959\n",
       "897    2013\n",
       "898    1982\n",
       "899    1962\n",
       "900    1944\n",
       "Name: Released_Year, Length: 901, dtype: object"
      ]
     },
     "execution_count": 120,
     "metadata": {},
     "output_type": "execute_result"
    }
   ],
   "source": [
    "df['Released_Year']"
   ]
  },
  {
   "cell_type": "code",
   "execution_count": 121,
   "id": "dffb2bb3",
   "metadata": {},
   "outputs": [
    {
     "data": {
      "application/vnd.microsoft.datawrangler.viewer.v0+json": {
       "columns": [
        {
         "name": "index",
         "rawType": "int64",
         "type": "integer"
        },
        {
         "name": "Runtime2",
         "rawType": "int64",
         "type": "integer"
        },
        {
         "name": "IMDB_Rating",
         "rawType": "float64",
         "type": "float"
        }
       ],
       "ref": "343f65c9-788f-4d86-875c-75caa4dc8142",
       "rows": [
        [
         "0",
         "101",
         "8.4"
        ],
        [
         "1",
         "101",
         "7.6"
        ],
        [
         "2",
         "102",
         "7.7"
        ],
        [
         "3",
         "102",
         "7.7"
        ],
        [
         "4",
         "104",
         "7.7"
        ],
        [
         "5",
         "107",
         "8.2"
        ],
        [
         "6",
         "107",
         "7.8"
        ],
        [
         "7",
         "108",
         "7.7"
        ],
        [
         "8",
         "109",
         "7.6"
        ],
        [
         "9",
         "109",
         "7.6"
        ],
        [
         "10",
         "110",
         "8.5"
        ],
        [
         "11",
         "110",
         "8.2"
        ],
        [
         "12",
         "110",
         "7.8"
        ],
        [
         "13",
         "110",
         "7.7"
        ],
        [
         "14",
         "111",
         "7.8"
        ],
        [
         "15",
         "112",
         "7.9"
        ],
        [
         "16",
         "112",
         "7.6"
        ],
        [
         "17",
         "113",
         "7.8"
        ],
        [
         "18",
         "114",
         "8.1"
        ],
        [
         "19",
         "115",
         "8.4"
        ],
        [
         "20",
         "117",
         "7.6"
        ],
        [
         "21",
         "121",
         "7.6"
        ],
        [
         "22",
         "122",
         "7.7"
        ],
        [
         "23",
         "127",
         "7.9"
        ],
        [
         "24",
         "128",
         "8.0"
        ],
        [
         "25",
         "128",
         "7.6"
        ],
        [
         "26",
         "129",
         "7.7"
        ],
        [
         "27",
         "132",
         "8.2"
        ],
        [
         "28",
         "132",
         "8.2"
        ],
        [
         "29",
         "133",
         "8.6"
        ],
        [
         "30",
         "136",
         "8.7"
        ],
        [
         "31",
         "137",
         "8.1"
        ],
        [
         "32",
         "137",
         "8.0"
        ],
        [
         "33",
         "139",
         "7.8"
        ],
        [
         "34",
         "144",
         "7.8"
        ],
        [
         "35",
         "145",
         "7.9"
        ],
        [
         "36",
         "145",
         "7.6"
        ],
        [
         "37",
         "148",
         "7.8"
        ],
        [
         "38",
         "150",
         "8.0"
        ],
        [
         "39",
         "156",
         "8.0"
        ],
        [
         "40",
         "162",
         "7.6"
        ],
        [
         "41",
         "321",
         "8.2"
        ],
        [
         "42",
         "84",
         "7.8"
        ],
        [
         "43",
         "87",
         "8.0"
        ],
        [
         "44",
         "90",
         "7.8"
        ],
        [
         "45",
         "93",
         "7.7"
        ],
        [
         "46",
         "95",
         "7.9"
        ],
        [
         "47",
         "96",
         "7.6"
        ],
        [
         "48",
         "99",
         "8.0"
        ],
        [
         "49",
         "133",
         "7.8"
        ]
       ],
       "shape": {
        "columns": 2,
        "rows": 901
       }
      },
      "text/html": [
       "<div>\n",
       "<style scoped>\n",
       "    .dataframe tbody tr th:only-of-type {\n",
       "        vertical-align: middle;\n",
       "    }\n",
       "\n",
       "    .dataframe tbody tr th {\n",
       "        vertical-align: top;\n",
       "    }\n",
       "\n",
       "    .dataframe thead th {\n",
       "        text-align: right;\n",
       "    }\n",
       "</style>\n",
       "<table border=\"1\" class=\"dataframe\">\n",
       "  <thead>\n",
       "    <tr style=\"text-align: right;\">\n",
       "      <th></th>\n",
       "      <th>Runtime2</th>\n",
       "      <th>IMDB_Rating</th>\n",
       "    </tr>\n",
       "  </thead>\n",
       "  <tbody>\n",
       "    <tr>\n",
       "      <th>0</th>\n",
       "      <td>101</td>\n",
       "      <td>8.4</td>\n",
       "    </tr>\n",
       "    <tr>\n",
       "      <th>1</th>\n",
       "      <td>101</td>\n",
       "      <td>7.6</td>\n",
       "    </tr>\n",
       "    <tr>\n",
       "      <th>2</th>\n",
       "      <td>102</td>\n",
       "      <td>7.7</td>\n",
       "    </tr>\n",
       "    <tr>\n",
       "      <th>3</th>\n",
       "      <td>102</td>\n",
       "      <td>7.7</td>\n",
       "    </tr>\n",
       "    <tr>\n",
       "      <th>4</th>\n",
       "      <td>104</td>\n",
       "      <td>7.7</td>\n",
       "    </tr>\n",
       "    <tr>\n",
       "      <th>...</th>\n",
       "      <td>...</td>\n",
       "      <td>...</td>\n",
       "    </tr>\n",
       "    <tr>\n",
       "      <th>896</th>\n",
       "      <td>90</td>\n",
       "      <td>7.9</td>\n",
       "    </tr>\n",
       "    <tr>\n",
       "      <th>897</th>\n",
       "      <td>91</td>\n",
       "      <td>7.7</td>\n",
       "    </tr>\n",
       "    <tr>\n",
       "      <th>898</th>\n",
       "      <td>95</td>\n",
       "      <td>8.1</td>\n",
       "    </tr>\n",
       "    <tr>\n",
       "      <th>899</th>\n",
       "      <td>95</td>\n",
       "      <td>8.1</td>\n",
       "    </tr>\n",
       "    <tr>\n",
       "      <th>900</th>\n",
       "      <td>97</td>\n",
       "      <td>7.6</td>\n",
       "    </tr>\n",
       "  </tbody>\n",
       "</table>\n",
       "<p>901 rows × 2 columns</p>\n",
       "</div>"
      ],
      "text/plain": [
       "     Runtime2  IMDB_Rating\n",
       "0         101          8.4\n",
       "1         101          7.6\n",
       "2         102          7.7\n",
       "3         102          7.7\n",
       "4         104          7.7\n",
       "..        ...          ...\n",
       "896        90          7.9\n",
       "897        91          7.7\n",
       "898        95          8.1\n",
       "899        95          8.1\n",
       "900        97          7.6\n",
       "\n",
       "[901 rows x 2 columns]"
      ]
     },
     "execution_count": 121,
     "metadata": {},
     "output_type": "execute_result"
    }
   ],
   "source": [
    "cols = ['Runtime2','IMDB_Rating']\n",
    "df[cols]"
   ]
  },
  {
   "cell_type": "code",
   "execution_count": 122,
   "id": "f8bf569c",
   "metadata": {},
   "outputs": [
    {
     "data": {
      "application/vnd.microsoft.datawrangler.viewer.v0+json": {
       "columns": [
        {
         "name": "index",
         "rawType": "int64",
         "type": "integer"
        },
        {
         "name": "Runtime2",
         "rawType": "int64",
         "type": "integer"
        },
        {
         "name": "IMDB_Rating",
         "rawType": "float64",
         "type": "float"
        }
       ],
       "ref": "0a567b2e-7243-4b81-aa15-2a68077e19f6",
       "rows": [
        [
         "0",
         "101",
         "8.4"
        ],
        [
         "1",
         "101",
         "7.6"
        ],
        [
         "2",
         "102",
         "7.7"
        ],
        [
         "3",
         "102",
         "7.7"
        ],
        [
         "4",
         "104",
         "7.7"
        ],
        [
         "5",
         "107",
         "8.2"
        ],
        [
         "6",
         "107",
         "7.8"
        ],
        [
         "7",
         "108",
         "7.7"
        ],
        [
         "8",
         "109",
         "7.6"
        ],
        [
         "9",
         "109",
         "7.6"
        ],
        [
         "10",
         "110",
         "8.5"
        ],
        [
         "11",
         "110",
         "8.2"
        ],
        [
         "12",
         "110",
         "7.8"
        ],
        [
         "13",
         "110",
         "7.7"
        ],
        [
         "14",
         "111",
         "7.8"
        ],
        [
         "15",
         "112",
         "7.9"
        ],
        [
         "16",
         "112",
         "7.6"
        ],
        [
         "17",
         "113",
         "7.8"
        ],
        [
         "18",
         "114",
         "8.1"
        ],
        [
         "19",
         "115",
         "8.4"
        ],
        [
         "20",
         "117",
         "7.6"
        ],
        [
         "21",
         "121",
         "7.6"
        ],
        [
         "22",
         "122",
         "7.7"
        ],
        [
         "23",
         "127",
         "7.9"
        ],
        [
         "24",
         "128",
         "8.0"
        ],
        [
         "25",
         "128",
         "7.6"
        ],
        [
         "26",
         "129",
         "7.7"
        ],
        [
         "27",
         "132",
         "8.2"
        ],
        [
         "28",
         "132",
         "8.2"
        ],
        [
         "29",
         "133",
         "8.6"
        ],
        [
         "30",
         "136",
         "8.7"
        ],
        [
         "31",
         "137",
         "8.1"
        ],
        [
         "32",
         "137",
         "8.0"
        ],
        [
         "33",
         "139",
         "7.8"
        ],
        [
         "34",
         "144",
         "7.8"
        ],
        [
         "35",
         "145",
         "7.9"
        ],
        [
         "36",
         "145",
         "7.6"
        ],
        [
         "37",
         "148",
         "7.8"
        ],
        [
         "38",
         "150",
         "8.0"
        ],
        [
         "39",
         "156",
         "8.0"
        ],
        [
         "40",
         "162",
         "7.6"
        ],
        [
         "41",
         "321",
         "8.2"
        ],
        [
         "42",
         "84",
         "7.8"
        ],
        [
         "43",
         "87",
         "8.0"
        ],
        [
         "44",
         "90",
         "7.8"
        ],
        [
         "45",
         "93",
         "7.7"
        ],
        [
         "46",
         "95",
         "7.9"
        ],
        [
         "47",
         "96",
         "7.6"
        ],
        [
         "48",
         "99",
         "8.0"
        ],
        [
         "49",
         "133",
         "7.8"
        ]
       ],
       "shape": {
        "columns": 2,
        "rows": 901
       }
      },
      "text/html": [
       "<div>\n",
       "<style scoped>\n",
       "    .dataframe tbody tr th:only-of-type {\n",
       "        vertical-align: middle;\n",
       "    }\n",
       "\n",
       "    .dataframe tbody tr th {\n",
       "        vertical-align: top;\n",
       "    }\n",
       "\n",
       "    .dataframe thead th {\n",
       "        text-align: right;\n",
       "    }\n",
       "</style>\n",
       "<table border=\"1\" class=\"dataframe\">\n",
       "  <thead>\n",
       "    <tr style=\"text-align: right;\">\n",
       "      <th></th>\n",
       "      <th>Runtime2</th>\n",
       "      <th>IMDB_Rating</th>\n",
       "    </tr>\n",
       "  </thead>\n",
       "  <tbody>\n",
       "    <tr>\n",
       "      <th>0</th>\n",
       "      <td>101</td>\n",
       "      <td>8.4</td>\n",
       "    </tr>\n",
       "    <tr>\n",
       "      <th>1</th>\n",
       "      <td>101</td>\n",
       "      <td>7.6</td>\n",
       "    </tr>\n",
       "    <tr>\n",
       "      <th>2</th>\n",
       "      <td>102</td>\n",
       "      <td>7.7</td>\n",
       "    </tr>\n",
       "    <tr>\n",
       "      <th>3</th>\n",
       "      <td>102</td>\n",
       "      <td>7.7</td>\n",
       "    </tr>\n",
       "    <tr>\n",
       "      <th>4</th>\n",
       "      <td>104</td>\n",
       "      <td>7.7</td>\n",
       "    </tr>\n",
       "    <tr>\n",
       "      <th>...</th>\n",
       "      <td>...</td>\n",
       "      <td>...</td>\n",
       "    </tr>\n",
       "    <tr>\n",
       "      <th>896</th>\n",
       "      <td>90</td>\n",
       "      <td>7.9</td>\n",
       "    </tr>\n",
       "    <tr>\n",
       "      <th>897</th>\n",
       "      <td>91</td>\n",
       "      <td>7.7</td>\n",
       "    </tr>\n",
       "    <tr>\n",
       "      <th>898</th>\n",
       "      <td>95</td>\n",
       "      <td>8.1</td>\n",
       "    </tr>\n",
       "    <tr>\n",
       "      <th>899</th>\n",
       "      <td>95</td>\n",
       "      <td>8.1</td>\n",
       "    </tr>\n",
       "    <tr>\n",
       "      <th>900</th>\n",
       "      <td>97</td>\n",
       "      <td>7.6</td>\n",
       "    </tr>\n",
       "  </tbody>\n",
       "</table>\n",
       "<p>901 rows × 2 columns</p>\n",
       "</div>"
      ],
      "text/plain": [
       "     Runtime2  IMDB_Rating\n",
       "0         101          8.4\n",
       "1         101          7.6\n",
       "2         102          7.7\n",
       "3         102          7.7\n",
       "4         104          7.7\n",
       "..        ...          ...\n",
       "896        90          7.9\n",
       "897        91          7.7\n",
       "898        95          8.1\n",
       "899        95          8.1\n",
       "900        97          7.6\n",
       "\n",
       "[901 rows x 2 columns]"
      ]
     },
     "execution_count": 122,
     "metadata": {},
     "output_type": "execute_result"
    }
   ],
   "source": [
    "df[['Runtime2','IMDB_Rating']]"
   ]
  },
  {
   "cell_type": "code",
   "execution_count": 123,
   "id": "234d9c97",
   "metadata": {},
   "outputs": [
    {
     "data": {
      "application/vnd.microsoft.datawrangler.viewer.v0+json": {
       "columns": [
        {
         "name": "index",
         "rawType": "int64",
         "type": "integer"
        },
        {
         "name": "Series_Title",
         "rawType": "object",
         "type": "string"
        },
        {
         "name": "Released_Year",
         "rawType": "object",
         "type": "string"
        },
        {
         "name": "Certificate",
         "rawType": "object",
         "type": "string"
        },
        {
         "name": "Runtime",
         "rawType": "object",
         "type": "string"
        },
        {
         "name": "Runtime2",
         "rawType": "int64",
         "type": "integer"
        },
        {
         "name": "Genre",
         "rawType": "object",
         "type": "string"
        },
        {
         "name": "IMDB_Rating",
         "rawType": "float64",
         "type": "float"
        },
        {
         "name": "No_of_Votes",
         "rawType": "int64",
         "type": "integer"
        },
        {
         "name": "Gross",
         "rawType": "int64",
         "type": "integer"
        }
       ],
       "ref": "d5d962b1-2094-46b4-ab30-fee35395db16",
       "rows": [
        [
         "0",
         "Oldeuboi",
         "2003",
         "A",
         "101 min",
         "101",
         "Action",
         "8.4",
         "515451",
         "707481"
        ],
        [
         "1",
         "Serbuan maut",
         "2011",
         "A",
         "101 min",
         "101",
         "Action",
         "7.6",
         "190531",
         "4105123"
        ],
        [
         "2",
         "Enter the Dragon",
         "1973",
         "A",
         "102 min",
         "102",
         "Action",
         "7.7",
         "96561",
         "25000000"
        ],
        [
         "3",
         "Dirty Harry",
         "1971",
         "A",
         "102 min",
         "102",
         "Action",
         "7.7",
         "143292",
         "35900000"
        ],
        [
         "4",
         "The French Connection",
         "1971",
         "A",
         "104 min",
         "104",
         "Action",
         "7.7",
         "110075",
         "15630710"
        ],
        [
         "5",
         "Lock, Stock and Two Smoking Barrels",
         "1998",
         "A",
         "107 min",
         "107",
         "Action",
         "8.2",
         "535216",
         "3897569"
        ],
        [
         "6",
         "Predator",
         "1987",
         "A",
         "107 min",
         "107",
         "Action",
         "7.8",
         "371387",
         "59735548"
        ],
        [
         "7",
         "The Bourne Supremacy",
         "2004",
         "A",
         "108 min",
         "108",
         "Action",
         "7.7",
         "434841",
         "176241941"
        ],
        [
         "8",
         "End of Watch",
         "2012",
         "A",
         "109 min",
         "109",
         "Action",
         "7.6",
         "228132",
         "41003371"
        ],
        [
         "9",
         "Lethal Weapon",
         "1987",
         "A",
         "109 min",
         "109",
         "Action",
         "7.6",
         "236894",
         "65207127"
        ],
        [
         "10",
         "Léon",
         "1994",
         "A",
         "110 min",
         "110",
         "Action",
         "8.5",
         "1035236",
         "19501238"
        ],
        [
         "11",
         "Yôjinbô",
         "1961",
         "A",
         "110 min",
         "110",
         "Action",
         "8.2",
         "111244",
         "12100200"
        ],
        [
         "12",
         "Gongdong gyeongbi guyeok JSA",
         "2000",
         "A",
         "110 min",
         "110",
         "Action",
         "7.8",
         "26518",
         "181855"
        ],
        [
         "13",
         "Goldfinger",
         "1964",
         "A",
         "110 min",
         "110",
         "Action",
         "7.7",
         "174119",
         "51081062"
        ],
        [
         "14",
         "Bonnie and Clyde",
         "1967",
         "A",
         "111 min",
         "111",
         "Action",
         "7.8",
         "102415",
         "17550941"
        ],
        [
         "15",
         "District 9",
         "2009",
         "A",
         "112 min",
         "112",
         "Action",
         "7.9",
         "638202",
         "115646235"
        ],
        [
         "16",
         "Escape from Alcatraz",
         "1979",
         "A",
         "112 min",
         "112",
         "Action",
         "7.6",
         "121731",
         "43000000"
        ],
        [
         "17",
         "The Gentlemen",
         "2019",
         "A",
         "113 min",
         "113",
         "Action",
         "7.8",
         "237392",
         "2537920"
        ],
        [
         "18",
         "White Heat",
         "1949",
         "A",
         "114 min",
         "114",
         "Action",
         "8.1",
         "29807",
         "44908400"
        ],
        [
         "19",
         "Raiders of the Lost Ark",
         "1981",
         "A",
         "115 min",
         "115",
         "Action",
         "8.4",
         "884112",
         "248159971"
        ],
        [
         "20",
         "300",
         "2006",
         "A",
         "117 min",
         "117",
         "Action",
         "7.6",
         "732876",
         "210614939"
        ],
        [
         "21",
         "Sicario",
         "2015",
         "A",
         "121 min",
         "121",
         "Action",
         "7.6",
         "371291",
         "46889293"
        ],
        [
         "22",
         "3:10 to Yuma",
         "2007",
         "A",
         "122 min",
         "122",
         "Action",
         "7.7",
         "288797",
         "53606916"
        ],
        [
         "23",
         "Dawn of the Dead",
         "1978",
         "A",
         "127 min",
         "127",
         "Action",
         "7.9",
         "111512",
         "5100000"
        ],
        [
         "24",
         "Nefes: Vatan Sagolsun",
         "2009",
         "A",
         "128 min",
         "128",
         "Action",
         "8.0",
         "31838",
         "107062"
        ],
        [
         "25",
         "Die Hard: With a Vengeance",
         "1995",
         "A",
         "128 min",
         "128",
         "Action",
         "7.6",
         "364420",
         "100012499"
        ],
        [
         "26",
         "Kingsman: The Secret Service",
         "2014",
         "A",
         "129 min",
         "129",
         "Action",
         "7.7",
         "590440",
         "128261724"
        ],
        [
         "27",
         "V for Vendetta",
         "2005",
         "A",
         "132 min",
         "132",
         "Action",
         "8.2",
         "1032749",
         "70511035"
        ],
        [
         "28",
         "Die Hard",
         "1988",
         "A",
         "132 min",
         "132",
         "Action",
         "8.2",
         "793164",
         "83008852"
        ],
        [
         "29",
         "Seppuku",
         "1962",
         "A",
         "133 min",
         "133",
         "Action",
         "8.6",
         "42004",
         "130743122"
        ],
        [
         "30",
         "The Matrix",
         "1999",
         "A",
         "136 min",
         "136",
         "Action",
         "8.7",
         "1676426",
         "171479930"
        ],
        [
         "31",
         "Logan",
         "2017",
         "A",
         "137 min",
         "137",
         "Action",
         "8.1",
         "647884",
         "226277068"
        ],
        [
         "32",
         "Kill Bill: Vol. 2",
         "2004",
         "A",
         "137 min",
         "137",
         "Action",
         "8.0",
         "683900",
         "66208183"
        ],
        [
         "33",
         "Apocalypto",
         "2006",
         "A",
         "139 min",
         "139",
         "Action",
         "7.8",
         "291018",
         "50866635"
        ],
        [
         "34",
         "Ang-ma-reul bo-at-da",
         "2010",
         "A",
         "144 min",
         "144",
         "Action",
         "7.8",
         "111252",
         "128392"
        ],
        [
         "35",
         "The Wild Bunch",
         "1969",
         "A",
         "145 min",
         "145",
         "Action",
         "7.9",
         "77401",
         "12064472"
        ],
        [
         "36",
         "Minority Report",
         "2002",
         "A",
         "145 min",
         "145",
         "Action",
         "7.6",
         "508417",
         "132072926"
        ],
        [
         "37",
         "Udta Punjab",
         "2016",
         "A",
         "148 min",
         "148",
         "Action",
         "7.8",
         "27175",
         "169607487"
        ],
        [
         "38",
         "Serbuan maut 2: Berandal",
         "2014",
         "A",
         "150 min",
         "150",
         "Action",
         "8.0",
         "114316",
         "2625803"
        ],
        [
         "39",
         "The Revenant",
         "2015",
         "A",
         "156 min",
         "156",
         "Action",
         "8.0",
         "705589",
         "183637894"
        ],
        [
         "40",
         "Watchmen",
         "2009",
         "A",
         "162 min",
         "162",
         "Action",
         "7.6",
         "500799",
         "107509799"
        ],
        [
         "41",
         "Gangs of Wasseypur",
         "2012",
         "A",
         "321 min",
         "321",
         "Action",
         "8.2",
         "82365",
         "144701"
        ],
        [
         "42",
         "Evil Dead II",
         "1987",
         "A",
         "84 min",
         "84",
         "Action",
         "7.8",
         "148359",
         "5923044"
        ],
        [
         "43",
         "Knockin' on Heaven's Door",
         "1997",
         "A",
         "87 min",
         "87",
         "Action",
         "8.0",
         "27721",
         "3296"
        ],
        [
         "44",
         "Taken",
         "2008",
         "A",
         "90 min",
         "90",
         "Action",
         "7.8",
         "564791",
         "145000989"
        ],
        [
         "45",
         "First Blood",
         "1982",
         "A",
         "93 min",
         "93",
         "Action",
         "7.7",
         "226541",
         "47212904"
        ],
        [
         "46",
         "Aguirre, der Zorn Gottes",
         "1972",
         "A",
         "95 min",
         "95",
         "Action",
         "7.9",
         "52397",
         "70600400"
        ],
        [
         "47",
         "Mad Max 2",
         "1981",
         "A",
         "96 min",
         "96",
         "Action",
         "7.6",
         "166588",
         "12465371"
        ],
        [
         "48",
         "Per un pugno di dollari",
         "1964",
         "A",
         "99 min",
         "99",
         "Action",
         "8.0",
         "198219",
         "14500000"
        ],
        [
         "49",
         "Red River",
         "1948",
         "Passed",
         "133 min",
         "133",
         "Action",
         "7.8",
         "28167",
         "2616200"
        ]
       ],
       "shape": {
        "columns": 9,
        "rows": 901
       }
      },
      "text/html": [
       "<div>\n",
       "<style scoped>\n",
       "    .dataframe tbody tr th:only-of-type {\n",
       "        vertical-align: middle;\n",
       "    }\n",
       "\n",
       "    .dataframe tbody tr th {\n",
       "        vertical-align: top;\n",
       "    }\n",
       "\n",
       "    .dataframe thead th {\n",
       "        text-align: right;\n",
       "    }\n",
       "</style>\n",
       "<table border=\"1\" class=\"dataframe\">\n",
       "  <thead>\n",
       "    <tr style=\"text-align: right;\">\n",
       "      <th></th>\n",
       "      <th>Series_Title</th>\n",
       "      <th>Released_Year</th>\n",
       "      <th>Certificate</th>\n",
       "      <th>Runtime</th>\n",
       "      <th>Runtime2</th>\n",
       "      <th>Genre</th>\n",
       "      <th>IMDB_Rating</th>\n",
       "      <th>No_of_Votes</th>\n",
       "      <th>Gross</th>\n",
       "    </tr>\n",
       "  </thead>\n",
       "  <tbody>\n",
       "    <tr>\n",
       "      <th>0</th>\n",
       "      <td>Oldeuboi</td>\n",
       "      <td>2003</td>\n",
       "      <td>A</td>\n",
       "      <td>101 min</td>\n",
       "      <td>101</td>\n",
       "      <td>Action</td>\n",
       "      <td>8.4</td>\n",
       "      <td>515451</td>\n",
       "      <td>707481</td>\n",
       "    </tr>\n",
       "    <tr>\n",
       "      <th>1</th>\n",
       "      <td>Serbuan maut</td>\n",
       "      <td>2011</td>\n",
       "      <td>A</td>\n",
       "      <td>101 min</td>\n",
       "      <td>101</td>\n",
       "      <td>Action</td>\n",
       "      <td>7.6</td>\n",
       "      <td>190531</td>\n",
       "      <td>4105123</td>\n",
       "    </tr>\n",
       "    <tr>\n",
       "      <th>2</th>\n",
       "      <td>Enter the Dragon</td>\n",
       "      <td>1973</td>\n",
       "      <td>A</td>\n",
       "      <td>102 min</td>\n",
       "      <td>102</td>\n",
       "      <td>Action</td>\n",
       "      <td>7.7</td>\n",
       "      <td>96561</td>\n",
       "      <td>25000000</td>\n",
       "    </tr>\n",
       "    <tr>\n",
       "      <th>3</th>\n",
       "      <td>Dirty Harry</td>\n",
       "      <td>1971</td>\n",
       "      <td>A</td>\n",
       "      <td>102 min</td>\n",
       "      <td>102</td>\n",
       "      <td>Action</td>\n",
       "      <td>7.7</td>\n",
       "      <td>143292</td>\n",
       "      <td>35900000</td>\n",
       "    </tr>\n",
       "    <tr>\n",
       "      <th>4</th>\n",
       "      <td>The French Connection</td>\n",
       "      <td>1971</td>\n",
       "      <td>A</td>\n",
       "      <td>104 min</td>\n",
       "      <td>104</td>\n",
       "      <td>Action</td>\n",
       "      <td>7.7</td>\n",
       "      <td>110075</td>\n",
       "      <td>15630710</td>\n",
       "    </tr>\n",
       "    <tr>\n",
       "      <th>...</th>\n",
       "      <td>...</td>\n",
       "      <td>...</td>\n",
       "      <td>...</td>\n",
       "      <td>...</td>\n",
       "      <td>...</td>\n",
       "      <td>...</td>\n",
       "      <td>...</td>\n",
       "      <td>...</td>\n",
       "      <td>...</td>\n",
       "    </tr>\n",
       "    <tr>\n",
       "      <th>896</th>\n",
       "      <td>Hiroshima mon amour</td>\n",
       "      <td>1959</td>\n",
       "      <td>UA</td>\n",
       "      <td>90 min</td>\n",
       "      <td>90</td>\n",
       "      <td>Drama</td>\n",
       "      <td>7.9</td>\n",
       "      <td>28421</td>\n",
       "      <td>88300</td>\n",
       "    </tr>\n",
       "    <tr>\n",
       "      <th>897</th>\n",
       "      <td>Gravity</td>\n",
       "      <td>2013</td>\n",
       "      <td>UA</td>\n",
       "      <td>91 min</td>\n",
       "      <td>91</td>\n",
       "      <td>Drama</td>\n",
       "      <td>7.7</td>\n",
       "      <td>769145</td>\n",
       "      <td>274092705</td>\n",
       "    </tr>\n",
       "    <tr>\n",
       "      <th>898</th>\n",
       "      <td>Pink Floyd: The Wall</td>\n",
       "      <td>1982</td>\n",
       "      <td>UA</td>\n",
       "      <td>95 min</td>\n",
       "      <td>95</td>\n",
       "      <td>Drama</td>\n",
       "      <td>8.1</td>\n",
       "      <td>76081</td>\n",
       "      <td>22244207</td>\n",
       "    </tr>\n",
       "    <tr>\n",
       "      <th>899</th>\n",
       "      <td>Ivanovo detstvo</td>\n",
       "      <td>1962</td>\n",
       "      <td>UA</td>\n",
       "      <td>95 min</td>\n",
       "      <td>95</td>\n",
       "      <td>Drama</td>\n",
       "      <td>8.1</td>\n",
       "      <td>31728</td>\n",
       "      <td>102621</td>\n",
       "    </tr>\n",
       "    <tr>\n",
       "      <th>900</th>\n",
       "      <td>Lifeboat</td>\n",
       "      <td>1944</td>\n",
       "      <td>UA</td>\n",
       "      <td>97 min</td>\n",
       "      <td>97</td>\n",
       "      <td>Drama</td>\n",
       "      <td>7.6</td>\n",
       "      <td>26471</td>\n",
       "      <td>13780424</td>\n",
       "    </tr>\n",
       "  </tbody>\n",
       "</table>\n",
       "<p>901 rows × 9 columns</p>\n",
       "</div>"
      ],
      "text/plain": [
       "              Series_Title Released_Year Certificate  Runtime  Runtime2  \\\n",
       "0                 Oldeuboi          2003           A  101 min       101   \n",
       "1             Serbuan maut          2011           A  101 min       101   \n",
       "2         Enter the Dragon          1973           A  102 min       102   \n",
       "3              Dirty Harry          1971           A  102 min       102   \n",
       "4    The French Connection          1971           A  104 min       104   \n",
       "..                     ...           ...         ...      ...       ...   \n",
       "896    Hiroshima mon amour          1959          UA   90 min        90   \n",
       "897                Gravity          2013          UA   91 min        91   \n",
       "898   Pink Floyd: The Wall          1982          UA   95 min        95   \n",
       "899        Ivanovo detstvo          1962          UA   95 min        95   \n",
       "900               Lifeboat          1944          UA   97 min        97   \n",
       "\n",
       "      Genre  IMDB_Rating  No_of_Votes      Gross  \n",
       "0    Action          8.4       515451     707481  \n",
       "1    Action          7.6       190531    4105123  \n",
       "2    Action          7.7        96561   25000000  \n",
       "3    Action          7.7       143292   35900000  \n",
       "4    Action          7.7       110075   15630710  \n",
       "..      ...          ...          ...        ...  \n",
       "896   Drama          7.9        28421      88300  \n",
       "897   Drama          7.7       769145  274092705  \n",
       "898   Drama          8.1        76081   22244207  \n",
       "899   Drama          8.1        31728     102621  \n",
       "900   Drama          7.6        26471   13780424  \n",
       "\n",
       "[901 rows x 9 columns]"
      ]
     },
     "execution_count": 123,
     "metadata": {},
     "output_type": "execute_result"
    }
   ],
   "source": [
    "df"
   ]
  },
  {
   "cell_type": "code",
   "execution_count": 124,
   "id": "f91844c3",
   "metadata": {},
   "outputs": [
    {
     "data": {
      "application/vnd.microsoft.datawrangler.viewer.v0+json": {
       "columns": [
        {
         "name": "index",
         "rawType": "int64",
         "type": "integer"
        },
        {
         "name": "Series_Title",
         "rawType": "object",
         "type": "string"
        },
        {
         "name": "Released_Year",
         "rawType": "object",
         "type": "string"
        },
        {
         "name": "Certificate",
         "rawType": "object",
         "type": "string"
        },
        {
         "name": "Runtime",
         "rawType": "object",
         "type": "string"
        },
        {
         "name": "Runtime2",
         "rawType": "int64",
         "type": "integer"
        },
        {
         "name": "Genre",
         "rawType": "object",
         "type": "string"
        },
        {
         "name": "IMDB_Rating",
         "rawType": "float64",
         "type": "float"
        },
        {
         "name": "No_of_Votes",
         "rawType": "int64",
         "type": "integer"
        },
        {
         "name": "Gross",
         "rawType": "int64",
         "type": "integer"
        },
        {
         "name": "Runtime in hours",
         "rawType": "float64",
         "type": "float"
        }
       ],
       "ref": "05aead41-9ec1-4db7-94c4-2eb1e88baf91",
       "rows": [
        [
         "0",
         "Oldeuboi",
         "2003",
         "A",
         "101 min",
         "101",
         "Action",
         "8.4",
         "515451",
         "707481",
         "1.68"
        ],
        [
         "1",
         "Serbuan maut",
         "2011",
         "A",
         "101 min",
         "101",
         "Action",
         "7.6",
         "190531",
         "4105123",
         "1.68"
        ],
        [
         "2",
         "Enter the Dragon",
         "1973",
         "A",
         "102 min",
         "102",
         "Action",
         "7.7",
         "96561",
         "25000000",
         "1.7"
        ],
        [
         "3",
         "Dirty Harry",
         "1971",
         "A",
         "102 min",
         "102",
         "Action",
         "7.7",
         "143292",
         "35900000",
         "1.7"
        ],
        [
         "4",
         "The French Connection",
         "1971",
         "A",
         "104 min",
         "104",
         "Action",
         "7.7",
         "110075",
         "15630710",
         "1.73"
        ],
        [
         "5",
         "Lock, Stock and Two Smoking Barrels",
         "1998",
         "A",
         "107 min",
         "107",
         "Action",
         "8.2",
         "535216",
         "3897569",
         "1.78"
        ],
        [
         "6",
         "Predator",
         "1987",
         "A",
         "107 min",
         "107",
         "Action",
         "7.8",
         "371387",
         "59735548",
         "1.78"
        ],
        [
         "7",
         "The Bourne Supremacy",
         "2004",
         "A",
         "108 min",
         "108",
         "Action",
         "7.7",
         "434841",
         "176241941",
         "1.8"
        ],
        [
         "8",
         "End of Watch",
         "2012",
         "A",
         "109 min",
         "109",
         "Action",
         "7.6",
         "228132",
         "41003371",
         "1.82"
        ],
        [
         "9",
         "Lethal Weapon",
         "1987",
         "A",
         "109 min",
         "109",
         "Action",
         "7.6",
         "236894",
         "65207127",
         "1.82"
        ],
        [
         "10",
         "Léon",
         "1994",
         "A",
         "110 min",
         "110",
         "Action",
         "8.5",
         "1035236",
         "19501238",
         "1.83"
        ],
        [
         "11",
         "Yôjinbô",
         "1961",
         "A",
         "110 min",
         "110",
         "Action",
         "8.2",
         "111244",
         "12100200",
         "1.83"
        ],
        [
         "12",
         "Gongdong gyeongbi guyeok JSA",
         "2000",
         "A",
         "110 min",
         "110",
         "Action",
         "7.8",
         "26518",
         "181855",
         "1.83"
        ],
        [
         "13",
         "Goldfinger",
         "1964",
         "A",
         "110 min",
         "110",
         "Action",
         "7.7",
         "174119",
         "51081062",
         "1.83"
        ],
        [
         "14",
         "Bonnie and Clyde",
         "1967",
         "A",
         "111 min",
         "111",
         "Action",
         "7.8",
         "102415",
         "17550941",
         "1.85"
        ],
        [
         "15",
         "District 9",
         "2009",
         "A",
         "112 min",
         "112",
         "Action",
         "7.9",
         "638202",
         "115646235",
         "1.87"
        ],
        [
         "16",
         "Escape from Alcatraz",
         "1979",
         "A",
         "112 min",
         "112",
         "Action",
         "7.6",
         "121731",
         "43000000",
         "1.87"
        ],
        [
         "17",
         "The Gentlemen",
         "2019",
         "A",
         "113 min",
         "113",
         "Action",
         "7.8",
         "237392",
         "2537920",
         "1.88"
        ],
        [
         "18",
         "White Heat",
         "1949",
         "A",
         "114 min",
         "114",
         "Action",
         "8.1",
         "29807",
         "44908400",
         "1.9"
        ],
        [
         "19",
         "Raiders of the Lost Ark",
         "1981",
         "A",
         "115 min",
         "115",
         "Action",
         "8.4",
         "884112",
         "248159971",
         "1.92"
        ],
        [
         "20",
         "300",
         "2006",
         "A",
         "117 min",
         "117",
         "Action",
         "7.6",
         "732876",
         "210614939",
         "1.95"
        ],
        [
         "21",
         "Sicario",
         "2015",
         "A",
         "121 min",
         "121",
         "Action",
         "7.6",
         "371291",
         "46889293",
         "2.02"
        ],
        [
         "22",
         "3:10 to Yuma",
         "2007",
         "A",
         "122 min",
         "122",
         "Action",
         "7.7",
         "288797",
         "53606916",
         "2.03"
        ],
        [
         "23",
         "Dawn of the Dead",
         "1978",
         "A",
         "127 min",
         "127",
         "Action",
         "7.9",
         "111512",
         "5100000",
         "2.12"
        ],
        [
         "24",
         "Nefes: Vatan Sagolsun",
         "2009",
         "A",
         "128 min",
         "128",
         "Action",
         "8.0",
         "31838",
         "107062",
         "2.13"
        ],
        [
         "25",
         "Die Hard: With a Vengeance",
         "1995",
         "A",
         "128 min",
         "128",
         "Action",
         "7.6",
         "364420",
         "100012499",
         "2.13"
        ],
        [
         "26",
         "Kingsman: The Secret Service",
         "2014",
         "A",
         "129 min",
         "129",
         "Action",
         "7.7",
         "590440",
         "128261724",
         "2.15"
        ],
        [
         "27",
         "V for Vendetta",
         "2005",
         "A",
         "132 min",
         "132",
         "Action",
         "8.2",
         "1032749",
         "70511035",
         "2.2"
        ],
        [
         "28",
         "Die Hard",
         "1988",
         "A",
         "132 min",
         "132",
         "Action",
         "8.2",
         "793164",
         "83008852",
         "2.2"
        ],
        [
         "29",
         "Seppuku",
         "1962",
         "A",
         "133 min",
         "133",
         "Action",
         "8.6",
         "42004",
         "130743122",
         "2.22"
        ],
        [
         "30",
         "The Matrix",
         "1999",
         "A",
         "136 min",
         "136",
         "Action",
         "8.7",
         "1676426",
         "171479930",
         "2.27"
        ],
        [
         "31",
         "Logan",
         "2017",
         "A",
         "137 min",
         "137",
         "Action",
         "8.1",
         "647884",
         "226277068",
         "2.28"
        ],
        [
         "32",
         "Kill Bill: Vol. 2",
         "2004",
         "A",
         "137 min",
         "137",
         "Action",
         "8.0",
         "683900",
         "66208183",
         "2.28"
        ],
        [
         "33",
         "Apocalypto",
         "2006",
         "A",
         "139 min",
         "139",
         "Action",
         "7.8",
         "291018",
         "50866635",
         "2.32"
        ],
        [
         "34",
         "Ang-ma-reul bo-at-da",
         "2010",
         "A",
         "144 min",
         "144",
         "Action",
         "7.8",
         "111252",
         "128392",
         "2.4"
        ],
        [
         "35",
         "The Wild Bunch",
         "1969",
         "A",
         "145 min",
         "145",
         "Action",
         "7.9",
         "77401",
         "12064472",
         "2.42"
        ],
        [
         "36",
         "Minority Report",
         "2002",
         "A",
         "145 min",
         "145",
         "Action",
         "7.6",
         "508417",
         "132072926",
         "2.42"
        ],
        [
         "37",
         "Udta Punjab",
         "2016",
         "A",
         "148 min",
         "148",
         "Action",
         "7.8",
         "27175",
         "169607487",
         "2.47"
        ],
        [
         "38",
         "Serbuan maut 2: Berandal",
         "2014",
         "A",
         "150 min",
         "150",
         "Action",
         "8.0",
         "114316",
         "2625803",
         "2.5"
        ],
        [
         "39",
         "The Revenant",
         "2015",
         "A",
         "156 min",
         "156",
         "Action",
         "8.0",
         "705589",
         "183637894",
         "2.6"
        ],
        [
         "40",
         "Watchmen",
         "2009",
         "A",
         "162 min",
         "162",
         "Action",
         "7.6",
         "500799",
         "107509799",
         "2.7"
        ],
        [
         "41",
         "Gangs of Wasseypur",
         "2012",
         "A",
         "321 min",
         "321",
         "Action",
         "8.2",
         "82365",
         "144701",
         "5.35"
        ],
        [
         "42",
         "Evil Dead II",
         "1987",
         "A",
         "84 min",
         "84",
         "Action",
         "7.8",
         "148359",
         "5923044",
         "1.4"
        ],
        [
         "43",
         "Knockin' on Heaven's Door",
         "1997",
         "A",
         "87 min",
         "87",
         "Action",
         "8.0",
         "27721",
         "3296",
         "1.45"
        ],
        [
         "44",
         "Taken",
         "2008",
         "A",
         "90 min",
         "90",
         "Action",
         "7.8",
         "564791",
         "145000989",
         "1.5"
        ],
        [
         "45",
         "First Blood",
         "1982",
         "A",
         "93 min",
         "93",
         "Action",
         "7.7",
         "226541",
         "47212904",
         "1.55"
        ],
        [
         "46",
         "Aguirre, der Zorn Gottes",
         "1972",
         "A",
         "95 min",
         "95",
         "Action",
         "7.9",
         "52397",
         "70600400",
         "1.58"
        ],
        [
         "47",
         "Mad Max 2",
         "1981",
         "A",
         "96 min",
         "96",
         "Action",
         "7.6",
         "166588",
         "12465371",
         "1.6"
        ],
        [
         "48",
         "Per un pugno di dollari",
         "1964",
         "A",
         "99 min",
         "99",
         "Action",
         "8.0",
         "198219",
         "14500000",
         "1.65"
        ],
        [
         "49",
         "Red River",
         "1948",
         "Passed",
         "133 min",
         "133",
         "Action",
         "7.8",
         "28167",
         "2616200",
         "2.22"
        ]
       ],
       "shape": {
        "columns": 10,
        "rows": 901
       }
      },
      "text/html": [
       "<div>\n",
       "<style scoped>\n",
       "    .dataframe tbody tr th:only-of-type {\n",
       "        vertical-align: middle;\n",
       "    }\n",
       "\n",
       "    .dataframe tbody tr th {\n",
       "        vertical-align: top;\n",
       "    }\n",
       "\n",
       "    .dataframe thead th {\n",
       "        text-align: right;\n",
       "    }\n",
       "</style>\n",
       "<table border=\"1\" class=\"dataframe\">\n",
       "  <thead>\n",
       "    <tr style=\"text-align: right;\">\n",
       "      <th></th>\n",
       "      <th>Series_Title</th>\n",
       "      <th>Released_Year</th>\n",
       "      <th>Certificate</th>\n",
       "      <th>Runtime</th>\n",
       "      <th>Runtime2</th>\n",
       "      <th>Genre</th>\n",
       "      <th>IMDB_Rating</th>\n",
       "      <th>No_of_Votes</th>\n",
       "      <th>Gross</th>\n",
       "      <th>Runtime in hours</th>\n",
       "    </tr>\n",
       "  </thead>\n",
       "  <tbody>\n",
       "    <tr>\n",
       "      <th>0</th>\n",
       "      <td>Oldeuboi</td>\n",
       "      <td>2003</td>\n",
       "      <td>A</td>\n",
       "      <td>101 min</td>\n",
       "      <td>101</td>\n",
       "      <td>Action</td>\n",
       "      <td>8.4</td>\n",
       "      <td>515451</td>\n",
       "      <td>707481</td>\n",
       "      <td>1.68</td>\n",
       "    </tr>\n",
       "    <tr>\n",
       "      <th>1</th>\n",
       "      <td>Serbuan maut</td>\n",
       "      <td>2011</td>\n",
       "      <td>A</td>\n",
       "      <td>101 min</td>\n",
       "      <td>101</td>\n",
       "      <td>Action</td>\n",
       "      <td>7.6</td>\n",
       "      <td>190531</td>\n",
       "      <td>4105123</td>\n",
       "      <td>1.68</td>\n",
       "    </tr>\n",
       "    <tr>\n",
       "      <th>2</th>\n",
       "      <td>Enter the Dragon</td>\n",
       "      <td>1973</td>\n",
       "      <td>A</td>\n",
       "      <td>102 min</td>\n",
       "      <td>102</td>\n",
       "      <td>Action</td>\n",
       "      <td>7.7</td>\n",
       "      <td>96561</td>\n",
       "      <td>25000000</td>\n",
       "      <td>1.70</td>\n",
       "    </tr>\n",
       "    <tr>\n",
       "      <th>3</th>\n",
       "      <td>Dirty Harry</td>\n",
       "      <td>1971</td>\n",
       "      <td>A</td>\n",
       "      <td>102 min</td>\n",
       "      <td>102</td>\n",
       "      <td>Action</td>\n",
       "      <td>7.7</td>\n",
       "      <td>143292</td>\n",
       "      <td>35900000</td>\n",
       "      <td>1.70</td>\n",
       "    </tr>\n",
       "    <tr>\n",
       "      <th>4</th>\n",
       "      <td>The French Connection</td>\n",
       "      <td>1971</td>\n",
       "      <td>A</td>\n",
       "      <td>104 min</td>\n",
       "      <td>104</td>\n",
       "      <td>Action</td>\n",
       "      <td>7.7</td>\n",
       "      <td>110075</td>\n",
       "      <td>15630710</td>\n",
       "      <td>1.73</td>\n",
       "    </tr>\n",
       "    <tr>\n",
       "      <th>...</th>\n",
       "      <td>...</td>\n",
       "      <td>...</td>\n",
       "      <td>...</td>\n",
       "      <td>...</td>\n",
       "      <td>...</td>\n",
       "      <td>...</td>\n",
       "      <td>...</td>\n",
       "      <td>...</td>\n",
       "      <td>...</td>\n",
       "      <td>...</td>\n",
       "    </tr>\n",
       "    <tr>\n",
       "      <th>896</th>\n",
       "      <td>Hiroshima mon amour</td>\n",
       "      <td>1959</td>\n",
       "      <td>UA</td>\n",
       "      <td>90 min</td>\n",
       "      <td>90</td>\n",
       "      <td>Drama</td>\n",
       "      <td>7.9</td>\n",
       "      <td>28421</td>\n",
       "      <td>88300</td>\n",
       "      <td>1.50</td>\n",
       "    </tr>\n",
       "    <tr>\n",
       "      <th>897</th>\n",
       "      <td>Gravity</td>\n",
       "      <td>2013</td>\n",
       "      <td>UA</td>\n",
       "      <td>91 min</td>\n",
       "      <td>91</td>\n",
       "      <td>Drama</td>\n",
       "      <td>7.7</td>\n",
       "      <td>769145</td>\n",
       "      <td>274092705</td>\n",
       "      <td>1.52</td>\n",
       "    </tr>\n",
       "    <tr>\n",
       "      <th>898</th>\n",
       "      <td>Pink Floyd: The Wall</td>\n",
       "      <td>1982</td>\n",
       "      <td>UA</td>\n",
       "      <td>95 min</td>\n",
       "      <td>95</td>\n",
       "      <td>Drama</td>\n",
       "      <td>8.1</td>\n",
       "      <td>76081</td>\n",
       "      <td>22244207</td>\n",
       "      <td>1.58</td>\n",
       "    </tr>\n",
       "    <tr>\n",
       "      <th>899</th>\n",
       "      <td>Ivanovo detstvo</td>\n",
       "      <td>1962</td>\n",
       "      <td>UA</td>\n",
       "      <td>95 min</td>\n",
       "      <td>95</td>\n",
       "      <td>Drama</td>\n",
       "      <td>8.1</td>\n",
       "      <td>31728</td>\n",
       "      <td>102621</td>\n",
       "      <td>1.58</td>\n",
       "    </tr>\n",
       "    <tr>\n",
       "      <th>900</th>\n",
       "      <td>Lifeboat</td>\n",
       "      <td>1944</td>\n",
       "      <td>UA</td>\n",
       "      <td>97 min</td>\n",
       "      <td>97</td>\n",
       "      <td>Drama</td>\n",
       "      <td>7.6</td>\n",
       "      <td>26471</td>\n",
       "      <td>13780424</td>\n",
       "      <td>1.62</td>\n",
       "    </tr>\n",
       "  </tbody>\n",
       "</table>\n",
       "<p>901 rows × 10 columns</p>\n",
       "</div>"
      ],
      "text/plain": [
       "              Series_Title Released_Year Certificate  Runtime  Runtime2  \\\n",
       "0                 Oldeuboi          2003           A  101 min       101   \n",
       "1             Serbuan maut          2011           A  101 min       101   \n",
       "2         Enter the Dragon          1973           A  102 min       102   \n",
       "3              Dirty Harry          1971           A  102 min       102   \n",
       "4    The French Connection          1971           A  104 min       104   \n",
       "..                     ...           ...         ...      ...       ...   \n",
       "896    Hiroshima mon amour          1959          UA   90 min        90   \n",
       "897                Gravity          2013          UA   91 min        91   \n",
       "898   Pink Floyd: The Wall          1982          UA   95 min        95   \n",
       "899        Ivanovo detstvo          1962          UA   95 min        95   \n",
       "900               Lifeboat          1944          UA   97 min        97   \n",
       "\n",
       "      Genre  IMDB_Rating  No_of_Votes      Gross  Runtime in hours  \n",
       "0    Action          8.4       515451     707481              1.68  \n",
       "1    Action          7.6       190531    4105123              1.68  \n",
       "2    Action          7.7        96561   25000000              1.70  \n",
       "3    Action          7.7       143292   35900000              1.70  \n",
       "4    Action          7.7       110075   15630710              1.73  \n",
       "..      ...          ...          ...        ...               ...  \n",
       "896   Drama          7.9        28421      88300              1.50  \n",
       "897   Drama          7.7       769145  274092705              1.52  \n",
       "898   Drama          8.1        76081   22244207              1.58  \n",
       "899   Drama          8.1        31728     102621              1.58  \n",
       "900   Drama          7.6        26471   13780424              1.62  \n",
       "\n",
       "[901 rows x 10 columns]"
      ]
     },
     "execution_count": 124,
     "metadata": {},
     "output_type": "execute_result"
    }
   ],
   "source": [
    "df['Runtime in hours'] = np.round(df['Runtime2']/60, 2)\n",
    "df"
   ]
  },
  {
   "cell_type": "code",
   "execution_count": 127,
   "id": "ba136713",
   "metadata": {},
   "outputs": [
    {
     "data": {
      "application/vnd.microsoft.datawrangler.viewer.v0+json": {
       "columns": [
        {
         "name": "index",
         "rawType": "int64",
         "type": "integer"
        },
        {
         "name": "Series_Title",
         "rawType": "object",
         "type": "string"
        },
        {
         "name": "Released_Year",
         "rawType": "object",
         "type": "string"
        },
        {
         "name": "Certificate",
         "rawType": "object",
         "type": "string"
        },
        {
         "name": "Runtime",
         "rawType": "object",
         "type": "string"
        },
        {
         "name": "Runtime2",
         "rawType": "int64",
         "type": "integer"
        },
        {
         "name": "Genre",
         "rawType": "object",
         "type": "string"
        },
        {
         "name": "IMDB_Rating",
         "rawType": "float64",
         "type": "float"
        },
        {
         "name": "No_of_Votes",
         "rawType": "int64",
         "type": "integer"
        },
        {
         "name": "Gross",
         "rawType": "int64",
         "type": "integer"
        }
       ],
       "ref": "daeb9f90-0c87-4208-aebd-623a5f859d87",
       "rows": [
        [
         "0",
         "Oldeuboi",
         "2003",
         "A",
         "101 min",
         "101",
         "Action",
         "8.4",
         "515451",
         "707481"
        ],
        [
         "1",
         "Serbuan maut",
         "2011",
         "A",
         "101 min",
         "101",
         "Action",
         "7.6",
         "190531",
         "4105123"
        ],
        [
         "2",
         "Enter the Dragon",
         "1973",
         "A",
         "102 min",
         "102",
         "Action",
         "7.7",
         "96561",
         "25000000"
        ],
        [
         "3",
         "Dirty Harry",
         "1971",
         "A",
         "102 min",
         "102",
         "Action",
         "7.7",
         "143292",
         "35900000"
        ],
        [
         "4",
         "The French Connection",
         "1971",
         "A",
         "104 min",
         "104",
         "Action",
         "7.7",
         "110075",
         "15630710"
        ],
        [
         "5",
         "Lock, Stock and Two Smoking Barrels",
         "1998",
         "A",
         "107 min",
         "107",
         "Action",
         "8.2",
         "535216",
         "3897569"
        ],
        [
         "6",
         "Predator",
         "1987",
         "A",
         "107 min",
         "107",
         "Action",
         "7.8",
         "371387",
         "59735548"
        ],
        [
         "7",
         "The Bourne Supremacy",
         "2004",
         "A",
         "108 min",
         "108",
         "Action",
         "7.7",
         "434841",
         "176241941"
        ],
        [
         "8",
         "End of Watch",
         "2012",
         "A",
         "109 min",
         "109",
         "Action",
         "7.6",
         "228132",
         "41003371"
        ],
        [
         "9",
         "Lethal Weapon",
         "1987",
         "A",
         "109 min",
         "109",
         "Action",
         "7.6",
         "236894",
         "65207127"
        ],
        [
         "10",
         "Léon",
         "1994",
         "A",
         "110 min",
         "110",
         "Action",
         "8.5",
         "1035236",
         "19501238"
        ],
        [
         "11",
         "Yôjinbô",
         "1961",
         "A",
         "110 min",
         "110",
         "Action",
         "8.2",
         "111244",
         "12100200"
        ],
        [
         "12",
         "Gongdong gyeongbi guyeok JSA",
         "2000",
         "A",
         "110 min",
         "110",
         "Action",
         "7.8",
         "26518",
         "181855"
        ],
        [
         "13",
         "Goldfinger",
         "1964",
         "A",
         "110 min",
         "110",
         "Action",
         "7.7",
         "174119",
         "51081062"
        ],
        [
         "14",
         "Bonnie and Clyde",
         "1967",
         "A",
         "111 min",
         "111",
         "Action",
         "7.8",
         "102415",
         "17550941"
        ],
        [
         "15",
         "District 9",
         "2009",
         "A",
         "112 min",
         "112",
         "Action",
         "7.9",
         "638202",
         "115646235"
        ],
        [
         "16",
         "Escape from Alcatraz",
         "1979",
         "A",
         "112 min",
         "112",
         "Action",
         "7.6",
         "121731",
         "43000000"
        ],
        [
         "17",
         "The Gentlemen",
         "2019",
         "A",
         "113 min",
         "113",
         "Action",
         "7.8",
         "237392",
         "2537920"
        ],
        [
         "18",
         "White Heat",
         "1949",
         "A",
         "114 min",
         "114",
         "Action",
         "8.1",
         "29807",
         "44908400"
        ],
        [
         "19",
         "Raiders of the Lost Ark",
         "1981",
         "A",
         "115 min",
         "115",
         "Action",
         "8.4",
         "884112",
         "248159971"
        ],
        [
         "20",
         "300",
         "2006",
         "A",
         "117 min",
         "117",
         "Action",
         "7.6",
         "732876",
         "210614939"
        ],
        [
         "21",
         "Sicario",
         "2015",
         "A",
         "121 min",
         "121",
         "Action",
         "7.6",
         "371291",
         "46889293"
        ],
        [
         "22",
         "3:10 to Yuma",
         "2007",
         "A",
         "122 min",
         "122",
         "Action",
         "7.7",
         "288797",
         "53606916"
        ],
        [
         "23",
         "Dawn of the Dead",
         "1978",
         "A",
         "127 min",
         "127",
         "Action",
         "7.9",
         "111512",
         "5100000"
        ],
        [
         "24",
         "Nefes: Vatan Sagolsun",
         "2009",
         "A",
         "128 min",
         "128",
         "Action",
         "8.0",
         "31838",
         "107062"
        ],
        [
         "25",
         "Die Hard: With a Vengeance",
         "1995",
         "A",
         "128 min",
         "128",
         "Action",
         "7.6",
         "364420",
         "100012499"
        ],
        [
         "26",
         "Kingsman: The Secret Service",
         "2014",
         "A",
         "129 min",
         "129",
         "Action",
         "7.7",
         "590440",
         "128261724"
        ],
        [
         "27",
         "V for Vendetta",
         "2005",
         "A",
         "132 min",
         "132",
         "Action",
         "8.2",
         "1032749",
         "70511035"
        ],
        [
         "28",
         "Die Hard",
         "1988",
         "A",
         "132 min",
         "132",
         "Action",
         "8.2",
         "793164",
         "83008852"
        ],
        [
         "29",
         "Seppuku",
         "1962",
         "A",
         "133 min",
         "133",
         "Action",
         "8.6",
         "42004",
         "130743122"
        ],
        [
         "30",
         "The Matrix",
         "1999",
         "A",
         "136 min",
         "136",
         "Action",
         "8.7",
         "1676426",
         "171479930"
        ],
        [
         "31",
         "Logan",
         "2017",
         "A",
         "137 min",
         "137",
         "Action",
         "8.1",
         "647884",
         "226277068"
        ],
        [
         "32",
         "Kill Bill: Vol. 2",
         "2004",
         "A",
         "137 min",
         "137",
         "Action",
         "8.0",
         "683900",
         "66208183"
        ],
        [
         "33",
         "Apocalypto",
         "2006",
         "A",
         "139 min",
         "139",
         "Action",
         "7.8",
         "291018",
         "50866635"
        ],
        [
         "34",
         "Ang-ma-reul bo-at-da",
         "2010",
         "A",
         "144 min",
         "144",
         "Action",
         "7.8",
         "111252",
         "128392"
        ],
        [
         "35",
         "The Wild Bunch",
         "1969",
         "A",
         "145 min",
         "145",
         "Action",
         "7.9",
         "77401",
         "12064472"
        ],
        [
         "36",
         "Minority Report",
         "2002",
         "A",
         "145 min",
         "145",
         "Action",
         "7.6",
         "508417",
         "132072926"
        ],
        [
         "37",
         "Udta Punjab",
         "2016",
         "A",
         "148 min",
         "148",
         "Action",
         "7.8",
         "27175",
         "169607487"
        ],
        [
         "38",
         "Serbuan maut 2: Berandal",
         "2014",
         "A",
         "150 min",
         "150",
         "Action",
         "8.0",
         "114316",
         "2625803"
        ],
        [
         "39",
         "The Revenant",
         "2015",
         "A",
         "156 min",
         "156",
         "Action",
         "8.0",
         "705589",
         "183637894"
        ],
        [
         "40",
         "Watchmen",
         "2009",
         "A",
         "162 min",
         "162",
         "Action",
         "7.6",
         "500799",
         "107509799"
        ],
        [
         "41",
         "Gangs of Wasseypur",
         "2012",
         "A",
         "321 min",
         "321",
         "Action",
         "8.2",
         "82365",
         "144701"
        ],
        [
         "42",
         "Evil Dead II",
         "1987",
         "A",
         "84 min",
         "84",
         "Action",
         "7.8",
         "148359",
         "5923044"
        ],
        [
         "43",
         "Knockin' on Heaven's Door",
         "1997",
         "A",
         "87 min",
         "87",
         "Action",
         "8.0",
         "27721",
         "3296"
        ],
        [
         "44",
         "Taken",
         "2008",
         "A",
         "90 min",
         "90",
         "Action",
         "7.8",
         "564791",
         "145000989"
        ],
        [
         "45",
         "First Blood",
         "1982",
         "A",
         "93 min",
         "93",
         "Action",
         "7.7",
         "226541",
         "47212904"
        ],
        [
         "46",
         "Aguirre, der Zorn Gottes",
         "1972",
         "A",
         "95 min",
         "95",
         "Action",
         "7.9",
         "52397",
         "70600400"
        ],
        [
         "47",
         "Mad Max 2",
         "1981",
         "A",
         "96 min",
         "96",
         "Action",
         "7.6",
         "166588",
         "12465371"
        ],
        [
         "48",
         "Per un pugno di dollari",
         "1964",
         "A",
         "99 min",
         "99",
         "Action",
         "8.0",
         "198219",
         "14500000"
        ],
        [
         "49",
         "Red River",
         "1948",
         "Passed",
         "133 min",
         "133",
         "Action",
         "7.8",
         "28167",
         "2616200"
        ]
       ],
       "shape": {
        "columns": 9,
        "rows": 901
       }
      },
      "text/html": [
       "<div>\n",
       "<style scoped>\n",
       "    .dataframe tbody tr th:only-of-type {\n",
       "        vertical-align: middle;\n",
       "    }\n",
       "\n",
       "    .dataframe tbody tr th {\n",
       "        vertical-align: top;\n",
       "    }\n",
       "\n",
       "    .dataframe thead th {\n",
       "        text-align: right;\n",
       "    }\n",
       "</style>\n",
       "<table border=\"1\" class=\"dataframe\">\n",
       "  <thead>\n",
       "    <tr style=\"text-align: right;\">\n",
       "      <th></th>\n",
       "      <th>Series_Title</th>\n",
       "      <th>Released_Year</th>\n",
       "      <th>Certificate</th>\n",
       "      <th>Runtime</th>\n",
       "      <th>Runtime2</th>\n",
       "      <th>Genre</th>\n",
       "      <th>IMDB_Rating</th>\n",
       "      <th>No_of_Votes</th>\n",
       "      <th>Gross</th>\n",
       "    </tr>\n",
       "  </thead>\n",
       "  <tbody>\n",
       "    <tr>\n",
       "      <th>0</th>\n",
       "      <td>Oldeuboi</td>\n",
       "      <td>2003</td>\n",
       "      <td>A</td>\n",
       "      <td>101 min</td>\n",
       "      <td>101</td>\n",
       "      <td>Action</td>\n",
       "      <td>8.4</td>\n",
       "      <td>515451</td>\n",
       "      <td>707481</td>\n",
       "    </tr>\n",
       "    <tr>\n",
       "      <th>1</th>\n",
       "      <td>Serbuan maut</td>\n",
       "      <td>2011</td>\n",
       "      <td>A</td>\n",
       "      <td>101 min</td>\n",
       "      <td>101</td>\n",
       "      <td>Action</td>\n",
       "      <td>7.6</td>\n",
       "      <td>190531</td>\n",
       "      <td>4105123</td>\n",
       "    </tr>\n",
       "    <tr>\n",
       "      <th>2</th>\n",
       "      <td>Enter the Dragon</td>\n",
       "      <td>1973</td>\n",
       "      <td>A</td>\n",
       "      <td>102 min</td>\n",
       "      <td>102</td>\n",
       "      <td>Action</td>\n",
       "      <td>7.7</td>\n",
       "      <td>96561</td>\n",
       "      <td>25000000</td>\n",
       "    </tr>\n",
       "    <tr>\n",
       "      <th>3</th>\n",
       "      <td>Dirty Harry</td>\n",
       "      <td>1971</td>\n",
       "      <td>A</td>\n",
       "      <td>102 min</td>\n",
       "      <td>102</td>\n",
       "      <td>Action</td>\n",
       "      <td>7.7</td>\n",
       "      <td>143292</td>\n",
       "      <td>35900000</td>\n",
       "    </tr>\n",
       "    <tr>\n",
       "      <th>4</th>\n",
       "      <td>The French Connection</td>\n",
       "      <td>1971</td>\n",
       "      <td>A</td>\n",
       "      <td>104 min</td>\n",
       "      <td>104</td>\n",
       "      <td>Action</td>\n",
       "      <td>7.7</td>\n",
       "      <td>110075</td>\n",
       "      <td>15630710</td>\n",
       "    </tr>\n",
       "    <tr>\n",
       "      <th>...</th>\n",
       "      <td>...</td>\n",
       "      <td>...</td>\n",
       "      <td>...</td>\n",
       "      <td>...</td>\n",
       "      <td>...</td>\n",
       "      <td>...</td>\n",
       "      <td>...</td>\n",
       "      <td>...</td>\n",
       "      <td>...</td>\n",
       "    </tr>\n",
       "    <tr>\n",
       "      <th>896</th>\n",
       "      <td>Hiroshima mon amour</td>\n",
       "      <td>1959</td>\n",
       "      <td>UA</td>\n",
       "      <td>90 min</td>\n",
       "      <td>90</td>\n",
       "      <td>Drama</td>\n",
       "      <td>7.9</td>\n",
       "      <td>28421</td>\n",
       "      <td>88300</td>\n",
       "    </tr>\n",
       "    <tr>\n",
       "      <th>897</th>\n",
       "      <td>Gravity</td>\n",
       "      <td>2013</td>\n",
       "      <td>UA</td>\n",
       "      <td>91 min</td>\n",
       "      <td>91</td>\n",
       "      <td>Drama</td>\n",
       "      <td>7.7</td>\n",
       "      <td>769145</td>\n",
       "      <td>274092705</td>\n",
       "    </tr>\n",
       "    <tr>\n",
       "      <th>898</th>\n",
       "      <td>Pink Floyd: The Wall</td>\n",
       "      <td>1982</td>\n",
       "      <td>UA</td>\n",
       "      <td>95 min</td>\n",
       "      <td>95</td>\n",
       "      <td>Drama</td>\n",
       "      <td>8.1</td>\n",
       "      <td>76081</td>\n",
       "      <td>22244207</td>\n",
       "    </tr>\n",
       "    <tr>\n",
       "      <th>899</th>\n",
       "      <td>Ivanovo detstvo</td>\n",
       "      <td>1962</td>\n",
       "      <td>UA</td>\n",
       "      <td>95 min</td>\n",
       "      <td>95</td>\n",
       "      <td>Drama</td>\n",
       "      <td>8.1</td>\n",
       "      <td>31728</td>\n",
       "      <td>102621</td>\n",
       "    </tr>\n",
       "    <tr>\n",
       "      <th>900</th>\n",
       "      <td>Lifeboat</td>\n",
       "      <td>1944</td>\n",
       "      <td>UA</td>\n",
       "      <td>97 min</td>\n",
       "      <td>97</td>\n",
       "      <td>Drama</td>\n",
       "      <td>7.6</td>\n",
       "      <td>26471</td>\n",
       "      <td>13780424</td>\n",
       "    </tr>\n",
       "  </tbody>\n",
       "</table>\n",
       "<p>901 rows × 9 columns</p>\n",
       "</div>"
      ],
      "text/plain": [
       "              Series_Title Released_Year Certificate  Runtime  Runtime2  \\\n",
       "0                 Oldeuboi          2003           A  101 min       101   \n",
       "1             Serbuan maut          2011           A  101 min       101   \n",
       "2         Enter the Dragon          1973           A  102 min       102   \n",
       "3              Dirty Harry          1971           A  102 min       102   \n",
       "4    The French Connection          1971           A  104 min       104   \n",
       "..                     ...           ...         ...      ...       ...   \n",
       "896    Hiroshima mon amour          1959          UA   90 min        90   \n",
       "897                Gravity          2013          UA   91 min        91   \n",
       "898   Pink Floyd: The Wall          1982          UA   95 min        95   \n",
       "899        Ivanovo detstvo          1962          UA   95 min        95   \n",
       "900               Lifeboat          1944          UA   97 min        97   \n",
       "\n",
       "      Genre  IMDB_Rating  No_of_Votes      Gross  \n",
       "0    Action          8.4       515451     707481  \n",
       "1    Action          7.6       190531    4105123  \n",
       "2    Action          7.7        96561   25000000  \n",
       "3    Action          7.7       143292   35900000  \n",
       "4    Action          7.7       110075   15630710  \n",
       "..      ...          ...          ...        ...  \n",
       "896   Drama          7.9        28421      88300  \n",
       "897   Drama          7.7       769145  274092705  \n",
       "898   Drama          8.1        76081   22244207  \n",
       "899   Drama          8.1        31728     102621  \n",
       "900   Drama          7.6        26471   13780424  \n",
       "\n",
       "[901 rows x 9 columns]"
      ]
     },
     "execution_count": 127,
     "metadata": {},
     "output_type": "execute_result"
    }
   ],
   "source": [
    "df.drop('Runtime in hours', axis=1,inplace=True)\n",
    "df"
   ]
  },
  {
   "cell_type": "code",
   "execution_count": 128,
   "id": "c1a25266",
   "metadata": {},
   "outputs": [
    {
     "data": {
      "application/vnd.microsoft.datawrangler.viewer.v0+json": {
       "columns": [
        {
         "name": "index",
         "rawType": "int64",
         "type": "integer"
        },
        {
         "name": "Series_Title",
         "rawType": "object",
         "type": "string"
        },
        {
         "name": "Released_Year",
         "rawType": "object",
         "type": "string"
        },
        {
         "name": "Certificate",
         "rawType": "object",
         "type": "string"
        },
        {
         "name": "Runtime",
         "rawType": "object",
         "type": "string"
        },
        {
         "name": "Runtime2",
         "rawType": "int64",
         "type": "integer"
        },
        {
         "name": "Genre",
         "rawType": "object",
         "type": "string"
        },
        {
         "name": "IMDB_Rating",
         "rawType": "float64",
         "type": "float"
        },
        {
         "name": "No_of_Votes",
         "rawType": "int64",
         "type": "integer"
        },
        {
         "name": "Gross",
         "rawType": "int64",
         "type": "integer"
        }
       ],
       "ref": "17c429d1-9091-45cc-ab2e-0375403b8fbe",
       "rows": [
        [
         "0",
         "Oldeuboi",
         "2003",
         "A",
         "101 min",
         "101",
         "Action",
         "8.4",
         "515451",
         "707481"
        ],
        [
         "1",
         "Serbuan maut",
         "2011",
         "A",
         "101 min",
         "101",
         "Action",
         "7.6",
         "190531",
         "4105123"
        ],
        [
         "2",
         "Enter the Dragon",
         "1973",
         "A",
         "102 min",
         "102",
         "Action",
         "7.7",
         "96561",
         "25000000"
        ],
        [
         "3",
         "Dirty Harry",
         "1971",
         "A",
         "102 min",
         "102",
         "Action",
         "7.7",
         "143292",
         "35900000"
        ],
        [
         "4",
         "The French Connection",
         "1971",
         "A",
         "104 min",
         "104",
         "Action",
         "7.7",
         "110075",
         "15630710"
        ],
        [
         "5",
         "Lock, Stock and Two Smoking Barrels",
         "1998",
         "A",
         "107 min",
         "107",
         "Action",
         "8.2",
         "535216",
         "3897569"
        ],
        [
         "6",
         "Predator",
         "1987",
         "A",
         "107 min",
         "107",
         "Action",
         "7.8",
         "371387",
         "59735548"
        ],
        [
         "7",
         "The Bourne Supremacy",
         "2004",
         "A",
         "108 min",
         "108",
         "Action",
         "7.7",
         "434841",
         "176241941"
        ],
        [
         "8",
         "End of Watch",
         "2012",
         "A",
         "109 min",
         "109",
         "Action",
         "7.6",
         "228132",
         "41003371"
        ],
        [
         "9",
         "Lethal Weapon",
         "1987",
         "A",
         "109 min",
         "109",
         "Action",
         "7.6",
         "236894",
         "65207127"
        ],
        [
         "10",
         "Léon",
         "1994",
         "A",
         "110 min",
         "110",
         "Action",
         "8.5",
         "1035236",
         "19501238"
        ],
        [
         "11",
         "Yôjinbô",
         "1961",
         "A",
         "110 min",
         "110",
         "Action",
         "8.2",
         "111244",
         "12100200"
        ],
        [
         "12",
         "Gongdong gyeongbi guyeok JSA",
         "2000",
         "A",
         "110 min",
         "110",
         "Action",
         "7.8",
         "26518",
         "181855"
        ],
        [
         "13",
         "Goldfinger",
         "1964",
         "A",
         "110 min",
         "110",
         "Action",
         "7.7",
         "174119",
         "51081062"
        ],
        [
         "14",
         "Bonnie and Clyde",
         "1967",
         "A",
         "111 min",
         "111",
         "Action",
         "7.8",
         "102415",
         "17550941"
        ],
        [
         "15",
         "District 9",
         "2009",
         "A",
         "112 min",
         "112",
         "Action",
         "7.9",
         "638202",
         "115646235"
        ],
        [
         "16",
         "Escape from Alcatraz",
         "1979",
         "A",
         "112 min",
         "112",
         "Action",
         "7.6",
         "121731",
         "43000000"
        ],
        [
         "17",
         "The Gentlemen",
         "2019",
         "A",
         "113 min",
         "113",
         "Action",
         "7.8",
         "237392",
         "2537920"
        ],
        [
         "18",
         "White Heat",
         "1949",
         "A",
         "114 min",
         "114",
         "Action",
         "8.1",
         "29807",
         "44908400"
        ],
        [
         "19",
         "Raiders of the Lost Ark",
         "1981",
         "A",
         "115 min",
         "115",
         "Action",
         "8.4",
         "884112",
         "248159971"
        ],
        [
         "20",
         "300",
         "2006",
         "A",
         "117 min",
         "117",
         "Action",
         "7.6",
         "732876",
         "210614939"
        ],
        [
         "21",
         "Sicario",
         "2015",
         "A",
         "121 min",
         "121",
         "Action",
         "7.6",
         "371291",
         "46889293"
        ],
        [
         "22",
         "3:10 to Yuma",
         "2007",
         "A",
         "122 min",
         "122",
         "Action",
         "7.7",
         "288797",
         "53606916"
        ],
        [
         "23",
         "Dawn of the Dead",
         "1978",
         "A",
         "127 min",
         "127",
         "Action",
         "7.9",
         "111512",
         "5100000"
        ],
        [
         "24",
         "Nefes: Vatan Sagolsun",
         "2009",
         "A",
         "128 min",
         "128",
         "Action",
         "8.0",
         "31838",
         "107062"
        ],
        [
         "25",
         "Die Hard: With a Vengeance",
         "1995",
         "A",
         "128 min",
         "128",
         "Action",
         "7.6",
         "364420",
         "100012499"
        ],
        [
         "26",
         "Kingsman: The Secret Service",
         "2014",
         "A",
         "129 min",
         "129",
         "Action",
         "7.7",
         "590440",
         "128261724"
        ],
        [
         "27",
         "V for Vendetta",
         "2005",
         "A",
         "132 min",
         "132",
         "Action",
         "8.2",
         "1032749",
         "70511035"
        ],
        [
         "28",
         "Die Hard",
         "1988",
         "A",
         "132 min",
         "132",
         "Action",
         "8.2",
         "793164",
         "83008852"
        ],
        [
         "29",
         "Seppuku",
         "1962",
         "A",
         "133 min",
         "133",
         "Action",
         "8.6",
         "42004",
         "130743122"
        ],
        [
         "30",
         "The Matrix",
         "1999",
         "A",
         "136 min",
         "136",
         "Action",
         "8.7",
         "1676426",
         "171479930"
        ],
        [
         "31",
         "Logan",
         "2017",
         "A",
         "137 min",
         "137",
         "Action",
         "8.1",
         "647884",
         "226277068"
        ],
        [
         "32",
         "Kill Bill: Vol. 2",
         "2004",
         "A",
         "137 min",
         "137",
         "Action",
         "8.0",
         "683900",
         "66208183"
        ],
        [
         "33",
         "Apocalypto",
         "2006",
         "A",
         "139 min",
         "139",
         "Action",
         "7.8",
         "291018",
         "50866635"
        ],
        [
         "34",
         "Ang-ma-reul bo-at-da",
         "2010",
         "A",
         "144 min",
         "144",
         "Action",
         "7.8",
         "111252",
         "128392"
        ],
        [
         "35",
         "The Wild Bunch",
         "1969",
         "A",
         "145 min",
         "145",
         "Action",
         "7.9",
         "77401",
         "12064472"
        ],
        [
         "36",
         "Minority Report",
         "2002",
         "A",
         "145 min",
         "145",
         "Action",
         "7.6",
         "508417",
         "132072926"
        ],
        [
         "37",
         "Udta Punjab",
         "2016",
         "A",
         "148 min",
         "148",
         "Action",
         "7.8",
         "27175",
         "169607487"
        ],
        [
         "38",
         "Serbuan maut 2: Berandal",
         "2014",
         "A",
         "150 min",
         "150",
         "Action",
         "8.0",
         "114316",
         "2625803"
        ],
        [
         "39",
         "The Revenant",
         "2015",
         "A",
         "156 min",
         "156",
         "Action",
         "8.0",
         "705589",
         "183637894"
        ],
        [
         "40",
         "Watchmen",
         "2009",
         "A",
         "162 min",
         "162",
         "Action",
         "7.6",
         "500799",
         "107509799"
        ],
        [
         "41",
         "Gangs of Wasseypur",
         "2012",
         "A",
         "321 min",
         "321",
         "Action",
         "8.2",
         "82365",
         "144701"
        ],
        [
         "42",
         "Evil Dead II",
         "1987",
         "A",
         "84 min",
         "84",
         "Action",
         "7.8",
         "148359",
         "5923044"
        ],
        [
         "43",
         "Knockin' on Heaven's Door",
         "1997",
         "A",
         "87 min",
         "87",
         "Action",
         "8.0",
         "27721",
         "3296"
        ],
        [
         "44",
         "Taken",
         "2008",
         "A",
         "90 min",
         "90",
         "Action",
         "7.8",
         "564791",
         "145000989"
        ],
        [
         "45",
         "First Blood",
         "1982",
         "A",
         "93 min",
         "93",
         "Action",
         "7.7",
         "226541",
         "47212904"
        ],
        [
         "46",
         "Aguirre, der Zorn Gottes",
         "1972",
         "A",
         "95 min",
         "95",
         "Action",
         "7.9",
         "52397",
         "70600400"
        ],
        [
         "47",
         "Mad Max 2",
         "1981",
         "A",
         "96 min",
         "96",
         "Action",
         "7.6",
         "166588",
         "12465371"
        ],
        [
         "48",
         "Per un pugno di dollari",
         "1964",
         "A",
         "99 min",
         "99",
         "Action",
         "8.0",
         "198219",
         "14500000"
        ],
        [
         "49",
         "Red River",
         "1948",
         "Passed",
         "133 min",
         "133",
         "Action",
         "7.8",
         "28167",
         "2616200"
        ]
       ],
       "shape": {
        "columns": 9,
        "rows": 901
       }
      },
      "text/html": [
       "<div>\n",
       "<style scoped>\n",
       "    .dataframe tbody tr th:only-of-type {\n",
       "        vertical-align: middle;\n",
       "    }\n",
       "\n",
       "    .dataframe tbody tr th {\n",
       "        vertical-align: top;\n",
       "    }\n",
       "\n",
       "    .dataframe thead th {\n",
       "        text-align: right;\n",
       "    }\n",
       "</style>\n",
       "<table border=\"1\" class=\"dataframe\">\n",
       "  <thead>\n",
       "    <tr style=\"text-align: right;\">\n",
       "      <th></th>\n",
       "      <th>Series_Title</th>\n",
       "      <th>Released_Year</th>\n",
       "      <th>Certificate</th>\n",
       "      <th>Runtime</th>\n",
       "      <th>Runtime2</th>\n",
       "      <th>Genre</th>\n",
       "      <th>IMDB_Rating</th>\n",
       "      <th>No_of_Votes</th>\n",
       "      <th>Gross</th>\n",
       "    </tr>\n",
       "  </thead>\n",
       "  <tbody>\n",
       "    <tr>\n",
       "      <th>0</th>\n",
       "      <td>Oldeuboi</td>\n",
       "      <td>2003</td>\n",
       "      <td>A</td>\n",
       "      <td>101 min</td>\n",
       "      <td>101</td>\n",
       "      <td>Action</td>\n",
       "      <td>8.4</td>\n",
       "      <td>515451</td>\n",
       "      <td>707481</td>\n",
       "    </tr>\n",
       "    <tr>\n",
       "      <th>1</th>\n",
       "      <td>Serbuan maut</td>\n",
       "      <td>2011</td>\n",
       "      <td>A</td>\n",
       "      <td>101 min</td>\n",
       "      <td>101</td>\n",
       "      <td>Action</td>\n",
       "      <td>7.6</td>\n",
       "      <td>190531</td>\n",
       "      <td>4105123</td>\n",
       "    </tr>\n",
       "    <tr>\n",
       "      <th>2</th>\n",
       "      <td>Enter the Dragon</td>\n",
       "      <td>1973</td>\n",
       "      <td>A</td>\n",
       "      <td>102 min</td>\n",
       "      <td>102</td>\n",
       "      <td>Action</td>\n",
       "      <td>7.7</td>\n",
       "      <td>96561</td>\n",
       "      <td>25000000</td>\n",
       "    </tr>\n",
       "    <tr>\n",
       "      <th>3</th>\n",
       "      <td>Dirty Harry</td>\n",
       "      <td>1971</td>\n",
       "      <td>A</td>\n",
       "      <td>102 min</td>\n",
       "      <td>102</td>\n",
       "      <td>Action</td>\n",
       "      <td>7.7</td>\n",
       "      <td>143292</td>\n",
       "      <td>35900000</td>\n",
       "    </tr>\n",
       "    <tr>\n",
       "      <th>4</th>\n",
       "      <td>The French Connection</td>\n",
       "      <td>1971</td>\n",
       "      <td>A</td>\n",
       "      <td>104 min</td>\n",
       "      <td>104</td>\n",
       "      <td>Action</td>\n",
       "      <td>7.7</td>\n",
       "      <td>110075</td>\n",
       "      <td>15630710</td>\n",
       "    </tr>\n",
       "    <tr>\n",
       "      <th>...</th>\n",
       "      <td>...</td>\n",
       "      <td>...</td>\n",
       "      <td>...</td>\n",
       "      <td>...</td>\n",
       "      <td>...</td>\n",
       "      <td>...</td>\n",
       "      <td>...</td>\n",
       "      <td>...</td>\n",
       "      <td>...</td>\n",
       "    </tr>\n",
       "    <tr>\n",
       "      <th>896</th>\n",
       "      <td>Hiroshima mon amour</td>\n",
       "      <td>1959</td>\n",
       "      <td>UA</td>\n",
       "      <td>90 min</td>\n",
       "      <td>90</td>\n",
       "      <td>Drama</td>\n",
       "      <td>7.9</td>\n",
       "      <td>28421</td>\n",
       "      <td>88300</td>\n",
       "    </tr>\n",
       "    <tr>\n",
       "      <th>897</th>\n",
       "      <td>Gravity</td>\n",
       "      <td>2013</td>\n",
       "      <td>UA</td>\n",
       "      <td>91 min</td>\n",
       "      <td>91</td>\n",
       "      <td>Drama</td>\n",
       "      <td>7.7</td>\n",
       "      <td>769145</td>\n",
       "      <td>274092705</td>\n",
       "    </tr>\n",
       "    <tr>\n",
       "      <th>898</th>\n",
       "      <td>Pink Floyd: The Wall</td>\n",
       "      <td>1982</td>\n",
       "      <td>UA</td>\n",
       "      <td>95 min</td>\n",
       "      <td>95</td>\n",
       "      <td>Drama</td>\n",
       "      <td>8.1</td>\n",
       "      <td>76081</td>\n",
       "      <td>22244207</td>\n",
       "    </tr>\n",
       "    <tr>\n",
       "      <th>899</th>\n",
       "      <td>Ivanovo detstvo</td>\n",
       "      <td>1962</td>\n",
       "      <td>UA</td>\n",
       "      <td>95 min</td>\n",
       "      <td>95</td>\n",
       "      <td>Drama</td>\n",
       "      <td>8.1</td>\n",
       "      <td>31728</td>\n",
       "      <td>102621</td>\n",
       "    </tr>\n",
       "    <tr>\n",
       "      <th>900</th>\n",
       "      <td>Lifeboat</td>\n",
       "      <td>1944</td>\n",
       "      <td>UA</td>\n",
       "      <td>97 min</td>\n",
       "      <td>97</td>\n",
       "      <td>Drama</td>\n",
       "      <td>7.6</td>\n",
       "      <td>26471</td>\n",
       "      <td>13780424</td>\n",
       "    </tr>\n",
       "  </tbody>\n",
       "</table>\n",
       "<p>901 rows × 9 columns</p>\n",
       "</div>"
      ],
      "text/plain": [
       "              Series_Title Released_Year Certificate  Runtime  Runtime2  \\\n",
       "0                 Oldeuboi          2003           A  101 min       101   \n",
       "1             Serbuan maut          2011           A  101 min       101   \n",
       "2         Enter the Dragon          1973           A  102 min       102   \n",
       "3              Dirty Harry          1971           A  102 min       102   \n",
       "4    The French Connection          1971           A  104 min       104   \n",
       "..                     ...           ...         ...      ...       ...   \n",
       "896    Hiroshima mon amour          1959          UA   90 min        90   \n",
       "897                Gravity          2013          UA   91 min        91   \n",
       "898   Pink Floyd: The Wall          1982          UA   95 min        95   \n",
       "899        Ivanovo detstvo          1962          UA   95 min        95   \n",
       "900               Lifeboat          1944          UA   97 min        97   \n",
       "\n",
       "      Genre  IMDB_Rating  No_of_Votes      Gross  \n",
       "0    Action          8.4       515451     707481  \n",
       "1    Action          7.6       190531    4105123  \n",
       "2    Action          7.7        96561   25000000  \n",
       "3    Action          7.7       143292   35900000  \n",
       "4    Action          7.7       110075   15630710  \n",
       "..      ...          ...          ...        ...  \n",
       "896   Drama          7.9        28421      88300  \n",
       "897   Drama          7.7       769145  274092705  \n",
       "898   Drama          8.1        76081   22244207  \n",
       "899   Drama          8.1        31728     102621  \n",
       "900   Drama          7.6        26471   13780424  \n",
       "\n",
       "[901 rows x 9 columns]"
      ]
     },
     "execution_count": 128,
     "metadata": {},
     "output_type": "execute_result"
    }
   ],
   "source": [
    "df"
   ]
  },
  {
   "cell_type": "code",
   "execution_count": 130,
   "id": "71ae75c7",
   "metadata": {},
   "outputs": [],
   "source": [
    "df = df.set_index('Series_Title')"
   ]
  },
  {
   "cell_type": "code",
   "execution_count": 131,
   "id": "1941eb2a",
   "metadata": {},
   "outputs": [
    {
     "data": {
      "application/vnd.microsoft.datawrangler.viewer.v0+json": {
       "columns": [
        {
         "name": "Series_Title",
         "rawType": "object",
         "type": "string"
        },
        {
         "name": "Released_Year",
         "rawType": "object",
         "type": "string"
        },
        {
         "name": "Certificate",
         "rawType": "object",
         "type": "string"
        },
        {
         "name": "Runtime",
         "rawType": "object",
         "type": "string"
        },
        {
         "name": "Runtime2",
         "rawType": "int64",
         "type": "integer"
        },
        {
         "name": "Genre",
         "rawType": "object",
         "type": "string"
        },
        {
         "name": "IMDB_Rating",
         "rawType": "float64",
         "type": "float"
        },
        {
         "name": "No_of_Votes",
         "rawType": "int64",
         "type": "integer"
        },
        {
         "name": "Gross",
         "rawType": "int64",
         "type": "integer"
        }
       ],
       "ref": "45b246eb-e05a-481f-bd88-08cec286ebc6",
       "rows": [
        [
         "Oldeuboi",
         "2003",
         "A",
         "101 min",
         "101",
         "Action",
         "8.4",
         "515451",
         "707481"
        ],
        [
         "Serbuan maut",
         "2011",
         "A",
         "101 min",
         "101",
         "Action",
         "7.6",
         "190531",
         "4105123"
        ],
        [
         "Enter the Dragon",
         "1973",
         "A",
         "102 min",
         "102",
         "Action",
         "7.7",
         "96561",
         "25000000"
        ],
        [
         "Dirty Harry",
         "1971",
         "A",
         "102 min",
         "102",
         "Action",
         "7.7",
         "143292",
         "35900000"
        ],
        [
         "The French Connection",
         "1971",
         "A",
         "104 min",
         "104",
         "Action",
         "7.7",
         "110075",
         "15630710"
        ],
        [
         "Lock, Stock and Two Smoking Barrels",
         "1998",
         "A",
         "107 min",
         "107",
         "Action",
         "8.2",
         "535216",
         "3897569"
        ],
        [
         "Predator",
         "1987",
         "A",
         "107 min",
         "107",
         "Action",
         "7.8",
         "371387",
         "59735548"
        ],
        [
         "The Bourne Supremacy",
         "2004",
         "A",
         "108 min",
         "108",
         "Action",
         "7.7",
         "434841",
         "176241941"
        ],
        [
         "End of Watch",
         "2012",
         "A",
         "109 min",
         "109",
         "Action",
         "7.6",
         "228132",
         "41003371"
        ],
        [
         "Lethal Weapon",
         "1987",
         "A",
         "109 min",
         "109",
         "Action",
         "7.6",
         "236894",
         "65207127"
        ],
        [
         "Léon",
         "1994",
         "A",
         "110 min",
         "110",
         "Action",
         "8.5",
         "1035236",
         "19501238"
        ],
        [
         "Yôjinbô",
         "1961",
         "A",
         "110 min",
         "110",
         "Action",
         "8.2",
         "111244",
         "12100200"
        ],
        [
         "Gongdong gyeongbi guyeok JSA",
         "2000",
         "A",
         "110 min",
         "110",
         "Action",
         "7.8",
         "26518",
         "181855"
        ],
        [
         "Goldfinger",
         "1964",
         "A",
         "110 min",
         "110",
         "Action",
         "7.7",
         "174119",
         "51081062"
        ],
        [
         "Bonnie and Clyde",
         "1967",
         "A",
         "111 min",
         "111",
         "Action",
         "7.8",
         "102415",
         "17550941"
        ],
        [
         "District 9",
         "2009",
         "A",
         "112 min",
         "112",
         "Action",
         "7.9",
         "638202",
         "115646235"
        ],
        [
         "Escape from Alcatraz",
         "1979",
         "A",
         "112 min",
         "112",
         "Action",
         "7.6",
         "121731",
         "43000000"
        ],
        [
         "The Gentlemen",
         "2019",
         "A",
         "113 min",
         "113",
         "Action",
         "7.8",
         "237392",
         "2537920"
        ],
        [
         "White Heat",
         "1949",
         "A",
         "114 min",
         "114",
         "Action",
         "8.1",
         "29807",
         "44908400"
        ],
        [
         "Raiders of the Lost Ark",
         "1981",
         "A",
         "115 min",
         "115",
         "Action",
         "8.4",
         "884112",
         "248159971"
        ],
        [
         "300",
         "2006",
         "A",
         "117 min",
         "117",
         "Action",
         "7.6",
         "732876",
         "210614939"
        ],
        [
         "Sicario",
         "2015",
         "A",
         "121 min",
         "121",
         "Action",
         "7.6",
         "371291",
         "46889293"
        ],
        [
         "3:10 to Yuma",
         "2007",
         "A",
         "122 min",
         "122",
         "Action",
         "7.7",
         "288797",
         "53606916"
        ],
        [
         "Dawn of the Dead",
         "1978",
         "A",
         "127 min",
         "127",
         "Action",
         "7.9",
         "111512",
         "5100000"
        ],
        [
         "Nefes: Vatan Sagolsun",
         "2009",
         "A",
         "128 min",
         "128",
         "Action",
         "8.0",
         "31838",
         "107062"
        ],
        [
         "Die Hard: With a Vengeance",
         "1995",
         "A",
         "128 min",
         "128",
         "Action",
         "7.6",
         "364420",
         "100012499"
        ],
        [
         "Kingsman: The Secret Service",
         "2014",
         "A",
         "129 min",
         "129",
         "Action",
         "7.7",
         "590440",
         "128261724"
        ],
        [
         "V for Vendetta",
         "2005",
         "A",
         "132 min",
         "132",
         "Action",
         "8.2",
         "1032749",
         "70511035"
        ],
        [
         "Die Hard",
         "1988",
         "A",
         "132 min",
         "132",
         "Action",
         "8.2",
         "793164",
         "83008852"
        ],
        [
         "Seppuku",
         "1962",
         "A",
         "133 min",
         "133",
         "Action",
         "8.6",
         "42004",
         "130743122"
        ],
        [
         "The Matrix",
         "1999",
         "A",
         "136 min",
         "136",
         "Action",
         "8.7",
         "1676426",
         "171479930"
        ],
        [
         "Logan",
         "2017",
         "A",
         "137 min",
         "137",
         "Action",
         "8.1",
         "647884",
         "226277068"
        ],
        [
         "Kill Bill: Vol. 2",
         "2004",
         "A",
         "137 min",
         "137",
         "Action",
         "8.0",
         "683900",
         "66208183"
        ],
        [
         "Apocalypto",
         "2006",
         "A",
         "139 min",
         "139",
         "Action",
         "7.8",
         "291018",
         "50866635"
        ],
        [
         "Ang-ma-reul bo-at-da",
         "2010",
         "A",
         "144 min",
         "144",
         "Action",
         "7.8",
         "111252",
         "128392"
        ],
        [
         "The Wild Bunch",
         "1969",
         "A",
         "145 min",
         "145",
         "Action",
         "7.9",
         "77401",
         "12064472"
        ],
        [
         "Minority Report",
         "2002",
         "A",
         "145 min",
         "145",
         "Action",
         "7.6",
         "508417",
         "132072926"
        ],
        [
         "Udta Punjab",
         "2016",
         "A",
         "148 min",
         "148",
         "Action",
         "7.8",
         "27175",
         "169607487"
        ],
        [
         "Serbuan maut 2: Berandal",
         "2014",
         "A",
         "150 min",
         "150",
         "Action",
         "8.0",
         "114316",
         "2625803"
        ],
        [
         "The Revenant",
         "2015",
         "A",
         "156 min",
         "156",
         "Action",
         "8.0",
         "705589",
         "183637894"
        ],
        [
         "Watchmen",
         "2009",
         "A",
         "162 min",
         "162",
         "Action",
         "7.6",
         "500799",
         "107509799"
        ],
        [
         "Gangs of Wasseypur",
         "2012",
         "A",
         "321 min",
         "321",
         "Action",
         "8.2",
         "82365",
         "144701"
        ],
        [
         "Evil Dead II",
         "1987",
         "A",
         "84 min",
         "84",
         "Action",
         "7.8",
         "148359",
         "5923044"
        ],
        [
         "Knockin' on Heaven's Door",
         "1997",
         "A",
         "87 min",
         "87",
         "Action",
         "8.0",
         "27721",
         "3296"
        ],
        [
         "Taken",
         "2008",
         "A",
         "90 min",
         "90",
         "Action",
         "7.8",
         "564791",
         "145000989"
        ],
        [
         "First Blood",
         "1982",
         "A",
         "93 min",
         "93",
         "Action",
         "7.7",
         "226541",
         "47212904"
        ],
        [
         "Aguirre, der Zorn Gottes",
         "1972",
         "A",
         "95 min",
         "95",
         "Action",
         "7.9",
         "52397",
         "70600400"
        ],
        [
         "Mad Max 2",
         "1981",
         "A",
         "96 min",
         "96",
         "Action",
         "7.6",
         "166588",
         "12465371"
        ],
        [
         "Per un pugno di dollari",
         "1964",
         "A",
         "99 min",
         "99",
         "Action",
         "8.0",
         "198219",
         "14500000"
        ],
        [
         "Red River",
         "1948",
         "Passed",
         "133 min",
         "133",
         "Action",
         "7.8",
         "28167",
         "2616200"
        ]
       ],
       "shape": {
        "columns": 8,
        "rows": 901
       }
      },
      "text/html": [
       "<div>\n",
       "<style scoped>\n",
       "    .dataframe tbody tr th:only-of-type {\n",
       "        vertical-align: middle;\n",
       "    }\n",
       "\n",
       "    .dataframe tbody tr th {\n",
       "        vertical-align: top;\n",
       "    }\n",
       "\n",
       "    .dataframe thead th {\n",
       "        text-align: right;\n",
       "    }\n",
       "</style>\n",
       "<table border=\"1\" class=\"dataframe\">\n",
       "  <thead>\n",
       "    <tr style=\"text-align: right;\">\n",
       "      <th></th>\n",
       "      <th>Released_Year</th>\n",
       "      <th>Certificate</th>\n",
       "      <th>Runtime</th>\n",
       "      <th>Runtime2</th>\n",
       "      <th>Genre</th>\n",
       "      <th>IMDB_Rating</th>\n",
       "      <th>No_of_Votes</th>\n",
       "      <th>Gross</th>\n",
       "    </tr>\n",
       "    <tr>\n",
       "      <th>Series_Title</th>\n",
       "      <th></th>\n",
       "      <th></th>\n",
       "      <th></th>\n",
       "      <th></th>\n",
       "      <th></th>\n",
       "      <th></th>\n",
       "      <th></th>\n",
       "      <th></th>\n",
       "    </tr>\n",
       "  </thead>\n",
       "  <tbody>\n",
       "    <tr>\n",
       "      <th>Oldeuboi</th>\n",
       "      <td>2003</td>\n",
       "      <td>A</td>\n",
       "      <td>101 min</td>\n",
       "      <td>101</td>\n",
       "      <td>Action</td>\n",
       "      <td>8.4</td>\n",
       "      <td>515451</td>\n",
       "      <td>707481</td>\n",
       "    </tr>\n",
       "    <tr>\n",
       "      <th>Serbuan maut</th>\n",
       "      <td>2011</td>\n",
       "      <td>A</td>\n",
       "      <td>101 min</td>\n",
       "      <td>101</td>\n",
       "      <td>Action</td>\n",
       "      <td>7.6</td>\n",
       "      <td>190531</td>\n",
       "      <td>4105123</td>\n",
       "    </tr>\n",
       "    <tr>\n",
       "      <th>Enter the Dragon</th>\n",
       "      <td>1973</td>\n",
       "      <td>A</td>\n",
       "      <td>102 min</td>\n",
       "      <td>102</td>\n",
       "      <td>Action</td>\n",
       "      <td>7.7</td>\n",
       "      <td>96561</td>\n",
       "      <td>25000000</td>\n",
       "    </tr>\n",
       "    <tr>\n",
       "      <th>Dirty Harry</th>\n",
       "      <td>1971</td>\n",
       "      <td>A</td>\n",
       "      <td>102 min</td>\n",
       "      <td>102</td>\n",
       "      <td>Action</td>\n",
       "      <td>7.7</td>\n",
       "      <td>143292</td>\n",
       "      <td>35900000</td>\n",
       "    </tr>\n",
       "    <tr>\n",
       "      <th>The French Connection</th>\n",
       "      <td>1971</td>\n",
       "      <td>A</td>\n",
       "      <td>104 min</td>\n",
       "      <td>104</td>\n",
       "      <td>Action</td>\n",
       "      <td>7.7</td>\n",
       "      <td>110075</td>\n",
       "      <td>15630710</td>\n",
       "    </tr>\n",
       "    <tr>\n",
       "      <th>...</th>\n",
       "      <td>...</td>\n",
       "      <td>...</td>\n",
       "      <td>...</td>\n",
       "      <td>...</td>\n",
       "      <td>...</td>\n",
       "      <td>...</td>\n",
       "      <td>...</td>\n",
       "      <td>...</td>\n",
       "    </tr>\n",
       "    <tr>\n",
       "      <th>Hiroshima mon amour</th>\n",
       "      <td>1959</td>\n",
       "      <td>UA</td>\n",
       "      <td>90 min</td>\n",
       "      <td>90</td>\n",
       "      <td>Drama</td>\n",
       "      <td>7.9</td>\n",
       "      <td>28421</td>\n",
       "      <td>88300</td>\n",
       "    </tr>\n",
       "    <tr>\n",
       "      <th>Gravity</th>\n",
       "      <td>2013</td>\n",
       "      <td>UA</td>\n",
       "      <td>91 min</td>\n",
       "      <td>91</td>\n",
       "      <td>Drama</td>\n",
       "      <td>7.7</td>\n",
       "      <td>769145</td>\n",
       "      <td>274092705</td>\n",
       "    </tr>\n",
       "    <tr>\n",
       "      <th>Pink Floyd: The Wall</th>\n",
       "      <td>1982</td>\n",
       "      <td>UA</td>\n",
       "      <td>95 min</td>\n",
       "      <td>95</td>\n",
       "      <td>Drama</td>\n",
       "      <td>8.1</td>\n",
       "      <td>76081</td>\n",
       "      <td>22244207</td>\n",
       "    </tr>\n",
       "    <tr>\n",
       "      <th>Ivanovo detstvo</th>\n",
       "      <td>1962</td>\n",
       "      <td>UA</td>\n",
       "      <td>95 min</td>\n",
       "      <td>95</td>\n",
       "      <td>Drama</td>\n",
       "      <td>8.1</td>\n",
       "      <td>31728</td>\n",
       "      <td>102621</td>\n",
       "    </tr>\n",
       "    <tr>\n",
       "      <th>Lifeboat</th>\n",
       "      <td>1944</td>\n",
       "      <td>UA</td>\n",
       "      <td>97 min</td>\n",
       "      <td>97</td>\n",
       "      <td>Drama</td>\n",
       "      <td>7.6</td>\n",
       "      <td>26471</td>\n",
       "      <td>13780424</td>\n",
       "    </tr>\n",
       "  </tbody>\n",
       "</table>\n",
       "<p>901 rows × 8 columns</p>\n",
       "</div>"
      ],
      "text/plain": [
       "                      Released_Year Certificate  Runtime  Runtime2   Genre  \\\n",
       "Series_Title                                                                 \n",
       "Oldeuboi                       2003           A  101 min       101  Action   \n",
       "Serbuan maut                   2011           A  101 min       101  Action   \n",
       "Enter the Dragon               1973           A  102 min       102  Action   \n",
       "Dirty Harry                    1971           A  102 min       102  Action   \n",
       "The French Connection          1971           A  104 min       104  Action   \n",
       "...                             ...         ...      ...       ...     ...   \n",
       "Hiroshima mon amour            1959          UA   90 min        90   Drama   \n",
       "Gravity                        2013          UA   91 min        91   Drama   \n",
       "Pink Floyd: The Wall           1982          UA   95 min        95   Drama   \n",
       "Ivanovo detstvo                1962          UA   95 min        95   Drama   \n",
       "Lifeboat                       1944          UA   97 min        97   Drama   \n",
       "\n",
       "                       IMDB_Rating  No_of_Votes      Gross  \n",
       "Series_Title                                                \n",
       "Oldeuboi                       8.4       515451     707481  \n",
       "Serbuan maut                   7.6       190531    4105123  \n",
       "Enter the Dragon               7.7        96561   25000000  \n",
       "Dirty Harry                    7.7       143292   35900000  \n",
       "The French Connection          7.7       110075   15630710  \n",
       "...                            ...          ...        ...  \n",
       "Hiroshima mon amour            7.9        28421      88300  \n",
       "Gravity                        7.7       769145  274092705  \n",
       "Pink Floyd: The Wall           8.1        76081   22244207  \n",
       "Ivanovo detstvo                8.1        31728     102621  \n",
       "Lifeboat                       7.6        26471   13780424  \n",
       "\n",
       "[901 rows x 8 columns]"
      ]
     },
     "execution_count": 131,
     "metadata": {},
     "output_type": "execute_result"
    }
   ],
   "source": [
    "df"
   ]
  },
  {
   "cell_type": "code",
   "execution_count": null,
   "id": "b0d3fead",
   "metadata": {},
   "outputs": [
    {
     "data": {
      "application/vnd.microsoft.datawrangler.viewer.v0+json": {
       "columns": [
        {
         "name": "index",
         "rawType": "object",
         "type": "string"
        },
        {
         "name": "Oldeuboi",
         "rawType": "object",
         "type": "unknown"
        }
       ],
       "ref": "58e8cfa9-c701-4b09-88e1-a35255283c95",
       "rows": [
        [
         "Released_Year",
         "2003"
        ],
        [
         "Certificate",
         "A"
        ],
        [
         "Runtime",
         "101 min"
        ],
        [
         "Runtime2",
         "101"
        ],
        [
         "Genre",
         "Action"
        ],
        [
         "IMDB_Rating",
         "8.4"
        ],
        [
         "No_of_Votes",
         "515451"
        ],
        [
         "Gross",
         "707481"
        ]
       ],
       "shape": {
        "columns": 1,
        "rows": 8
       }
      },
      "text/plain": [
       "Released_Year       2003\n",
       "Certificate            A\n",
       "Runtime          101 min\n",
       "Runtime2             101\n",
       "Genre             Action\n",
       "IMDB_Rating          8.4\n",
       "No_of_Votes       515451\n",
       "Gross             707481\n",
       "Name: Oldeuboi, dtype: object"
      ]
     },
     "execution_count": 132,
     "metadata": {},
     "output_type": "execute_result"
    }
   ],
   "source": [
    "df.iloc[0] ## iloc for numberic index"
   ]
  },
  {
   "cell_type": "code",
   "execution_count": null,
   "id": "731d329b",
   "metadata": {},
   "outputs": [
    {
     "data": {
      "application/vnd.microsoft.datawrangler.viewer.v0+json": {
       "columns": [
        {
         "name": "index",
         "rawType": "object",
         "type": "string"
        },
        {
         "name": "Oldeuboi",
         "rawType": "object",
         "type": "unknown"
        }
       ],
       "ref": "da380d35-dcce-497b-8145-748998c0b4fb",
       "rows": [
        [
         "Released_Year",
         "2003"
        ],
        [
         "Certificate",
         "A"
        ],
        [
         "Runtime",
         "101 min"
        ],
        [
         "Runtime2",
         "101"
        ],
        [
         "Genre",
         "Action"
        ],
        [
         "IMDB_Rating",
         "8.4"
        ],
        [
         "No_of_Votes",
         "515451"
        ],
        [
         "Gross",
         "707481"
        ]
       ],
       "shape": {
        "columns": 1,
        "rows": 8
       }
      },
      "text/plain": [
       "Released_Year       2003\n",
       "Certificate            A\n",
       "Runtime          101 min\n",
       "Runtime2             101\n",
       "Genre             Action\n",
       "IMDB_Rating          8.4\n",
       "No_of_Votes       515451\n",
       "Gross             707481\n",
       "Name: Oldeuboi, dtype: object"
      ]
     },
     "execution_count": 133,
     "metadata": {},
     "output_type": "execute_result"
    }
   ],
   "source": [
    "df.loc['Oldeuboi'] ## loc for lable index"
   ]
  },
  {
   "cell_type": "code",
   "execution_count": 134,
   "id": "9231aa6b",
   "metadata": {},
   "outputs": [
    {
     "data": {
      "application/vnd.microsoft.datawrangler.viewer.v0+json": {
       "columns": [
        {
         "name": "Series_Title",
         "rawType": "object",
         "type": "string"
        },
        {
         "name": "Released_Year",
         "rawType": "object",
         "type": "string"
        },
        {
         "name": "Certificate",
         "rawType": "object",
         "type": "string"
        },
        {
         "name": "Runtime",
         "rawType": "object",
         "type": "string"
        },
        {
         "name": "Runtime2",
         "rawType": "int64",
         "type": "integer"
        },
        {
         "name": "Genre",
         "rawType": "object",
         "type": "string"
        },
        {
         "name": "IMDB_Rating",
         "rawType": "float64",
         "type": "float"
        },
        {
         "name": "No_of_Votes",
         "rawType": "int64",
         "type": "integer"
        },
        {
         "name": "Gross",
         "rawType": "int64",
         "type": "integer"
        }
       ],
       "ref": "e6d661d5-3976-4d4e-86d0-1c356224e2c5",
       "rows": [
        [
         "The French Connection",
         "1971",
         "A",
         "104 min",
         "104",
         "Action",
         "7.7",
         "110075",
         "15630710"
        ],
        [
         "Lock, Stock and Two Smoking Barrels",
         "1998",
         "A",
         "107 min",
         "107",
         "Action",
         "8.2",
         "535216",
         "3897569"
        ],
        [
         "Predator",
         "1987",
         "A",
         "107 min",
         "107",
         "Action",
         "7.8",
         "371387",
         "59735548"
        ],
        [
         "The Bourne Supremacy",
         "2004",
         "A",
         "108 min",
         "108",
         "Action",
         "7.7",
         "434841",
         "176241941"
        ],
        [
         "End of Watch",
         "2012",
         "A",
         "109 min",
         "109",
         "Action",
         "7.6",
         "228132",
         "41003371"
        ],
        [
         "Lethal Weapon",
         "1987",
         "A",
         "109 min",
         "109",
         "Action",
         "7.6",
         "236894",
         "65207127"
        ],
        [
         "Léon",
         "1994",
         "A",
         "110 min",
         "110",
         "Action",
         "8.5",
         "1035236",
         "19501238"
        ],
        [
         "Yôjinbô",
         "1961",
         "A",
         "110 min",
         "110",
         "Action",
         "8.2",
         "111244",
         "12100200"
        ],
        [
         "Gongdong gyeongbi guyeok JSA",
         "2000",
         "A",
         "110 min",
         "110",
         "Action",
         "7.8",
         "26518",
         "181855"
        ],
        [
         "Goldfinger",
         "1964",
         "A",
         "110 min",
         "110",
         "Action",
         "7.7",
         "174119",
         "51081062"
        ],
        [
         "Bonnie and Clyde",
         "1967",
         "A",
         "111 min",
         "111",
         "Action",
         "7.8",
         "102415",
         "17550941"
        ]
       ],
       "shape": {
        "columns": 8,
        "rows": 11
       }
      },
      "text/html": [
       "<div>\n",
       "<style scoped>\n",
       "    .dataframe tbody tr th:only-of-type {\n",
       "        vertical-align: middle;\n",
       "    }\n",
       "\n",
       "    .dataframe tbody tr th {\n",
       "        vertical-align: top;\n",
       "    }\n",
       "\n",
       "    .dataframe thead th {\n",
       "        text-align: right;\n",
       "    }\n",
       "</style>\n",
       "<table border=\"1\" class=\"dataframe\">\n",
       "  <thead>\n",
       "    <tr style=\"text-align: right;\">\n",
       "      <th></th>\n",
       "      <th>Released_Year</th>\n",
       "      <th>Certificate</th>\n",
       "      <th>Runtime</th>\n",
       "      <th>Runtime2</th>\n",
       "      <th>Genre</th>\n",
       "      <th>IMDB_Rating</th>\n",
       "      <th>No_of_Votes</th>\n",
       "      <th>Gross</th>\n",
       "    </tr>\n",
       "    <tr>\n",
       "      <th>Series_Title</th>\n",
       "      <th></th>\n",
       "      <th></th>\n",
       "      <th></th>\n",
       "      <th></th>\n",
       "      <th></th>\n",
       "      <th></th>\n",
       "      <th></th>\n",
       "      <th></th>\n",
       "    </tr>\n",
       "  </thead>\n",
       "  <tbody>\n",
       "    <tr>\n",
       "      <th>The French Connection</th>\n",
       "      <td>1971</td>\n",
       "      <td>A</td>\n",
       "      <td>104 min</td>\n",
       "      <td>104</td>\n",
       "      <td>Action</td>\n",
       "      <td>7.7</td>\n",
       "      <td>110075</td>\n",
       "      <td>15630710</td>\n",
       "    </tr>\n",
       "    <tr>\n",
       "      <th>Lock, Stock and Two Smoking Barrels</th>\n",
       "      <td>1998</td>\n",
       "      <td>A</td>\n",
       "      <td>107 min</td>\n",
       "      <td>107</td>\n",
       "      <td>Action</td>\n",
       "      <td>8.2</td>\n",
       "      <td>535216</td>\n",
       "      <td>3897569</td>\n",
       "    </tr>\n",
       "    <tr>\n",
       "      <th>Predator</th>\n",
       "      <td>1987</td>\n",
       "      <td>A</td>\n",
       "      <td>107 min</td>\n",
       "      <td>107</td>\n",
       "      <td>Action</td>\n",
       "      <td>7.8</td>\n",
       "      <td>371387</td>\n",
       "      <td>59735548</td>\n",
       "    </tr>\n",
       "    <tr>\n",
       "      <th>The Bourne Supremacy</th>\n",
       "      <td>2004</td>\n",
       "      <td>A</td>\n",
       "      <td>108 min</td>\n",
       "      <td>108</td>\n",
       "      <td>Action</td>\n",
       "      <td>7.7</td>\n",
       "      <td>434841</td>\n",
       "      <td>176241941</td>\n",
       "    </tr>\n",
       "    <tr>\n",
       "      <th>End of Watch</th>\n",
       "      <td>2012</td>\n",
       "      <td>A</td>\n",
       "      <td>109 min</td>\n",
       "      <td>109</td>\n",
       "      <td>Action</td>\n",
       "      <td>7.6</td>\n",
       "      <td>228132</td>\n",
       "      <td>41003371</td>\n",
       "    </tr>\n",
       "    <tr>\n",
       "      <th>Lethal Weapon</th>\n",
       "      <td>1987</td>\n",
       "      <td>A</td>\n",
       "      <td>109 min</td>\n",
       "      <td>109</td>\n",
       "      <td>Action</td>\n",
       "      <td>7.6</td>\n",
       "      <td>236894</td>\n",
       "      <td>65207127</td>\n",
       "    </tr>\n",
       "    <tr>\n",
       "      <th>Léon</th>\n",
       "      <td>1994</td>\n",
       "      <td>A</td>\n",
       "      <td>110 min</td>\n",
       "      <td>110</td>\n",
       "      <td>Action</td>\n",
       "      <td>8.5</td>\n",
       "      <td>1035236</td>\n",
       "      <td>19501238</td>\n",
       "    </tr>\n",
       "    <tr>\n",
       "      <th>Yôjinbô</th>\n",
       "      <td>1961</td>\n",
       "      <td>A</td>\n",
       "      <td>110 min</td>\n",
       "      <td>110</td>\n",
       "      <td>Action</td>\n",
       "      <td>8.2</td>\n",
       "      <td>111244</td>\n",
       "      <td>12100200</td>\n",
       "    </tr>\n",
       "    <tr>\n",
       "      <th>Gongdong gyeongbi guyeok JSA</th>\n",
       "      <td>2000</td>\n",
       "      <td>A</td>\n",
       "      <td>110 min</td>\n",
       "      <td>110</td>\n",
       "      <td>Action</td>\n",
       "      <td>7.8</td>\n",
       "      <td>26518</td>\n",
       "      <td>181855</td>\n",
       "    </tr>\n",
       "    <tr>\n",
       "      <th>Goldfinger</th>\n",
       "      <td>1964</td>\n",
       "      <td>A</td>\n",
       "      <td>110 min</td>\n",
       "      <td>110</td>\n",
       "      <td>Action</td>\n",
       "      <td>7.7</td>\n",
       "      <td>174119</td>\n",
       "      <td>51081062</td>\n",
       "    </tr>\n",
       "    <tr>\n",
       "      <th>Bonnie and Clyde</th>\n",
       "      <td>1967</td>\n",
       "      <td>A</td>\n",
       "      <td>111 min</td>\n",
       "      <td>111</td>\n",
       "      <td>Action</td>\n",
       "      <td>7.8</td>\n",
       "      <td>102415</td>\n",
       "      <td>17550941</td>\n",
       "    </tr>\n",
       "  </tbody>\n",
       "</table>\n",
       "</div>"
      ],
      "text/plain": [
       "                                    Released_Year Certificate  Runtime  \\\n",
       "Series_Title                                                             \n",
       "The French Connection                        1971           A  104 min   \n",
       "Lock, Stock and Two Smoking Barrels          1998           A  107 min   \n",
       "Predator                                     1987           A  107 min   \n",
       "The Bourne Supremacy                         2004           A  108 min   \n",
       "End of Watch                                 2012           A  109 min   \n",
       "Lethal Weapon                                1987           A  109 min   \n",
       "Léon                                         1994           A  110 min   \n",
       "Yôjinbô                                      1961           A  110 min   \n",
       "Gongdong gyeongbi guyeok JSA                 2000           A  110 min   \n",
       "Goldfinger                                   1964           A  110 min   \n",
       "Bonnie and Clyde                             1967           A  111 min   \n",
       "\n",
       "                                     Runtime2   Genre  IMDB_Rating  \\\n",
       "Series_Title                                                         \n",
       "The French Connection                     104  Action          7.7   \n",
       "Lock, Stock and Two Smoking Barrels       107  Action          8.2   \n",
       "Predator                                  107  Action          7.8   \n",
       "The Bourne Supremacy                      108  Action          7.7   \n",
       "End of Watch                              109  Action          7.6   \n",
       "Lethal Weapon                             109  Action          7.6   \n",
       "Léon                                      110  Action          8.5   \n",
       "Yôjinbô                                   110  Action          8.2   \n",
       "Gongdong gyeongbi guyeok JSA              110  Action          7.8   \n",
       "Goldfinger                                110  Action          7.7   \n",
       "Bonnie and Clyde                          111  Action          7.8   \n",
       "\n",
       "                                     No_of_Votes      Gross  \n",
       "Series_Title                                                 \n",
       "The French Connection                     110075   15630710  \n",
       "Lock, Stock and Two Smoking Barrels       535216    3897569  \n",
       "Predator                                  371387   59735548  \n",
       "The Bourne Supremacy                      434841  176241941  \n",
       "End of Watch                              228132   41003371  \n",
       "Lethal Weapon                             236894   65207127  \n",
       "Léon                                     1035236   19501238  \n",
       "Yôjinbô                                   111244   12100200  \n",
       "Gongdong gyeongbi guyeok JSA               26518     181855  \n",
       "Goldfinger                                174119   51081062  \n",
       "Bonnie and Clyde                          102415   17550941  "
      ]
     },
     "execution_count": 134,
     "metadata": {},
     "output_type": "execute_result"
    }
   ],
   "source": [
    "df.iloc[4:15]"
   ]
  },
  {
   "cell_type": "code",
   "execution_count": 137,
   "id": "d3686cee",
   "metadata": {},
   "outputs": [
    {
     "data": {
      "application/vnd.microsoft.datawrangler.viewer.v0+json": {
       "columns": [
        {
         "name": "Series_Title",
         "rawType": "object",
         "type": "string"
        },
        {
         "name": "Released_Year",
         "rawType": "object",
         "type": "string"
        },
        {
         "name": "Certificate",
         "rawType": "object",
         "type": "string"
        },
        {
         "name": "Runtime",
         "rawType": "object",
         "type": "string"
        },
        {
         "name": "Runtime2",
         "rawType": "int64",
         "type": "integer"
        },
        {
         "name": "Genre",
         "rawType": "object",
         "type": "string"
        },
        {
         "name": "IMDB_Rating",
         "rawType": "float64",
         "type": "float"
        },
        {
         "name": "No_of_Votes",
         "rawType": "int64",
         "type": "integer"
        },
        {
         "name": "Gross",
         "rawType": "int64",
         "type": "integer"
        }
       ],
       "ref": "45907278-b45f-412c-9806-c99a7a7a4a77",
       "rows": [
        [
         "Oldeuboi",
         "2003",
         "A",
         "101 min",
         "101",
         "Action",
         "8.4",
         "515451",
         "707481"
        ],
        [
         "Serbuan maut",
         "2011",
         "A",
         "101 min",
         "101",
         "Action",
         "7.6",
         "190531",
         "4105123"
        ],
        [
         "Enter the Dragon",
         "1973",
         "A",
         "102 min",
         "102",
         "Action",
         "7.7",
         "96561",
         "25000000"
        ],
        [
         "Dirty Harry",
         "1971",
         "A",
         "102 min",
         "102",
         "Action",
         "7.7",
         "143292",
         "35900000"
        ],
        [
         "The French Connection",
         "1971",
         "A",
         "104 min",
         "104",
         "Action",
         "7.7",
         "110075",
         "15630710"
        ],
        [
         "Lock, Stock and Two Smoking Barrels",
         "1998",
         "A",
         "107 min",
         "107",
         "Action",
         "8.2",
         "535216",
         "3897569"
        ],
        [
         "Predator",
         "1987",
         "A",
         "107 min",
         "107",
         "Action",
         "7.8",
         "371387",
         "59735548"
        ],
        [
         "The Bourne Supremacy",
         "2004",
         "A",
         "108 min",
         "108",
         "Action",
         "7.7",
         "434841",
         "176241941"
        ],
        [
         "End of Watch",
         "2012",
         "A",
         "109 min",
         "109",
         "Action",
         "7.6",
         "228132",
         "41003371"
        ],
        [
         "Lethal Weapon",
         "1987",
         "A",
         "109 min",
         "109",
         "Action",
         "7.6",
         "236894",
         "65207127"
        ],
        [
         "Yôjinbô",
         "1961",
         "A",
         "110 min",
         "110",
         "Action",
         "8.2",
         "111244",
         "12100200"
        ],
        [
         "Gongdong gyeongbi guyeok JSA",
         "2000",
         "A",
         "110 min",
         "110",
         "Action",
         "7.8",
         "26518",
         "181855"
        ],
        [
         "Goldfinger",
         "1964",
         "A",
         "110 min",
         "110",
         "Action",
         "7.7",
         "174119",
         "51081062"
        ],
        [
         "Bonnie and Clyde",
         "1967",
         "A",
         "111 min",
         "111",
         "Action",
         "7.8",
         "102415",
         "17550941"
        ],
        [
         "District 9",
         "2009",
         "A",
         "112 min",
         "112",
         "Action",
         "7.9",
         "638202",
         "115646235"
        ],
        [
         "Escape from Alcatraz",
         "1979",
         "A",
         "112 min",
         "112",
         "Action",
         "7.6",
         "121731",
         "43000000"
        ],
        [
         "The Gentlemen",
         "2019",
         "A",
         "113 min",
         "113",
         "Action",
         "7.8",
         "237392",
         "2537920"
        ],
        [
         "White Heat",
         "1949",
         "A",
         "114 min",
         "114",
         "Action",
         "8.1",
         "29807",
         "44908400"
        ],
        [
         "Raiders of the Lost Ark",
         "1981",
         "A",
         "115 min",
         "115",
         "Action",
         "8.4",
         "884112",
         "248159971"
        ],
        [
         "300",
         "2006",
         "A",
         "117 min",
         "117",
         "Action",
         "7.6",
         "732876",
         "210614939"
        ],
        [
         "Sicario",
         "2015",
         "A",
         "121 min",
         "121",
         "Action",
         "7.6",
         "371291",
         "46889293"
        ],
        [
         "3:10 to Yuma",
         "2007",
         "A",
         "122 min",
         "122",
         "Action",
         "7.7",
         "288797",
         "53606916"
        ],
        [
         "Dawn of the Dead",
         "1978",
         "A",
         "127 min",
         "127",
         "Action",
         "7.9",
         "111512",
         "5100000"
        ],
        [
         "Nefes: Vatan Sagolsun",
         "2009",
         "A",
         "128 min",
         "128",
         "Action",
         "8.0",
         "31838",
         "107062"
        ],
        [
         "Die Hard: With a Vengeance",
         "1995",
         "A",
         "128 min",
         "128",
         "Action",
         "7.6",
         "364420",
         "100012499"
        ],
        [
         "Kingsman: The Secret Service",
         "2014",
         "A",
         "129 min",
         "129",
         "Action",
         "7.7",
         "590440",
         "128261724"
        ],
        [
         "V for Vendetta",
         "2005",
         "A",
         "132 min",
         "132",
         "Action",
         "8.2",
         "1032749",
         "70511035"
        ],
        [
         "Die Hard",
         "1988",
         "A",
         "132 min",
         "132",
         "Action",
         "8.2",
         "793164",
         "83008852"
        ],
        [
         "Seppuku",
         "1962",
         "A",
         "133 min",
         "133",
         "Action",
         "8.6",
         "42004",
         "130743122"
        ],
        [
         "The Matrix",
         "1999",
         "A",
         "136 min",
         "136",
         "Action",
         "8.7",
         "1676426",
         "171479930"
        ],
        [
         "Logan",
         "2017",
         "A",
         "137 min",
         "137",
         "Action",
         "8.1",
         "647884",
         "226277068"
        ],
        [
         "Kill Bill: Vol. 2",
         "2004",
         "A",
         "137 min",
         "137",
         "Action",
         "8.0",
         "683900",
         "66208183"
        ],
        [
         "Apocalypto",
         "2006",
         "A",
         "139 min",
         "139",
         "Action",
         "7.8",
         "291018",
         "50866635"
        ],
        [
         "Ang-ma-reul bo-at-da",
         "2010",
         "A",
         "144 min",
         "144",
         "Action",
         "7.8",
         "111252",
         "128392"
        ],
        [
         "The Wild Bunch",
         "1969",
         "A",
         "145 min",
         "145",
         "Action",
         "7.9",
         "77401",
         "12064472"
        ],
        [
         "Minority Report",
         "2002",
         "A",
         "145 min",
         "145",
         "Action",
         "7.6",
         "508417",
         "132072926"
        ],
        [
         "Udta Punjab",
         "2016",
         "A",
         "148 min",
         "148",
         "Action",
         "7.8",
         "27175",
         "169607487"
        ],
        [
         "Serbuan maut 2: Berandal",
         "2014",
         "A",
         "150 min",
         "150",
         "Action",
         "8.0",
         "114316",
         "2625803"
        ],
        [
         "The Revenant",
         "2015",
         "A",
         "156 min",
         "156",
         "Action",
         "8.0",
         "705589",
         "183637894"
        ],
        [
         "Watchmen",
         "2009",
         "A",
         "162 min",
         "162",
         "Action",
         "7.6",
         "500799",
         "107509799"
        ],
        [
         "Gangs of Wasseypur",
         "2012",
         "A",
         "321 min",
         "321",
         "Action",
         "8.2",
         "82365",
         "144701"
        ],
        [
         "Evil Dead II",
         "1987",
         "A",
         "84 min",
         "84",
         "Action",
         "7.8",
         "148359",
         "5923044"
        ],
        [
         "Knockin' on Heaven's Door",
         "1997",
         "A",
         "87 min",
         "87",
         "Action",
         "8.0",
         "27721",
         "3296"
        ],
        [
         "Taken",
         "2008",
         "A",
         "90 min",
         "90",
         "Action",
         "7.8",
         "564791",
         "145000989"
        ],
        [
         "First Blood",
         "1982",
         "A",
         "93 min",
         "93",
         "Action",
         "7.7",
         "226541",
         "47212904"
        ],
        [
         "Aguirre, der Zorn Gottes",
         "1972",
         "A",
         "95 min",
         "95",
         "Action",
         "7.9",
         "52397",
         "70600400"
        ],
        [
         "Mad Max 2",
         "1981",
         "A",
         "96 min",
         "96",
         "Action",
         "7.6",
         "166588",
         "12465371"
        ],
        [
         "Per un pugno di dollari",
         "1964",
         "A",
         "99 min",
         "99",
         "Action",
         "8.0",
         "198219",
         "14500000"
        ],
        [
         "Red River",
         "1948",
         "Passed",
         "133 min",
         "133",
         "Action",
         "7.8",
         "28167",
         "2616200"
        ],
        [
         "Rio Bravo",
         "1959",
         "Passed",
         "141 min",
         "141",
         "Action",
         "8.0",
         "56305",
         "12535000"
        ]
       ],
       "shape": {
        "columns": 8,
        "rows": 900
       }
      },
      "text/html": [
       "<div>\n",
       "<style scoped>\n",
       "    .dataframe tbody tr th:only-of-type {\n",
       "        vertical-align: middle;\n",
       "    }\n",
       "\n",
       "    .dataframe tbody tr th {\n",
       "        vertical-align: top;\n",
       "    }\n",
       "\n",
       "    .dataframe thead th {\n",
       "        text-align: right;\n",
       "    }\n",
       "</style>\n",
       "<table border=\"1\" class=\"dataframe\">\n",
       "  <thead>\n",
       "    <tr style=\"text-align: right;\">\n",
       "      <th></th>\n",
       "      <th>Released_Year</th>\n",
       "      <th>Certificate</th>\n",
       "      <th>Runtime</th>\n",
       "      <th>Runtime2</th>\n",
       "      <th>Genre</th>\n",
       "      <th>IMDB_Rating</th>\n",
       "      <th>No_of_Votes</th>\n",
       "      <th>Gross</th>\n",
       "    </tr>\n",
       "    <tr>\n",
       "      <th>Series_Title</th>\n",
       "      <th></th>\n",
       "      <th></th>\n",
       "      <th></th>\n",
       "      <th></th>\n",
       "      <th></th>\n",
       "      <th></th>\n",
       "      <th></th>\n",
       "      <th></th>\n",
       "    </tr>\n",
       "  </thead>\n",
       "  <tbody>\n",
       "    <tr>\n",
       "      <th>Oldeuboi</th>\n",
       "      <td>2003</td>\n",
       "      <td>A</td>\n",
       "      <td>101 min</td>\n",
       "      <td>101</td>\n",
       "      <td>Action</td>\n",
       "      <td>8.4</td>\n",
       "      <td>515451</td>\n",
       "      <td>707481</td>\n",
       "    </tr>\n",
       "    <tr>\n",
       "      <th>Serbuan maut</th>\n",
       "      <td>2011</td>\n",
       "      <td>A</td>\n",
       "      <td>101 min</td>\n",
       "      <td>101</td>\n",
       "      <td>Action</td>\n",
       "      <td>7.6</td>\n",
       "      <td>190531</td>\n",
       "      <td>4105123</td>\n",
       "    </tr>\n",
       "    <tr>\n",
       "      <th>Enter the Dragon</th>\n",
       "      <td>1973</td>\n",
       "      <td>A</td>\n",
       "      <td>102 min</td>\n",
       "      <td>102</td>\n",
       "      <td>Action</td>\n",
       "      <td>7.7</td>\n",
       "      <td>96561</td>\n",
       "      <td>25000000</td>\n",
       "    </tr>\n",
       "    <tr>\n",
       "      <th>Dirty Harry</th>\n",
       "      <td>1971</td>\n",
       "      <td>A</td>\n",
       "      <td>102 min</td>\n",
       "      <td>102</td>\n",
       "      <td>Action</td>\n",
       "      <td>7.7</td>\n",
       "      <td>143292</td>\n",
       "      <td>35900000</td>\n",
       "    </tr>\n",
       "    <tr>\n",
       "      <th>The French Connection</th>\n",
       "      <td>1971</td>\n",
       "      <td>A</td>\n",
       "      <td>104 min</td>\n",
       "      <td>104</td>\n",
       "      <td>Action</td>\n",
       "      <td>7.7</td>\n",
       "      <td>110075</td>\n",
       "      <td>15630710</td>\n",
       "    </tr>\n",
       "    <tr>\n",
       "      <th>...</th>\n",
       "      <td>...</td>\n",
       "      <td>...</td>\n",
       "      <td>...</td>\n",
       "      <td>...</td>\n",
       "      <td>...</td>\n",
       "      <td>...</td>\n",
       "      <td>...</td>\n",
       "      <td>...</td>\n",
       "    </tr>\n",
       "    <tr>\n",
       "      <th>Hiroshima mon amour</th>\n",
       "      <td>1959</td>\n",
       "      <td>UA</td>\n",
       "      <td>90 min</td>\n",
       "      <td>90</td>\n",
       "      <td>Drama</td>\n",
       "      <td>7.9</td>\n",
       "      <td>28421</td>\n",
       "      <td>88300</td>\n",
       "    </tr>\n",
       "    <tr>\n",
       "      <th>Gravity</th>\n",
       "      <td>2013</td>\n",
       "      <td>UA</td>\n",
       "      <td>91 min</td>\n",
       "      <td>91</td>\n",
       "      <td>Drama</td>\n",
       "      <td>7.7</td>\n",
       "      <td>769145</td>\n",
       "      <td>274092705</td>\n",
       "    </tr>\n",
       "    <tr>\n",
       "      <th>Pink Floyd: The Wall</th>\n",
       "      <td>1982</td>\n",
       "      <td>UA</td>\n",
       "      <td>95 min</td>\n",
       "      <td>95</td>\n",
       "      <td>Drama</td>\n",
       "      <td>8.1</td>\n",
       "      <td>76081</td>\n",
       "      <td>22244207</td>\n",
       "    </tr>\n",
       "    <tr>\n",
       "      <th>Ivanovo detstvo</th>\n",
       "      <td>1962</td>\n",
       "      <td>UA</td>\n",
       "      <td>95 min</td>\n",
       "      <td>95</td>\n",
       "      <td>Drama</td>\n",
       "      <td>8.1</td>\n",
       "      <td>31728</td>\n",
       "      <td>102621</td>\n",
       "    </tr>\n",
       "    <tr>\n",
       "      <th>Lifeboat</th>\n",
       "      <td>1944</td>\n",
       "      <td>UA</td>\n",
       "      <td>97 min</td>\n",
       "      <td>97</td>\n",
       "      <td>Drama</td>\n",
       "      <td>7.6</td>\n",
       "      <td>26471</td>\n",
       "      <td>13780424</td>\n",
       "    </tr>\n",
       "  </tbody>\n",
       "</table>\n",
       "<p>900 rows × 8 columns</p>\n",
       "</div>"
      ],
      "text/plain": [
       "                      Released_Year Certificate  Runtime  Runtime2   Genre  \\\n",
       "Series_Title                                                                 \n",
       "Oldeuboi                       2003           A  101 min       101  Action   \n",
       "Serbuan maut                   2011           A  101 min       101  Action   \n",
       "Enter the Dragon               1973           A  102 min       102  Action   \n",
       "Dirty Harry                    1971           A  102 min       102  Action   \n",
       "The French Connection          1971           A  104 min       104  Action   \n",
       "...                             ...         ...      ...       ...     ...   \n",
       "Hiroshima mon amour            1959          UA   90 min        90   Drama   \n",
       "Gravity                        2013          UA   91 min        91   Drama   \n",
       "Pink Floyd: The Wall           1982          UA   95 min        95   Drama   \n",
       "Ivanovo detstvo                1962          UA   95 min        95   Drama   \n",
       "Lifeboat                       1944          UA   97 min        97   Drama   \n",
       "\n",
       "                       IMDB_Rating  No_of_Votes      Gross  \n",
       "Series_Title                                                \n",
       "Oldeuboi                       8.4       515451     707481  \n",
       "Serbuan maut                   7.6       190531    4105123  \n",
       "Enter the Dragon               7.7        96561   25000000  \n",
       "Dirty Harry                    7.7       143292   35900000  \n",
       "The French Connection          7.7       110075   15630710  \n",
       "...                            ...          ...        ...  \n",
       "Hiroshima mon amour            7.9        28421      88300  \n",
       "Gravity                        7.7       769145  274092705  \n",
       "Pink Floyd: The Wall           8.1        76081   22244207  \n",
       "Ivanovo detstvo                8.1        31728     102621  \n",
       "Lifeboat                       7.6        26471   13780424  \n",
       "\n",
       "[900 rows x 8 columns]"
      ]
     },
     "execution_count": 137,
     "metadata": {},
     "output_type": "execute_result"
    }
   ],
   "source": [
    "df.drop('Léon',axis=0)"
   ]
  },
  {
   "cell_type": "code",
   "execution_count": 138,
   "id": "3e7ad00f",
   "metadata": {},
   "outputs": [
    {
     "data": {
      "application/vnd.microsoft.datawrangler.viewer.v0+json": {
       "columns": [
        {
         "name": "Series_Title",
         "rawType": "object",
         "type": "string"
        },
        {
         "name": "Released_Year",
         "rawType": "object",
         "type": "string"
        },
        {
         "name": "Certificate",
         "rawType": "object",
         "type": "string"
        },
        {
         "name": "Runtime",
         "rawType": "object",
         "type": "string"
        },
        {
         "name": "Runtime2",
         "rawType": "int64",
         "type": "integer"
        },
        {
         "name": "Genre",
         "rawType": "object",
         "type": "string"
        },
        {
         "name": "IMDB_Rating",
         "rawType": "float64",
         "type": "float"
        },
        {
         "name": "No_of_Votes",
         "rawType": "int64",
         "type": "integer"
        },
        {
         "name": "Gross",
         "rawType": "int64",
         "type": "integer"
        }
       ],
       "ref": "c3fcd51e-81fa-44fd-9f54-0bb02e2f0490",
       "rows": [
        [
         "The French Connection",
         "1971",
         "A",
         "104 min",
         "104",
         "Action",
         "7.7",
         "110075",
         "15630710"
        ],
        [
         "Lock, Stock and Two Smoking Barrels",
         "1998",
         "A",
         "107 min",
         "107",
         "Action",
         "8.2",
         "535216",
         "3897569"
        ],
        [
         "Predator",
         "1987",
         "A",
         "107 min",
         "107",
         "Action",
         "7.8",
         "371387",
         "59735548"
        ],
        [
         "The Bourne Supremacy",
         "2004",
         "A",
         "108 min",
         "108",
         "Action",
         "7.7",
         "434841",
         "176241941"
        ],
        [
         "End of Watch",
         "2012",
         "A",
         "109 min",
         "109",
         "Action",
         "7.6",
         "228132",
         "41003371"
        ],
        [
         "Lethal Weapon",
         "1987",
         "A",
         "109 min",
         "109",
         "Action",
         "7.6",
         "236894",
         "65207127"
        ],
        [
         "Léon",
         "1994",
         "A",
         "110 min",
         "110",
         "Action",
         "8.5",
         "1035236",
         "19501238"
        ],
        [
         "Yôjinbô",
         "1961",
         "A",
         "110 min",
         "110",
         "Action",
         "8.2",
         "111244",
         "12100200"
        ],
        [
         "Gongdong gyeongbi guyeok JSA",
         "2000",
         "A",
         "110 min",
         "110",
         "Action",
         "7.8",
         "26518",
         "181855"
        ],
        [
         "Goldfinger",
         "1964",
         "A",
         "110 min",
         "110",
         "Action",
         "7.7",
         "174119",
         "51081062"
        ],
        [
         "Bonnie and Clyde",
         "1967",
         "A",
         "111 min",
         "111",
         "Action",
         "7.8",
         "102415",
         "17550941"
        ]
       ],
       "shape": {
        "columns": 8,
        "rows": 11
       }
      },
      "text/html": [
       "<div>\n",
       "<style scoped>\n",
       "    .dataframe tbody tr th:only-of-type {\n",
       "        vertical-align: middle;\n",
       "    }\n",
       "\n",
       "    .dataframe tbody tr th {\n",
       "        vertical-align: top;\n",
       "    }\n",
       "\n",
       "    .dataframe thead th {\n",
       "        text-align: right;\n",
       "    }\n",
       "</style>\n",
       "<table border=\"1\" class=\"dataframe\">\n",
       "  <thead>\n",
       "    <tr style=\"text-align: right;\">\n",
       "      <th></th>\n",
       "      <th>Released_Year</th>\n",
       "      <th>Certificate</th>\n",
       "      <th>Runtime</th>\n",
       "      <th>Runtime2</th>\n",
       "      <th>Genre</th>\n",
       "      <th>IMDB_Rating</th>\n",
       "      <th>No_of_Votes</th>\n",
       "      <th>Gross</th>\n",
       "    </tr>\n",
       "    <tr>\n",
       "      <th>Series_Title</th>\n",
       "      <th></th>\n",
       "      <th></th>\n",
       "      <th></th>\n",
       "      <th></th>\n",
       "      <th></th>\n",
       "      <th></th>\n",
       "      <th></th>\n",
       "      <th></th>\n",
       "    </tr>\n",
       "  </thead>\n",
       "  <tbody>\n",
       "    <tr>\n",
       "      <th>The French Connection</th>\n",
       "      <td>1971</td>\n",
       "      <td>A</td>\n",
       "      <td>104 min</td>\n",
       "      <td>104</td>\n",
       "      <td>Action</td>\n",
       "      <td>7.7</td>\n",
       "      <td>110075</td>\n",
       "      <td>15630710</td>\n",
       "    </tr>\n",
       "    <tr>\n",
       "      <th>Lock, Stock and Two Smoking Barrels</th>\n",
       "      <td>1998</td>\n",
       "      <td>A</td>\n",
       "      <td>107 min</td>\n",
       "      <td>107</td>\n",
       "      <td>Action</td>\n",
       "      <td>8.2</td>\n",
       "      <td>535216</td>\n",
       "      <td>3897569</td>\n",
       "    </tr>\n",
       "    <tr>\n",
       "      <th>Predator</th>\n",
       "      <td>1987</td>\n",
       "      <td>A</td>\n",
       "      <td>107 min</td>\n",
       "      <td>107</td>\n",
       "      <td>Action</td>\n",
       "      <td>7.8</td>\n",
       "      <td>371387</td>\n",
       "      <td>59735548</td>\n",
       "    </tr>\n",
       "    <tr>\n",
       "      <th>The Bourne Supremacy</th>\n",
       "      <td>2004</td>\n",
       "      <td>A</td>\n",
       "      <td>108 min</td>\n",
       "      <td>108</td>\n",
       "      <td>Action</td>\n",
       "      <td>7.7</td>\n",
       "      <td>434841</td>\n",
       "      <td>176241941</td>\n",
       "    </tr>\n",
       "    <tr>\n",
       "      <th>End of Watch</th>\n",
       "      <td>2012</td>\n",
       "      <td>A</td>\n",
       "      <td>109 min</td>\n",
       "      <td>109</td>\n",
       "      <td>Action</td>\n",
       "      <td>7.6</td>\n",
       "      <td>228132</td>\n",
       "      <td>41003371</td>\n",
       "    </tr>\n",
       "    <tr>\n",
       "      <th>Lethal Weapon</th>\n",
       "      <td>1987</td>\n",
       "      <td>A</td>\n",
       "      <td>109 min</td>\n",
       "      <td>109</td>\n",
       "      <td>Action</td>\n",
       "      <td>7.6</td>\n",
       "      <td>236894</td>\n",
       "      <td>65207127</td>\n",
       "    </tr>\n",
       "    <tr>\n",
       "      <th>Léon</th>\n",
       "      <td>1994</td>\n",
       "      <td>A</td>\n",
       "      <td>110 min</td>\n",
       "      <td>110</td>\n",
       "      <td>Action</td>\n",
       "      <td>8.5</td>\n",
       "      <td>1035236</td>\n",
       "      <td>19501238</td>\n",
       "    </tr>\n",
       "    <tr>\n",
       "      <th>Yôjinbô</th>\n",
       "      <td>1961</td>\n",
       "      <td>A</td>\n",
       "      <td>110 min</td>\n",
       "      <td>110</td>\n",
       "      <td>Action</td>\n",
       "      <td>8.2</td>\n",
       "      <td>111244</td>\n",
       "      <td>12100200</td>\n",
       "    </tr>\n",
       "    <tr>\n",
       "      <th>Gongdong gyeongbi guyeok JSA</th>\n",
       "      <td>2000</td>\n",
       "      <td>A</td>\n",
       "      <td>110 min</td>\n",
       "      <td>110</td>\n",
       "      <td>Action</td>\n",
       "      <td>7.8</td>\n",
       "      <td>26518</td>\n",
       "      <td>181855</td>\n",
       "    </tr>\n",
       "    <tr>\n",
       "      <th>Goldfinger</th>\n",
       "      <td>1964</td>\n",
       "      <td>A</td>\n",
       "      <td>110 min</td>\n",
       "      <td>110</td>\n",
       "      <td>Action</td>\n",
       "      <td>7.7</td>\n",
       "      <td>174119</td>\n",
       "      <td>51081062</td>\n",
       "    </tr>\n",
       "    <tr>\n",
       "      <th>Bonnie and Clyde</th>\n",
       "      <td>1967</td>\n",
       "      <td>A</td>\n",
       "      <td>111 min</td>\n",
       "      <td>111</td>\n",
       "      <td>Action</td>\n",
       "      <td>7.8</td>\n",
       "      <td>102415</td>\n",
       "      <td>17550941</td>\n",
       "    </tr>\n",
       "  </tbody>\n",
       "</table>\n",
       "</div>"
      ],
      "text/plain": [
       "                                    Released_Year Certificate  Runtime  \\\n",
       "Series_Title                                                             \n",
       "The French Connection                        1971           A  104 min   \n",
       "Lock, Stock and Two Smoking Barrels          1998           A  107 min   \n",
       "Predator                                     1987           A  107 min   \n",
       "The Bourne Supremacy                         2004           A  108 min   \n",
       "End of Watch                                 2012           A  109 min   \n",
       "Lethal Weapon                                1987           A  109 min   \n",
       "Léon                                         1994           A  110 min   \n",
       "Yôjinbô                                      1961           A  110 min   \n",
       "Gongdong gyeongbi guyeok JSA                 2000           A  110 min   \n",
       "Goldfinger                                   1964           A  110 min   \n",
       "Bonnie and Clyde                             1967           A  111 min   \n",
       "\n",
       "                                     Runtime2   Genre  IMDB_Rating  \\\n",
       "Series_Title                                                         \n",
       "The French Connection                     104  Action          7.7   \n",
       "Lock, Stock and Two Smoking Barrels       107  Action          8.2   \n",
       "Predator                                  107  Action          7.8   \n",
       "The Bourne Supremacy                      108  Action          7.7   \n",
       "End of Watch                              109  Action          7.6   \n",
       "Lethal Weapon                             109  Action          7.6   \n",
       "Léon                                      110  Action          8.5   \n",
       "Yôjinbô                                   110  Action          8.2   \n",
       "Gongdong gyeongbi guyeok JSA              110  Action          7.8   \n",
       "Goldfinger                                110  Action          7.7   \n",
       "Bonnie and Clyde                          111  Action          7.8   \n",
       "\n",
       "                                     No_of_Votes      Gross  \n",
       "Series_Title                                                 \n",
       "The French Connection                     110075   15630710  \n",
       "Lock, Stock and Two Smoking Barrels       535216    3897569  \n",
       "Predator                                  371387   59735548  \n",
       "The Bourne Supremacy                      434841  176241941  \n",
       "End of Watch                              228132   41003371  \n",
       "Lethal Weapon                             236894   65207127  \n",
       "Léon                                     1035236   19501238  \n",
       "Yôjinbô                                   111244   12100200  \n",
       "Gongdong gyeongbi guyeok JSA               26518     181855  \n",
       "Goldfinger                                174119   51081062  \n",
       "Bonnie and Clyde                          102415   17550941  "
      ]
     },
     "execution_count": 138,
     "metadata": {},
     "output_type": "execute_result"
    }
   ],
   "source": [
    "df.iloc[4:15]"
   ]
  },
  {
   "cell_type": "code",
   "execution_count": 139,
   "id": "387166a9",
   "metadata": {},
   "outputs": [
    {
     "data": {
      "application/vnd.microsoft.datawrangler.viewer.v0+json": {
       "columns": [
        {
         "name": "index",
         "rawType": "int64",
         "type": "integer"
        },
        {
         "name": "Series_Title",
         "rawType": "object",
         "type": "string"
        },
        {
         "name": "Released_Year",
         "rawType": "object",
         "type": "string"
        },
        {
         "name": "Certificate",
         "rawType": "object",
         "type": "string"
        },
        {
         "name": "Runtime",
         "rawType": "object",
         "type": "string"
        },
        {
         "name": "Runtime2",
         "rawType": "int64",
         "type": "integer"
        },
        {
         "name": "Genre",
         "rawType": "object",
         "type": "string"
        },
        {
         "name": "IMDB_Rating",
         "rawType": "float64",
         "type": "float"
        },
        {
         "name": "No_of_Votes",
         "rawType": "int64",
         "type": "integer"
        },
        {
         "name": "Gross",
         "rawType": "int64",
         "type": "integer"
        }
       ],
       "ref": "04eac441-b5cf-4332-b42f-08f014f95922",
       "rows": [
        [
         "0",
         "Oldeuboi",
         "2003",
         "A",
         "101 min",
         "101",
         "Action",
         "8.4",
         "515451",
         "707481"
        ],
        [
         "1",
         "Serbuan maut",
         "2011",
         "A",
         "101 min",
         "101",
         "Action",
         "7.6",
         "190531",
         "4105123"
        ],
        [
         "2",
         "Enter the Dragon",
         "1973",
         "A",
         "102 min",
         "102",
         "Action",
         "7.7",
         "96561",
         "25000000"
        ],
        [
         "3",
         "Dirty Harry",
         "1971",
         "A",
         "102 min",
         "102",
         "Action",
         "7.7",
         "143292",
         "35900000"
        ],
        [
         "4",
         "The French Connection",
         "1971",
         "A",
         "104 min",
         "104",
         "Action",
         "7.7",
         "110075",
         "15630710"
        ],
        [
         "5",
         "Lock, Stock and Two Smoking Barrels",
         "1998",
         "A",
         "107 min",
         "107",
         "Action",
         "8.2",
         "535216",
         "3897569"
        ],
        [
         "6",
         "Predator",
         "1987",
         "A",
         "107 min",
         "107",
         "Action",
         "7.8",
         "371387",
         "59735548"
        ],
        [
         "7",
         "The Bourne Supremacy",
         "2004",
         "A",
         "108 min",
         "108",
         "Action",
         "7.7",
         "434841",
         "176241941"
        ],
        [
         "8",
         "End of Watch",
         "2012",
         "A",
         "109 min",
         "109",
         "Action",
         "7.6",
         "228132",
         "41003371"
        ],
        [
         "9",
         "Lethal Weapon",
         "1987",
         "A",
         "109 min",
         "109",
         "Action",
         "7.6",
         "236894",
         "65207127"
        ],
        [
         "10",
         "Léon",
         "1994",
         "A",
         "110 min",
         "110",
         "Action",
         "8.5",
         "1035236",
         "19501238"
        ],
        [
         "11",
         "Yôjinbô",
         "1961",
         "A",
         "110 min",
         "110",
         "Action",
         "8.2",
         "111244",
         "12100200"
        ],
        [
         "12",
         "Gongdong gyeongbi guyeok JSA",
         "2000",
         "A",
         "110 min",
         "110",
         "Action",
         "7.8",
         "26518",
         "181855"
        ],
        [
         "13",
         "Goldfinger",
         "1964",
         "A",
         "110 min",
         "110",
         "Action",
         "7.7",
         "174119",
         "51081062"
        ],
        [
         "14",
         "Bonnie and Clyde",
         "1967",
         "A",
         "111 min",
         "111",
         "Action",
         "7.8",
         "102415",
         "17550941"
        ],
        [
         "15",
         "District 9",
         "2009",
         "A",
         "112 min",
         "112",
         "Action",
         "7.9",
         "638202",
         "115646235"
        ],
        [
         "16",
         "Escape from Alcatraz",
         "1979",
         "A",
         "112 min",
         "112",
         "Action",
         "7.6",
         "121731",
         "43000000"
        ],
        [
         "17",
         "The Gentlemen",
         "2019",
         "A",
         "113 min",
         "113",
         "Action",
         "7.8",
         "237392",
         "2537920"
        ],
        [
         "18",
         "White Heat",
         "1949",
         "A",
         "114 min",
         "114",
         "Action",
         "8.1",
         "29807",
         "44908400"
        ],
        [
         "19",
         "Raiders of the Lost Ark",
         "1981",
         "A",
         "115 min",
         "115",
         "Action",
         "8.4",
         "884112",
         "248159971"
        ],
        [
         "20",
         "300",
         "2006",
         "A",
         "117 min",
         "117",
         "Action",
         "7.6",
         "732876",
         "210614939"
        ],
        [
         "21",
         "Sicario",
         "2015",
         "A",
         "121 min",
         "121",
         "Action",
         "7.6",
         "371291",
         "46889293"
        ],
        [
         "22",
         "3:10 to Yuma",
         "2007",
         "A",
         "122 min",
         "122",
         "Action",
         "7.7",
         "288797",
         "53606916"
        ],
        [
         "23",
         "Dawn of the Dead",
         "1978",
         "A",
         "127 min",
         "127",
         "Action",
         "7.9",
         "111512",
         "5100000"
        ],
        [
         "24",
         "Nefes: Vatan Sagolsun",
         "2009",
         "A",
         "128 min",
         "128",
         "Action",
         "8.0",
         "31838",
         "107062"
        ],
        [
         "25",
         "Die Hard: With a Vengeance",
         "1995",
         "A",
         "128 min",
         "128",
         "Action",
         "7.6",
         "364420",
         "100012499"
        ],
        [
         "26",
         "Kingsman: The Secret Service",
         "2014",
         "A",
         "129 min",
         "129",
         "Action",
         "7.7",
         "590440",
         "128261724"
        ],
        [
         "27",
         "V for Vendetta",
         "2005",
         "A",
         "132 min",
         "132",
         "Action",
         "8.2",
         "1032749",
         "70511035"
        ],
        [
         "28",
         "Die Hard",
         "1988",
         "A",
         "132 min",
         "132",
         "Action",
         "8.2",
         "793164",
         "83008852"
        ],
        [
         "29",
         "Seppuku",
         "1962",
         "A",
         "133 min",
         "133",
         "Action",
         "8.6",
         "42004",
         "130743122"
        ],
        [
         "30",
         "The Matrix",
         "1999",
         "A",
         "136 min",
         "136",
         "Action",
         "8.7",
         "1676426",
         "171479930"
        ],
        [
         "31",
         "Logan",
         "2017",
         "A",
         "137 min",
         "137",
         "Action",
         "8.1",
         "647884",
         "226277068"
        ],
        [
         "32",
         "Kill Bill: Vol. 2",
         "2004",
         "A",
         "137 min",
         "137",
         "Action",
         "8.0",
         "683900",
         "66208183"
        ],
        [
         "33",
         "Apocalypto",
         "2006",
         "A",
         "139 min",
         "139",
         "Action",
         "7.8",
         "291018",
         "50866635"
        ],
        [
         "34",
         "Ang-ma-reul bo-at-da",
         "2010",
         "A",
         "144 min",
         "144",
         "Action",
         "7.8",
         "111252",
         "128392"
        ],
        [
         "35",
         "The Wild Bunch",
         "1969",
         "A",
         "145 min",
         "145",
         "Action",
         "7.9",
         "77401",
         "12064472"
        ],
        [
         "36",
         "Minority Report",
         "2002",
         "A",
         "145 min",
         "145",
         "Action",
         "7.6",
         "508417",
         "132072926"
        ],
        [
         "37",
         "Udta Punjab",
         "2016",
         "A",
         "148 min",
         "148",
         "Action",
         "7.8",
         "27175",
         "169607487"
        ],
        [
         "38",
         "Serbuan maut 2: Berandal",
         "2014",
         "A",
         "150 min",
         "150",
         "Action",
         "8.0",
         "114316",
         "2625803"
        ],
        [
         "39",
         "The Revenant",
         "2015",
         "A",
         "156 min",
         "156",
         "Action",
         "8.0",
         "705589",
         "183637894"
        ],
        [
         "40",
         "Watchmen",
         "2009",
         "A",
         "162 min",
         "162",
         "Action",
         "7.6",
         "500799",
         "107509799"
        ],
        [
         "41",
         "Gangs of Wasseypur",
         "2012",
         "A",
         "321 min",
         "321",
         "Action",
         "8.2",
         "82365",
         "144701"
        ],
        [
         "42",
         "Evil Dead II",
         "1987",
         "A",
         "84 min",
         "84",
         "Action",
         "7.8",
         "148359",
         "5923044"
        ],
        [
         "43",
         "Knockin' on Heaven's Door",
         "1997",
         "A",
         "87 min",
         "87",
         "Action",
         "8.0",
         "27721",
         "3296"
        ],
        [
         "44",
         "Taken",
         "2008",
         "A",
         "90 min",
         "90",
         "Action",
         "7.8",
         "564791",
         "145000989"
        ],
        [
         "45",
         "First Blood",
         "1982",
         "A",
         "93 min",
         "93",
         "Action",
         "7.7",
         "226541",
         "47212904"
        ],
        [
         "46",
         "Aguirre, der Zorn Gottes",
         "1972",
         "A",
         "95 min",
         "95",
         "Action",
         "7.9",
         "52397",
         "70600400"
        ],
        [
         "47",
         "Mad Max 2",
         "1981",
         "A",
         "96 min",
         "96",
         "Action",
         "7.6",
         "166588",
         "12465371"
        ],
        [
         "48",
         "Per un pugno di dollari",
         "1964",
         "A",
         "99 min",
         "99",
         "Action",
         "8.0",
         "198219",
         "14500000"
        ],
        [
         "49",
         "Red River",
         "1948",
         "Passed",
         "133 min",
         "133",
         "Action",
         "7.8",
         "28167",
         "2616200"
        ]
       ],
       "shape": {
        "columns": 9,
        "rows": 901
       }
      },
      "text/html": [
       "<div>\n",
       "<style scoped>\n",
       "    .dataframe tbody tr th:only-of-type {\n",
       "        vertical-align: middle;\n",
       "    }\n",
       "\n",
       "    .dataframe tbody tr th {\n",
       "        vertical-align: top;\n",
       "    }\n",
       "\n",
       "    .dataframe thead th {\n",
       "        text-align: right;\n",
       "    }\n",
       "</style>\n",
       "<table border=\"1\" class=\"dataframe\">\n",
       "  <thead>\n",
       "    <tr style=\"text-align: right;\">\n",
       "      <th></th>\n",
       "      <th>Series_Title</th>\n",
       "      <th>Released_Year</th>\n",
       "      <th>Certificate</th>\n",
       "      <th>Runtime</th>\n",
       "      <th>Runtime2</th>\n",
       "      <th>Genre</th>\n",
       "      <th>IMDB_Rating</th>\n",
       "      <th>No_of_Votes</th>\n",
       "      <th>Gross</th>\n",
       "    </tr>\n",
       "  </thead>\n",
       "  <tbody>\n",
       "    <tr>\n",
       "      <th>0</th>\n",
       "      <td>Oldeuboi</td>\n",
       "      <td>2003</td>\n",
       "      <td>A</td>\n",
       "      <td>101 min</td>\n",
       "      <td>101</td>\n",
       "      <td>Action</td>\n",
       "      <td>8.4</td>\n",
       "      <td>515451</td>\n",
       "      <td>707481</td>\n",
       "    </tr>\n",
       "    <tr>\n",
       "      <th>1</th>\n",
       "      <td>Serbuan maut</td>\n",
       "      <td>2011</td>\n",
       "      <td>A</td>\n",
       "      <td>101 min</td>\n",
       "      <td>101</td>\n",
       "      <td>Action</td>\n",
       "      <td>7.6</td>\n",
       "      <td>190531</td>\n",
       "      <td>4105123</td>\n",
       "    </tr>\n",
       "    <tr>\n",
       "      <th>2</th>\n",
       "      <td>Enter the Dragon</td>\n",
       "      <td>1973</td>\n",
       "      <td>A</td>\n",
       "      <td>102 min</td>\n",
       "      <td>102</td>\n",
       "      <td>Action</td>\n",
       "      <td>7.7</td>\n",
       "      <td>96561</td>\n",
       "      <td>25000000</td>\n",
       "    </tr>\n",
       "    <tr>\n",
       "      <th>3</th>\n",
       "      <td>Dirty Harry</td>\n",
       "      <td>1971</td>\n",
       "      <td>A</td>\n",
       "      <td>102 min</td>\n",
       "      <td>102</td>\n",
       "      <td>Action</td>\n",
       "      <td>7.7</td>\n",
       "      <td>143292</td>\n",
       "      <td>35900000</td>\n",
       "    </tr>\n",
       "    <tr>\n",
       "      <th>4</th>\n",
       "      <td>The French Connection</td>\n",
       "      <td>1971</td>\n",
       "      <td>A</td>\n",
       "      <td>104 min</td>\n",
       "      <td>104</td>\n",
       "      <td>Action</td>\n",
       "      <td>7.7</td>\n",
       "      <td>110075</td>\n",
       "      <td>15630710</td>\n",
       "    </tr>\n",
       "    <tr>\n",
       "      <th>...</th>\n",
       "      <td>...</td>\n",
       "      <td>...</td>\n",
       "      <td>...</td>\n",
       "      <td>...</td>\n",
       "      <td>...</td>\n",
       "      <td>...</td>\n",
       "      <td>...</td>\n",
       "      <td>...</td>\n",
       "      <td>...</td>\n",
       "    </tr>\n",
       "    <tr>\n",
       "      <th>896</th>\n",
       "      <td>Hiroshima mon amour</td>\n",
       "      <td>1959</td>\n",
       "      <td>UA</td>\n",
       "      <td>90 min</td>\n",
       "      <td>90</td>\n",
       "      <td>Drama</td>\n",
       "      <td>7.9</td>\n",
       "      <td>28421</td>\n",
       "      <td>88300</td>\n",
       "    </tr>\n",
       "    <tr>\n",
       "      <th>897</th>\n",
       "      <td>Gravity</td>\n",
       "      <td>2013</td>\n",
       "      <td>UA</td>\n",
       "      <td>91 min</td>\n",
       "      <td>91</td>\n",
       "      <td>Drama</td>\n",
       "      <td>7.7</td>\n",
       "      <td>769145</td>\n",
       "      <td>274092705</td>\n",
       "    </tr>\n",
       "    <tr>\n",
       "      <th>898</th>\n",
       "      <td>Pink Floyd: The Wall</td>\n",
       "      <td>1982</td>\n",
       "      <td>UA</td>\n",
       "      <td>95 min</td>\n",
       "      <td>95</td>\n",
       "      <td>Drama</td>\n",
       "      <td>8.1</td>\n",
       "      <td>76081</td>\n",
       "      <td>22244207</td>\n",
       "    </tr>\n",
       "    <tr>\n",
       "      <th>899</th>\n",
       "      <td>Ivanovo detstvo</td>\n",
       "      <td>1962</td>\n",
       "      <td>UA</td>\n",
       "      <td>95 min</td>\n",
       "      <td>95</td>\n",
       "      <td>Drama</td>\n",
       "      <td>8.1</td>\n",
       "      <td>31728</td>\n",
       "      <td>102621</td>\n",
       "    </tr>\n",
       "    <tr>\n",
       "      <th>900</th>\n",
       "      <td>Lifeboat</td>\n",
       "      <td>1944</td>\n",
       "      <td>UA</td>\n",
       "      <td>97 min</td>\n",
       "      <td>97</td>\n",
       "      <td>Drama</td>\n",
       "      <td>7.6</td>\n",
       "      <td>26471</td>\n",
       "      <td>13780424</td>\n",
       "    </tr>\n",
       "  </tbody>\n",
       "</table>\n",
       "<p>901 rows × 9 columns</p>\n",
       "</div>"
      ],
      "text/plain": [
       "              Series_Title Released_Year Certificate  Runtime  Runtime2  \\\n",
       "0                 Oldeuboi          2003           A  101 min       101   \n",
       "1             Serbuan maut          2011           A  101 min       101   \n",
       "2         Enter the Dragon          1973           A  102 min       102   \n",
       "3              Dirty Harry          1971           A  102 min       102   \n",
       "4    The French Connection          1971           A  104 min       104   \n",
       "..                     ...           ...         ...      ...       ...   \n",
       "896    Hiroshima mon amour          1959          UA   90 min        90   \n",
       "897                Gravity          2013          UA   91 min        91   \n",
       "898   Pink Floyd: The Wall          1982          UA   95 min        95   \n",
       "899        Ivanovo detstvo          1962          UA   95 min        95   \n",
       "900               Lifeboat          1944          UA   97 min        97   \n",
       "\n",
       "      Genre  IMDB_Rating  No_of_Votes      Gross  \n",
       "0    Action          8.4       515451     707481  \n",
       "1    Action          7.6       190531    4105123  \n",
       "2    Action          7.7        96561   25000000  \n",
       "3    Action          7.7       143292   35900000  \n",
       "4    Action          7.7       110075   15630710  \n",
       "..      ...          ...          ...        ...  \n",
       "896   Drama          7.9        28421      88300  \n",
       "897   Drama          7.7       769145  274092705  \n",
       "898   Drama          8.1        76081   22244207  \n",
       "899   Drama          8.1        31728     102621  \n",
       "900   Drama          7.6        26471   13780424  \n",
       "\n",
       "[901 rows x 9 columns]"
      ]
     },
     "execution_count": 139,
     "metadata": {},
     "output_type": "execute_result"
    }
   ],
   "source": [
    "df = df.reset_index()\n",
    "df"
   ]
  },
  {
   "cell_type": "code",
   "execution_count": 140,
   "id": "2fc4acbf",
   "metadata": {},
   "outputs": [
    {
     "data": {
      "application/vnd.microsoft.datawrangler.viewer.v0+json": {
       "columns": [
        {
         "name": "index",
         "rawType": "int64",
         "type": "integer"
        },
        {
         "name": "Series_Title",
         "rawType": "object",
         "type": "string"
        },
        {
         "name": "Released_Year",
         "rawType": "object",
         "type": "string"
        },
        {
         "name": "Certificate",
         "rawType": "object",
         "type": "string"
        },
        {
         "name": "Runtime",
         "rawType": "object",
         "type": "string"
        },
        {
         "name": "Runtime2",
         "rawType": "int64",
         "type": "integer"
        },
        {
         "name": "Genre",
         "rawType": "object",
         "type": "string"
        },
        {
         "name": "IMDB_Rating",
         "rawType": "float64",
         "type": "float"
        },
        {
         "name": "No_of_Votes",
         "rawType": "int64",
         "type": "integer"
        },
        {
         "name": "Gross",
         "rawType": "int64",
         "type": "integer"
        }
       ],
       "ref": "debbf35b-a385-4ef4-ab58-de2482c0e4b1",
       "rows": [
        [
         "4",
         "The French Connection",
         "1971",
         "A",
         "104 min",
         "104",
         "Action",
         "7.7",
         "110075",
         "15630710"
        ],
        [
         "5",
         "Lock, Stock and Two Smoking Barrels",
         "1998",
         "A",
         "107 min",
         "107",
         "Action",
         "8.2",
         "535216",
         "3897569"
        ],
        [
         "6",
         "Predator",
         "1987",
         "A",
         "107 min",
         "107",
         "Action",
         "7.8",
         "371387",
         "59735548"
        ],
        [
         "7",
         "The Bourne Supremacy",
         "2004",
         "A",
         "108 min",
         "108",
         "Action",
         "7.7",
         "434841",
         "176241941"
        ],
        [
         "8",
         "End of Watch",
         "2012",
         "A",
         "109 min",
         "109",
         "Action",
         "7.6",
         "228132",
         "41003371"
        ],
        [
         "9",
         "Lethal Weapon",
         "1987",
         "A",
         "109 min",
         "109",
         "Action",
         "7.6",
         "236894",
         "65207127"
        ],
        [
         "10",
         "Léon",
         "1994",
         "A",
         "110 min",
         "110",
         "Action",
         "8.5",
         "1035236",
         "19501238"
        ],
        [
         "11",
         "Yôjinbô",
         "1961",
         "A",
         "110 min",
         "110",
         "Action",
         "8.2",
         "111244",
         "12100200"
        ],
        [
         "12",
         "Gongdong gyeongbi guyeok JSA",
         "2000",
         "A",
         "110 min",
         "110",
         "Action",
         "7.8",
         "26518",
         "181855"
        ],
        [
         "13",
         "Goldfinger",
         "1964",
         "A",
         "110 min",
         "110",
         "Action",
         "7.7",
         "174119",
         "51081062"
        ],
        [
         "14",
         "Bonnie and Clyde",
         "1967",
         "A",
         "111 min",
         "111",
         "Action",
         "7.8",
         "102415",
         "17550941"
        ]
       ],
       "shape": {
        "columns": 9,
        "rows": 11
       }
      },
      "text/html": [
       "<div>\n",
       "<style scoped>\n",
       "    .dataframe tbody tr th:only-of-type {\n",
       "        vertical-align: middle;\n",
       "    }\n",
       "\n",
       "    .dataframe tbody tr th {\n",
       "        vertical-align: top;\n",
       "    }\n",
       "\n",
       "    .dataframe thead th {\n",
       "        text-align: right;\n",
       "    }\n",
       "</style>\n",
       "<table border=\"1\" class=\"dataframe\">\n",
       "  <thead>\n",
       "    <tr style=\"text-align: right;\">\n",
       "      <th></th>\n",
       "      <th>Series_Title</th>\n",
       "      <th>Released_Year</th>\n",
       "      <th>Certificate</th>\n",
       "      <th>Runtime</th>\n",
       "      <th>Runtime2</th>\n",
       "      <th>Genre</th>\n",
       "      <th>IMDB_Rating</th>\n",
       "      <th>No_of_Votes</th>\n",
       "      <th>Gross</th>\n",
       "    </tr>\n",
       "  </thead>\n",
       "  <tbody>\n",
       "    <tr>\n",
       "      <th>4</th>\n",
       "      <td>The French Connection</td>\n",
       "      <td>1971</td>\n",
       "      <td>A</td>\n",
       "      <td>104 min</td>\n",
       "      <td>104</td>\n",
       "      <td>Action</td>\n",
       "      <td>7.7</td>\n",
       "      <td>110075</td>\n",
       "      <td>15630710</td>\n",
       "    </tr>\n",
       "    <tr>\n",
       "      <th>5</th>\n",
       "      <td>Lock, Stock and Two Smoking Barrels</td>\n",
       "      <td>1998</td>\n",
       "      <td>A</td>\n",
       "      <td>107 min</td>\n",
       "      <td>107</td>\n",
       "      <td>Action</td>\n",
       "      <td>8.2</td>\n",
       "      <td>535216</td>\n",
       "      <td>3897569</td>\n",
       "    </tr>\n",
       "    <tr>\n",
       "      <th>6</th>\n",
       "      <td>Predator</td>\n",
       "      <td>1987</td>\n",
       "      <td>A</td>\n",
       "      <td>107 min</td>\n",
       "      <td>107</td>\n",
       "      <td>Action</td>\n",
       "      <td>7.8</td>\n",
       "      <td>371387</td>\n",
       "      <td>59735548</td>\n",
       "    </tr>\n",
       "    <tr>\n",
       "      <th>7</th>\n",
       "      <td>The Bourne Supremacy</td>\n",
       "      <td>2004</td>\n",
       "      <td>A</td>\n",
       "      <td>108 min</td>\n",
       "      <td>108</td>\n",
       "      <td>Action</td>\n",
       "      <td>7.7</td>\n",
       "      <td>434841</td>\n",
       "      <td>176241941</td>\n",
       "    </tr>\n",
       "    <tr>\n",
       "      <th>8</th>\n",
       "      <td>End of Watch</td>\n",
       "      <td>2012</td>\n",
       "      <td>A</td>\n",
       "      <td>109 min</td>\n",
       "      <td>109</td>\n",
       "      <td>Action</td>\n",
       "      <td>7.6</td>\n",
       "      <td>228132</td>\n",
       "      <td>41003371</td>\n",
       "    </tr>\n",
       "    <tr>\n",
       "      <th>9</th>\n",
       "      <td>Lethal Weapon</td>\n",
       "      <td>1987</td>\n",
       "      <td>A</td>\n",
       "      <td>109 min</td>\n",
       "      <td>109</td>\n",
       "      <td>Action</td>\n",
       "      <td>7.6</td>\n",
       "      <td>236894</td>\n",
       "      <td>65207127</td>\n",
       "    </tr>\n",
       "    <tr>\n",
       "      <th>10</th>\n",
       "      <td>Léon</td>\n",
       "      <td>1994</td>\n",
       "      <td>A</td>\n",
       "      <td>110 min</td>\n",
       "      <td>110</td>\n",
       "      <td>Action</td>\n",
       "      <td>8.5</td>\n",
       "      <td>1035236</td>\n",
       "      <td>19501238</td>\n",
       "    </tr>\n",
       "    <tr>\n",
       "      <th>11</th>\n",
       "      <td>Yôjinbô</td>\n",
       "      <td>1961</td>\n",
       "      <td>A</td>\n",
       "      <td>110 min</td>\n",
       "      <td>110</td>\n",
       "      <td>Action</td>\n",
       "      <td>8.2</td>\n",
       "      <td>111244</td>\n",
       "      <td>12100200</td>\n",
       "    </tr>\n",
       "    <tr>\n",
       "      <th>12</th>\n",
       "      <td>Gongdong gyeongbi guyeok JSA</td>\n",
       "      <td>2000</td>\n",
       "      <td>A</td>\n",
       "      <td>110 min</td>\n",
       "      <td>110</td>\n",
       "      <td>Action</td>\n",
       "      <td>7.8</td>\n",
       "      <td>26518</td>\n",
       "      <td>181855</td>\n",
       "    </tr>\n",
       "    <tr>\n",
       "      <th>13</th>\n",
       "      <td>Goldfinger</td>\n",
       "      <td>1964</td>\n",
       "      <td>A</td>\n",
       "      <td>110 min</td>\n",
       "      <td>110</td>\n",
       "      <td>Action</td>\n",
       "      <td>7.7</td>\n",
       "      <td>174119</td>\n",
       "      <td>51081062</td>\n",
       "    </tr>\n",
       "    <tr>\n",
       "      <th>14</th>\n",
       "      <td>Bonnie and Clyde</td>\n",
       "      <td>1967</td>\n",
       "      <td>A</td>\n",
       "      <td>111 min</td>\n",
       "      <td>111</td>\n",
       "      <td>Action</td>\n",
       "      <td>7.8</td>\n",
       "      <td>102415</td>\n",
       "      <td>17550941</td>\n",
       "    </tr>\n",
       "  </tbody>\n",
       "</table>\n",
       "</div>"
      ],
      "text/plain": [
       "                           Series_Title Released_Year Certificate  Runtime  \\\n",
       "4                 The French Connection          1971           A  104 min   \n",
       "5   Lock, Stock and Two Smoking Barrels          1998           A  107 min   \n",
       "6                              Predator          1987           A  107 min   \n",
       "7                  The Bourne Supremacy          2004           A  108 min   \n",
       "8                          End of Watch          2012           A  109 min   \n",
       "9                         Lethal Weapon          1987           A  109 min   \n",
       "10                                 Léon          1994           A  110 min   \n",
       "11                              Yôjinbô          1961           A  110 min   \n",
       "12         Gongdong gyeongbi guyeok JSA          2000           A  110 min   \n",
       "13                           Goldfinger          1964           A  110 min   \n",
       "14                     Bonnie and Clyde          1967           A  111 min   \n",
       "\n",
       "    Runtime2   Genre  IMDB_Rating  No_of_Votes      Gross  \n",
       "4        104  Action          7.7       110075   15630710  \n",
       "5        107  Action          8.2       535216    3897569  \n",
       "6        107  Action          7.8       371387   59735548  \n",
       "7        108  Action          7.7       434841  176241941  \n",
       "8        109  Action          7.6       228132   41003371  \n",
       "9        109  Action          7.6       236894   65207127  \n",
       "10       110  Action          8.5      1035236   19501238  \n",
       "11       110  Action          8.2       111244   12100200  \n",
       "12       110  Action          7.8        26518     181855  \n",
       "13       110  Action          7.7       174119   51081062  \n",
       "14       111  Action          7.8       102415   17550941  "
      ]
     },
     "execution_count": 140,
     "metadata": {},
     "output_type": "execute_result"
    }
   ],
   "source": [
    "df.iloc[4:15]"
   ]
  },
  {
   "cell_type": "code",
   "execution_count": 141,
   "id": "78bab774",
   "metadata": {},
   "outputs": [
    {
     "data": {
      "application/vnd.microsoft.datawrangler.viewer.v0+json": {
       "columns": [
        {
         "name": "index",
         "rawType": "int64",
         "type": "integer"
        },
        {
         "name": "Series_Title",
         "rawType": "object",
         "type": "string"
        },
        {
         "name": "Released_Year",
         "rawType": "object",
         "type": "string"
        },
        {
         "name": "Certificate",
         "rawType": "object",
         "type": "string"
        },
        {
         "name": "Runtime",
         "rawType": "object",
         "type": "string"
        },
        {
         "name": "Runtime2",
         "rawType": "int64",
         "type": "integer"
        },
        {
         "name": "Genre",
         "rawType": "object",
         "type": "string"
        },
        {
         "name": "IMDB_Rating",
         "rawType": "float64",
         "type": "float"
        },
        {
         "name": "No_of_Votes",
         "rawType": "int64",
         "type": "integer"
        },
        {
         "name": "Gross",
         "rawType": "int64",
         "type": "integer"
        }
       ],
       "ref": "a3ca8cbc-4b38-4512-a3d3-3af1f6ac5f60",
       "rows": [
        [
         "0",
         "Oldeuboi",
         "2003",
         "A",
         "101 min",
         "101",
         "Action",
         "8.4",
         "515451",
         "707481"
        ],
        [
         "5",
         "Lock, Stock and Two Smoking Barrels",
         "1998",
         "A",
         "107 min",
         "107",
         "Action",
         "8.2",
         "535216",
         "3897569"
        ],
        [
         "10",
         "Léon",
         "1994",
         "A",
         "110 min",
         "110",
         "Action",
         "8.5",
         "1035236",
         "19501238"
        ],
        [
         "11",
         "Yôjinbô",
         "1961",
         "A",
         "110 min",
         "110",
         "Action",
         "8.2",
         "111244",
         "12100200"
        ],
        [
         "18",
         "White Heat",
         "1949",
         "A",
         "114 min",
         "114",
         "Action",
         "8.1",
         "29807",
         "44908400"
        ],
        [
         "19",
         "Raiders of the Lost Ark",
         "1981",
         "A",
         "115 min",
         "115",
         "Action",
         "8.4",
         "884112",
         "248159971"
        ],
        [
         "27",
         "V for Vendetta",
         "2005",
         "A",
         "132 min",
         "132",
         "Action",
         "8.2",
         "1032749",
         "70511035"
        ],
        [
         "28",
         "Die Hard",
         "1988",
         "A",
         "132 min",
         "132",
         "Action",
         "8.2",
         "793164",
         "83008852"
        ],
        [
         "29",
         "Seppuku",
         "1962",
         "A",
         "133 min",
         "133",
         "Action",
         "8.6",
         "42004",
         "130743122"
        ],
        [
         "30",
         "The Matrix",
         "1999",
         "A",
         "136 min",
         "136",
         "Action",
         "8.7",
         "1676426",
         "171479930"
        ],
        [
         "31",
         "Logan",
         "2017",
         "A",
         "137 min",
         "137",
         "Action",
         "8.1",
         "647884",
         "226277068"
        ],
        [
         "41",
         "Gangs of Wasseypur",
         "2012",
         "A",
         "321 min",
         "321",
         "Action",
         "8.2",
         "82365",
         "144701"
        ],
        [
         "51",
         "Sherlock Jr.",
         "1924",
         "Passed",
         "45 min",
         "45",
         "Action",
         "8.2",
         "41985",
         "977375"
        ],
        [
         "52",
         "The General",
         "1926",
         "Passed",
         "67 min",
         "67",
         "Action",
         "8.1",
         "81156",
         "1033895"
        ],
        [
         "65",
         "Kill Bill: Vol. 1",
         "2003",
         "R",
         "111 min",
         "111",
         "Action",
         "8.1",
         "1000639",
         "70099045"
        ],
        [
         "74",
         "Taegukgi hwinalrimyeo",
         "2004",
         "R",
         "140 min",
         "140",
         "Action",
         "8.1",
         "37820",
         "1111061"
        ],
        [
         "77",
         "Indiana Jones and the Last Crusade",
         "1989",
         "U",
         "127 min",
         "127",
         "Action",
         "8.2",
         "692366",
         "197171806"
        ],
        [
         "79",
         "Star Wars: Episode VI - Return of the Jedi",
         "1983",
         "U",
         "131 min",
         "131",
         "Action",
         "8.3",
         "950470",
         "309125409"
        ],
        [
         "81",
         "Terminator 2: Judgment Day",
         "1991",
         "U",
         "137 min",
         "137",
         "Action",
         "8.5",
         "995506",
         "204843350"
        ],
        [
         "82",
         "Aliens",
         "1986",
         "U",
         "137 min",
         "137",
         "Action",
         "8.3",
         "652719",
         "85160248"
        ],
        [
         "85",
         "Hera Pheri",
         "2000",
         "U",
         "156 min",
         "156",
         "Action",
         "8.2",
         "57057",
         "4711296"
        ],
        [
         "87",
         "Andaz Apna Apna",
         "1994",
         "U",
         "160 min",
         "160",
         "Action",
         "8.2",
         "49300",
         "67437018"
        ],
        [
         "88",
         "Dangal",
         "2016",
         "U",
         "161 min",
         "161",
         "Action",
         "8.4",
         "156479",
         "12391761"
        ],
        [
         "89",
         "Ran",
         "1985",
         "U",
         "162 min",
         "162",
         "Action",
         "8.2",
         "112505",
         "4135750"
        ],
        [
         "90",
         "The Lord of the Rings: The Fellowship of the Ring",
         "2001",
         "U",
         "178 min",
         "178",
         "Action",
         "8.8",
         "1661481",
         "315544750"
        ],
        [
         "91",
         "The Lord of the Rings: The Return of the King",
         "2003",
         "U",
         "201 min",
         "201",
         "Action",
         "8.9",
         "1642758",
         "377845905"
        ],
        [
         "92",
         "Sholay",
         "1975",
         "U",
         "204 min",
         "204",
         "Action",
         "8.2",
         "51284",
         "23384387"
        ],
        [
         "93",
         "Shichinin no samurai",
         "1954",
         "U",
         "207 min",
         "207",
         "Action",
         "8.6",
         "315744",
         "269061"
        ],
        [
         "94",
         "Sanjuro",
         "1962",
         "U",
         "96 min",
         "96",
         "Action",
         "8.1",
         "33044",
         "102421"
        ],
        [
         "97",
         "A Wednesday",
         "2008",
         "UA",
         "104 min",
         "104",
         "Action",
         "8.1",
         "73891",
         "61002502"
        ],
        [
         "108",
         "Blade Runner",
         "1982",
         "UA",
         "117 min",
         "117",
         "Action",
         "8.1",
         "693827",
         "32868943"
        ],
        [
         "111",
         "Mad Max: Fury Road",
         "2015",
         "UA",
         "120 min",
         "120",
         "Action",
         "8.1",
         "882316",
         "154058340"
        ],
        [
         "113",
         "Star Wars",
         "1977",
         "UA",
         "121 min",
         "121",
         "Action",
         "8.6",
         "1231473",
         "322740140"
        ],
        [
         "116",
         "Rush",
         "2013",
         "UA",
         "123 min",
         "123",
         "Action",
         "8.1",
         "432811",
         "26947624"
        ],
        [
         "117",
         "Star Wars: Episode V - The Empire Strikes Back",
         "1980",
         "UA",
         "124 min",
         "124",
         "Action",
         "8.7",
         "1159315",
         "290475067"
        ],
        [
         "121",
         "Jurassic Park",
         "1993",
         "UA",
         "127 min",
         "127",
         "Action",
         "8.1",
         "867615",
         "402453882"
        ],
        [
         "131",
         "Paan Singh Tomar",
         "2012",
         "UA",
         "135 min",
         "135",
         "Action",
         "8.2",
         "33237",
         "39567"
        ],
        [
         "134",
         "Uri: The Surgical Strike",
         "2018",
         "UA",
         "138 min",
         "138",
         "Action",
         "8.2",
         "43444",
         "4186168"
        ],
        [
         "136",
         "Warrior",
         "2011",
         "UA",
         "140 min",
         "140",
         "Action",
         "8.2",
         "435950",
         "13657115"
        ],
        [
         "137",
         "Batman Begins",
         "2005",
         "UA",
         "140 min",
         "140",
         "Action",
         "8.2",
         "1308302",
         "206852432"
        ],
        [
         "143",
         "Vikram Vedha",
         "2017",
         "UA",
         "147 min",
         "147",
         "Action",
         "8.4",
         "28401",
         "1661296"
        ],
        [
         "146",
         "Inception",
         "2010",
         "UA",
         "148 min",
         "148",
         "Action",
         "8.8",
         "2067042",
         "292576195"
        ],
        [
         "147",
         "Avengers: Infinity War",
         "2018",
         "UA",
         "149 min",
         "149",
         "Action",
         "8.4",
         "834477",
         "678815482"
        ],
        [
         "149",
         "The Dark Knight",
         "2008",
         "UA",
         "152 min",
         "152",
         "Action",
         "9.0",
         "2303232",
         "534858444"
        ],
        [
         "150",
         "Ford v Ferrari",
         "2019",
         "UA",
         "152 min",
         "152",
         "Action",
         "8.1",
         "291289",
         "117624028"
        ],
        [
         "153",
         "Gladiator",
         "2000",
         "UA",
         "155 min",
         "155",
         "Action",
         "8.5",
         "1341460",
         "187705427"
        ],
        [
         "154",
         "K.G.F: Chapter 1",
         "2018",
         "UA",
         "156 min",
         "156",
         "Action",
         "8.2",
         "36680",
         "898775"
        ],
        [
         "157",
         "Haider",
         "2014",
         "UA",
         "160 min",
         "160",
         "Action",
         "8.1",
         "50445",
         "901610"
        ],
        [
         "160",
         "The Dark Knight Rises",
         "2012",
         "UA",
         "164 min",
         "164",
         "Action",
         "8.4",
         "1516346",
         "448139099"
        ],
        [
         "162",
         "Baahubali 2: The Conclusion",
         "2017",
         "UA",
         "167 min",
         "167",
         "Action",
         "8.2",
         "75348",
         "20186659"
        ]
       ],
       "shape": {
        "columns": 9,
        "rows": 288
       }
      },
      "text/html": [
       "<div>\n",
       "<style scoped>\n",
       "    .dataframe tbody tr th:only-of-type {\n",
       "        vertical-align: middle;\n",
       "    }\n",
       "\n",
       "    .dataframe tbody tr th {\n",
       "        vertical-align: top;\n",
       "    }\n",
       "\n",
       "    .dataframe thead th {\n",
       "        text-align: right;\n",
       "    }\n",
       "</style>\n",
       "<table border=\"1\" class=\"dataframe\">\n",
       "  <thead>\n",
       "    <tr style=\"text-align: right;\">\n",
       "      <th></th>\n",
       "      <th>Series_Title</th>\n",
       "      <th>Released_Year</th>\n",
       "      <th>Certificate</th>\n",
       "      <th>Runtime</th>\n",
       "      <th>Runtime2</th>\n",
       "      <th>Genre</th>\n",
       "      <th>IMDB_Rating</th>\n",
       "      <th>No_of_Votes</th>\n",
       "      <th>Gross</th>\n",
       "    </tr>\n",
       "  </thead>\n",
       "  <tbody>\n",
       "    <tr>\n",
       "      <th>0</th>\n",
       "      <td>Oldeuboi</td>\n",
       "      <td>2003</td>\n",
       "      <td>A</td>\n",
       "      <td>101 min</td>\n",
       "      <td>101</td>\n",
       "      <td>Action</td>\n",
       "      <td>8.4</td>\n",
       "      <td>515451</td>\n",
       "      <td>707481</td>\n",
       "    </tr>\n",
       "    <tr>\n",
       "      <th>5</th>\n",
       "      <td>Lock, Stock and Two Smoking Barrels</td>\n",
       "      <td>1998</td>\n",
       "      <td>A</td>\n",
       "      <td>107 min</td>\n",
       "      <td>107</td>\n",
       "      <td>Action</td>\n",
       "      <td>8.2</td>\n",
       "      <td>535216</td>\n",
       "      <td>3897569</td>\n",
       "    </tr>\n",
       "    <tr>\n",
       "      <th>10</th>\n",
       "      <td>Léon</td>\n",
       "      <td>1994</td>\n",
       "      <td>A</td>\n",
       "      <td>110 min</td>\n",
       "      <td>110</td>\n",
       "      <td>Action</td>\n",
       "      <td>8.5</td>\n",
       "      <td>1035236</td>\n",
       "      <td>19501238</td>\n",
       "    </tr>\n",
       "    <tr>\n",
       "      <th>11</th>\n",
       "      <td>Yôjinbô</td>\n",
       "      <td>1961</td>\n",
       "      <td>A</td>\n",
       "      <td>110 min</td>\n",
       "      <td>110</td>\n",
       "      <td>Action</td>\n",
       "      <td>8.2</td>\n",
       "      <td>111244</td>\n",
       "      <td>12100200</td>\n",
       "    </tr>\n",
       "    <tr>\n",
       "      <th>18</th>\n",
       "      <td>White Heat</td>\n",
       "      <td>1949</td>\n",
       "      <td>A</td>\n",
       "      <td>114 min</td>\n",
       "      <td>114</td>\n",
       "      <td>Action</td>\n",
       "      <td>8.1</td>\n",
       "      <td>29807</td>\n",
       "      <td>44908400</td>\n",
       "    </tr>\n",
       "    <tr>\n",
       "      <th>...</th>\n",
       "      <td>...</td>\n",
       "      <td>...</td>\n",
       "      <td>...</td>\n",
       "      <td>...</td>\n",
       "      <td>...</td>\n",
       "      <td>...</td>\n",
       "      <td>...</td>\n",
       "      <td>...</td>\n",
       "      <td>...</td>\n",
       "    </tr>\n",
       "    <tr>\n",
       "      <th>877</th>\n",
       "      <td>Pink</td>\n",
       "      <td>2016</td>\n",
       "      <td>UA</td>\n",
       "      <td>136 min</td>\n",
       "      <td>136</td>\n",
       "      <td>Drama</td>\n",
       "      <td>8.1</td>\n",
       "      <td>39216</td>\n",
       "      <td>1241223</td>\n",
       "    </tr>\n",
       "    <tr>\n",
       "      <th>881</th>\n",
       "      <td>Forrest Gump</td>\n",
       "      <td>1994</td>\n",
       "      <td>UA</td>\n",
       "      <td>142 min</td>\n",
       "      <td>142</td>\n",
       "      <td>Drama</td>\n",
       "      <td>8.8</td>\n",
       "      <td>1809221</td>\n",
       "      <td>330252182</td>\n",
       "    </tr>\n",
       "    <tr>\n",
       "      <th>892</th>\n",
       "      <td>Kis Uykusu</td>\n",
       "      <td>2014</td>\n",
       "      <td>UA</td>\n",
       "      <td>196 min</td>\n",
       "      <td>196</td>\n",
       "      <td>Drama</td>\n",
       "      <td>8.1</td>\n",
       "      <td>46547</td>\n",
       "      <td>165520</td>\n",
       "    </tr>\n",
       "    <tr>\n",
       "      <th>898</th>\n",
       "      <td>Pink Floyd: The Wall</td>\n",
       "      <td>1982</td>\n",
       "      <td>UA</td>\n",
       "      <td>95 min</td>\n",
       "      <td>95</td>\n",
       "      <td>Drama</td>\n",
       "      <td>8.1</td>\n",
       "      <td>76081</td>\n",
       "      <td>22244207</td>\n",
       "    </tr>\n",
       "    <tr>\n",
       "      <th>899</th>\n",
       "      <td>Ivanovo detstvo</td>\n",
       "      <td>1962</td>\n",
       "      <td>UA</td>\n",
       "      <td>95 min</td>\n",
       "      <td>95</td>\n",
       "      <td>Drama</td>\n",
       "      <td>8.1</td>\n",
       "      <td>31728</td>\n",
       "      <td>102621</td>\n",
       "    </tr>\n",
       "  </tbody>\n",
       "</table>\n",
       "<p>288 rows × 9 columns</p>\n",
       "</div>"
      ],
      "text/plain": [
       "                            Series_Title Released_Year Certificate  Runtime  \\\n",
       "0                               Oldeuboi          2003           A  101 min   \n",
       "5    Lock, Stock and Two Smoking Barrels          1998           A  107 min   \n",
       "10                                  Léon          1994           A  110 min   \n",
       "11                               Yôjinbô          1961           A  110 min   \n",
       "18                            White Heat          1949           A  114 min   \n",
       "..                                   ...           ...         ...      ...   \n",
       "877                                 Pink          2016          UA  136 min   \n",
       "881                         Forrest Gump          1994          UA  142 min   \n",
       "892                           Kis Uykusu          2014          UA  196 min   \n",
       "898                 Pink Floyd: The Wall          1982          UA   95 min   \n",
       "899                      Ivanovo detstvo          1962          UA   95 min   \n",
       "\n",
       "     Runtime2   Genre  IMDB_Rating  No_of_Votes      Gross  \n",
       "0         101  Action          8.4       515451     707481  \n",
       "5         107  Action          8.2       535216    3897569  \n",
       "10        110  Action          8.5      1035236   19501238  \n",
       "11        110  Action          8.2       111244   12100200  \n",
       "18        114  Action          8.1        29807   44908400  \n",
       "..        ...     ...          ...          ...        ...  \n",
       "877       136   Drama          8.1        39216    1241223  \n",
       "881       142   Drama          8.8      1809221  330252182  \n",
       "892       196   Drama          8.1        46547     165520  \n",
       "898        95   Drama          8.1        76081   22244207  \n",
       "899        95   Drama          8.1        31728     102621  \n",
       "\n",
       "[288 rows x 9 columns]"
      ]
     },
     "execution_count": 141,
     "metadata": {},
     "output_type": "execute_result"
    }
   ],
   "source": [
    "df[df['IMDB_Rating']>8]"
   ]
  },
  {
   "cell_type": "code",
   "execution_count": 142,
   "id": "dc18fff7",
   "metadata": {},
   "outputs": [
    {
     "data": {
      "application/vnd.microsoft.datawrangler.viewer.v0+json": {
       "columns": [
        {
         "name": "index",
         "rawType": "int64",
         "type": "integer"
        },
        {
         "name": "Series_Title",
         "rawType": "object",
         "type": "string"
        },
        {
         "name": "Released_Year",
         "rawType": "object",
         "type": "string"
        },
        {
         "name": "Certificate",
         "rawType": "object",
         "type": "string"
        },
        {
         "name": "Runtime",
         "rawType": "object",
         "type": "string"
        },
        {
         "name": "Runtime2",
         "rawType": "int64",
         "type": "integer"
        },
        {
         "name": "Genre",
         "rawType": "object",
         "type": "string"
        },
        {
         "name": "IMDB_Rating",
         "rawType": "float64",
         "type": "float"
        },
        {
         "name": "No_of_Votes",
         "rawType": "int64",
         "type": "integer"
        },
        {
         "name": "Gross",
         "rawType": "int64",
         "type": "integer"
        }
       ],
       "ref": "caba288e-1abc-4e03-a2fb-1820ed90a530",
       "rows": [
        [
         "0",
         "Oldeuboi",
         "2003",
         "A",
         "101 min",
         "101",
         "Action",
         "8.4",
         "515451",
         "707481"
        ],
        [
         "1",
         "Serbuan maut",
         "2011",
         "A",
         "101 min",
         "101",
         "Action",
         "7.6",
         "190531",
         "4105123"
        ],
        [
         "2",
         "Enter the Dragon",
         "1973",
         "A",
         "102 min",
         "102",
         "Action",
         "7.7",
         "96561",
         "25000000"
        ],
        [
         "3",
         "Dirty Harry",
         "1971",
         "A",
         "102 min",
         "102",
         "Action",
         "7.7",
         "143292",
         "35900000"
        ],
        [
         "4",
         "The French Connection",
         "1971",
         "A",
         "104 min",
         "104",
         "Action",
         "7.7",
         "110075",
         "15630710"
        ],
        [
         "5",
         "Lock, Stock and Two Smoking Barrels",
         "1998",
         "A",
         "107 min",
         "107",
         "Action",
         "8.2",
         "535216",
         "3897569"
        ],
        [
         "6",
         "Predator",
         "1987",
         "A",
         "107 min",
         "107",
         "Action",
         "7.8",
         "371387",
         "59735548"
        ],
        [
         "7",
         "The Bourne Supremacy",
         "2004",
         "A",
         "108 min",
         "108",
         "Action",
         "7.7",
         "434841",
         "176241941"
        ],
        [
         "8",
         "End of Watch",
         "2012",
         "A",
         "109 min",
         "109",
         "Action",
         "7.6",
         "228132",
         "41003371"
        ],
        [
         "9",
         "Lethal Weapon",
         "1987",
         "A",
         "109 min",
         "109",
         "Action",
         "7.6",
         "236894",
         "65207127"
        ],
        [
         "10",
         "Léon",
         "1994",
         "A",
         "110 min",
         "110",
         "Action",
         "8.5",
         "1035236",
         "19501238"
        ],
        [
         "11",
         "Yôjinbô",
         "1961",
         "A",
         "110 min",
         "110",
         "Action",
         "8.2",
         "111244",
         "12100200"
        ],
        [
         "12",
         "Gongdong gyeongbi guyeok JSA",
         "2000",
         "A",
         "110 min",
         "110",
         "Action",
         "7.8",
         "26518",
         "181855"
        ],
        [
         "13",
         "Goldfinger",
         "1964",
         "A",
         "110 min",
         "110",
         "Action",
         "7.7",
         "174119",
         "51081062"
        ],
        [
         "14",
         "Bonnie and Clyde",
         "1967",
         "A",
         "111 min",
         "111",
         "Action",
         "7.8",
         "102415",
         "17550941"
        ],
        [
         "15",
         "District 9",
         "2009",
         "A",
         "112 min",
         "112",
         "Action",
         "7.9",
         "638202",
         "115646235"
        ],
        [
         "16",
         "Escape from Alcatraz",
         "1979",
         "A",
         "112 min",
         "112",
         "Action",
         "7.6",
         "121731",
         "43000000"
        ],
        [
         "17",
         "The Gentlemen",
         "2019",
         "A",
         "113 min",
         "113",
         "Action",
         "7.8",
         "237392",
         "2537920"
        ],
        [
         "18",
         "White Heat",
         "1949",
         "A",
         "114 min",
         "114",
         "Action",
         "8.1",
         "29807",
         "44908400"
        ],
        [
         "19",
         "Raiders of the Lost Ark",
         "1981",
         "A",
         "115 min",
         "115",
         "Action",
         "8.4",
         "884112",
         "248159971"
        ],
        [
         "20",
         "300",
         "2006",
         "A",
         "117 min",
         "117",
         "Action",
         "7.6",
         "732876",
         "210614939"
        ],
        [
         "21",
         "Sicario",
         "2015",
         "A",
         "121 min",
         "121",
         "Action",
         "7.6",
         "371291",
         "46889293"
        ],
        [
         "22",
         "3:10 to Yuma",
         "2007",
         "A",
         "122 min",
         "122",
         "Action",
         "7.7",
         "288797",
         "53606916"
        ],
        [
         "23",
         "Dawn of the Dead",
         "1978",
         "A",
         "127 min",
         "127",
         "Action",
         "7.9",
         "111512",
         "5100000"
        ],
        [
         "24",
         "Nefes: Vatan Sagolsun",
         "2009",
         "A",
         "128 min",
         "128",
         "Action",
         "8.0",
         "31838",
         "107062"
        ],
        [
         "25",
         "Die Hard: With a Vengeance",
         "1995",
         "A",
         "128 min",
         "128",
         "Action",
         "7.6",
         "364420",
         "100012499"
        ],
        [
         "26",
         "Kingsman: The Secret Service",
         "2014",
         "A",
         "129 min",
         "129",
         "Action",
         "7.7",
         "590440",
         "128261724"
        ],
        [
         "27",
         "V for Vendetta",
         "2005",
         "A",
         "132 min",
         "132",
         "Action",
         "8.2",
         "1032749",
         "70511035"
        ],
        [
         "28",
         "Die Hard",
         "1988",
         "A",
         "132 min",
         "132",
         "Action",
         "8.2",
         "793164",
         "83008852"
        ],
        [
         "29",
         "Seppuku",
         "1962",
         "A",
         "133 min",
         "133",
         "Action",
         "8.6",
         "42004",
         "130743122"
        ],
        [
         "30",
         "The Matrix",
         "1999",
         "A",
         "136 min",
         "136",
         "Action",
         "8.7",
         "1676426",
         "171479930"
        ],
        [
         "31",
         "Logan",
         "2017",
         "A",
         "137 min",
         "137",
         "Action",
         "8.1",
         "647884",
         "226277068"
        ],
        [
         "32",
         "Kill Bill: Vol. 2",
         "2004",
         "A",
         "137 min",
         "137",
         "Action",
         "8.0",
         "683900",
         "66208183"
        ],
        [
         "33",
         "Apocalypto",
         "2006",
         "A",
         "139 min",
         "139",
         "Action",
         "7.8",
         "291018",
         "50866635"
        ],
        [
         "34",
         "Ang-ma-reul bo-at-da",
         "2010",
         "A",
         "144 min",
         "144",
         "Action",
         "7.8",
         "111252",
         "128392"
        ],
        [
         "35",
         "The Wild Bunch",
         "1969",
         "A",
         "145 min",
         "145",
         "Action",
         "7.9",
         "77401",
         "12064472"
        ],
        [
         "36",
         "Minority Report",
         "2002",
         "A",
         "145 min",
         "145",
         "Action",
         "7.6",
         "508417",
         "132072926"
        ],
        [
         "37",
         "Udta Punjab",
         "2016",
         "A",
         "148 min",
         "148",
         "Action",
         "7.8",
         "27175",
         "169607487"
        ],
        [
         "38",
         "Serbuan maut 2: Berandal",
         "2014",
         "A",
         "150 min",
         "150",
         "Action",
         "8.0",
         "114316",
         "2625803"
        ],
        [
         "39",
         "The Revenant",
         "2015",
         "A",
         "156 min",
         "156",
         "Action",
         "8.0",
         "705589",
         "183637894"
        ],
        [
         "40",
         "Watchmen",
         "2009",
         "A",
         "162 min",
         "162",
         "Action",
         "7.6",
         "500799",
         "107509799"
        ],
        [
         "41",
         "Gangs of Wasseypur",
         "2012",
         "A",
         "321 min",
         "321",
         "Action",
         "8.2",
         "82365",
         "144701"
        ],
        [
         "42",
         "Evil Dead II",
         "1987",
         "A",
         "84 min",
         "84",
         "Action",
         "7.8",
         "148359",
         "5923044"
        ],
        [
         "43",
         "Knockin' on Heaven's Door",
         "1997",
         "A",
         "87 min",
         "87",
         "Action",
         "8.0",
         "27721",
         "3296"
        ],
        [
         "44",
         "Taken",
         "2008",
         "A",
         "90 min",
         "90",
         "Action",
         "7.8",
         "564791",
         "145000989"
        ],
        [
         "45",
         "First Blood",
         "1982",
         "A",
         "93 min",
         "93",
         "Action",
         "7.7",
         "226541",
         "47212904"
        ],
        [
         "46",
         "Aguirre, der Zorn Gottes",
         "1972",
         "A",
         "95 min",
         "95",
         "Action",
         "7.9",
         "52397",
         "70600400"
        ],
        [
         "47",
         "Mad Max 2",
         "1981",
         "A",
         "96 min",
         "96",
         "Action",
         "7.6",
         "166588",
         "12465371"
        ],
        [
         "48",
         "Per un pugno di dollari",
         "1964",
         "A",
         "99 min",
         "99",
         "Action",
         "8.0",
         "198219",
         "14500000"
        ],
        [
         "167",
         "Children of Men",
         "2006",
         "A",
         "109 min",
         "109",
         "Adventure",
         "7.9",
         "465113",
         "35552383"
        ]
       ],
       "shape": {
        "columns": 9,
        "rows": 230
       }
      },
      "text/html": [
       "<div>\n",
       "<style scoped>\n",
       "    .dataframe tbody tr th:only-of-type {\n",
       "        vertical-align: middle;\n",
       "    }\n",
       "\n",
       "    .dataframe tbody tr th {\n",
       "        vertical-align: top;\n",
       "    }\n",
       "\n",
       "    .dataframe thead th {\n",
       "        text-align: right;\n",
       "    }\n",
       "</style>\n",
       "<table border=\"1\" class=\"dataframe\">\n",
       "  <thead>\n",
       "    <tr style=\"text-align: right;\">\n",
       "      <th></th>\n",
       "      <th>Series_Title</th>\n",
       "      <th>Released_Year</th>\n",
       "      <th>Certificate</th>\n",
       "      <th>Runtime</th>\n",
       "      <th>Runtime2</th>\n",
       "      <th>Genre</th>\n",
       "      <th>IMDB_Rating</th>\n",
       "      <th>No_of_Votes</th>\n",
       "      <th>Gross</th>\n",
       "    </tr>\n",
       "  </thead>\n",
       "  <tbody>\n",
       "    <tr>\n",
       "      <th>0</th>\n",
       "      <td>Oldeuboi</td>\n",
       "      <td>2003</td>\n",
       "      <td>A</td>\n",
       "      <td>101 min</td>\n",
       "      <td>101</td>\n",
       "      <td>Action</td>\n",
       "      <td>8.4</td>\n",
       "      <td>515451</td>\n",
       "      <td>707481</td>\n",
       "    </tr>\n",
       "    <tr>\n",
       "      <th>1</th>\n",
       "      <td>Serbuan maut</td>\n",
       "      <td>2011</td>\n",
       "      <td>A</td>\n",
       "      <td>101 min</td>\n",
       "      <td>101</td>\n",
       "      <td>Action</td>\n",
       "      <td>7.6</td>\n",
       "      <td>190531</td>\n",
       "      <td>4105123</td>\n",
       "    </tr>\n",
       "    <tr>\n",
       "      <th>2</th>\n",
       "      <td>Enter the Dragon</td>\n",
       "      <td>1973</td>\n",
       "      <td>A</td>\n",
       "      <td>102 min</td>\n",
       "      <td>102</td>\n",
       "      <td>Action</td>\n",
       "      <td>7.7</td>\n",
       "      <td>96561</td>\n",
       "      <td>25000000</td>\n",
       "    </tr>\n",
       "    <tr>\n",
       "      <th>3</th>\n",
       "      <td>Dirty Harry</td>\n",
       "      <td>1971</td>\n",
       "      <td>A</td>\n",
       "      <td>102 min</td>\n",
       "      <td>102</td>\n",
       "      <td>Action</td>\n",
       "      <td>7.7</td>\n",
       "      <td>143292</td>\n",
       "      <td>35900000</td>\n",
       "    </tr>\n",
       "    <tr>\n",
       "      <th>4</th>\n",
       "      <td>The French Connection</td>\n",
       "      <td>1971</td>\n",
       "      <td>A</td>\n",
       "      <td>104 min</td>\n",
       "      <td>104</td>\n",
       "      <td>Action</td>\n",
       "      <td>7.7</td>\n",
       "      <td>110075</td>\n",
       "      <td>15630710</td>\n",
       "    </tr>\n",
       "    <tr>\n",
       "      <th>...</th>\n",
       "      <td>...</td>\n",
       "      <td>...</td>\n",
       "      <td>...</td>\n",
       "      <td>...</td>\n",
       "      <td>...</td>\n",
       "      <td>...</td>\n",
       "      <td>...</td>\n",
       "      <td>...</td>\n",
       "      <td>...</td>\n",
       "    </tr>\n",
       "    <tr>\n",
       "      <th>702</th>\n",
       "      <td>Trainspotting</td>\n",
       "      <td>1996</td>\n",
       "      <td>A</td>\n",
       "      <td>93 min</td>\n",
       "      <td>93</td>\n",
       "      <td>Drama</td>\n",
       "      <td>8.1</td>\n",
       "      <td>634716</td>\n",
       "      <td>16501785</td>\n",
       "    </tr>\n",
       "    <tr>\n",
       "      <th>703</th>\n",
       "      <td>In a Lonely Place</td>\n",
       "      <td>1950</td>\n",
       "      <td>A</td>\n",
       "      <td>94 min</td>\n",
       "      <td>94</td>\n",
       "      <td>Drama</td>\n",
       "      <td>8.0</td>\n",
       "      <td>26784</td>\n",
       "      <td>654600</td>\n",
       "    </tr>\n",
       "    <tr>\n",
       "      <th>704</th>\n",
       "      <td>El ángel exterminador</td>\n",
       "      <td>1962</td>\n",
       "      <td>A</td>\n",
       "      <td>95 min</td>\n",
       "      <td>95</td>\n",
       "      <td>Drama</td>\n",
       "      <td>8.1</td>\n",
       "      <td>29682</td>\n",
       "      <td>102221</td>\n",
       "    </tr>\n",
       "    <tr>\n",
       "      <th>705</th>\n",
       "      <td>Det sjunde inseglet</td>\n",
       "      <td>1957</td>\n",
       "      <td>A</td>\n",
       "      <td>96 min</td>\n",
       "      <td>96</td>\n",
       "      <td>Drama</td>\n",
       "      <td>8.2</td>\n",
       "      <td>164939</td>\n",
       "      <td>25000200</td>\n",
       "    </tr>\n",
       "    <tr>\n",
       "      <th>706</th>\n",
       "      <td>Detachment</td>\n",
       "      <td>2011</td>\n",
       "      <td>A</td>\n",
       "      <td>98 min</td>\n",
       "      <td>98</td>\n",
       "      <td>Drama</td>\n",
       "      <td>7.7</td>\n",
       "      <td>77071</td>\n",
       "      <td>71177</td>\n",
       "    </tr>\n",
       "  </tbody>\n",
       "</table>\n",
       "<p>230 rows × 9 columns</p>\n",
       "</div>"
      ],
      "text/plain": [
       "              Series_Title Released_Year Certificate  Runtime  Runtime2  \\\n",
       "0                 Oldeuboi          2003           A  101 min       101   \n",
       "1             Serbuan maut          2011           A  101 min       101   \n",
       "2         Enter the Dragon          1973           A  102 min       102   \n",
       "3              Dirty Harry          1971           A  102 min       102   \n",
       "4    The French Connection          1971           A  104 min       104   \n",
       "..                     ...           ...         ...      ...       ...   \n",
       "702          Trainspotting          1996           A   93 min        93   \n",
       "703      In a Lonely Place          1950           A   94 min        94   \n",
       "704  El ángel exterminador          1962           A   95 min        95   \n",
       "705    Det sjunde inseglet          1957           A   96 min        96   \n",
       "706             Detachment          2011           A   98 min        98   \n",
       "\n",
       "      Genre  IMDB_Rating  No_of_Votes     Gross  \n",
       "0    Action          8.4       515451    707481  \n",
       "1    Action          7.6       190531   4105123  \n",
       "2    Action          7.7        96561  25000000  \n",
       "3    Action          7.7       143292  35900000  \n",
       "4    Action          7.7       110075  15630710  \n",
       "..      ...          ...          ...       ...  \n",
       "702   Drama          8.1       634716  16501785  \n",
       "703   Drama          8.0        26784    654600  \n",
       "704   Drama          8.1        29682    102221  \n",
       "705   Drama          8.2       164939  25000200  \n",
       "706   Drama          7.7        77071     71177  \n",
       "\n",
       "[230 rows x 9 columns]"
      ]
     },
     "execution_count": 142,
     "metadata": {},
     "output_type": "execute_result"
    }
   ],
   "source": [
    "df[df['Certificate']=='A']"
   ]
  },
  {
   "cell_type": "code",
   "execution_count": 143,
   "id": "21a3396a",
   "metadata": {},
   "outputs": [
    {
     "data": {
      "application/vnd.microsoft.datawrangler.viewer.v0+json": {
       "columns": [
        {
         "name": "index",
         "rawType": "int64",
         "type": "integer"
        },
        {
         "name": "Series_Title",
         "rawType": "object",
         "type": "string"
        },
        {
         "name": "Released_Year",
         "rawType": "object",
         "type": "string"
        },
        {
         "name": "Certificate",
         "rawType": "object",
         "type": "string"
        },
        {
         "name": "Runtime",
         "rawType": "object",
         "type": "string"
        },
        {
         "name": "Runtime2",
         "rawType": "int64",
         "type": "integer"
        },
        {
         "name": "Genre",
         "rawType": "object",
         "type": "string"
        },
        {
         "name": "IMDB_Rating",
         "rawType": "float64",
         "type": "float"
        },
        {
         "name": "No_of_Votes",
         "rawType": "int64",
         "type": "integer"
        },
        {
         "name": "Gross",
         "rawType": "int64",
         "type": "integer"
        }
       ],
       "ref": "23e830cf-59f3-43ea-b8c2-a70439e9ebeb",
       "rows": [
        [
         "0",
         "Oldeuboi",
         "2003",
         "A",
         "101 min",
         "101",
         "Action",
         "8.4",
         "515451",
         "707481"
        ],
        [
         "5",
         "Lock, Stock and Two Smoking Barrels",
         "1998",
         "A",
         "107 min",
         "107",
         "Action",
         "8.2",
         "535216",
         "3897569"
        ],
        [
         "10",
         "Léon",
         "1994",
         "A",
         "110 min",
         "110",
         "Action",
         "8.5",
         "1035236",
         "19501238"
        ],
        [
         "11",
         "Yôjinbô",
         "1961",
         "A",
         "110 min",
         "110",
         "Action",
         "8.2",
         "111244",
         "12100200"
        ],
        [
         "18",
         "White Heat",
         "1949",
         "A",
         "114 min",
         "114",
         "Action",
         "8.1",
         "29807",
         "44908400"
        ],
        [
         "19",
         "Raiders of the Lost Ark",
         "1981",
         "A",
         "115 min",
         "115",
         "Action",
         "8.4",
         "884112",
         "248159971"
        ],
        [
         "27",
         "V for Vendetta",
         "2005",
         "A",
         "132 min",
         "132",
         "Action",
         "8.2",
         "1032749",
         "70511035"
        ],
        [
         "28",
         "Die Hard",
         "1988",
         "A",
         "132 min",
         "132",
         "Action",
         "8.2",
         "793164",
         "83008852"
        ],
        [
         "29",
         "Seppuku",
         "1962",
         "A",
         "133 min",
         "133",
         "Action",
         "8.6",
         "42004",
         "130743122"
        ],
        [
         "30",
         "The Matrix",
         "1999",
         "A",
         "136 min",
         "136",
         "Action",
         "8.7",
         "1676426",
         "171479930"
        ],
        [
         "31",
         "Logan",
         "2017",
         "A",
         "137 min",
         "137",
         "Action",
         "8.1",
         "647884",
         "226277068"
        ],
        [
         "41",
         "Gangs of Wasseypur",
         "2012",
         "A",
         "321 min",
         "321",
         "Action",
         "8.2",
         "82365",
         "144701"
        ],
        [
         "170",
         "Kakushi-toride no san-akunin",
         "1958",
         "A",
         "139 min",
         "139",
         "Adventure",
         "8.1",
         "34797",
         "1526400"
        ],
        [
         "173",
         "Inglourious Basterds",
         "2009",
         "A",
         "153 min",
         "153",
         "Adventure",
         "8.3",
         "1267869",
         "120540719"
        ],
        [
         "231",
         "Koe no katachi",
         "2016",
         "A",
         "130 min",
         "130",
         "Animation",
         "8.1",
         "47708",
         "3760054"
        ],
        [
         "234",
         "Mary and Max",
         "2009",
         "A",
         "92 min",
         "92",
         "Animation",
         "8.1",
         "164462",
         "1498410"
        ],
        [
         "307",
         "Ayla: The Daughter of War",
         "2017",
         "A",
         "125 min",
         "125",
         "Biography",
         "8.4",
         "34112",
         "19381"
        ],
        [
         "309",
         "Raging Bull",
         "1980",
         "A",
         "129 min",
         "129",
         "Biography",
         "8.2",
         "321860",
         "23383987"
        ],
        [
         "310",
         "Spotlight",
         "2015",
         "A",
         "129 min",
         "129",
         "Biography",
         "8.1",
         "420316",
         "45055776"
        ],
        [
         "313",
         "12 Years a Slave",
         "2013",
         "A",
         "134 min",
         "134",
         "Biography",
         "8.1",
         "640533",
         "56671993"
        ],
        [
         "315",
         "Hacksaw Ridge",
         "2016",
         "A",
         "139 min",
         "139",
         "Biography",
         "8.1",
         "435928",
         "67209615"
        ],
        [
         "316",
         "Catch Me If You Can",
         "2002",
         "A",
         "141 min",
         "141",
         "Biography",
         "8.1",
         "832846",
         "164615351"
        ],
        [
         "317",
         "Goodfellas",
         "1990",
         "A",
         "146 min",
         "146",
         "Biography",
         "8.7",
         "1020727",
         "46836394"
        ],
        [
         "320",
         "Braveheart",
         "1995",
         "A",
         "178 min",
         "178",
         "Biography",
         "8.3",
         "959181",
         "75600000"
        ],
        [
         "321",
         "The Wolf of Wall Street",
         "2013",
         "A",
         "180 min",
         "180",
         "Biography",
         "8.2",
         "1187498",
         "116900694"
        ],
        [
         "322",
         "Schindler's List",
         "1993",
         "A",
         "195 min",
         "195",
         "Biography",
         "8.9",
         "1213505",
         "96898818"
        ],
        [
         "394",
         "Three Billboards Outside Ebbing, Missouri",
         "2017",
         "A",
         "115 min",
         "115",
         "Comedy",
         "8.2",
         "432610",
         "54513740"
        ],
        [
         "400",
         "Gisaengchung",
         "2019",
         "A",
         "132 min",
         "132",
         "Comedy",
         "8.6",
         "552778",
         "53367844"
        ],
        [
         "404",
         "The Kid",
         "1921",
         "A",
         "68 min",
         "68",
         "Comedy",
         "8.3",
         "113314",
         "5450000"
        ],
        [
         "409",
         "Dr. Strangelove or: How I Learned to Stop Worrying and Love the Bomb",
         "1964",
         "A",
         "95 min",
         "95",
         "Comedy",
         "8.4",
         "450474",
         "275902"
        ],
        [
         "531",
         "Dial M for Murder",
         "1954",
         "A",
         "105 min",
         "105",
         "Crime",
         "8.2",
         "158335",
         "12562"
        ],
        [
         "532",
         "The Usual Suspects",
         "1995",
         "A",
         "106 min",
         "106",
         "Crime",
         "8.5",
         "991208",
         "23341568"
        ],
        [
         "533",
         "Double Indemnity",
         "1944",
         "A",
         "107 min",
         "107",
         "Crime",
         "8.3",
         "143525",
         "5720000"
        ],
        [
         "534",
         "On the Waterfront",
         "1954",
         "A",
         "108 min",
         "108",
         "Crime",
         "8.1",
         "142107",
         "9600000"
        ],
        [
         "537",
         "Taxi Driver",
         "1976",
         "A",
         "114 min",
         "114",
         "Crime",
         "8.3",
         "724636",
         "28262574"
        ],
        [
         "541",
         "The Silence of the Lambs",
         "1991",
         "A",
         "118 min",
         "118",
         "Crime",
         "8.6",
         "1270197",
         "130742922"
        ],
        [
         "542",
         "Du rififi chez les hommes",
         "1955",
         "A",
         "118 min",
         "118",
         "Crime",
         "8.2",
         "28810",
         "57226"
        ],
        [
         "545",
         "Joker",
         "2019",
         "A",
         "122 min",
         "122",
         "Crime",
         "8.5",
         "939252",
         "335451311"
        ],
        [
         "548",
         "Se7en",
         "1995",
         "A",
         "127 min",
         "127",
         "Crime",
         "8.6",
         "1445096",
         "100125643"
        ],
        [
         "549",
         "Cool Hand Luke",
         "1967",
         "A",
         "127 min",
         "127",
         "Crime",
         "8.1",
         "161984",
         "16217773"
        ],
        [
         "552",
         "Cidade de Deus",
         "2002",
         "A",
         "130 min",
         "130",
         "Crime",
         "8.6",
         "699256",
         "7563397"
        ],
        [
         "553",
         "A Clockwork Orange",
         "1971",
         "A",
         "136 min",
         "136",
         "Crime",
         "8.3",
         "757904",
         "6207725"
        ],
        [
         "554",
         "L.A. Confidential",
         "1997",
         "A",
         "138 min",
         "138",
         "Crime",
         "8.2",
         "531967",
         "64616940"
        ],
        [
         "558",
         "The Departed",
         "2006",
         "A",
         "151 min",
         "151",
         "Crime",
         "8.5",
         "1189773",
         "132384315"
        ],
        [
         "559",
         "Prisoners",
         "2013",
         "A",
         "153 min",
         "153",
         "Crime",
         "8.1",
         "601149",
         "61002302"
        ],
        [
         "560",
         "Pulp Fiction",
         "1994",
         "A",
         "154 min",
         "154",
         "Crime",
         "8.9",
         "1826188",
         "107928762"
        ],
        [
         "565",
         "Scarface",
         "1983",
         "A",
         "170 min",
         "170",
         "Crime",
         "8.3",
         "740911",
         "45598982"
        ],
        [
         "566",
         "Heat",
         "1995",
         "A",
         "170 min",
         "170",
         "Crime",
         "8.2",
         "577113",
         "67436818"
        ],
        [
         "567",
         "The Godfather",
         "1972",
         "A",
         "175 min",
         "175",
         "Crime",
         "9.2",
         "1620367",
         "134966411"
        ],
        [
         "568",
         "Casino",
         "1995",
         "A",
         "178 min",
         "178",
         "Crime",
         "8.2",
         "466276",
         "42438300"
        ]
       ],
       "shape": {
        "columns": 9,
        "rows": 89
       }
      },
      "text/html": [
       "<div>\n",
       "<style scoped>\n",
       "    .dataframe tbody tr th:only-of-type {\n",
       "        vertical-align: middle;\n",
       "    }\n",
       "\n",
       "    .dataframe tbody tr th {\n",
       "        vertical-align: top;\n",
       "    }\n",
       "\n",
       "    .dataframe thead th {\n",
       "        text-align: right;\n",
       "    }\n",
       "</style>\n",
       "<table border=\"1\" class=\"dataframe\">\n",
       "  <thead>\n",
       "    <tr style=\"text-align: right;\">\n",
       "      <th></th>\n",
       "      <th>Series_Title</th>\n",
       "      <th>Released_Year</th>\n",
       "      <th>Certificate</th>\n",
       "      <th>Runtime</th>\n",
       "      <th>Runtime2</th>\n",
       "      <th>Genre</th>\n",
       "      <th>IMDB_Rating</th>\n",
       "      <th>No_of_Votes</th>\n",
       "      <th>Gross</th>\n",
       "    </tr>\n",
       "  </thead>\n",
       "  <tbody>\n",
       "    <tr>\n",
       "      <th>0</th>\n",
       "      <td>Oldeuboi</td>\n",
       "      <td>2003</td>\n",
       "      <td>A</td>\n",
       "      <td>101 min</td>\n",
       "      <td>101</td>\n",
       "      <td>Action</td>\n",
       "      <td>8.4</td>\n",
       "      <td>515451</td>\n",
       "      <td>707481</td>\n",
       "    </tr>\n",
       "    <tr>\n",
       "      <th>5</th>\n",
       "      <td>Lock, Stock and Two Smoking Barrels</td>\n",
       "      <td>1998</td>\n",
       "      <td>A</td>\n",
       "      <td>107 min</td>\n",
       "      <td>107</td>\n",
       "      <td>Action</td>\n",
       "      <td>8.2</td>\n",
       "      <td>535216</td>\n",
       "      <td>3897569</td>\n",
       "    </tr>\n",
       "    <tr>\n",
       "      <th>10</th>\n",
       "      <td>Léon</td>\n",
       "      <td>1994</td>\n",
       "      <td>A</td>\n",
       "      <td>110 min</td>\n",
       "      <td>110</td>\n",
       "      <td>Action</td>\n",
       "      <td>8.5</td>\n",
       "      <td>1035236</td>\n",
       "      <td>19501238</td>\n",
       "    </tr>\n",
       "    <tr>\n",
       "      <th>11</th>\n",
       "      <td>Yôjinbô</td>\n",
       "      <td>1961</td>\n",
       "      <td>A</td>\n",
       "      <td>110 min</td>\n",
       "      <td>110</td>\n",
       "      <td>Action</td>\n",
       "      <td>8.2</td>\n",
       "      <td>111244</td>\n",
       "      <td>12100200</td>\n",
       "    </tr>\n",
       "    <tr>\n",
       "      <th>18</th>\n",
       "      <td>White Heat</td>\n",
       "      <td>1949</td>\n",
       "      <td>A</td>\n",
       "      <td>114 min</td>\n",
       "      <td>114</td>\n",
       "      <td>Action</td>\n",
       "      <td>8.1</td>\n",
       "      <td>29807</td>\n",
       "      <td>44908400</td>\n",
       "    </tr>\n",
       "    <tr>\n",
       "      <th>...</th>\n",
       "      <td>...</td>\n",
       "      <td>...</td>\n",
       "      <td>...</td>\n",
       "      <td>...</td>\n",
       "      <td>...</td>\n",
       "      <td>...</td>\n",
       "      <td>...</td>\n",
       "      <td>...</td>\n",
       "      <td>...</td>\n",
       "    </tr>\n",
       "    <tr>\n",
       "      <th>699</th>\n",
       "      <td>Jungfrukällan</td>\n",
       "      <td>1960</td>\n",
       "      <td>A</td>\n",
       "      <td>89 min</td>\n",
       "      <td>89</td>\n",
       "      <td>Drama</td>\n",
       "      <td>8.1</td>\n",
       "      <td>26697</td>\n",
       "      <td>1526000</td>\n",
       "    </tr>\n",
       "    <tr>\n",
       "      <th>701</th>\n",
       "      <td>Viskningar och rop</td>\n",
       "      <td>1972</td>\n",
       "      <td>A</td>\n",
       "      <td>91 min</td>\n",
       "      <td>91</td>\n",
       "      <td>Drama</td>\n",
       "      <td>8.1</td>\n",
       "      <td>30206</td>\n",
       "      <td>1742348</td>\n",
       "    </tr>\n",
       "    <tr>\n",
       "      <th>702</th>\n",
       "      <td>Trainspotting</td>\n",
       "      <td>1996</td>\n",
       "      <td>A</td>\n",
       "      <td>93 min</td>\n",
       "      <td>93</td>\n",
       "      <td>Drama</td>\n",
       "      <td>8.1</td>\n",
       "      <td>634716</td>\n",
       "      <td>16501785</td>\n",
       "    </tr>\n",
       "    <tr>\n",
       "      <th>704</th>\n",
       "      <td>El ángel exterminador</td>\n",
       "      <td>1962</td>\n",
       "      <td>A</td>\n",
       "      <td>95 min</td>\n",
       "      <td>95</td>\n",
       "      <td>Drama</td>\n",
       "      <td>8.1</td>\n",
       "      <td>29682</td>\n",
       "      <td>102221</td>\n",
       "    </tr>\n",
       "    <tr>\n",
       "      <th>705</th>\n",
       "      <td>Det sjunde inseglet</td>\n",
       "      <td>1957</td>\n",
       "      <td>A</td>\n",
       "      <td>96 min</td>\n",
       "      <td>96</td>\n",
       "      <td>Drama</td>\n",
       "      <td>8.2</td>\n",
       "      <td>164939</td>\n",
       "      <td>25000200</td>\n",
       "    </tr>\n",
       "  </tbody>\n",
       "</table>\n",
       "<p>89 rows × 9 columns</p>\n",
       "</div>"
      ],
      "text/plain": [
       "                            Series_Title Released_Year Certificate  Runtime  \\\n",
       "0                               Oldeuboi          2003           A  101 min   \n",
       "5    Lock, Stock and Two Smoking Barrels          1998           A  107 min   \n",
       "10                                  Léon          1994           A  110 min   \n",
       "11                               Yôjinbô          1961           A  110 min   \n",
       "18                            White Heat          1949           A  114 min   \n",
       "..                                   ...           ...         ...      ...   \n",
       "699                        Jungfrukällan          1960           A   89 min   \n",
       "701                   Viskningar och rop          1972           A   91 min   \n",
       "702                        Trainspotting          1996           A   93 min   \n",
       "704                El ángel exterminador          1962           A   95 min   \n",
       "705                  Det sjunde inseglet          1957           A   96 min   \n",
       "\n",
       "     Runtime2   Genre  IMDB_Rating  No_of_Votes     Gross  \n",
       "0         101  Action          8.4       515451    707481  \n",
       "5         107  Action          8.2       535216   3897569  \n",
       "10        110  Action          8.5      1035236  19501238  \n",
       "11        110  Action          8.2       111244  12100200  \n",
       "18        114  Action          8.1        29807  44908400  \n",
       "..        ...     ...          ...          ...       ...  \n",
       "699        89   Drama          8.1        26697   1526000  \n",
       "701        91   Drama          8.1        30206   1742348  \n",
       "702        93   Drama          8.1       634716  16501785  \n",
       "704        95   Drama          8.1        29682    102221  \n",
       "705        96   Drama          8.2       164939  25000200  \n",
       "\n",
       "[89 rows x 9 columns]"
      ]
     },
     "execution_count": 143,
     "metadata": {},
     "output_type": "execute_result"
    }
   ],
   "source": [
    "df[(df['Certificate']=='A') & (df['IMDB_Rating']>8)]"
   ]
  },
  {
   "cell_type": "code",
   "execution_count": 144,
   "id": "cee9b93e",
   "metadata": {},
   "outputs": [
    {
     "name": "stdout",
     "output_type": "stream",
     "text": [
      "<class 'pandas.core.frame.DataFrame'>\n",
      "RangeIndex: 901 entries, 0 to 900\n",
      "Data columns (total 9 columns):\n",
      " #   Column         Non-Null Count  Dtype  \n",
      "---  ------         --------------  -----  \n",
      " 0   Series_Title   901 non-null    object \n",
      " 1   Released_Year  901 non-null    object \n",
      " 2   Certificate    901 non-null    object \n",
      " 3   Runtime        901 non-null    object \n",
      " 4   Runtime2       901 non-null    int64  \n",
      " 5   Genre          901 non-null    object \n",
      " 6   IMDB_Rating    901 non-null    float64\n",
      " 7   No_of_Votes    901 non-null    int64  \n",
      " 8   Gross          901 non-null    int64  \n",
      "dtypes: float64(1), int64(3), object(5)\n",
      "memory usage: 63.5+ KB\n"
     ]
    }
   ],
   "source": [
    "df.info()"
   ]
  },
  {
   "cell_type": "code",
   "execution_count": 146,
   "id": "3a004147",
   "metadata": {},
   "outputs": [
    {
     "data": {
      "application/vnd.microsoft.datawrangler.viewer.v0+json": {
       "columns": [
        {
         "name": "index",
         "rawType": "int64",
         "type": "integer"
        },
        {
         "name": "Series_Title",
         "rawType": "object",
         "type": "string"
        },
        {
         "name": "Released_Year",
         "rawType": "object",
         "type": "string"
        },
        {
         "name": "Certificate",
         "rawType": "object",
         "type": "string"
        },
        {
         "name": "Runtime",
         "rawType": "object",
         "type": "string"
        },
        {
         "name": "Runtime2",
         "rawType": "int64",
         "type": "integer"
        },
        {
         "name": "Genre",
         "rawType": "object",
         "type": "string"
        },
        {
         "name": "IMDB_Rating",
         "rawType": "float64",
         "type": "float"
        },
        {
         "name": "No_of_Votes",
         "rawType": "int64",
         "type": "integer"
        },
        {
         "name": "Gross",
         "rawType": "int64",
         "type": "integer"
        }
       ],
       "ref": "8fc7fb98-c72e-4547-9bfd-fad0055fd2fa",
       "rows": [
        [
         "675",
         "The Shawshank Redemption",
         "1994",
         "A",
         "142 min",
         "142",
         "Drama",
         "9.3",
         "2343110",
         "28341469"
        ],
        [
         "567",
         "The Godfather",
         "1972",
         "A",
         "175 min",
         "175",
         "Crime",
         "9.2",
         "1620367",
         "134966411"
        ],
        [
         "570",
         "The Godfather: Part II",
         "1974",
         "A",
         "202 min",
         "202",
         "Crime",
         "9.0",
         "1129952",
         "57300000"
        ],
        [
         "610",
         "12 Angry Men",
         "1957",
         "U",
         "96 min",
         "96",
         "Crime",
         "9.0",
         "689845",
         "4360000"
        ],
        [
         "149",
         "The Dark Knight",
         "2008",
         "UA",
         "152 min",
         "152",
         "Action",
         "9.0",
         "2303232",
         "534858444"
        ],
        [
         "560",
         "Pulp Fiction",
         "1994",
         "A",
         "154 min",
         "154",
         "Crime",
         "8.9",
         "1826188",
         "107928762"
        ],
        [
         "322",
         "Schindler's List",
         "1993",
         "A",
         "195 min",
         "195",
         "Biography",
         "8.9",
         "1213505",
         "96898818"
        ],
        [
         "91",
         "The Lord of the Rings: The Return of the King",
         "2003",
         "U",
         "201 min",
         "201",
         "Action",
         "8.9",
         "1642758",
         "377845905"
        ],
        [
         "881",
         "Forrest Gump",
         "1994",
         "UA",
         "142 min",
         "142",
         "Drama",
         "8.8",
         "1809221",
         "330252182"
        ],
        [
         "674",
         "Fight Club",
         "1999",
         "A",
         "139 min",
         "139",
         "Drama",
         "8.8",
         "1854740",
         "37030102"
        ],
        [
         "146",
         "Inception",
         "2010",
         "UA",
         "148 min",
         "148",
         "Action",
         "8.8",
         "2067042",
         "292576195"
        ],
        [
         "90",
         "The Lord of the Rings: The Fellowship of the Ring",
         "2001",
         "U",
         "178 min",
         "178",
         "Action",
         "8.8",
         "1661481",
         "315544750"
        ],
        [
         "317",
         "Goodfellas",
         "1990",
         "A",
         "146 min",
         "146",
         "Biography",
         "8.7",
         "1020727",
         "46836394"
        ],
        [
         "30",
         "The Matrix",
         "1999",
         "A",
         "136 min",
         "136",
         "Action",
         "8.7",
         "1676426",
         "171479930"
        ],
        [
         "163",
         "The Lord of the Rings: The Two Towers",
         "2002",
         "UA",
         "179 min",
         "179",
         "Action",
         "8.7",
         "1485555",
         "342551365"
        ],
        [
         "664",
         "One Flew Over the Cuckoo's Nest",
         "1975",
         "A",
         "133 min",
         "133",
         "Drama",
         "8.7",
         "918088",
         "112000000"
        ],
        [
         "117",
         "Star Wars: Episode V - The Empire Strikes Back",
         "1980",
         "UA",
         "124 min",
         "124",
         "Action",
         "8.7",
         "1159315",
         "290475067"
        ],
        [
         "467",
         "La vita è bella",
         "1997",
         "U",
         "116 min",
         "116",
         "Comedy",
         "8.6",
         "623629",
         "57598247"
        ],
        [
         "400",
         "Gisaengchung",
         "2019",
         "A",
         "132 min",
         "132",
         "Comedy",
         "8.6",
         "552778",
         "53367844"
        ],
        [
         "821",
         "Soorarai Pottru",
         "2020",
         "U",
         "153 min",
         "153",
         "Drama",
         "8.6",
         "54995",
         "12763"
        ],
        [
         "29",
         "Seppuku",
         "1962",
         "A",
         "133 min",
         "133",
         "Action",
         "8.6",
         "42004",
         "130743122"
        ],
        [
         "228",
         "Interstellar",
         "2014",
         "UA",
         "169 min",
         "169",
         "Adventure",
         "8.6",
         "1512360",
         "188020017"
        ],
        [
         "270",
         "Sen to Chihiro no kamikakushi",
         "2001",
         "U",
         "125 min",
         "125",
         "Animation",
         "8.6",
         "651376",
         "10055859"
        ],
        [
         "331",
         "Hamilton",
         "2020",
         "PG-13",
         "160 min",
         "160",
         "Biography",
         "8.6",
         "55291",
         "12563"
        ],
        [
         "93",
         "Shichinin no samurai",
         "1954",
         "U",
         "207 min",
         "207",
         "Action",
         "8.6",
         "315744",
         "269061"
        ],
        [
         "113",
         "Star Wars",
         "1977",
         "UA",
         "121 min",
         "121",
         "Action",
         "8.6",
         "1231473",
         "322740140"
        ],
        [
         "779",
         "Saving Private Ryan",
         "1998",
         "R",
         "169 min",
         "169",
         "Drama",
         "8.6",
         "1235804",
         "216540909"
        ],
        [
         "552",
         "Cidade de Deus",
         "2002",
         "A",
         "130 min",
         "130",
         "Crime",
         "8.6",
         "699256",
         "7563397"
        ],
        [
         "541",
         "The Silence of the Lambs",
         "1991",
         "A",
         "118 min",
         "118",
         "Crime",
         "8.6",
         "1270197",
         "130742922"
        ],
        [
         "548",
         "Se7en",
         "1995",
         "A",
         "127 min",
         "127",
         "Crime",
         "8.6",
         "1445096",
         "100125643"
        ],
        [
         "569",
         "The Green Mile",
         "1999",
         "A",
         "189 min",
         "189",
         "Crime",
         "8.6",
         "1147794",
         "136801374"
        ],
        [
         "806",
         "The Prestige",
         "2006",
         "U",
         "130 min",
         "130",
         "Drama",
         "8.5",
         "1190259",
         "53089891"
        ],
        [
         "787",
         "Casablanca",
         "1942",
         "U",
         "102 min",
         "102",
         "Drama",
         "8.5",
         "522093",
         "1024560"
        ],
        [
         "825",
         "Nuovo Cinema Paradiso",
         "1988",
         "U",
         "155 min",
         "155",
         "Drama",
         "8.5",
         "230763",
         "11990401"
        ],
        [
         "198",
         "Back to the Future",
         "1985",
         "U",
         "116 min",
         "116",
         "Adventure",
         "8.5",
         "1058081",
         "210609762"
        ],
        [
         "10",
         "Léon",
         "1994",
         "A",
         "110 min",
         "110",
         "Action",
         "8.5",
         "1035236",
         "19501238"
        ],
        [
         "81",
         "Terminator 2: Judgment Day",
         "1991",
         "U",
         "137 min",
         "137",
         "Action",
         "8.5",
         "995506",
         "204843350"
        ],
        [
         "153",
         "Gladiator",
         "2000",
         "UA",
         "155 min",
         "155",
         "Action",
         "8.5",
         "1341460",
         "187705427"
        ],
        [
         "558",
         "The Departed",
         "2006",
         "A",
         "151 min",
         "151",
         "Crime",
         "8.5",
         "1189773",
         "132384315"
        ],
        [
         "343",
         "The Pianist",
         "2002",
         "R",
         "150 min",
         "150",
         "Biography",
         "8.5",
         "729603",
         "32572577"
        ],
        [
         "638",
         "Whiplash",
         "2014",
         "A",
         "106 min",
         "106",
         "Drama",
         "8.5",
         "717585",
         "13092000"
        ],
        [
         "753",
         "American History X",
         "1998",
         "R",
         "119 min",
         "119",
         "Drama",
         "8.5",
         "1034705",
         "6719864"
        ],
        [
         "545",
         "Joker",
         "2019",
         "A",
         "122 min",
         "122",
         "Crime",
         "8.5",
         "939252",
         "335451311"
        ],
        [
         "532",
         "The Usual Suspects",
         "1995",
         "A",
         "106 min",
         "106",
         "Crime",
         "8.5",
         "991208",
         "23341568"
        ],
        [
         "373",
         "The Intouchables",
         "2011",
         "UA",
         "112 min",
         "112",
         "Biography",
         "8.5",
         "760360",
         "13182281"
        ],
        [
         "280",
         "The Lion King",
         "1994",
         "U",
         "88 min",
         "88",
         "Animation",
         "8.5",
         "942045",
         "422783777"
        ],
        [
         "282",
         "Hotaru no haka",
         "1988",
         "U",
         "89 min",
         "89",
         "Animation",
         "8.5",
         "235231",
         "204843550"
        ],
        [
         "775",
         "Apocalypse Now",
         "1979",
         "R",
         "147 min",
         "147",
         "Drama",
         "8.4",
         "606398",
         "83471511"
        ],
        [
         "800",
         "Anand",
         "1971",
         "U",
         "122 min",
         "122",
         "Drama",
         "8.4",
         "30273",
         "83471711"
        ],
        [
         "19",
         "Raiders of the Lost Ark",
         "1981",
         "A",
         "115 min",
         "115",
         "Action",
         "8.4",
         "884112",
         "248159971"
        ]
       ],
       "shape": {
        "columns": 9,
        "rows": 901
       }
      },
      "text/html": [
       "<div>\n",
       "<style scoped>\n",
       "    .dataframe tbody tr th:only-of-type {\n",
       "        vertical-align: middle;\n",
       "    }\n",
       "\n",
       "    .dataframe tbody tr th {\n",
       "        vertical-align: top;\n",
       "    }\n",
       "\n",
       "    .dataframe thead th {\n",
       "        text-align: right;\n",
       "    }\n",
       "</style>\n",
       "<table border=\"1\" class=\"dataframe\">\n",
       "  <thead>\n",
       "    <tr style=\"text-align: right;\">\n",
       "      <th></th>\n",
       "      <th>Series_Title</th>\n",
       "      <th>Released_Year</th>\n",
       "      <th>Certificate</th>\n",
       "      <th>Runtime</th>\n",
       "      <th>Runtime2</th>\n",
       "      <th>Genre</th>\n",
       "      <th>IMDB_Rating</th>\n",
       "      <th>No_of_Votes</th>\n",
       "      <th>Gross</th>\n",
       "    </tr>\n",
       "  </thead>\n",
       "  <tbody>\n",
       "    <tr>\n",
       "      <th>675</th>\n",
       "      <td>The Shawshank Redemption</td>\n",
       "      <td>1994</td>\n",
       "      <td>A</td>\n",
       "      <td>142 min</td>\n",
       "      <td>142</td>\n",
       "      <td>Drama</td>\n",
       "      <td>9.3</td>\n",
       "      <td>2343110</td>\n",
       "      <td>28341469</td>\n",
       "    </tr>\n",
       "    <tr>\n",
       "      <th>567</th>\n",
       "      <td>The Godfather</td>\n",
       "      <td>1972</td>\n",
       "      <td>A</td>\n",
       "      <td>175 min</td>\n",
       "      <td>175</td>\n",
       "      <td>Crime</td>\n",
       "      <td>9.2</td>\n",
       "      <td>1620367</td>\n",
       "      <td>134966411</td>\n",
       "    </tr>\n",
       "    <tr>\n",
       "      <th>570</th>\n",
       "      <td>The Godfather: Part II</td>\n",
       "      <td>1974</td>\n",
       "      <td>A</td>\n",
       "      <td>202 min</td>\n",
       "      <td>202</td>\n",
       "      <td>Crime</td>\n",
       "      <td>9.0</td>\n",
       "      <td>1129952</td>\n",
       "      <td>57300000</td>\n",
       "    </tr>\n",
       "    <tr>\n",
       "      <th>610</th>\n",
       "      <td>12 Angry Men</td>\n",
       "      <td>1957</td>\n",
       "      <td>U</td>\n",
       "      <td>96 min</td>\n",
       "      <td>96</td>\n",
       "      <td>Crime</td>\n",
       "      <td>9.0</td>\n",
       "      <td>689845</td>\n",
       "      <td>4360000</td>\n",
       "    </tr>\n",
       "    <tr>\n",
       "      <th>149</th>\n",
       "      <td>The Dark Knight</td>\n",
       "      <td>2008</td>\n",
       "      <td>UA</td>\n",
       "      <td>152 min</td>\n",
       "      <td>152</td>\n",
       "      <td>Action</td>\n",
       "      <td>9.0</td>\n",
       "      <td>2303232</td>\n",
       "      <td>534858444</td>\n",
       "    </tr>\n",
       "    <tr>\n",
       "      <th>...</th>\n",
       "      <td>...</td>\n",
       "      <td>...</td>\n",
       "      <td>...</td>\n",
       "      <td>...</td>\n",
       "      <td>...</td>\n",
       "      <td>...</td>\n",
       "      <td>...</td>\n",
       "      <td>...</td>\n",
       "      <td>...</td>\n",
       "    </tr>\n",
       "    <tr>\n",
       "      <th>426</th>\n",
       "      <td>50/50</td>\n",
       "      <td>2011</td>\n",
       "      <td>R</td>\n",
       "      <td>100 min</td>\n",
       "      <td>100</td>\n",
       "      <td>Comedy</td>\n",
       "      <td>7.6</td>\n",
       "      <td>315426</td>\n",
       "      <td>35014192</td>\n",
       "    </tr>\n",
       "    <tr>\n",
       "      <th>109</th>\n",
       "      <td>Kick-Ass</td>\n",
       "      <td>2010</td>\n",
       "      <td>UA</td>\n",
       "      <td>117 min</td>\n",
       "      <td>117</td>\n",
       "      <td>Action</td>\n",
       "      <td>7.6</td>\n",
       "      <td>524081</td>\n",
       "      <td>48071303</td>\n",
       "    </tr>\n",
       "    <tr>\n",
       "      <th>105</th>\n",
       "      <td>Batoru rowaiaru</td>\n",
       "      <td>2000</td>\n",
       "      <td>UA</td>\n",
       "      <td>114 min</td>\n",
       "      <td>114</td>\n",
       "      <td>Action</td>\n",
       "      <td>7.6</td>\n",
       "      <td>169091</td>\n",
       "      <td>57938893</td>\n",
       "    </tr>\n",
       "    <tr>\n",
       "      <th>1</th>\n",
       "      <td>Serbuan maut</td>\n",
       "      <td>2011</td>\n",
       "      <td>A</td>\n",
       "      <td>101 min</td>\n",
       "      <td>101</td>\n",
       "      <td>Action</td>\n",
       "      <td>7.6</td>\n",
       "      <td>190531</td>\n",
       "      <td>4105123</td>\n",
       "    </tr>\n",
       "    <tr>\n",
       "      <th>900</th>\n",
       "      <td>Lifeboat</td>\n",
       "      <td>1944</td>\n",
       "      <td>UA</td>\n",
       "      <td>97 min</td>\n",
       "      <td>97</td>\n",
       "      <td>Drama</td>\n",
       "      <td>7.6</td>\n",
       "      <td>26471</td>\n",
       "      <td>13780424</td>\n",
       "    </tr>\n",
       "  </tbody>\n",
       "</table>\n",
       "<p>901 rows × 9 columns</p>\n",
       "</div>"
      ],
      "text/plain": [
       "                 Series_Title Released_Year Certificate  Runtime  Runtime2  \\\n",
       "675  The Shawshank Redemption          1994           A  142 min       142   \n",
       "567             The Godfather          1972           A  175 min       175   \n",
       "570    The Godfather: Part II          1974           A  202 min       202   \n",
       "610              12 Angry Men          1957           U   96 min        96   \n",
       "149           The Dark Knight          2008          UA  152 min       152   \n",
       "..                        ...           ...         ...      ...       ...   \n",
       "426                     50/50          2011           R  100 min       100   \n",
       "109                  Kick-Ass          2010          UA  117 min       117   \n",
       "105           Batoru rowaiaru          2000          UA  114 min       114   \n",
       "1                Serbuan maut          2011           A  101 min       101   \n",
       "900                  Lifeboat          1944          UA   97 min        97   \n",
       "\n",
       "      Genre  IMDB_Rating  No_of_Votes      Gross  \n",
       "675   Drama          9.3      2343110   28341469  \n",
       "567   Crime          9.2      1620367  134966411  \n",
       "570   Crime          9.0      1129952   57300000  \n",
       "610   Crime          9.0       689845    4360000  \n",
       "149  Action          9.0      2303232  534858444  \n",
       "..      ...          ...          ...        ...  \n",
       "426  Comedy          7.6       315426   35014192  \n",
       "109  Action          7.6       524081   48071303  \n",
       "105  Action          7.6       169091   57938893  \n",
       "1    Action          7.6       190531    4105123  \n",
       "900   Drama          7.6        26471   13780424  \n",
       "\n",
       "[901 rows x 9 columns]"
      ]
     },
     "execution_count": 146,
     "metadata": {},
     "output_type": "execute_result"
    }
   ],
   "source": [
    "df.sort_values('IMDB_Rating',ascending=False)"
   ]
  },
  {
   "cell_type": "code",
   "execution_count": null,
   "id": "c9236ff9",
   "metadata": {},
   "outputs": [
    {
     "data": {
      "application/vnd.microsoft.datawrangler.viewer.v0+json": {
       "columns": [
        {
         "name": "index",
         "rawType": "int64",
         "type": "integer"
        },
        {
         "name": "Series_Title",
         "rawType": "object",
         "type": "string"
        },
        {
         "name": "Released_Year",
         "rawType": "object",
         "type": "string"
        },
        {
         "name": "Certificate",
         "rawType": "object",
         "type": "string"
        },
        {
         "name": "Runtime",
         "rawType": "object",
         "type": "string"
        },
        {
         "name": "Runtime2",
         "rawType": "int64",
         "type": "integer"
        },
        {
         "name": "Genre",
         "rawType": "object",
         "type": "string"
        },
        {
         "name": "IMDB_Rating",
         "rawType": "float64",
         "type": "float"
        },
        {
         "name": "No_of_Votes",
         "rawType": "int64",
         "type": "integer"
        },
        {
         "name": "Gross",
         "rawType": "int64",
         "type": "integer"
        }
       ],
       "ref": "a275b30b-fbc8-429c-8ec9-1d4c0aec5992",
       "rows": [
        [
         "393",
         "The Long Goodbye",
         "1973",
         "A",
         "112 min",
         "112",
         "Comedy",
         "7.6",
         "26337",
         "959000"
        ],
        [
         "900",
         "Lifeboat",
         "1944",
         "UA",
         "97 min",
         "97",
         "Drama",
         "7.6",
         "26471",
         "13780424"
        ],
        [
         "268",
         "Omohide poro poro",
         "1991",
         "U",
         "118 min",
         "118",
         "Animation",
         "7.6",
         "27071",
         "453243"
        ],
        [
         "852",
         "On Golden Pond",
         "1981",
         "UA",
         "109 min",
         "109",
         "Drama",
         "7.6",
         "27650",
         "119285432"
        ],
        [
         "765",
         "Nelyubov",
         "2017",
         "R",
         "127 min",
         "127",
         "Drama",
         "7.6",
         "29765",
         "566356"
        ],
        [
         "299",
         "The Secret of Kells",
         "2009",
         "UA",
         "71 min",
         "71",
         "Animation",
         "7.6",
         "31779",
         "686383"
        ],
        [
         "216",
         "The Muppet Movie",
         "1979",
         "U",
         "95 min",
         "95",
         "Adventure",
         "7.6",
         "32802",
         "76657000"
        ],
        [
         "286",
         "Watership Down",
         "1978",
         "U",
         "91 min",
         "91",
         "Animation",
         "7.6",
         "33656",
         "76657200"
        ],
        [
         "732",
         "Mustang",
         "2015",
         "PG-13",
         "97 min",
         "97",
         "Drama",
         "7.6",
         "35785",
         "845464"
        ],
        [
         "752",
         "Hævnen",
         "2010",
         "R",
         "118 min",
         "118",
         "Drama",
         "7.6",
         "38491",
         "1008098"
        ],
        [
         "487",
         "A Hard Day's Night",
         "1964",
         "U",
         "87 min",
         "87",
         "Comedy",
         "7.6",
         "40351",
         "13780024"
        ],
        [
         "718",
         "The Visitor",
         "2007",
         "PG-13",
         "104 min",
         "104",
         "Drama",
         "7.6",
         "41544",
         "9422422"
        ],
        [
         "710",
         "From Here to Eternity",
         "1953",
         "Passed",
         "118 min",
         "118",
         "Drama",
         "7.6",
         "43374",
         "30500000"
        ],
        [
         "314",
         "Just Mercy",
         "2019",
         "A",
         "137 min",
         "137",
         "Biography",
         "7.6",
         "46739",
         "566556"
        ],
        [
         "594",
         "Leviafan",
         "2014",
         "R",
         "140 min",
         "140",
         "Crime",
         "7.6",
         "49397",
         "1092800"
        ],
        [
         "573",
         "Dead Man's Shoes",
         "2004",
         "A",
         "90 min",
         "90",
         "Crime",
         "7.6",
         "49728",
         "6013"
        ],
        [
         "626",
         "The 39 Steps",
         "1935",
         "UA",
         "86 min",
         "86",
         "Crime",
         "7.6",
         "51853",
         "30500200"
        ],
        [
         "618",
         "Victoria",
         "2015",
         "UA",
         "138 min",
         "138",
         "Crime",
         "7.6",
         "52903",
         "24801412"
        ],
        [
         "647",
         "Blowup",
         "1966",
         "A",
         "111 min",
         "111",
         "Drama",
         "7.6",
         "56513",
         "1378635"
        ],
        [
         "130",
         "Only the Brave",
         "2017",
         "UA",
         "134 min",
         "134",
         "Action",
         "7.6",
         "58371",
         "18340051"
        ],
        [
         "327",
         "Dark Waters",
         "2019",
         "PG-13",
         "126 min",
         "126",
         "Biography",
         "7.6",
         "60408",
         "76408297"
        ],
        [
         "591",
         "Boksuneun naui geot",
         "2002",
         "R",
         "129 min",
         "129",
         "Crime",
         "7.6",
         "62659",
         "45289"
        ],
        [
         "104",
         "Celda 211",
         "2009",
         "UA",
         "113 min",
         "113",
         "Action",
         "7.6",
         "63882",
         "35014392"
        ],
        [
         "489",
         "Trois couleurs: Blanc",
         "1994",
         "U",
         "92 min",
         "92",
         "Comedy",
         "7.6",
         "64390",
         "1464625"
        ],
        [
         "535",
         "Funny Games",
         "1997",
         "A",
         "108 min",
         "108",
         "Crime",
         "7.6",
         "65058",
         "120620454"
        ],
        [
         "739",
         "Mysterious Skin",
         "2004",
         "R",
         "105 min",
         "105",
         "Drama",
         "7.6",
         "65939",
         "697181"
        ],
        [
         "181",
         "The Peanut Butter Falcon",
         "2019",
         "PG-13",
         "97 min",
         "97",
         "Adventure",
         "7.6",
         "66346",
         "13122642"
        ],
        [
         "448",
         "Jeux d'enfants",
         "2003",
         "R",
         "93 min",
         "93",
         "Comedy",
         "7.6",
         "67360",
         "548707"
        ],
        [
         "446",
         "The Station Agent",
         "2003",
         "R",
         "89 min",
         "89",
         "Comedy",
         "7.6",
         "67370",
         "5739376"
        ],
        [
         "810",
         "Un long dimanche de fiançailles",
         "2004",
         "U",
         "133 min",
         "133",
         "Drama",
         "7.6",
         "70925",
         "6167817"
        ],
        [
         "53",
         "Huo Yuan Jia",
         "2006",
         "PG-13",
         "104 min",
         "104",
         "Action",
         "7.6",
         "72863",
         "24633730"
        ],
        [
         "669",
         "The Bridges of Madison County",
         "1995",
         "A",
         "135 min",
         "135",
         "Drama",
         "7.6",
         "73172",
         "71516617"
        ],
        [
         "306",
         "Midnight Express",
         "1978",
         "A",
         "121 min",
         "121",
         "Biography",
         "7.6",
         "73662",
         "35000000"
        ],
        [
         "454",
         "Delicatessen",
         "1991",
         "R",
         "99 min",
         "99",
         "Comedy",
         "7.6",
         "80487",
         "1794187"
        ],
        [
         "290",
         "Kari-gurashi no Arietti",
         "2010",
         "U",
         "94 min",
         "94",
         "Animation",
         "7.6",
         "80939",
         "19202743"
        ],
        [
         "330",
         "La Vie En Rose",
         "2007",
         "PG-13",
         "140 min",
         "140",
         "Biography",
         "7.6",
         "82781",
         "10301706"
        ],
        [
         "763",
         "Synecdoche, New York",
         "2008",
         "R",
         "124 min",
         "124",
         "Drama",
         "7.6",
         "83158",
         "3081925"
        ],
        [
         "576",
         "Blood Simple",
         "1984",
         "A",
         "99 min",
         "99",
         "Crime",
         "7.6",
         "87745",
         "2150000"
        ],
        [
         "186",
         "Dead Man",
         "1995",
         "R",
         "121 min",
         "121",
         "Adventure",
         "7.6",
         "90442",
         "1037847"
        ],
        [
         "341",
         "The Hurricane",
         "1999",
         "R",
         "146 min",
         "146",
         "Biography",
         "7.6",
         "91557",
         "50668906"
        ],
        [
         "165",
         "The Warriors",
         "1979",
         "UA",
         "92 min",
         "92",
         "Action",
         "7.6",
         "93878",
         "22490039"
        ],
        [
         "332",
         "Philomena",
         "2013",
         "PG-13",
         "98 min",
         "98",
         "Biography",
         "7.6",
         "94212",
         "37707719"
        ],
        [
         "646",
         "The Florida Project",
         "2017",
         "A",
         "111 min",
         "111",
         "Drama",
         "7.6",
         "95181",
         "5904366"
        ],
        [
         "717",
         "Gifted",
         "2017",
         "PG-13",
         "101 min",
         "101",
         "Drama",
         "7.6",
         "99643",
         "24801212"
        ],
        [
         "814",
         "Sense and Sensibility",
         "1995",
         "U",
         "136 min",
         "136",
         "Drama",
         "7.6",
         "102598",
         "43182776"
        ],
        [
         "848",
         "Die Welle",
         "2008",
         "UA",
         "107 min",
         "107",
         "Drama",
         "7.6",
         "102742",
         "3186012"
        ],
        [
         "503",
         "My Cousin Vinny",
         "1992",
         "UA",
         "120 min",
         "120",
         "Comedy",
         "7.6",
         "107325",
         "52929168"
        ],
        [
         "639",
         "Y tu mamá también",
         "2001",
         "A",
         "106 min",
         "106",
         "Drama",
         "7.6",
         "115827",
         "13622333"
        ],
        [
         "16",
         "Escape from Alcatraz",
         "1979",
         "A",
         "112 min",
         "112",
         "Action",
         "7.6",
         "121731",
         "43000000"
        ],
        [
         "491",
         "Planes, Trains & Automobiles",
         "1987",
         "U",
         "93 min",
         "93",
         "Comedy",
         "7.6",
         "124773",
         "49530280"
        ]
       ],
       "shape": {
        "columns": 9,
        "rows": 901
       }
      },
      "text/html": [
       "<div>\n",
       "<style scoped>\n",
       "    .dataframe tbody tr th:only-of-type {\n",
       "        vertical-align: middle;\n",
       "    }\n",
       "\n",
       "    .dataframe tbody tr th {\n",
       "        vertical-align: top;\n",
       "    }\n",
       "\n",
       "    .dataframe thead th {\n",
       "        text-align: right;\n",
       "    }\n",
       "</style>\n",
       "<table border=\"1\" class=\"dataframe\">\n",
       "  <thead>\n",
       "    <tr style=\"text-align: right;\">\n",
       "      <th></th>\n",
       "      <th>Series_Title</th>\n",
       "      <th>Released_Year</th>\n",
       "      <th>Certificate</th>\n",
       "      <th>Runtime</th>\n",
       "      <th>Runtime2</th>\n",
       "      <th>Genre</th>\n",
       "      <th>IMDB_Rating</th>\n",
       "      <th>No_of_Votes</th>\n",
       "      <th>Gross</th>\n",
       "    </tr>\n",
       "  </thead>\n",
       "  <tbody>\n",
       "    <tr>\n",
       "      <th>393</th>\n",
       "      <td>The Long Goodbye</td>\n",
       "      <td>1973</td>\n",
       "      <td>A</td>\n",
       "      <td>112 min</td>\n",
       "      <td>112</td>\n",
       "      <td>Comedy</td>\n",
       "      <td>7.6</td>\n",
       "      <td>26337</td>\n",
       "      <td>959000</td>\n",
       "    </tr>\n",
       "    <tr>\n",
       "      <th>900</th>\n",
       "      <td>Lifeboat</td>\n",
       "      <td>1944</td>\n",
       "      <td>UA</td>\n",
       "      <td>97 min</td>\n",
       "      <td>97</td>\n",
       "      <td>Drama</td>\n",
       "      <td>7.6</td>\n",
       "      <td>26471</td>\n",
       "      <td>13780424</td>\n",
       "    </tr>\n",
       "    <tr>\n",
       "      <th>268</th>\n",
       "      <td>Omohide poro poro</td>\n",
       "      <td>1991</td>\n",
       "      <td>U</td>\n",
       "      <td>118 min</td>\n",
       "      <td>118</td>\n",
       "      <td>Animation</td>\n",
       "      <td>7.6</td>\n",
       "      <td>27071</td>\n",
       "      <td>453243</td>\n",
       "    </tr>\n",
       "    <tr>\n",
       "      <th>852</th>\n",
       "      <td>On Golden Pond</td>\n",
       "      <td>1981</td>\n",
       "      <td>UA</td>\n",
       "      <td>109 min</td>\n",
       "      <td>109</td>\n",
       "      <td>Drama</td>\n",
       "      <td>7.6</td>\n",
       "      <td>27650</td>\n",
       "      <td>119285432</td>\n",
       "    </tr>\n",
       "    <tr>\n",
       "      <th>765</th>\n",
       "      <td>Nelyubov</td>\n",
       "      <td>2017</td>\n",
       "      <td>R</td>\n",
       "      <td>127 min</td>\n",
       "      <td>127</td>\n",
       "      <td>Drama</td>\n",
       "      <td>7.6</td>\n",
       "      <td>29765</td>\n",
       "      <td>566356</td>\n",
       "    </tr>\n",
       "    <tr>\n",
       "      <th>...</th>\n",
       "      <td>...</td>\n",
       "      <td>...</td>\n",
       "      <td>...</td>\n",
       "      <td>...</td>\n",
       "      <td>...</td>\n",
       "      <td>...</td>\n",
       "      <td>...</td>\n",
       "      <td>...</td>\n",
       "      <td>...</td>\n",
       "    </tr>\n",
       "    <tr>\n",
       "      <th>610</th>\n",
       "      <td>12 Angry Men</td>\n",
       "      <td>1957</td>\n",
       "      <td>U</td>\n",
       "      <td>96 min</td>\n",
       "      <td>96</td>\n",
       "      <td>Crime</td>\n",
       "      <td>9.0</td>\n",
       "      <td>689845</td>\n",
       "      <td>4360000</td>\n",
       "    </tr>\n",
       "    <tr>\n",
       "      <th>570</th>\n",
       "      <td>The Godfather: Part II</td>\n",
       "      <td>1974</td>\n",
       "      <td>A</td>\n",
       "      <td>202 min</td>\n",
       "      <td>202</td>\n",
       "      <td>Crime</td>\n",
       "      <td>9.0</td>\n",
       "      <td>1129952</td>\n",
       "      <td>57300000</td>\n",
       "    </tr>\n",
       "    <tr>\n",
       "      <th>149</th>\n",
       "      <td>The Dark Knight</td>\n",
       "      <td>2008</td>\n",
       "      <td>UA</td>\n",
       "      <td>152 min</td>\n",
       "      <td>152</td>\n",
       "      <td>Action</td>\n",
       "      <td>9.0</td>\n",
       "      <td>2303232</td>\n",
       "      <td>534858444</td>\n",
       "    </tr>\n",
       "    <tr>\n",
       "      <th>567</th>\n",
       "      <td>The Godfather</td>\n",
       "      <td>1972</td>\n",
       "      <td>A</td>\n",
       "      <td>175 min</td>\n",
       "      <td>175</td>\n",
       "      <td>Crime</td>\n",
       "      <td>9.2</td>\n",
       "      <td>1620367</td>\n",
       "      <td>134966411</td>\n",
       "    </tr>\n",
       "    <tr>\n",
       "      <th>675</th>\n",
       "      <td>The Shawshank Redemption</td>\n",
       "      <td>1994</td>\n",
       "      <td>A</td>\n",
       "      <td>142 min</td>\n",
       "      <td>142</td>\n",
       "      <td>Drama</td>\n",
       "      <td>9.3</td>\n",
       "      <td>2343110</td>\n",
       "      <td>28341469</td>\n",
       "    </tr>\n",
       "  </tbody>\n",
       "</table>\n",
       "<p>901 rows × 9 columns</p>\n",
       "</div>"
      ],
      "text/plain": [
       "                 Series_Title Released_Year Certificate  Runtime  Runtime2  \\\n",
       "393          The Long Goodbye          1973           A  112 min       112   \n",
       "900                  Lifeboat          1944          UA   97 min        97   \n",
       "268         Omohide poro poro          1991           U  118 min       118   \n",
       "852            On Golden Pond          1981          UA  109 min       109   \n",
       "765                  Nelyubov          2017           R  127 min       127   \n",
       "..                        ...           ...         ...      ...       ...   \n",
       "610              12 Angry Men          1957           U   96 min        96   \n",
       "570    The Godfather: Part II          1974           A  202 min       202   \n",
       "149           The Dark Knight          2008          UA  152 min       152   \n",
       "567             The Godfather          1972           A  175 min       175   \n",
       "675  The Shawshank Redemption          1994           A  142 min       142   \n",
       "\n",
       "         Genre  IMDB_Rating  No_of_Votes      Gross  \n",
       "393     Comedy          7.6        26337     959000  \n",
       "900      Drama          7.6        26471   13780424  \n",
       "268  Animation          7.6        27071     453243  \n",
       "852      Drama          7.6        27650  119285432  \n",
       "765      Drama          7.6        29765     566356  \n",
       "..         ...          ...          ...        ...  \n",
       "610      Crime          9.0       689845    4360000  \n",
       "570      Crime          9.0      1129952   57300000  \n",
       "149     Action          9.0      2303232  534858444  \n",
       "567      Crime          9.2      1620367  134966411  \n",
       "675      Drama          9.3      2343110   28341469  \n",
       "\n",
       "[901 rows x 9 columns]"
      ]
     },
     "execution_count": 148,
     "metadata": {},
     "output_type": "execute_result"
    }
   ],
   "source": [
    "df.sort_values(['IMDB_Rating','No_of_Votes'])"
   ]
  },
  {
   "cell_type": "code",
   "execution_count": 149,
   "id": "bd6f38fc",
   "metadata": {},
   "outputs": [
    {
     "data": {
      "text/plain": [
       "np.int64(936662225)"
      ]
     },
     "execution_count": 149,
     "metadata": {},
     "output_type": "execute_result"
    }
   ],
   "source": [
    "df['Gross'].max()"
   ]
  },
  {
   "cell_type": "code",
   "execution_count": 150,
   "id": "b103724f",
   "metadata": {},
   "outputs": [
    {
     "data": {
      "text/plain": [
       "83"
      ]
     },
     "execution_count": 150,
     "metadata": {},
     "output_type": "execute_result"
    }
   ],
   "source": [
    "df['Gross'].idxmax()"
   ]
  },
  {
   "cell_type": "code",
   "execution_count": 151,
   "id": "fd7e0af4",
   "metadata": {},
   "outputs": [
    {
     "data": {
      "application/vnd.microsoft.datawrangler.viewer.v0+json": {
       "columns": [
        {
         "name": "index",
         "rawType": "object",
         "type": "string"
        },
        {
         "name": "83",
         "rawType": "object",
         "type": "unknown"
        }
       ],
       "ref": "a42b6817-62cd-4f99-852e-5d99d9e570c9",
       "rows": [
        [
         "Series_Title",
         "Star Wars: Episode VII - The Force Awakens"
        ],
        [
         "Released_Year",
         "2015"
        ],
        [
         "Certificate",
         "U"
        ],
        [
         "Runtime",
         "138 min"
        ],
        [
         "Runtime2",
         "138"
        ],
        [
         "Genre",
         "Action"
        ],
        [
         "IMDB_Rating",
         "7.9"
        ],
        [
         "No_of_Votes",
         "860823"
        ],
        [
         "Gross",
         "936662225"
        ]
       ],
       "shape": {
        "columns": 1,
        "rows": 9
       }
      },
      "text/plain": [
       "Series_Title     Star Wars: Episode VII - The Force Awakens\n",
       "Released_Year                                          2015\n",
       "Certificate                                               U\n",
       "Runtime                                             138 min\n",
       "Runtime2                                                138\n",
       "Genre                                                Action\n",
       "IMDB_Rating                                             7.9\n",
       "No_of_Votes                                          860823\n",
       "Gross                                             936662225\n",
       "Name: 83, dtype: object"
      ]
     },
     "execution_count": 151,
     "metadata": {},
     "output_type": "execute_result"
    }
   ],
   "source": [
    "df.iloc[83]"
   ]
  },
  {
   "cell_type": "code",
   "execution_count": 152,
   "id": "38e3e645",
   "metadata": {},
   "outputs": [
    {
     "data": {
      "application/vnd.microsoft.datawrangler.viewer.v0+json": {
       "columns": [
        {
         "name": "Genre",
         "rawType": "object",
         "type": "string"
        },
        {
         "name": "count",
         "rawType": "int64",
         "type": "integer"
        }
       ],
       "ref": "fcf1276e-9cfa-439b-830a-3108186413a7",
       "rows": [
        [
         "Drama",
         "270"
        ],
        [
         "Action",
         "167"
        ],
        [
         "Comedy",
         "140"
        ],
        [
         "Crime",
         "104"
        ],
        [
         "Biography",
         "82"
        ],
        [
         "Animation",
         "74"
        ],
        [
         "Adventure",
         "64"
        ]
       ],
       "shape": {
        "columns": 1,
        "rows": 7
       }
      },
      "text/plain": [
       "Genre\n",
       "Drama        270\n",
       "Action       167\n",
       "Comedy       140\n",
       "Crime        104\n",
       "Biography     82\n",
       "Animation     74\n",
       "Adventure     64\n",
       "Name: count, dtype: int64"
      ]
     },
     "execution_count": 152,
     "metadata": {},
     "output_type": "execute_result"
    }
   ],
   "source": [
    "df['Genre'].value_counts()"
   ]
  },
  {
   "cell_type": "code",
   "execution_count": 153,
   "id": "0bcadf6c",
   "metadata": {},
   "outputs": [
    {
     "data": {
      "application/vnd.microsoft.datawrangler.viewer.v0+json": {
       "columns": [
        {
         "name": "Released_Year",
         "rawType": "object",
         "type": "string"
        },
        {
         "name": "count",
         "rawType": "int64",
         "type": "integer"
        }
       ],
       "ref": "21f6d510-3ab9-4828-acd6-4337540aa9bf",
       "rows": [
        [
         "2014",
         "31"
        ],
        [
         "2004",
         "30"
        ],
        [
         "2013",
         "28"
        ],
        [
         "2006",
         "26"
        ],
        [
         "2007",
         "26"
        ],
        [
         "2016",
         "26"
        ],
        [
         "2009",
         "26"
        ],
        [
         "2001",
         "25"
        ],
        [
         "2015",
         "24"
        ],
        [
         "2012",
         "22"
        ],
        [
         "2003",
         "22"
        ],
        [
         "1993",
         "22"
        ],
        [
         "2019",
         "22"
        ],
        [
         "2017",
         "21"
        ],
        [
         "2010",
         "21"
        ],
        [
         "2008",
         "21"
        ],
        [
         "2002",
         "19"
        ],
        [
         "1995",
         "18"
        ],
        [
         "2018",
         "18"
        ],
        [
         "2011",
         "18"
        ],
        [
         "2000",
         "18"
        ],
        [
         "1997",
         "17"
        ],
        [
         "1998",
         "16"
        ],
        [
         "2005",
         "16"
        ],
        [
         "1999",
         "15"
        ],
        [
         "1994",
         "13"
        ],
        [
         "1962",
         "12"
        ],
        [
         "1987",
         "12"
        ],
        [
         "1989",
         "11"
        ],
        [
         "1992",
         "11"
        ],
        [
         "1979",
         "10"
        ],
        [
         "1988",
         "10"
        ],
        [
         "1973",
         "10"
        ],
        [
         "1991",
         "10"
        ],
        [
         "1996",
         "10"
        ],
        [
         "1985",
         "9"
        ],
        [
         "1986",
         "9"
        ],
        [
         "1960",
         "9"
        ],
        [
         "1982",
         "9"
        ],
        [
         "1984",
         "9"
        ],
        [
         "1980",
         "8"
        ],
        [
         "1990",
         "8"
        ],
        [
         "1967",
         "8"
        ],
        [
         "1957",
         "7"
        ],
        [
         "1959",
         "7"
        ],
        [
         "1964",
         "7"
        ],
        [
         "1966",
         "6"
        ],
        [
         "2020",
         "6"
        ],
        [
         "1955",
         "6"
        ],
        [
         "1948",
         "6"
        ]
       ],
       "shape": {
        "columns": 1,
        "rows": 95
       }
      },
      "text/plain": [
       "Released_Year\n",
       "2014    31\n",
       "2004    30\n",
       "2013    28\n",
       "2006    26\n",
       "2007    26\n",
       "        ..\n",
       "1938     1\n",
       "1930     1\n",
       "1937     1\n",
       "1941     1\n",
       "1932     1\n",
       "Name: count, Length: 95, dtype: int64"
      ]
     },
     "execution_count": 153,
     "metadata": {},
     "output_type": "execute_result"
    }
   ],
   "source": [
    "df['Released_Year'].value_counts()"
   ]
  },
  {
   "cell_type": "code",
   "execution_count": null,
   "id": "3740bfa6",
   "metadata": {},
   "outputs": [],
   "source": []
  },
  {
   "cell_type": "code",
   "execution_count": null,
   "id": "470d2567",
   "metadata": {},
   "outputs": [],
   "source": []
  },
  {
   "cell_type": "code",
   "execution_count": null,
   "id": "da05ba27",
   "metadata": {},
   "outputs": [],
   "source": []
  },
  {
   "cell_type": "code",
   "execution_count": null,
   "id": "e690a4c8",
   "metadata": {},
   "outputs": [],
   "source": []
  },
  {
   "cell_type": "code",
   "execution_count": null,
   "id": "f6c4f61c",
   "metadata": {},
   "outputs": [],
   "source": []
  },
  {
   "cell_type": "code",
   "execution_count": null,
   "id": "80951b49",
   "metadata": {},
   "outputs": [],
   "source": []
  },
  {
   "cell_type": "code",
   "execution_count": null,
   "id": "bdecf763",
   "metadata": {},
   "outputs": [],
   "source": []
  },
  {
   "cell_type": "code",
   "execution_count": null,
   "id": "2f3b0187",
   "metadata": {},
   "outputs": [],
   "source": []
  },
  {
   "cell_type": "code",
   "execution_count": null,
   "id": "5844c561",
   "metadata": {},
   "outputs": [],
   "source": []
  },
  {
   "cell_type": "code",
   "execution_count": null,
   "id": "61e25cbd",
   "metadata": {},
   "outputs": [],
   "source": []
  },
  {
   "cell_type": "code",
   "execution_count": null,
   "id": "64099ed5",
   "metadata": {},
   "outputs": [],
   "source": []
  },
  {
   "cell_type": "code",
   "execution_count": null,
   "id": "04faf0df",
   "metadata": {},
   "outputs": [],
   "source": []
  },
  {
   "cell_type": "code",
   "execution_count": null,
   "id": "b916a289",
   "metadata": {},
   "outputs": [],
   "source": []
  },
  {
   "cell_type": "code",
   "execution_count": null,
   "id": "69803fa6",
   "metadata": {},
   "outputs": [],
   "source": []
  }
 ],
 "metadata": {
  "kernelspec": {
   "display_name": "venv",
   "language": "python",
   "name": "python3"
  },
  "language_info": {
   "codemirror_mode": {
    "name": "ipython",
    "version": 3
   },
   "file_extension": ".py",
   "mimetype": "text/x-python",
   "name": "python",
   "nbconvert_exporter": "python",
   "pygments_lexer": "ipython3",
   "version": "3.13.7"
  }
 },
 "nbformat": 4,
 "nbformat_minor": 5
}
